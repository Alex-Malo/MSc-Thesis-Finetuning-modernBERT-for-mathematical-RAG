{
 "cells": [
  {
   "cell_type": "markdown",
   "metadata": {
    "id": "l9uWT8K19k5G"
   },
   "source": [
    "# Fine Tuning nomicAI modernBERT\n",
    "\n",
    "\n"
   ]
  },
  {
   "cell_type": "markdown",
   "metadata": {
    "id": "kNyDaVHw9eQ5"
   },
   "source": [
    "---\n",
    "## Install Dependencies"
   ]
  },
  {
   "cell_type": "code",
   "execution_count": null,
   "metadata": {
    "colab": {
     "base_uri": "https://localhost:8080/"
    },
    "executionInfo": {
     "elapsed": 45088,
     "status": "ok",
     "timestamp": 1748681224776,
     "user": {
      "displayName": "Compaltan",
      "userId": "14341232049321093230"
     },
     "user_tz": -120
    },
    "id": "oqH0pI4990MW",
    "outputId": "8216ed56-a75f-4f20-b674-1ce585a8fdd9"
   },
   "outputs": [
    {
     "name": "stdout",
     "output_type": "stream",
     "text": [
      "Mounted at /content/drive\n"
     ]
    }
   ],
   "source": [
    "import torch\n",
    "from sentence_transformers.training_args import BatchSamplers\n",
    "import pandas as pd\n",
    "from datasets import load_dataset, concatenate_datasets\n",
    "from google.colab import drive\n",
    "drive.mount('/content/drive', force_remount=True)\n",
    "\n",
    "torch.set_float32_matmul_precision('high')"
   ]
  },
  {
   "cell_type": "markdown",
   "metadata": {
    "id": "8b9Szt5KBEJV"
   },
   "source": [
    "**Login to Hugging Face**\n",
    "\n",
    "Used for pushing model to the Hugging Face Hub and downloading gated models or datasets"
   ]
  },
  {
   "cell_type": "code",
   "execution_count": null,
   "metadata": {
    "id": "syMyJyX562rP"
   },
   "outputs": [],
   "source": [
    "from huggingface_hub import login\n",
    "from google.colab import userdata\n",
    "\n",
    "login(token=\"\", add_to_git_credential=True)\n",
    "#login(token=userdata.get('HF_TOKEN'), add_to_git_credential=True)\n"
   ]
  },
  {
   "cell_type": "markdown",
   "metadata": {
    "id": "mZMQzT0wI8c2"
   },
   "source": [
    "-----\n",
    "\n",
    "------"
   ]
  },
  {
   "cell_type": "markdown",
   "metadata": {
    "id": "kjMGRuan9hX4"
   },
   "source": [
    "---\n",
    "## IMPORT DATA: Preparation"
   ]
  },
  {
   "cell_type": "code",
   "execution_count": null,
   "metadata": {
    "colab": {
     "base_uri": "https://localhost:8080/"
    },
    "executionInfo": {
     "elapsed": 10188,
     "status": "ok",
     "timestamp": 1748681235257,
     "user": {
      "displayName": "Compaltan",
      "userId": "14341232049321093230"
     },
     "user_tz": -120
    },
    "id": "eVCDoF_EEW6N",
    "outputId": "e8c5e4b8-9a33-464d-9e04-5632c4ac52a8"
   },
   "outputs": [
    {
     "name": "stdout",
     "output_type": "stream",
     "text": [
      "88775\n",
      "210\n",
      "8668\n",
      "79897\n",
      "88775\n"
     ]
    }
   ],
   "source": [
    "# Load dataset from Drive\n",
    "path = '/content/drive/Shareddrives/Master_Thesis/Data/final_dataset.csv'\n",
    "dataset = pd.read_csv(path)\n",
    "#dataset=dataset.loc[:999,:]\n",
    "#split data\n",
    "df_unseen_test = pd.read_csv('/content/drive/Shareddrives/Master_Thesis/Data/unseen_test.csv')\n",
    "df_train = pd.read_csv('/content/drive/Shareddrives/Master_Thesis/Data/train.csv')\n",
    "df_test = pd.read_csv('/content/drive/Shareddrives/Master_Thesis/Data/test.csv')\n",
    "print(len(dataset))\n",
    "print(len(df_unseen_test))\n",
    "print(len(df_test))\n",
    "print(len(df_train))\n",
    "t=len(df_unseen_test)+len(df_test)+len(df_train)\n",
    "print(t )"
   ]
  },
  {
   "cell_type": "code",
   "execution_count": null,
   "metadata": {
    "id": "LTXcmaJxE1XH"
   },
   "outputs": [],
   "source": [
    "import pickle\n",
    "# step 1 import the dictionary that matches each question with the \"negative\" content\n",
    "with open('/content/drive/Shareddrives/Master_Thesis/Fine-Tuning/Embeddings/hard_negatives_modernbert_base.pkl','rb') as f:\n",
    "    hard_negs = pickle.load(f)\n",
    "\n",
    "#  match from each\n",
    "for idx, row in df_train.iterrows():\n",
    "    source_id = row['id']\n",
    "    matches = hard_negs.get(source_id, [])\n",
    "\n",
    "    if matches:  # Only proceed if there is at least one match\n",
    "        match_id = matches[0]\n",
    "        question_row = df_train.loc[df_train['id'] == match_id, 'content']\n",
    "\n",
    "        if not question_row.empty:\n",
    "\n",
    "\n",
    "          df_train.at[idx, 'negative'] = question_row.values[0]\n",
    "\n",
    "        else:\n",
    "          df_train.at[idx, 'negative'] = None  # or some placeholder\n",
    "    else:\n",
    "        df_train.at[idx, 'negative'] = None  # or some placeholder\n",
    "\n"
   ]
  },
  {
   "cell_type": "markdown",
   "metadata": {
    "id": "vNYQkUPDpd_J"
   },
   "source": [
    "Clean the NANs"
   ]
  },
  {
   "cell_type": "code",
   "execution_count": null,
   "metadata": {
    "colab": {
     "base_uri": "https://localhost:8080/"
    },
    "executionInfo": {
     "elapsed": 13,
     "status": "ok",
     "timestamp": 1748681275598,
     "user": {
      "displayName": "Compaltan",
      "userId": "14341232049321093230"
     },
     "user_tz": -120
    },
    "id": "eHhNFtASSUeR",
    "outputId": "3ed3d098-8e60-4721-9799-5f68411ab444"
   },
   "outputs": [
    {
     "name": "stdout",
     "output_type": "stream",
     "text": [
      "21\n"
     ]
    }
   ],
   "source": [
    "print(len(df_train[df_train['negative'].isna()]))\n",
    "len(df_train[df_train['negative'].isna()])\n",
    "dataset_train=df_train[df_train['negative'].notna()]"
   ]
  },
  {
   "cell_type": "code",
   "execution_count": null,
   "metadata": {
    "colab": {
     "base_uri": "https://localhost:8080/",
     "height": 423
    },
    "executionInfo": {
     "elapsed": 897,
     "status": "ok",
     "timestamp": 1748435230529,
     "user": {
      "displayName": "Compaltan",
      "userId": "14341232049321093230"
     },
     "user_tz": -120
    },
    "id": "TykBha9dptWO",
    "outputId": "9a01626d-64e6-4ab7-d065-83cbfe9d61bb"
   },
   "outputs": [
    {
     "data": {
      "application/vnd.google.colaboratory.intrinsic+json": {
       "summary": "{\n  \"name\": \"dataset_train\",\n  \"rows\": 79876,\n  \"fields\": [\n    {\n      \"column\": \"id\",\n      \"properties\": {\n        \"dtype\": \"number\",\n        \"std\": 25610,\n        \"min\": 0,\n        \"max\": 88774,\n        \"num_unique_values\": 79876,\n        \"samples\": [\n          406,\n          39884,\n          76663\n        ],\n        \"semantic_type\": \"\",\n        \"description\": \"\"\n      }\n    },\n    {\n      \"column\": \"paper id\",\n      \"properties\": {\n        \"dtype\": \"number\",\n        \"std\": 0.48699035856955264,\n        \"min\": 2501.00724,\n        \"max\": 2502.16073,\n        \"num_unique_values\": 4828,\n        \"samples\": [\n          2501.04564,\n          2502.15126,\n          2501.16419\n        ],\n        \"semantic_type\": \"\",\n        \"description\": \"\"\n      }\n    },\n    {\n      \"column\": \"title\",\n      \"properties\": {\n        \"dtype\": \"category\",\n        \"num_unique_values\": 4828,\n        \"samples\": [\n          \"monotonicity of the relative entropy and the two-sided bogoliubov   inequality in von neumann algebras\",\n          \"littlewood--richardson rules from quivers for two-step flag varieties\",\n          \"near-optimal parameter tuning of level-1 qaoa for ising models\"\n        ],\n        \"semantic_type\": \"\",\n        \"description\": \"\"\n      }\n    },\n    {\n      \"column\": \"categories\",\n      \"properties\": {\n        \"dtype\": \"category\",\n        \"num_unique_values\": 1204,\n        \"samples\": [\n          \"['math.ra']\",\n          \"['stat.me', 'math.st', 'stat.th']\",\n          \"['math.dg', 'math.sg']\"\n        ],\n        \"semantic_type\": \"\",\n        \"description\": \"\"\n      }\n    },\n    {\n      \"column\": \"type\",\n      \"properties\": {\n        \"dtype\": \"category\",\n        \"num_unique_values\": 5,\n        \"samples\": [\n          \"propositions\",\n          \"corollaries\",\n          \"definitions\"\n        ],\n        \"semantic_type\": \"\",\n        \"description\": \"\"\n      }\n    },\n    {\n      \"column\": \"content\",\n      \"properties\": {\n        \"dtype\": \"string\",\n        \"num_unique_values\": 79673,\n        \"samples\": [\n          \"[Exchange formula]\\\\label{theoremexchange}\\nLet $f\\\\in\\\\alexc$.  Write $p_n(x)=x^n$. Define $g(s)=s^{-2}\\\\int_0^sh(t)\\\\,dt$ for a\\nfunction $h\\\\in\\\\bv$ that is right continuous such that $h/p_1\\\\in L^1(\\\\R)$.\\nThen,\\\\\\\\\\n(a) $g$ is Lipschitz continuous on compact sets in $\\\\R\\\\setminus\\\\{0\\\\}$,\\\\\\\\\\n(b) $g\\\\in L^1(\\\\R)$,\\\\\\\\\\n(c) $p_1g\\\\in\\\\bv$, $p_1g(s)=o(1)$ as $s\\\\to 0$ or as $\\\\abs{s}\\\\to\\\\infty$,\\\\\\\\\\n(d) $p_2g'\\\\in\\\\bv$, $p_2g'(s)=o(1)$ as $s\\\\to0$ and \\n$\\\\lim_{s\\\\to\\\\pm\\\\infty}p_2g'(s)=\\n\\\\lim_{s\\\\to\\\\pm\\\\infty}h(s)$.\\\\\\\\\\n(e) The integral $\\\\intinf \\\\fhat g$ exists and\\n\\\\begin{eqnarray*}\\n\\\\intinf \\\\fhat g & = & \\\\intinf\\\\Omega_f(s)\\\\,dg'(s)=\\n\\\\intinf\\\\frac{\\\\Omega_f(s)}{s^2}\\\\left(dh(s)-\\\\frac{4h(s)\\\\,ds}{s}\\n+\\\\frac{6}{s^2}\\\\int_0^sh(t)\\\\,dt\\\\,ds\\\\right)\\\\\\\\\\n & = &\\n\\\\intinf\\\\frac{\\\\Omega_f(s)}{s^2}(d(p_2g')(s)-2d(p_1g)(s)+2g(s)\\\\,ds).\\n\\\\end{eqnarray*}\\nThere are the estimates\\n\\\\begin{eqnarray*}\\n\\\\left|\\\\intinf \\\\fhat g\\\\right| & \\\\leq & c\\\\norm{f}\\\\intinf s^2\\\\abs{dg'(s)},\\\\\\\\\\n\\\\left|\\\\intinf \\\\fhat g\\\\right| & \\\\leq & c\\\\norm{f}({\\\\rm var}(h)+10\\\\norm{h/p_1}_1),\\\\\\\\\\n\\\\abs{\\\\intinf\\\\fhat g} & \\\\leq & c\\\\norm{f}({\\\\rm var}(p_2g')+2{\\\\rm var}(p_1g) +2\\\\norm{g}_1),\\n\\\\end{eqnarray*}\\nwhere $c$ is given in Theorem~\\\\ref{theoremOmegaf}.\\\\\\\\\\n(f) The exchange formula is $\\\\intinf \\\\fhat g=\\\\intinf f\\\\ghat$ and\\n$\\\\ghat\\\\in\\\\bv\\\\cap C(\\\\R)$ so that $\\\\left|\\\\intinf \\\\fhat g\\\\right|\\\\leq \\\\norm{f}{\\\\rm var}(\\\\ghat)$.\",\n          \"Let $\\\\alpha = 0, \\\\pi$. Up to choosing $\\\\tilde{\\\\mathcal{R}}_i^{\\\\bullet}$ smaller, the function $u_{\\\\alpha}(\\\\sigma,t)$ given by Lemma \\\\ref{newhorriblelemma} has the following behaviour.\\n    \\n    \\\\quad\\n    \\n    \\\\myindent i. If $i \\\\neq 0$, there holds the following Taylor expansion\\n    \\\\begin{equation}\\n        u_{\\\\alpha}(\\\\sigma,t) = u_{\\\\alpha}(\\\\sigma,0) + t^2 F_{\\\\alpha}(\\\\sigma,t),\\n    \\\\end{equation}\\n    where $F$ is a smooth function which doesn't vanish.\\n    \\n    \\\\myindent ii. If $i = 0$, there holds the following Taylor expansion\\n    \\\\begin{equation}\\n        u_{\\\\alpha}(\\\\sigma,t) = u_{\\\\alpha}(\\\\sigma,0) + t^2 \\\\sigma^2 F_{\\\\alpha}(\\\\sigma,t),\\n    \\\\end{equation}\\n    where $F$ is a smooth function which doesn't vanish.\",\n          \"[Positive sum: mgf bound] \\\\label{prop:scalar-mgf}\\nInstate the hypotheses of \\\\cref{thm:positive-sum}.\\nThe mgf~\\\\eqref{eqn:scalar-mgf} satisfies the bound\\n\\\\[\\n\\\\log \\\\mgf_X(\\\\theta) \\\\leq %\\n\\\\theta^2 L_2/2\\n\\\\quad\\\\text{for all $\\\\theta \\\\geq 0$.}\\n\\\\]\"\n        ],\n        \"semantic_type\": \"\",\n        \"description\": \"\"\n      }\n    },\n    {\n      \"column\": \"question\",\n      \"properties\": {\n        \"dtype\": \"string\",\n        \"num_unique_values\": 79456,\n        \"samples\": [\n          \"Is every subcategory of the category of $\\\\Lambda$-modules that are $\\\\Lambda$-linearly closed also $\\\\Lambda$-linearly closed?\",\n          \"What is the relationship between the logarithmic potential and the potential $\\\\varphi(\\\\tilde Z)$ in the given equation?\",\n          \"What is the Euler-Lagrange equation for the critical points of the given energy functional?\"\n        ],\n        \"semantic_type\": \"\",\n        \"description\": \"\"\n      }\n    },\n    {\n      \"column\": \"negative\",\n      \"properties\": {\n        \"dtype\": \"category\",\n        \"num_unique_values\": 15410,\n        \"samples\": [\n          \"\\\\label{lemud1}\\n\\t\\tLet $\\\\cod$ be a connected category. Then every cone $\\\\gamma$ in the set $ \\\\sncd $ can be expressed as  $\\\\epsilon(c,\\\\mathfrak{d})\\\\ast u$, for some idempotent cone $\\\\epsilon(c,\\\\mathfrak{d})$ and an isomorphism $u$. Conversely, every cone in $\\\\snc$ which can be expressed in this form belongs to  $\\\\sncd$.\",\n          \"\\\\label{lem:minim} Let $\\\\mathcal{G}$ be a non-compact metric graph.\\n\\\\begin{enumerate}\\n    \\\\item Suppose that $\\\\mathcal{I}_\\\\mathcal{G}(\\\\mu_0)$ is attained. Then $\\\\mathcal{S}_\\\\mathcal{G}=\\\\frac{p}{p-2}\\\\mathcal{I}_\\\\mathcal{G}(\\\\mu_0)$ is achieved. Moreover, $u\\\\in H^1(\\\\mathcal{G})$ is an action ground-state if and only if $u$ is a minimizer of $\\\\mathcal{I}_\\\\mathcal{G}(\\\\mu_0)$,  in which case $u$ is a signed function. \\n    \\\\item  One has $\\\\mathcal{I}_{\\\\G}(\\\\mu)\\\\leq \\\\mathcal{I}_{\\\\R}(\\\\mu)$. If there exists $v\\\\in H^1(\\\\mathcal{G})$ with $\\\\|v\\\\|_{L^p(\\\\mathcal{G})}^p=p\\\\mu$ such that $\\\\mathcal{I}(v,\\\\mathcal{G})\\\\le \\\\mathcal{I}_\\\\R(\\\\mu)$  for some $\\\\mu>0$,\\nthen the minimization problem \\\\eqref{eq:agscharact} has a solution for any $\\\\mu>0$.\\n\\\\end{enumerate}\",\n          \"\\\\label{lemma:cramer} %NOTE - a tiny change from the ArXiv version is needed to deal with the weaker separation conditions\\n    \\tThere is some absolute constant $c>0$ such that the following is true. Suppose that $X_1, \\\\dots, X_n$ are random $d \\\\times d$ symmetric positive semi-definite matrices such that $X_i \\\\leq b I$ for some $b > 0$ and\\n    \\t$$\\\\mathbb{E}[X_i | X_1, \\\\dots, X_{i-1}] \\\\geq m_i I.$$\\n    \\tSuppose that $\\\\sum_{i=1}^{n}m_i = an$. Then $$\\\\log \\\\mathbb{P}\\\\left[X_1 + \\\\dots + X_n \\\\leq \\\\frac{na}{4}I\\\\right] \\\\leq -can + O(d \\\\log (b / a))$$\"\n        ],\n        \"semantic_type\": \"\",\n        \"description\": \"\"\n      }\n    }\n  ]\n}",
       "type": "dataframe",
       "variable_name": "dataset_train"
      },
      "text/html": [
       "\n",
       "  <div id=\"df-e0b69d6a-a2a6-48a8-9caf-2a40002c2f5f\" class=\"colab-df-container\">\n",
       "    <div>\n",
       "<style scoped>\n",
       "    .dataframe tbody tr th:only-of-type {\n",
       "        vertical-align: middle;\n",
       "    }\n",
       "\n",
       "    .dataframe tbody tr th {\n",
       "        vertical-align: top;\n",
       "    }\n",
       "\n",
       "    .dataframe thead th {\n",
       "        text-align: right;\n",
       "    }\n",
       "</style>\n",
       "<table border=\"1\" class=\"dataframe\">\n",
       "  <thead>\n",
       "    <tr style=\"text-align: right;\">\n",
       "      <th></th>\n",
       "      <th>id</th>\n",
       "      <th>paper id</th>\n",
       "      <th>title</th>\n",
       "      <th>categories</th>\n",
       "      <th>type</th>\n",
       "      <th>content</th>\n",
       "      <th>question</th>\n",
       "      <th>negative</th>\n",
       "    </tr>\n",
       "  </thead>\n",
       "  <tbody>\n",
       "    <tr>\n",
       "      <th>0</th>\n",
       "      <td>130</td>\n",
       "      <td>2501.00784</td>\n",
       "      <td>cloitre's self-generating sequence</td>\n",
       "      <td>['math.co', 'cs.dm', 'cs.fl', 'math.nt']</td>\n",
       "      <td>theorems</td>\n",
       "      <td>Let $g_n$ be the number of $1$'s in the sequen...</td>\n",
       "      <td>What is the limit of the proportion of 1's in ...</td>\n",
       "      <td>[] The tree $ \\mathcal{T}_{ \\infty}$ is the li...</td>\n",
       "    </tr>\n",
       "    <tr>\n",
       "      <th>1</th>\n",
       "      <td>265</td>\n",
       "      <td>2501.00809</td>\n",
       "      <td>initial ideals of weighted forms and the genus...</td>\n",
       "      <td>['math.ac', 'math.ag']</td>\n",
       "      <td>theorems</td>\n",
       "      <td>\\label{ThmConjAreTrue}\\nConjectures \\ref{Conj1...</td>\n",
       "      <td>Does the statement of \\textbf{ThmConjAreTrue} ...</td>\n",
       "      <td>[{\\cite[Corollary 2.2.2 with $p=3$]{BSY}}]\\n  ...</td>\n",
       "    </tr>\n",
       "    <tr>\n",
       "      <th>2</th>\n",
       "      <td>266</td>\n",
       "      <td>2501.00809</td>\n",
       "      <td>initial ideals of weighted forms and the genus...</td>\n",
       "      <td>['math.ac', 'math.ag']</td>\n",
       "      <td>propositions</td>\n",
       "      <td>}\\n\\newcommand{\\ep}{</td>\n",
       "      <td>\\\\emph{Is the statement \\emph{If $X$ is a comp...</td>\n",
       "      <td>\\label{prop:coherence}\\n\\tIf $X$ is a qcqs sch...</td>\n",
       "    </tr>\n",
       "    <tr>\n",
       "      <th>3</th>\n",
       "      <td>267</td>\n",
       "      <td>2501.00809</td>\n",
       "      <td>initial ideals of weighted forms and the genus...</td>\n",
       "      <td>['math.ac', 'math.ag']</td>\n",
       "      <td>definitions</td>\n",
       "      <td>}\\n\\newcommand{\\ed}{</td>\n",
       "      <td>Is the statement $\\ed{True}$?</td>\n",
       "      <td>\\label{homogeneous linear order is possible}\\n...</td>\n",
       "    </tr>\n",
       "    <tr>\n",
       "      <th>4</th>\n",
       "      <td>313</td>\n",
       "      <td>2501.00845</td>\n",
       "      <td>spectral spaces of normal subgroups</td>\n",
       "      <td>['math.gr', 'math.gn']</td>\n",
       "      <td>theorems</td>\n",
       "      <td>\\label{mth}\\nLet $G$ be a group having a maxim...</td>\n",
       "      <td>Does the set $\\mathcal{N}^+(G)$ of proper norm...</td>\n",
       "      <td>If every maximal subgroup of a finite group $G...</td>\n",
       "    </tr>\n",
       "    <tr>\n",
       "      <th>...</th>\n",
       "      <td>...</td>\n",
       "      <td>...</td>\n",
       "      <td>...</td>\n",
       "      <td>...</td>\n",
       "      <td>...</td>\n",
       "      <td>...</td>\n",
       "      <td>...</td>\n",
       "      <td>...</td>\n",
       "    </tr>\n",
       "    <tr>\n",
       "      <th>79892</th>\n",
       "      <td>40568</td>\n",
       "      <td>2501.15565</td>\n",
       "      <td>homogeneity of rearrangement-invariant norms</td>\n",
       "      <td>['math.fa']</td>\n",
       "      <td>definitions</td>\n",
       "      <td>\\label{D:Delta}\\n\\tLet $\\mathcal Q$ be an inde...</td>\n",
       "      <td>What is the relationship between the set $\\Del...</td>\n",
       "      <td>What is the function $f(A_\\lambda,\\lambda)$ so...</td>\n",
       "    </tr>\n",
       "    <tr>\n",
       "      <th>79893</th>\n",
       "      <td>57464</td>\n",
       "      <td>2502.02511</td>\n",
       "      <td>$\\mathcal{h}^{1}$ and $\\mathrm{bmo}$ regularit...</td>\n",
       "      <td>['math.ap', 'math.ca']</td>\n",
       "      <td>lemmas</td>\n",
       "      <td>\\label{lem:pseudosmooth}\\nLet $a\\in S^{m}_{1,1...</td>\n",
       "      <td>Is the operator $a(x,D)$ in the theorem \\label...</td>\n",
       "      <td>\\label{hmexistssmall}\\nLet $L$ be as in \\eqref...</td>\n",
       "    </tr>\n",
       "    <tr>\n",
       "      <th>79894</th>\n",
       "      <td>20658</td>\n",
       "      <td>2501.07874</td>\n",
       "      <td>constrained differential operators, sobolev in...</td>\n",
       "      <td>['math.fa', 'math.ap']</td>\n",
       "      <td>theorems</td>\n",
       "      <td>\\label{K-CZ}\\n Let $\\alpha \\in (0,n)$ and supp...</td>\n",
       "      <td>What is the kernel estimate for the convolutio...</td>\n",
       "      <td>\\label{Fredholm-powerCompact}\\nLet $T$ be a bo...</td>\n",
       "    </tr>\n",
       "    <tr>\n",
       "      <th>79895</th>\n",
       "      <td>47493</td>\n",
       "      <td>2501.18053</td>\n",
       "      <td>varieties of prime tropical ideals and the dim...</td>\n",
       "      <td>['math.ag', 'math.ac']</td>\n",
       "      <td>propositions</td>\n",
       "      <td>\\label{prop: Iprime-bendPrime}\\r\\nLet $I$ be a...</td>\n",
       "      <td>Is Bend(I) prime for any prime ideal I of the ...</td>\n",
       "      <td>\\label{Check}\\nLet $R$ be a quasi-Gorenstein e...</td>\n",
       "    </tr>\n",
       "    <tr>\n",
       "      <th>79896</th>\n",
       "      <td>35043</td>\n",
       "      <td>2501.13362</td>\n",
       "      <td>on groups with the same set of conjugacy class...</td>\n",
       "      <td>['math.gr']</td>\n",
       "      <td>corollaries</td>\n",
       "      <td>Let $p$ and $q$ be primes such that $p = 2q + ...</td>\n",
       "      <td>Is the given statement about the relationship ...</td>\n",
       "      <td>\\label{asymptotic theorem}\\nFor all positive i...</td>\n",
       "    </tr>\n",
       "  </tbody>\n",
       "</table>\n",
       "<p>79876 rows × 8 columns</p>\n",
       "</div>\n",
       "    <div class=\"colab-df-buttons\">\n",
       "\n",
       "  <div class=\"colab-df-container\">\n",
       "    <button class=\"colab-df-convert\" onclick=\"convertToInteractive('df-e0b69d6a-a2a6-48a8-9caf-2a40002c2f5f')\"\n",
       "            title=\"Convert this dataframe to an interactive table.\"\n",
       "            style=\"display:none;\">\n",
       "\n",
       "  <svg xmlns=\"http://www.w3.org/2000/svg\" height=\"24px\" viewBox=\"0 -960 960 960\">\n",
       "    <path d=\"M120-120v-720h720v720H120Zm60-500h600v-160H180v160Zm220 220h160v-160H400v160Zm0 220h160v-160H400v160ZM180-400h160v-160H180v160Zm440 0h160v-160H620v160ZM180-180h160v-160H180v160Zm440 0h160v-160H620v160Z\"/>\n",
       "  </svg>\n",
       "    </button>\n",
       "\n",
       "  <style>\n",
       "    .colab-df-container {\n",
       "      display:flex;\n",
       "      gap: 12px;\n",
       "    }\n",
       "\n",
       "    .colab-df-convert {\n",
       "      background-color: #E8F0FE;\n",
       "      border: none;\n",
       "      border-radius: 50%;\n",
       "      cursor: pointer;\n",
       "      display: none;\n",
       "      fill: #1967D2;\n",
       "      height: 32px;\n",
       "      padding: 0 0 0 0;\n",
       "      width: 32px;\n",
       "    }\n",
       "\n",
       "    .colab-df-convert:hover {\n",
       "      background-color: #E2EBFA;\n",
       "      box-shadow: 0px 1px 2px rgba(60, 64, 67, 0.3), 0px 1px 3px 1px rgba(60, 64, 67, 0.15);\n",
       "      fill: #174EA6;\n",
       "    }\n",
       "\n",
       "    .colab-df-buttons div {\n",
       "      margin-bottom: 4px;\n",
       "    }\n",
       "\n",
       "    [theme=dark] .colab-df-convert {\n",
       "      background-color: #3B4455;\n",
       "      fill: #D2E3FC;\n",
       "    }\n",
       "\n",
       "    [theme=dark] .colab-df-convert:hover {\n",
       "      background-color: #434B5C;\n",
       "      box-shadow: 0px 1px 3px 1px rgba(0, 0, 0, 0.15);\n",
       "      filter: drop-shadow(0px 1px 2px rgba(0, 0, 0, 0.3));\n",
       "      fill: #FFFFFF;\n",
       "    }\n",
       "  </style>\n",
       "\n",
       "    <script>\n",
       "      const buttonEl =\n",
       "        document.querySelector('#df-e0b69d6a-a2a6-48a8-9caf-2a40002c2f5f button.colab-df-convert');\n",
       "      buttonEl.style.display =\n",
       "        google.colab.kernel.accessAllowed ? 'block' : 'none';\n",
       "\n",
       "      async function convertToInteractive(key) {\n",
       "        const element = document.querySelector('#df-e0b69d6a-a2a6-48a8-9caf-2a40002c2f5f');\n",
       "        const dataTable =\n",
       "          await google.colab.kernel.invokeFunction('convertToInteractive',\n",
       "                                                    [key], {});\n",
       "        if (!dataTable) return;\n",
       "\n",
       "        const docLinkHtml = 'Like what you see? Visit the ' +\n",
       "          '<a target=\"_blank\" href=https://colab.research.google.com/notebooks/data_table.ipynb>data table notebook</a>'\n",
       "          + ' to learn more about interactive tables.';\n",
       "        element.innerHTML = '';\n",
       "        dataTable['output_type'] = 'display_data';\n",
       "        await google.colab.output.renderOutput(dataTable, element);\n",
       "        const docLink = document.createElement('div');\n",
       "        docLink.innerHTML = docLinkHtml;\n",
       "        element.appendChild(docLink);\n",
       "      }\n",
       "    </script>\n",
       "  </div>\n",
       "\n",
       "\n",
       "    <div id=\"df-047d7a3d-2e4d-4f2f-b751-4d6e1013a698\">\n",
       "      <button class=\"colab-df-quickchart\" onclick=\"quickchart('df-047d7a3d-2e4d-4f2f-b751-4d6e1013a698')\"\n",
       "                title=\"Suggest charts\"\n",
       "                style=\"display:none;\">\n",
       "\n",
       "<svg xmlns=\"http://www.w3.org/2000/svg\" height=\"24px\"viewBox=\"0 0 24 24\"\n",
       "     width=\"24px\">\n",
       "    <g>\n",
       "        <path d=\"M19 3H5c-1.1 0-2 .9-2 2v14c0 1.1.9 2 2 2h14c1.1 0 2-.9 2-2V5c0-1.1-.9-2-2-2zM9 17H7v-7h2v7zm4 0h-2V7h2v10zm4 0h-2v-4h2v4z\"/>\n",
       "    </g>\n",
       "</svg>\n",
       "      </button>\n",
       "\n",
       "<style>\n",
       "  .colab-df-quickchart {\n",
       "      --bg-color: #E8F0FE;\n",
       "      --fill-color: #1967D2;\n",
       "      --hover-bg-color: #E2EBFA;\n",
       "      --hover-fill-color: #174EA6;\n",
       "      --disabled-fill-color: #AAA;\n",
       "      --disabled-bg-color: #DDD;\n",
       "  }\n",
       "\n",
       "  [theme=dark] .colab-df-quickchart {\n",
       "      --bg-color: #3B4455;\n",
       "      --fill-color: #D2E3FC;\n",
       "      --hover-bg-color: #434B5C;\n",
       "      --hover-fill-color: #FFFFFF;\n",
       "      --disabled-bg-color: #3B4455;\n",
       "      --disabled-fill-color: #666;\n",
       "  }\n",
       "\n",
       "  .colab-df-quickchart {\n",
       "    background-color: var(--bg-color);\n",
       "    border: none;\n",
       "    border-radius: 50%;\n",
       "    cursor: pointer;\n",
       "    display: none;\n",
       "    fill: var(--fill-color);\n",
       "    height: 32px;\n",
       "    padding: 0;\n",
       "    width: 32px;\n",
       "  }\n",
       "\n",
       "  .colab-df-quickchart:hover {\n",
       "    background-color: var(--hover-bg-color);\n",
       "    box-shadow: 0 1px 2px rgba(60, 64, 67, 0.3), 0 1px 3px 1px rgba(60, 64, 67, 0.15);\n",
       "    fill: var(--button-hover-fill-color);\n",
       "  }\n",
       "\n",
       "  .colab-df-quickchart-complete:disabled,\n",
       "  .colab-df-quickchart-complete:disabled:hover {\n",
       "    background-color: var(--disabled-bg-color);\n",
       "    fill: var(--disabled-fill-color);\n",
       "    box-shadow: none;\n",
       "  }\n",
       "\n",
       "  .colab-df-spinner {\n",
       "    border: 2px solid var(--fill-color);\n",
       "    border-color: transparent;\n",
       "    border-bottom-color: var(--fill-color);\n",
       "    animation:\n",
       "      spin 1s steps(1) infinite;\n",
       "  }\n",
       "\n",
       "  @keyframes spin {\n",
       "    0% {\n",
       "      border-color: transparent;\n",
       "      border-bottom-color: var(--fill-color);\n",
       "      border-left-color: var(--fill-color);\n",
       "    }\n",
       "    20% {\n",
       "      border-color: transparent;\n",
       "      border-left-color: var(--fill-color);\n",
       "      border-top-color: var(--fill-color);\n",
       "    }\n",
       "    30% {\n",
       "      border-color: transparent;\n",
       "      border-left-color: var(--fill-color);\n",
       "      border-top-color: var(--fill-color);\n",
       "      border-right-color: var(--fill-color);\n",
       "    }\n",
       "    40% {\n",
       "      border-color: transparent;\n",
       "      border-right-color: var(--fill-color);\n",
       "      border-top-color: var(--fill-color);\n",
       "    }\n",
       "    60% {\n",
       "      border-color: transparent;\n",
       "      border-right-color: var(--fill-color);\n",
       "    }\n",
       "    80% {\n",
       "      border-color: transparent;\n",
       "      border-right-color: var(--fill-color);\n",
       "      border-bottom-color: var(--fill-color);\n",
       "    }\n",
       "    90% {\n",
       "      border-color: transparent;\n",
       "      border-bottom-color: var(--fill-color);\n",
       "    }\n",
       "  }\n",
       "</style>\n",
       "\n",
       "      <script>\n",
       "        async function quickchart(key) {\n",
       "          const quickchartButtonEl =\n",
       "            document.querySelector('#' + key + ' button');\n",
       "          quickchartButtonEl.disabled = true;  // To prevent multiple clicks.\n",
       "          quickchartButtonEl.classList.add('colab-df-spinner');\n",
       "          try {\n",
       "            const charts = await google.colab.kernel.invokeFunction(\n",
       "                'suggestCharts', [key], {});\n",
       "          } catch (error) {\n",
       "            console.error('Error during call to suggestCharts:', error);\n",
       "          }\n",
       "          quickchartButtonEl.classList.remove('colab-df-spinner');\n",
       "          quickchartButtonEl.classList.add('colab-df-quickchart-complete');\n",
       "        }\n",
       "        (() => {\n",
       "          let quickchartButtonEl =\n",
       "            document.querySelector('#df-047d7a3d-2e4d-4f2f-b751-4d6e1013a698 button');\n",
       "          quickchartButtonEl.style.display =\n",
       "            google.colab.kernel.accessAllowed ? 'block' : 'none';\n",
       "        })();\n",
       "      </script>\n",
       "    </div>\n",
       "\n",
       "  <div id=\"id_4bc78dd6-cd62-412c-abbe-011e4f245d78\">\n",
       "    <style>\n",
       "      .colab-df-generate {\n",
       "        background-color: #E8F0FE;\n",
       "        border: none;\n",
       "        border-radius: 50%;\n",
       "        cursor: pointer;\n",
       "        display: none;\n",
       "        fill: #1967D2;\n",
       "        height: 32px;\n",
       "        padding: 0 0 0 0;\n",
       "        width: 32px;\n",
       "      }\n",
       "\n",
       "      .colab-df-generate:hover {\n",
       "        background-color: #E2EBFA;\n",
       "        box-shadow: 0px 1px 2px rgba(60, 64, 67, 0.3), 0px 1px 3px 1px rgba(60, 64, 67, 0.15);\n",
       "        fill: #174EA6;\n",
       "      }\n",
       "\n",
       "      [theme=dark] .colab-df-generate {\n",
       "        background-color: #3B4455;\n",
       "        fill: #D2E3FC;\n",
       "      }\n",
       "\n",
       "      [theme=dark] .colab-df-generate:hover {\n",
       "        background-color: #434B5C;\n",
       "        box-shadow: 0px 1px 3px 1px rgba(0, 0, 0, 0.15);\n",
       "        filter: drop-shadow(0px 1px 2px rgba(0, 0, 0, 0.3));\n",
       "        fill: #FFFFFF;\n",
       "      }\n",
       "    </style>\n",
       "    <button class=\"colab-df-generate\" onclick=\"generateWithVariable('dataset_train')\"\n",
       "            title=\"Generate code using this dataframe.\"\n",
       "            style=\"display:none;\">\n",
       "\n",
       "  <svg xmlns=\"http://www.w3.org/2000/svg\" height=\"24px\"viewBox=\"0 0 24 24\"\n",
       "       width=\"24px\">\n",
       "    <path d=\"M7,19H8.4L18.45,9,17,7.55,7,17.6ZM5,21V16.75L18.45,3.32a2,2,0,0,1,2.83,0l1.4,1.43a1.91,1.91,0,0,1,.58,1.4,1.91,1.91,0,0,1-.58,1.4L9.25,21ZM18.45,9,17,7.55Zm-12,3A5.31,5.31,0,0,0,4.9,8.1,5.31,5.31,0,0,0,1,6.5,5.31,5.31,0,0,0,4.9,4.9,5.31,5.31,0,0,0,6.5,1,5.31,5.31,0,0,0,8.1,4.9,5.31,5.31,0,0,0,12,6.5,5.46,5.46,0,0,0,6.5,12Z\"/>\n",
       "  </svg>\n",
       "    </button>\n",
       "    <script>\n",
       "      (() => {\n",
       "      const buttonEl =\n",
       "        document.querySelector('#id_4bc78dd6-cd62-412c-abbe-011e4f245d78 button.colab-df-generate');\n",
       "      buttonEl.style.display =\n",
       "        google.colab.kernel.accessAllowed ? 'block' : 'none';\n",
       "\n",
       "      buttonEl.onclick = () => {\n",
       "        google.colab.notebook.generateWithVariable('dataset_train');\n",
       "      }\n",
       "      })();\n",
       "    </script>\n",
       "  </div>\n",
       "\n",
       "    </div>\n",
       "  </div>\n"
      ],
      "text/plain": [
       "          id    paper id                                              title  \\\n",
       "0        130  2501.00784                 cloitre's self-generating sequence   \n",
       "1        265  2501.00809  initial ideals of weighted forms and the genus...   \n",
       "2        266  2501.00809  initial ideals of weighted forms and the genus...   \n",
       "3        267  2501.00809  initial ideals of weighted forms and the genus...   \n",
       "4        313  2501.00845                spectral spaces of normal subgroups   \n",
       "...      ...         ...                                                ...   \n",
       "79892  40568  2501.15565       homogeneity of rearrangement-invariant norms   \n",
       "79893  57464  2502.02511  $\\mathcal{h}^{1}$ and $\\mathrm{bmo}$ regularit...   \n",
       "79894  20658  2501.07874  constrained differential operators, sobolev in...   \n",
       "79895  47493  2501.18053  varieties of prime tropical ideals and the dim...   \n",
       "79896  35043  2501.13362  on groups with the same set of conjugacy class...   \n",
       "\n",
       "                                     categories          type  \\\n",
       "0      ['math.co', 'cs.dm', 'cs.fl', 'math.nt']      theorems   \n",
       "1                        ['math.ac', 'math.ag']      theorems   \n",
       "2                        ['math.ac', 'math.ag']  propositions   \n",
       "3                        ['math.ac', 'math.ag']   definitions   \n",
       "4                        ['math.gr', 'math.gn']      theorems   \n",
       "...                                         ...           ...   \n",
       "79892                               ['math.fa']   definitions   \n",
       "79893                    ['math.ap', 'math.ca']        lemmas   \n",
       "79894                    ['math.fa', 'math.ap']      theorems   \n",
       "79895                    ['math.ag', 'math.ac']  propositions   \n",
       "79896                               ['math.gr']   corollaries   \n",
       "\n",
       "                                                 content  \\\n",
       "0      Let $g_n$ be the number of $1$'s in the sequen...   \n",
       "1      \\label{ThmConjAreTrue}\\nConjectures \\ref{Conj1...   \n",
       "2                                   }\\n\\newcommand{\\ep}{   \n",
       "3                                   }\\n\\newcommand{\\ed}{   \n",
       "4      \\label{mth}\\nLet $G$ be a group having a maxim...   \n",
       "...                                                  ...   \n",
       "79892  \\label{D:Delta}\\n\\tLet $\\mathcal Q$ be an inde...   \n",
       "79893  \\label{lem:pseudosmooth}\\nLet $a\\in S^{m}_{1,1...   \n",
       "79894  \\label{K-CZ}\\n Let $\\alpha \\in (0,n)$ and supp...   \n",
       "79895  \\label{prop: Iprime-bendPrime}\\r\\nLet $I$ be a...   \n",
       "79896  Let $p$ and $q$ be primes such that $p = 2q + ...   \n",
       "\n",
       "                                                question  \\\n",
       "0      What is the limit of the proportion of 1's in ...   \n",
       "1      Does the statement of \\textbf{ThmConjAreTrue} ...   \n",
       "2      \\\\emph{Is the statement \\emph{If $X$ is a comp...   \n",
       "3                          Is the statement $\\ed{True}$?   \n",
       "4      Does the set $\\mathcal{N}^+(G)$ of proper norm...   \n",
       "...                                                  ...   \n",
       "79892  What is the relationship between the set $\\Del...   \n",
       "79893  Is the operator $a(x,D)$ in the theorem \\label...   \n",
       "79894  What is the kernel estimate for the convolutio...   \n",
       "79895  Is Bend(I) prime for any prime ideal I of the ...   \n",
       "79896  Is the given statement about the relationship ...   \n",
       "\n",
       "                                                negative  \n",
       "0      [] The tree $ \\mathcal{T}_{ \\infty}$ is the li...  \n",
       "1      [{\\cite[Corollary 2.2.2 with $p=3$]{BSY}}]\\n  ...  \n",
       "2      \\label{prop:coherence}\\n\\tIf $X$ is a qcqs sch...  \n",
       "3      \\label{homogeneous linear order is possible}\\n...  \n",
       "4      If every maximal subgroup of a finite group $G...  \n",
       "...                                                  ...  \n",
       "79892  What is the function $f(A_\\lambda,\\lambda)$ so...  \n",
       "79893  \\label{hmexistssmall}\\nLet $L$ be as in \\eqref...  \n",
       "79894  \\label{Fredholm-powerCompact}\\nLet $T$ be a bo...  \n",
       "79895  \\label{Check}\\nLet $R$ be a quasi-Gorenstein e...  \n",
       "79896  \\label{asymptotic theorem}\\nFor all positive i...  \n",
       "\n",
       "[79876 rows x 8 columns]"
      ]
     },
     "execution_count": 6,
     "metadata": {},
     "output_type": "execute_result"
    }
   ],
   "source": [
    "dataset_train"
   ]
  },
  {
   "cell_type": "markdown",
   "metadata": {
    "id": "Z7TObo8UEgwY"
   },
   "source": [
    "WE NEED TO RENAME THE columns.\n",
    "We then need to format the dataset into a structure expected in the upcoming training: `[anchor, positive, id]`. We remove the extraneous columns, rename our `question` and `text` columns, and add in a simple `id` column."
   ]
  },
  {
   "cell_type": "code",
   "execution_count": null,
   "metadata": {
    "collapsed": true,
    "id": "qddA3eOA65lf"
   },
   "outputs": [],
   "source": [
    "#TRAIN\n",
    "from datasets import Dataset\n",
    "dataset_train = Dataset.from_pandas(dataset_train, preserve_index=False)\n",
    "# Clean & Format Columns\n",
    "dataset_train = dataset_train.rename_column(\"question\", \"anchor\")\n",
    "dataset_train = dataset_train.rename_column(\"content\", \"positive\")\n",
    "dataset_train = dataset_train.remove_columns([ \"title\", \"type\"]) # keep category , paper id\n",
    "# Add an id column to the dataset\n",
    "#dataset_train = dataset_train.add_column(\"id\", range(len(dataset_train)))\n",
    "\n",
    "#TEST:\n",
    "df_test = Dataset.from_pandas(df_test, preserve_index=False)\n",
    "df_test = df_test.rename_column(\"question\", \"anchor\")\n",
    "df_test = df_test.rename_column(\"content\", \"positive\")\n",
    "df_test = df_test.remove_columns([ \"title\", \"type\"])"
   ]
  },
  {
   "cell_type": "code",
   "execution_count": null,
   "metadata": {
    "colab": {
     "base_uri": "https://localhost:8080/"
    },
    "executionInfo": {
     "elapsed": 17,
     "status": "ok",
     "timestamp": 1748435245894,
     "user": {
      "displayName": "Compaltan",
      "userId": "14341232049321093230"
     },
     "user_tz": -120
    },
    "id": "2PeJ2-8VevcQ",
    "outputId": "2f30a7bb-375e-4094-b3ed-5a3d96b7917b"
   },
   "outputs": [
    {
     "name": "stdout",
     "output_type": "stream",
     "text": [
      "Dataset({\n",
      "    features: ['id', 'paper id', 'categories', 'positive', 'anchor', 'negative'],\n",
      "    num_rows: 79876\n",
      "})\n",
      "Dataset({\n",
      "    features: ['id', 'paper id', 'categories', 'positive', 'anchor'],\n",
      "    num_rows: 8668\n",
      "})\n"
     ]
    }
   ],
   "source": [
    "print(dataset_train)\n",
    "print(df_test)"
   ]
  },
  {
   "cell_type": "code",
   "execution_count": null,
   "metadata": {
    "id": "NuM0yCQxt1-M"
   },
   "outputs": [],
   "source": [
    "train_df = dataset_train.to_pandas()\n",
    "test_df  = df_test.to_pandas()\n",
    "\n",
    "\n",
    "train_df.to_json(\"train_dataset.json\",\n",
    "                 orient=\"records\", lines=True, index=False)\n",
    "test_df.to_json(\"test_dataset.json\",\n",
    "                orient=\"records\", lines=True, index=False)"
   ]
  },
  {
   "cell_type": "markdown",
   "metadata": {
    "id": "K9XNcR8CFVf6"
   },
   "source": [
    "---\n",
    "## Base Model Evaluation\n"
   ]
  },
  {
   "cell_type": "code",
   "execution_count": null,
   "metadata": {
    "id": "s9nY5gHVO_EE"
   },
   "outputs": [],
   "source": [
    "from sentence_transformers import SentenceTransformer, models\n",
    "\n",
    "repo_id = \"nomic-ai/modernbert-embed-base\"\n",
    "\n",
    "#  Construimos un modelo SentenceTransformer\n",
    "model = SentenceTransformer(\"nomic-ai/modernbert-embed-base\")\n"
   ]
  },
  {
   "cell_type": "markdown",
   "metadata": {
    "id": "QCfba4e8LS56"
   },
   "source": [
    "To run our base evaluations, we need to prepare the data slightly differently for the [InformationRetrievalEvaluator](https://sbert.net/docs/package_reference/sentence_transformer/evaluation.html#sentence_transformers.evaluation.InformationRetrievalEvaluator). This evaluator requires three key data structures:\n",
    "\n",
    "1. A corpus dictionary mapping IDs to documents (`{paper id: theorem}`)\n",
    "2. A queries dictionary mapping IDs to questions (`{query_id: query}`)\n",
    "3. A relevant_docs dictionary specifying which corpus documents are relevant for each query (`{query_id: [paper id]}`)\n",
    "\n",
    "To build these structures:\n",
    "- We combine train and test datasets into a single corpus_dataset to ensure all text chunks are available during evaluation\n",
    "- The corpus dictionary is created from the combined corpus_dataset, containing all the papers\n",
    "- The queries dictionary is created only from the test_dataset, as we want to evaluate on unseen questions\n",
    "- For the relevance mapping, we use paper id as the connecting key to identify which corpus documents contain the  **id** (theorem_id) relevant to each test query"
   ]
  },
  {
   "cell_type": "code",
   "execution_count": null,
   "metadata": {
    "colab": {
     "base_uri": "https://localhost:8080/"
    },
    "executionInfo": {
     "elapsed": 6574,
     "status": "ok",
     "timestamp": 1748681328040,
     "user": {
      "displayName": "Compaltan",
      "userId": "14341232049321093230"
     },
     "user_tz": -120
    },
    "id": "nxmjUg-bLTOy",
    "outputId": "effff085-631c-48b9-f1d6-bd224e231b6d"
   },
   "outputs": [
    {
     "name": "stderr",
     "output_type": "stream",
     "text": [
      "/usr/local/lib/python3.11/dist-packages/datasets/table.py:1395: FutureWarning: promote has been superseded by promote_options='default'.\n",
      "  block_group = [InMemoryTable(cls._concat_blocks(list(block_group), axis=axis))]\n",
      "/usr/local/lib/python3.11/dist-packages/datasets/table.py:1421: FutureWarning: promote has been superseded by promote_options='default'.\n",
      "  table = cls._concat_blocks(blocks, axis=0)\n"
     ]
    }
   ],
   "source": [
    "# Load train and test datasets from their respective JSON files\n",
    "# These contain pairs of questions (anchors) and text chunks (positives)\n",
    "train_df = pd.read_json(\"train_dataset.json\", orient=\"records\", lines=True)\n",
    "test_df  = pd.read_json(\"test_dataset.json\",  orient=\"records\", lines=True)\n",
    "\n",
    "\n",
    "# Combine train and test datasets into a single corpus (without the unseen data)\n",
    "# This ensures we have all possible text chunks available for retrieval evaluation\n",
    "# 2. Convert them to Hugging-Face Datasets\n",
    "#    preserve_index=False keeps the column set identical to the CSV\n",
    "train_dataset = Dataset.from_pandas(train_df, preserve_index=False)\n",
    "test_dataset  = Dataset.from_pandas(test_df,  preserve_index=False)\n",
    "\n",
    "# 3. Build the combined corpus\n",
    "\n",
    "corpus_dataset = concatenate_datasets([train_dataset, test_dataset])\n",
    "\n",
    "# Convert datasets into dictionary format required by the InformationRetrievalEvaluator\n",
    "# corpus: maps corpus IDs to their text chunks (documents)\n",
    "corpus = dict(zip(corpus_dataset[\"id\"], corpus_dataset[\"positive\"]))\n",
    "queries = dict(zip(test_dataset[\"id\"],     test_dataset[\"anchor\"]))\n",
    "\n",
    "\n",
    "DOC_ID_COL = \"paper id\"\n",
    "\n",
    "\n",
    "from collections import defaultdict\n",
    "\n",
    "# Step 1: Build index of paper_id → list of content IDs\n",
    "paper_to_ids = defaultdict(list)\n",
    "for row in corpus_dataset:  # not .iterrows()\n",
    "    paper_to_ids[row[\"paper id\"]].append(row[\"id\"])\n",
    "\n",
    "# Step 2: For each test query, retrieve all content IDs for its paper\n",
    "relevant_docs = {\n",
    "    row[\"id\"]: paper_to_ids[row[\"paper id\"]]\n",
    "    for row in test_dataset  # not .iterrows()\n",
    "}"
   ]
  },
  {
   "cell_type": "code",
   "execution_count": null,
   "metadata": {
    "id": "NZUhluBL9WZw"
   },
   "outputs": [],
   "source": [
    "from sentence_transformers.evaluation import InformationRetrievalEvaluator, SequentialEvaluator\n",
    "from sentence_transformers.util import cos_sim\n",
    "# Dimensions of interest\n",
    "\n",
    "evaluator = InformationRetrievalEvaluator(\n",
    "    queries=queries,\n",
    "    corpus=corpus,\n",
    "    precision_recall_at_k=[3, 5,30],\n",
    "    ndcg_at_k=[10],\n",
    "    mrr_at_k=[10],\n",
    "    map_at_k=[100],\n",
    "    accuracy_at_k=[1, 3, 5],\n",
    "    relevant_docs=relevant_docs,\n",
    "    name=\"TESTING\",\n",
    "    score_functions={\"cosine\": cos_sim},\n",
    ")"
   ]
  },
  {
   "cell_type": "code",
   "execution_count": null,
   "metadata": {
    "collapsed": true,
    "id": "IGluVnx7-234"
   },
   "outputs": [],
   "source": [
    "# Evaluate the model\n",
    "base_results = evaluator(model)\n"
   ]
  },
  {
   "cell_type": "code",
   "execution_count": null,
   "metadata": {
    "colab": {
     "base_uri": "https://localhost:8080/"
    },
    "executionInfo": {
     "elapsed": 8,
     "status": "ok",
     "timestamp": 1748684430379,
     "user": {
      "displayName": "Compaltan",
      "userId": "14341232049321093230"
     },
     "user_tz": -120
    },
    "id": "7NxNUR-9Txrg",
    "outputId": "6ab17d2c-f31e-4aab-daa2-92b91fbe0bf1"
   },
   "outputs": [
    {
     "data": {
      "text/plain": [
       "{'TESTING_cosine_accuracy@1': 0.7714582371942778,\n",
       " 'TESTING_cosine_accuracy@3': 0.8379095523765574,\n",
       " 'TESTING_cosine_accuracy@5': 0.8602907245039225,\n",
       " 'TESTING_cosine_precision@3': 0.5535686817412705,\n",
       " 'TESTING_cosine_precision@5': 0.45221504383940936,\n",
       " 'TESTING_cosine_precision@30': 0.16868943239501616,\n",
       " 'TESTING_cosine_recall@3': 0.07450773853792128,\n",
       " 'TESTING_cosine_recall@5': 0.09761901491366887,\n",
       " 'TESTING_cosine_recall@30': 0.18572555857763837,\n",
       " 'TESTING_cosine_ndcg@10': 0.413223660204045,\n",
       " 'TESTING_cosine_mrr@10': 0.809573664491176,\n",
       " 'TESTING_cosine_map@100': 0.15569377950427468}"
      ]
     },
     "execution_count": 25,
     "metadata": {},
     "output_type": "execute_result"
    }
   ],
   "source": [
    "base_results"
   ]
  },
  {
   "cell_type": "markdown",
   "metadata": {
    "id": "QMVzUhC3elsj"
   },
   "source": [
    "---\n",
    "## Training\n",
    "\n"
   ]
  },
  {
   "cell_type": "markdown",
   "metadata": {
    "id": "Z9EARVib_PZQ"
   },
   "source": [
    "### NOMICAI MODERNBERT"
   ]
  },
  {
   "cell_type": "code",
   "execution_count": null,
   "metadata": {
    "colab": {
     "base_uri": "https://localhost:8080/",
     "height": 177,
     "referenced_widgets": [
      "f295aecb51a242b5adeb19614b7f39c1",
      "1fcd41f438634e6b807615692d68331e",
      "b40c9d8c8a1f45b38e672414326d9c67",
      "93044099ec5d4c2583ae86b9f824b560",
      "85a4792c9f7b4ea692ed836ed4770008",
      "96ed9f3c40ea49a49ad0c36cf350222d",
      "cb3ae970f5a44031baa56ee52540d1f0",
      "bcc043928ecc4b4ba9ce3074793328ce",
      "13866ea2c81a4809bb87e6bab951a52e",
      "021bcdf3d5254fd8bc7cded2f5cc156c",
      "a14b99174ed342f39244d2b55cadc1be",
      "bf586e29cf9d4709b931f237ab4dc537",
      "0793e223a2f941c38d12abfaa48ef8dc",
      "359dd24015b14575ba87ad5a3735d638",
      "f5fe4a518a294ef8ac1a92763166f72c",
      "9160f140772d456c96cd9b13e461216c",
      "52940d39de1949fca59e822b756beaf7",
      "0aedc7ff0a8449b0ad50179ac3190bd5",
      "94ffaa9e58b34b73910816beb95fee16",
      "9dc118758b574151aa2912568a7cf841",
      "1ca03ad215b249769f7068ffecca88ed",
      "13a880ae045e4b9c9de8e234b6f000c9",
      "a68db996f5f24c7facc55b23ddf247d7",
      "86d581f5f27f44b98a0db517c82eadfb",
      "b614aea01d594f1692dd3208bcf72ee1",
      "8361f32a47934a18857b2663834cc825",
      "c7b2e1767c634aa3854636a7bd11b05d",
      "be182660dea540c194d95aaded12722b",
      "84ce10ccf7094a238cfc251879691066",
      "a49ef61cf08c4c149ee4f50fc7e6ad41",
      "bd0db1c8de4440e28ea06e187d8f4d4e",
      "5d4fb74231da442e85e46acb399dd137",
      "f526fd4f01c545b39bc88b6269909928",
      "7a6e3d7aeab84e4f9e9387b2eea38015",
      "80ab4277f00142668611c67b660ed4f5",
      "74e71c96aa2540cd816b57c957acfc06",
      "8a9989adca964b119ad3f2914d5a3116",
      "520f07a2f185487eae4c04f788bfc35c",
      "89b76c540a36438ba3e26dee2df66b7e",
      "a18b3a622dc048bfbb606e7882bea5c5",
      "4877569c6ac94a928c249161b71852f0",
      "f99aefdb18494e08a085079aace9ad4e",
      "579e0387fcb04fef85510c156377e626",
      "1508a3d86430481cb7adf317fbca1c47",
      "fadb7e714b244c5abbe2043477be1e78",
      "75b9a60ab27b4bad998975b51b4dc38e",
      "34f89ade8b1a4dce8fc8c83281feef24",
      "1913aa0c9e1244e4b9bde9c24155976e",
      "efa515d19fda4b11bd4685ad0cf1aaf0",
      "3474ff2e901d49a49d3297b05098eee9",
      "4d4a78a51d7844a5a0878999cd0e695f",
      "9da0c5f3b56f45428d9aec96aa4b3c7d",
      "43fd5e563e0846ffbc0eca0aa3b34331",
      "c845ce5bfcda4268a6c236c23f626eb8",
      "8ee6fefe61584dfcaf77d8edf0d0d537"
     ]
    },
    "executionInfo": {
     "elapsed": 5897,
     "status": "ok",
     "timestamp": 1748435660594,
     "user": {
      "displayName": "Compaltan",
      "userId": "14341232049321093230"
     },
     "user_tz": -120
    },
    "id": "ZPI5IDlw_a2u",
    "outputId": "b553263a-aeb2-4ed1-f733-f61d49bbf5c0"
   },
   "outputs": [
    {
     "data": {
      "application/vnd.jupyter.widget-view+json": {
       "model_id": "f295aecb51a242b5adeb19614b7f39c1",
       "version_major": 2,
       "version_minor": 0
      },
      "text/plain": [
       "modules.json:   0%|          | 0.00/349 [00:00<?, ?B/s]"
      ]
     },
     "metadata": {},
     "output_type": "display_data"
    },
    {
     "data": {
      "application/vnd.jupyter.widget-view+json": {
       "model_id": "bf586e29cf9d4709b931f237ab4dc537",
       "version_major": 2,
       "version_minor": 0
      },
      "text/plain": [
       "config_sentence_transformers.json:   0%|          | 0.00/210 [00:00<?, ?B/s]"
      ]
     },
     "metadata": {},
     "output_type": "display_data"
    },
    {
     "data": {
      "application/vnd.jupyter.widget-view+json": {
       "model_id": "a68db996f5f24c7facc55b23ddf247d7",
       "version_major": 2,
       "version_minor": 0
      },
      "text/plain": [
       "README.md:   0%|          | 0.00/445k [00:00<?, ?B/s]"
      ]
     },
     "metadata": {},
     "output_type": "display_data"
    },
    {
     "data": {
      "application/vnd.jupyter.widget-view+json": {
       "model_id": "7a6e3d7aeab84e4f9e9387b2eea38015",
       "version_major": 2,
       "version_minor": 0
      },
      "text/plain": [
       "sentence_bert_config.json:   0%|          | 0.00/54.0 [00:00<?, ?B/s]"
      ]
     },
     "metadata": {},
     "output_type": "display_data"
    },
    {
     "data": {
      "application/vnd.jupyter.widget-view+json": {
       "model_id": "fadb7e714b244c5abbe2043477be1e78",
       "version_major": 2,
       "version_minor": 0
      },
      "text/plain": [
       "config.json:   0%|          | 0.00/296 [00:00<?, ?B/s]"
      ]
     },
     "metadata": {},
     "output_type": "display_data"
    }
   ],
   "source": [
    "# load model with SDPA for using Flash Attention 2\n",
    "from sentence_transformers import SentenceTransformer, models, SentenceTransformerModelCardData\n",
    "import torch\n",
    "from sentence_transformers.models import Normalize, Pooling, Transformer\n",
    "# Por si tienes hardware compatible con Flash Attention 2\n",
    "torch.set_float32_matmul_precision(\"high\")\n",
    "\n",
    "repo_id = \"nomic-ai/modernbert-embed-base\"\n",
    "\n",
    "#  Construimos un modelo SentenceTransformer\n",
    "model = SentenceTransformer(\"nomic-ai/modernbert-embed-base\")"
   ]
  },
  {
   "cell_type": "code",
   "execution_count": null,
   "metadata": {
    "colab": {
     "base_uri": "https://localhost:8080/"
    },
    "executionInfo": {
     "elapsed": 6,
     "status": "ok",
     "timestamp": 1748436266700,
     "user": {
      "displayName": "Compaltan",
      "userId": "14341232049321093230"
     },
     "user_tz": -120
    },
    "id": "pOb3qs9V_TOT",
    "outputId": "7b256dd5-f1e1-4f90-8539-0935e60a5e61"
   },
   "outputs": [
    {
     "data": {
      "text/plain": [
       "SentenceTransformer(\n",
       "  (0): Transformer({'max_seq_length': 8192, 'do_lower_case': False}) with Transformer model: ModernBertModel \n",
       "  (1): Pooling({'word_embedding_dimension': 768, 'pooling_mode_cls_token': False, 'pooling_mode_mean_tokens': True, 'pooling_mode_max_tokens': False, 'pooling_mode_mean_sqrt_len_tokens': False, 'pooling_mode_weightedmean_tokens': False, 'pooling_mode_lasttoken': False, 'include_prompt': True})\n",
       "  (2): Normalize()\n",
       ")"
      ]
     },
     "execution_count": 18,
     "metadata": {},
     "output_type": "execute_result"
    }
   ],
   "source": [
    "model"
   ]
  },
  {
   "cell_type": "code",
   "execution_count": null,
   "metadata": {
    "id": "htKtueKz_gYJ"
   },
   "outputs": [],
   "source": [
    "from sentence_transformers import SentenceTransformer, SentenceTransformerModelCardData, SentenceTransformerTrainingArguments, SentenceTransformerTrainer\n",
    "#from sentence_transformers.evaluation import InformationRetrievalEvaluator, SequentialEvaluator\n",
    "#from sentence_transformers.util import cos_sim\n",
    "from sentence_transformers.losses import MultipleNegativesRankingLoss, TripletLoss\n",
    "from sentence_transformers.training_args import BatchSamplers\n",
    "from sentence_transformers.losses import TripletDistanceMetric\n",
    "\n",
    "# Initial Loss\n",
    "train_loss = MultipleNegativesRankingLoss(model)\n",
    "#train_loss = TripletLoss(model,distance_metric=TripletDistanceMetric.COSINE, triplet_margin = 0.1)\n"
   ]
  },
  {
   "cell_type": "markdown",
   "metadata": {
    "id": "Rn18ftKun2UA"
   },
   "source": [
    "Below are the defined training hyperparameters. These are taken directly from the aforementioned [Philipp Schmid's original blogpost](https://www.philschmid.de/fine-tune-embedding-model-for-rag#4-fine-tune-embedding-model-with-sentencetransformerstrainer)."
   ]
  },
  {
   "cell_type": "code",
   "execution_count": null,
   "metadata": {
    "collapsed": true,
    "id": "gmd7D5jH_hg0"
   },
   "outputs": [],
   "source": [
    "# Training Arguments\n",
    "args = SentenceTransformerTrainingArguments(\n",
    "    output_dir=\"/content/drive/Shareddrives/Master_Thesis/Models/FT_nomic\", # output directory and hugging face model ID\n",
    "    num_train_epochs=4,                                        # number of epochs\n",
    "    per_device_train_batch_size=16,                            # train batch size\n",
    "    gradient_accumulation_steps=8,                             # for a global batch size of 512\n",
    "    per_device_eval_batch_size=16,                             # evaluation batch size\n",
    "    warmup_ratio=0.1,                                          # warmup ratio\n",
    "    learning_rate=2e-5,                                        # learning rate, 2e-5 is a good value\n",
    "    lr_scheduler_type=\"cosine\",                                # use cosine learning rate scheduler\n",
    "    optim=\"adamw_torch_fused\",                                 # use fused adamw optimizer\n",
    "    tf32=True,                                                 # use tf32 precision\n",
    "    bf16=True,                                                 # use bf16 precision\n",
    "    batch_sampler=BatchSamplers.NO_DUPLICATES,                 # MultipleNegativesRankingLoss benefits from no duplicate samples in a batch\n",
    "    eval_strategy=\"epoch\",                                     # evaluate after each epoch\n",
    "    save_strategy=\"epoch\",                                     # save after each epoch\n",
    "    logging_steps=10,                                          # log every 10 steps\n",
    "    save_total_limit=3,                                        # save only the last 3 models\n",
    "    load_best_model_at_end=True,                               # load the best model when training ends\n",
    "    metric_for_best_model=\"eval_TESTING_cosine_ndcg@10\",       # Optimizing for the best ndcg@10 score for the 128 dimension\n",
    "    report_to=\"none\"                                           # Turning off training logging for now, input 'wandb' etc. if desired.\n",
    ")"
   ]
  },
  {
   "cell_type": "markdown",
   "metadata": {
    "id": "f5Zk0jeTod8z"
   },
   "source": [
    "Finally, package our model, training arguments, dataset, loss function and evaluator together into a `SentenceTransformerTrainer`"
   ]
  },
  {
   "cell_type": "code",
   "execution_count": null,
   "metadata": {
    "colab": {
     "base_uri": "https://localhost:8080/",
     "height": 17,
     "referenced_widgets": [
      "1f0d3e491a0645e897a4ff21566efe6c",
      "01135ee7e2404f469923eeed3be5cf01",
      "6c39b441d07d417ebb516b5e01549784",
      "2bbde910bada4f3bb1149d44ccb47ff1",
      "d6394257aed948eb8a2b7b8dc851eb57",
      "d32c0fbcf43a43758bb75e73c28a440e",
      "72f436f5ad0b4127a2f024e36d1af49a",
      "fef7b0ae50644c52a0a0b5e162e23da9",
      "4c1eabda44984c308b5b548b76db1d21",
      "09d2a345958942879a944a5ec466a2fb",
      "190382a44770434d9b07e6c4d6144b8b"
     ]
    },
    "executionInfo": {
     "elapsed": 779,
     "status": "ok",
     "timestamp": 1748436283695,
     "user": {
      "displayName": "Compaltan",
      "userId": "14341232049321093230"
     },
     "user_tz": -120
    },
    "id": "tCkNMg_O_j2R",
    "outputId": "90a23f0c-c21b-46c2-a854-9fe8e1dd3f12"
   },
   "outputs": [
    {
     "data": {
      "application/vnd.jupyter.widget-view+json": {
       "model_id": "1f0d3e491a0645e897a4ff21566efe6c",
       "version_major": 2,
       "version_minor": 0
      },
      "text/plain": [
       "Computing widget examples:   0%|          | 0/1 [00:00<?, ?example/s]"
      ]
     },
     "metadata": {},
     "output_type": "display_data"
    }
   ],
   "source": [
    "trainer = SentenceTransformerTrainer(\n",
    "    model=model,\n",
    "    args=args,\n",
    "    train_dataset=train_dataset.select_columns(\n",
    "        [ \"anchor\",\"positive\"]\n",
    "    ),  # training dataset. #,\"negative\"\n",
    "    loss=train_loss,\n",
    "    evaluator=evaluator,\n",
    ")"
   ]
  },
  {
   "cell_type": "markdown",
   "metadata": {
    "id": "QVLp_7Afoolf"
   },
   "source": [
    "Start the training run!"
   ]
  },
  {
   "cell_type": "code",
   "execution_count": null,
   "metadata": {
    "colab": {
     "base_uri": "https://localhost:8080/"
    },
    "executionInfo": {
     "elapsed": 18,
     "status": "ok",
     "timestamp": 1748436291493,
     "user": {
      "displayName": "Compaltan",
      "userId": "14341232049321093230"
     },
     "user_tz": -120
    },
    "id": "u6I2LGv5Ow6s",
    "outputId": "81f7bbe3-ed23-4466-d4f2-02ba1074684e"
   },
   "outputs": [
    {
     "name": "stdout",
     "output_type": "stream",
     "text": [
      "Estimated steps per epoch: 625\n",
      "Estimated total steps: 2500\n"
     ]
    }
   ],
   "source": [
    "import math\n",
    "\n",
    "total_examples = len(train_dataset)\n",
    "global_batch_size = args.per_device_train_batch_size * args.gradient_accumulation_steps\n",
    "steps_per_epoch = math.ceil(total_examples / global_batch_size)\n",
    "total_steps = steps_per_epoch * args.num_train_epochs\n",
    "\n",
    "print(f\"Estimated steps per epoch: {steps_per_epoch}\")\n",
    "print(f\"Estimated total steps: {total_steps}\")\n"
   ]
  },
  {
   "cell_type": "code",
   "execution_count": null,
   "metadata": {
    "id": "7V6kg7sxR4Ta"
   },
   "outputs": [],
   "source": [
    "import os\n",
    "\n",
    "# Set memory management behavior\n",
    "os.environ[\"PYTORCH_CUDA_ALLOC_CONF\"] = \"expandable_segments:True\"\n",
    "\n",
    "# Clean up any old memory references\n",
    "torch.cuda.empty_cache()\n",
    "torch.cuda.ipc_collect()\n",
    "\n",
    "# Now proceed to import and initialize models, datasets, etc.\n",
    "from sentence_transformers import SentenceTransformer, models\n"
   ]
  },
  {
   "cell_type": "code",
   "execution_count": null,
   "metadata": {
    "colab": {
     "base_uri": "https://localhost:8080/",
     "height": 235
    },
    "executionInfo": {
     "elapsed": 8443441,
     "status": "ok",
     "timestamp": 1748444750700,
     "user": {
      "displayName": "Compaltan",
      "userId": "14341232049321093230"
     },
     "user_tz": -120
    },
    "id": "g0R63rsu_m3g",
    "outputId": "f5a7e2c9-1aee-41d0-9134-ec6c8dd3277c"
   },
   "outputs": [
    {
     "data": {
      "text/html": [
       "\n",
       "    <div>\n",
       "      \n",
       "      <progress value='2500' max='2500' style='width:300px; height:20px; vertical-align: middle;'></progress>\n",
       "      [2500/2500 2:20:30, Epoch 4/4]\n",
       "    </div>\n",
       "    <table border=\"1\" class=\"dataframe\">\n",
       "  <thead>\n",
       " <tr style=\"text-align: left;\">\n",
       "      <th>Epoch</th>\n",
       "      <th>Training Loss</th>\n",
       "      <th>Validation Loss</th>\n",
       "      <th>Testing Cosine Accuracy@1</th>\n",
       "      <th>Testing Cosine Accuracy@3</th>\n",
       "      <th>Testing Cosine Accuracy@5</th>\n",
       "      <th>Testing Cosine Accuracy@10</th>\n",
       "      <th>Testing Cosine Precision@1</th>\n",
       "      <th>Testing Cosine Precision@3</th>\n",
       "      <th>Testing Cosine Precision@5</th>\n",
       "      <th>Testing Cosine Precision@10</th>\n",
       "      <th>Testing Cosine Recall@1</th>\n",
       "      <th>Testing Cosine Recall@3</th>\n",
       "      <th>Testing Cosine Recall@5</th>\n",
       "      <th>Testing Cosine Recall@10</th>\n",
       "      <th>Testing Cosine Ndcg@10</th>\n",
       "      <th>Testing Cosine Mrr@10</th>\n",
       "      <th>Testing Cosine Map@100</th>\n",
       "    </tr>\n",
       "  </thead>\n",
       "  <tbody>\n",
       "    <tr>\n",
       "      <td>1</td>\n",
       "      <td>0.121000</td>\n",
       "      <td>No log</td>\n",
       "      <td>0.891440</td>\n",
       "      <td>0.932049</td>\n",
       "      <td>0.943816</td>\n",
       "      <td>0.955584</td>\n",
       "      <td>0.891440</td>\n",
       "      <td>0.639978</td>\n",
       "      <td>0.519774</td>\n",
       "      <td>0.373523</td>\n",
       "      <td>0.043215</td>\n",
       "      <td>0.087027</td>\n",
       "      <td>0.112872</td>\n",
       "      <td>0.151803</td>\n",
       "      <td>0.475437</td>\n",
       "      <td>0.913595</td>\n",
       "      <td>0.180143</td>\n",
       "    </tr>\n",
       "    <tr>\n",
       "      <td>2</td>\n",
       "      <td>0.063000</td>\n",
       "      <td>No log</td>\n",
       "      <td>0.904938</td>\n",
       "      <td>0.943009</td>\n",
       "      <td>0.953738</td>\n",
       "      <td>0.964813</td>\n",
       "      <td>0.904938</td>\n",
       "      <td>0.653438</td>\n",
       "      <td>0.532880</td>\n",
       "      <td>0.381311</td>\n",
       "      <td>0.043903</td>\n",
       "      <td>0.089183</td>\n",
       "      <td>0.116254</td>\n",
       "      <td>0.155310</td>\n",
       "      <td>0.485457</td>\n",
       "      <td>0.926060</td>\n",
       "      <td>0.185295</td>\n",
       "    </tr>\n",
       "    <tr>\n",
       "      <td>3</td>\n",
       "      <td>0.025300</td>\n",
       "      <td>No log</td>\n",
       "      <td>0.913013</td>\n",
       "      <td>0.946124</td>\n",
       "      <td>0.954084</td>\n",
       "      <td>0.965159</td>\n",
       "      <td>0.913013</td>\n",
       "      <td>0.661052</td>\n",
       "      <td>0.539617</td>\n",
       "      <td>0.387610</td>\n",
       "      <td>0.044239</td>\n",
       "      <td>0.090076</td>\n",
       "      <td>0.117459</td>\n",
       "      <td>0.157894</td>\n",
       "      <td>0.491993</td>\n",
       "      <td>0.931277</td>\n",
       "      <td>0.189386</td>\n",
       "    </tr>\n",
       "    <tr>\n",
       "      <td>4</td>\n",
       "      <td>0.020700</td>\n",
       "      <td>No log</td>\n",
       "      <td>0.912783</td>\n",
       "      <td>0.945547</td>\n",
       "      <td>0.954430</td>\n",
       "      <td>0.965736</td>\n",
       "      <td>0.912783</td>\n",
       "      <td>0.662821</td>\n",
       "      <td>0.543401</td>\n",
       "      <td>0.391440</td>\n",
       "      <td>0.044228</td>\n",
       "      <td>0.090519</td>\n",
       "      <td>0.118414</td>\n",
       "      <td>0.159298</td>\n",
       "      <td>0.495248</td>\n",
       "      <td>0.931062</td>\n",
       "      <td>0.192220</td>\n",
       "    </tr>\n",
       "  </tbody>\n",
       "</table><p>"
      ],
      "text/plain": [
       "<IPython.core.display.HTML object>"
      ]
     },
     "metadata": {},
     "output_type": "display_data"
    }
   ],
   "source": [
    "# Start training\n",
    "trainer.train()\n",
    "\n",
    "# Save the best model based on our criteria\n",
    "trainer.save_model('/content/drive/Shareddrives/Master_Thesis/Models/FT_nomic')"
   ]
  },
  {
   "cell_type": "code",
   "execution_count": null,
   "metadata": {
    "colab": {
     "base_uri": "https://localhost:8080/"
    },
    "executionInfo": {
     "elapsed": 282411,
     "status": "ok",
     "timestamp": 1748445519522,
     "user": {
      "displayName": "Compaltan",
      "userId": "14341232049321093230"
     },
     "user_tz": -120
    },
    "id": "yOjruIAhcxYl",
    "outputId": "a637bce1-d5d2-455e-be77-ceffe451a152"
   },
   "outputs": [
    {
     "data": {
      "text/plain": [
       "{'TESTING_cosine_accuracy@1': 0.912782648823258,\n",
       " 'TESTING_cosine_accuracy@3': 0.9455468389478542,\n",
       " 'TESTING_cosine_accuracy@5': 0.9544300876788187,\n",
       " 'TESTING_cosine_accuracy@10': 0.9657360406091371,\n",
       " 'TESTING_cosine_precision@1': 0.912782648823258,\n",
       " 'TESTING_cosine_precision@3': 0.6628211044454699,\n",
       " 'TESTING_cosine_precision@5': 0.5434010152284263,\n",
       " 'TESTING_cosine_precision@10': 0.391439778495616,\n",
       " 'TESTING_cosine_recall@1': 0.04422775803649693,\n",
       " 'TESTING_cosine_recall@3': 0.09051899363388177,\n",
       " 'TESTING_cosine_recall@5': 0.1184143319141888,\n",
       " 'TESTING_cosine_recall@10': 0.15929812953578346,\n",
       " 'TESTING_cosine_ndcg@10': 0.4952481992397162,\n",
       " 'TESTING_cosine_mrr@10': 0.9310623457197055,\n",
       " 'TESTING_cosine_map@100': 0.1922204132130754}"
      ]
     },
     "execution_count": 26,
     "metadata": {},
     "output_type": "execute_result"
    }
   ],
   "source": [
    "evaluator(model)"
   ]
  },
  {
   "cell_type": "code",
   "execution_count": null,
   "metadata": {
    "id": "cl1K558uYcId"
   },
   "outputs": [],
   "source": [
    "output_dir='/content/drive/Shareddrives/Master_Thesis/Models/FT_base'\n",
    "trainer.save_model(output_dir)"
   ]
  },
  {
   "cell_type": "code",
   "execution_count": null,
   "metadata": {
    "colab": {
     "base_uri": "https://localhost:8080/",
     "height": 68,
     "referenced_widgets": [
      "7c7d9f78ebd04c3a881e27e287c776c9",
      "ba5eb57b8df54cecb5a1cab497cf0a16",
      "1c677dc9a9524bd6b21e4c807e1eb0b8",
      "69d5fd567d424729b92511e6efbc8452",
      "7d0d74b7124f4f3297e73bca7fc10419",
      "95c9aabd4b1b4482af4092b611db380b",
      "bf5f45667b18475abb44a4f4c126da5c",
      "e714642e09fc43418ac818d15eef25e2",
      "808c86248f3b4f968112445a629bf61b",
      "16bcde71b1f5492581cb0d8f6a39cd19",
      "0cd3c237f24d4f47b71d2fc8186dbf06"
     ]
    },
    "executionInfo": {
     "elapsed": 45059,
     "status": "ok",
     "timestamp": 1748444795766,
     "user": {
      "displayName": "Compaltan",
      "userId": "14341232049321093230"
     },
     "user_tz": -120
    },
    "id": "GuG2z1llTemM",
    "outputId": "f3749b2a-1a3a-49e5-c5d1-3aefe11eb7ad"
   },
   "outputs": [
    {
     "data": {
      "application/vnd.jupyter.widget-view+json": {
       "model_id": "7c7d9f78ebd04c3a881e27e287c776c9",
       "version_major": 2,
       "version_minor": 0
      },
      "text/plain": [
       "model.safetensors:   0%|          | 0.00/596M [00:00<?, ?B/s]"
      ]
     },
     "metadata": {},
     "output_type": "display_data"
    },
    {
     "data": {
      "application/vnd.google.colaboratory.intrinsic+json": {
       "type": "string"
      },
      "text/plain": [
       "'https://huggingface.co/Master-thesis-NAP/nomicAI-ModernBERT-base-finetuned/commit/8178aa6f11384eba927afde75d7b2190f839471f'"
      ]
     },
     "execution_count": 25,
     "metadata": {},
     "output_type": "execute_result"
    }
   ],
   "source": [
    "# Upload model to hub\n",
    "trainer.model.push_to_hub(\"Master-thesis-NAP/nomicAI-ModernBERT-base-finetuned\")"
   ]
  },
  {
   "cell_type": "markdown",
   "metadata": {
    "id": "ExUNZapBo4vJ"
   },
   "source": [
    "---\n",
    "## Evaluating Trained Model"
   ]
  },
  {
   "cell_type": "code",
   "execution_count": null,
   "metadata": {
    "id": "JeviX0knWgPQ"
   },
   "outputs": [],
   "source": [
    "from sentence_transformers import SentenceTransformer, models\n",
    "\n",
    "repo_id = \"Master-thesis-NAP/nomicAI-ModernBERT-base-finetuned\"   # tu checkpoint DAPT\n",
    "\n",
    "#  Cargamos el encoder con los pesos DAPT\n",
    "word_model = models.Transformer(repo_id )             # usa AutoModel + AutoTokenizer\n",
    "#  Añadimos mean pooling\n",
    "pooling = models.Pooling(\n",
    "    word_model.get_word_embedding_dimension(),\n",
    "    pooling_mode_mean_tokens=True,\n",
    ")\n",
    "\n",
    "#  Construimos un modelo SentenceTransformer\n",
    "model = SentenceTransformer(modules=[word_model, pooling])"
   ]
  },
  {
   "cell_type": "code",
   "execution_count": null,
   "metadata": {
    "id": "fXMm46lYWjUy"
   },
   "outputs": [],
   "source": [
    "ft_results=evaluator(model)"
   ]
  },
  {
   "cell_type": "code",
   "execution_count": null,
   "metadata": {
    "colab": {
     "base_uri": "https://localhost:8080/"
    },
    "executionInfo": {
     "elapsed": 8,
     "status": "ok",
     "timestamp": 1748684954469,
     "user": {
      "displayName": "Compaltan",
      "userId": "14341232049321093230"
     },
     "user_tz": -120
    },
    "id": "3hwF88yvWmeA",
    "outputId": "ad8675bf-e4c5-4c7d-9edc-0148797e78cf"
   },
   "outputs": [
    {
     "data": {
      "text/plain": [
       "{'TESTING_cosine_accuracy@1': 0.9128980156898938,\n",
       " 'TESTING_cosine_accuracy@3': 0.9458929395477619,\n",
       " 'TESTING_cosine_accuracy@5': 0.9543147208121827,\n",
       " 'TESTING_cosine_precision@3': 0.6631672050453776,\n",
       " 'TESTING_cosine_precision@5': 0.5432395016151361,\n",
       " 'TESTING_cosine_precision@30': 0.20072681125980618,\n",
       " 'TESTING_cosine_recall@3': 0.09054822907477135,\n",
       " 'TESTING_cosine_recall@5': 0.11831990966203644,\n",
       " 'TESTING_cosine_recall@30': 0.22039722979877688,\n",
       " 'TESTING_cosine_ndcg@10': 0.4952294724259437,\n",
       " 'TESTING_cosine_mrr@10': 0.9310896308992748,\n",
       " 'TESTING_cosine_map@100': 0.19226781565772047}"
      ]
     },
     "execution_count": 28,
     "metadata": {},
     "output_type": "execute_result"
    }
   ],
   "source": [
    "ft_results"
   ]
  },
  {
   "cell_type": "code",
   "execution_count": null,
   "metadata": {
    "colab": {
     "base_uri": "https://localhost:8080/"
    },
    "executionInfo": {
     "elapsed": 4967,
     "status": "ok",
     "timestamp": 1748682414370,
     "user": {
      "displayName": "Compaltan",
      "userId": "14341232049321093230"
     },
     "user_tz": -120
    },
    "id": "3QQ6olmeWm3H",
    "outputId": "648e1e0c-a658-4bc3-f969-a657690923c4"
   },
   "outputs": [
    {
     "name": "stderr",
     "output_type": "stream",
     "text": [
      "/usr/local/lib/python3.11/dist-packages/datasets/table.py:1395: FutureWarning: promote has been superseded by promote_options='default'.\n",
      "  block_group = [InMemoryTable(cls._concat_blocks(list(block_group), axis=axis))]\n",
      "/usr/local/lib/python3.11/dist-packages/datasets/table.py:1421: FutureWarning: promote has been superseded by promote_options='default'.\n",
      "  table = cls._concat_blocks(blocks, axis=0)\n"
     ]
    }
   ],
   "source": [
    "df_unseen = Dataset.from_pandas(df_unseen_test, preserve_index=False)\n",
    "df_unseen = df_unseen.rename_column(\"question\", \"anchor\")\n",
    "df_unseen = df_unseen.rename_column(\"content\", \"positive\")\n",
    "df_unseen = df_unseen.remove_columns([ \"title\", \"type\"])\n",
    "# unseen_df = df_unseen.to_pandas()\n",
    "# unseen_df.to_json(\"unseen_test_dataset.json\", orient=\"records\", lines=True, index=False)\n",
    "\n",
    "corpus_dataset_unseen = concatenate_datasets([train_dataset, test_dataset, df_unseen])\n",
    "corpus_unseen = dict(zip(corpus_dataset_unseen[\"id\"], corpus_dataset_unseen[\"positive\"]))\n",
    "queries_unseen = dict(zip(df_unseen[\"id\"],     df_unseen[\"anchor\"]))\n",
    "\n",
    "DOC_ID_COL = \"paper id\"\n",
    "\n",
    "from collections import defaultdict\n",
    "\n",
    "# Step 1: Build index of paper_id → list of content IDs\n",
    "paper_to_ids = defaultdict(list)\n",
    "for row in corpus_dataset_unseen:  # not .iterrows()\n",
    "    paper_to_ids[row[\"paper id\"]].append(row[\"id\"])\n",
    "\n",
    "# Step 2: For each test query, retrieve all content IDs for its paper\n",
    "relevant_docs_unseen = {\n",
    "    row[\"id\"]: paper_to_ids[row[\"paper id\"]]\n",
    "    for row in df_unseen\n",
    "}\n",
    "evaluator_unseen = InformationRetrievalEvaluator(\n",
    "    queries=queries_unseen,\n",
    "    corpus=corpus_unseen,\n",
    "    precision_recall_at_k=[3, 5,30],\n",
    "    ndcg_at_k=[10],\n",
    "    mrr_at_k=[10],\n",
    "    map_at_k=[100],\n",
    "    accuracy_at_k=[1, 3, 5],\n",
    "    relevant_docs=relevant_docs_unseen,\n",
    "    name=\"TESTING\",\n",
    "    score_functions={\"cosine\": cos_sim},\n",
    ")"
   ]
  },
  {
   "cell_type": "code",
   "execution_count": null,
   "metadata": {
    "id": "XG3dG4iVWpLS"
   },
   "outputs": [],
   "source": [
    "unseen_results = evaluator_unseen(model)"
   ]
  },
  {
   "cell_type": "code",
   "execution_count": null,
   "metadata": {
    "colab": {
     "base_uri": "https://localhost:8080/"
    },
    "executionInfo": {
     "elapsed": 5,
     "status": "ok",
     "timestamp": 1748682925200,
     "user": {
      "displayName": "Compaltan",
      "userId": "14341232049321093230"
     },
     "user_tz": -120
    },
    "id": "RzyTPVylWrwl",
    "outputId": "3185a787-b209-4b2c-b4c6-472a055fd30d"
   },
   "outputs": [
    {
     "data": {
      "text/plain": [
       "{'TESTING_cosine_accuracy@1': 0.8904761904761904,\n",
       " 'TESTING_cosine_accuracy@3': 0.9476190476190476,\n",
       " 'TESTING_cosine_accuracy@5': 0.9619047619047619,\n",
       " 'TESTING_cosine_precision@3': 0.6825396825396824,\n",
       " 'TESTING_cosine_precision@5': 0.5685714285714286,\n",
       " 'TESTING_cosine_precision@30': 0.17920634920634923,\n",
       " 'TESTING_cosine_recall@3': 0.1462585034013605,\n",
       " 'TESTING_cosine_recall@5': 0.20306122448979594,\n",
       " 'TESTING_cosine_recall@30': 0.38401360544217683,\n",
       " 'TESTING_cosine_ndcg@10': 0.49716207133641416,\n",
       " 'TESTING_cosine_mrr@10': 0.920971277399849,\n",
       " 'TESTING_cosine_map@100': 0.31701202620924973}"
      ]
     },
     "execution_count": 18,
     "metadata": {},
     "output_type": "execute_result"
    }
   ],
   "source": [
    "unseen_results"
   ]
  }
 ],
 "metadata": {
  "accelerator": "GPU",
  "colab": {
   "gpuType": "L4",
   "machine_shape": "hm",
   "provenance": []
  },
  "kernelspec": {
   "display_name": "Python 3",
   "name": "python3"
  },
  "language_info": {
   "codemirror_mode": {
    "name": "ipython",
    "version": 3
   },
   "file_extension": ".py",
   "mimetype": "text/x-python",
   "name": "python",
   "nbconvert_exporter": "python",
   "pygments_lexer": "ipython3",
   "version": "3.12.1"
  },
  "widgets": {
   "application/vnd.jupyter.widget-state+json": {
    "01135ee7e2404f469923eeed3be5cf01": {
     "model_module": "@jupyter-widgets/controls",
     "model_module_version": "1.5.0",
     "model_name": "HTMLModel",
     "state": {
      "_dom_classes": [],
      "_model_module": "@jupyter-widgets/controls",
      "_model_module_version": "1.5.0",
      "_model_name": "HTMLModel",
      "_view_count": null,
      "_view_module": "@jupyter-widgets/controls",
      "_view_module_version": "1.5.0",
      "_view_name": "HTMLView",
      "description": "",
      "description_tooltip": null,
      "layout": "IPY_MODEL_d32c0fbcf43a43758bb75e73c28a440e",
      "placeholder": "​",
      "style": "IPY_MODEL_72f436f5ad0b4127a2f024e36d1af49a",
      "value": "Computing widget examples: 100%"
     }
    },
    "021bcdf3d5254fd8bc7cded2f5cc156c": {
     "model_module": "@jupyter-widgets/base",
     "model_module_version": "1.2.0",
     "model_name": "LayoutModel",
     "state": {
      "_model_module": "@jupyter-widgets/base",
      "_model_module_version": "1.2.0",
      "_model_name": "LayoutModel",
      "_view_count": null,
      "_view_module": "@jupyter-widgets/base",
      "_view_module_version": "1.2.0",
      "_view_name": "LayoutView",
      "align_content": null,
      "align_items": null,
      "align_self": null,
      "border": null,
      "bottom": null,
      "display": null,
      "flex": null,
      "flex_flow": null,
      "grid_area": null,
      "grid_auto_columns": null,
      "grid_auto_flow": null,
      "grid_auto_rows": null,
      "grid_column": null,
      "grid_gap": null,
      "grid_row": null,
      "grid_template_areas": null,
      "grid_template_columns": null,
      "grid_template_rows": null,
      "height": null,
      "justify_content": null,
      "justify_items": null,
      "left": null,
      "margin": null,
      "max_height": null,
      "max_width": null,
      "min_height": null,
      "min_width": null,
      "object_fit": null,
      "object_position": null,
      "order": null,
      "overflow": null,
      "overflow_x": null,
      "overflow_y": null,
      "padding": null,
      "right": null,
      "top": null,
      "visibility": null,
      "width": null
     }
    },
    "0793e223a2f941c38d12abfaa48ef8dc": {
     "model_module": "@jupyter-widgets/controls",
     "model_module_version": "1.5.0",
     "model_name": "HTMLModel",
     "state": {
      "_dom_classes": [],
      "_model_module": "@jupyter-widgets/controls",
      "_model_module_version": "1.5.0",
      "_model_name": "HTMLModel",
      "_view_count": null,
      "_view_module": "@jupyter-widgets/controls",
      "_view_module_version": "1.5.0",
      "_view_name": "HTMLView",
      "description": "",
      "description_tooltip": null,
      "layout": "IPY_MODEL_52940d39de1949fca59e822b756beaf7",
      "placeholder": "​",
      "style": "IPY_MODEL_0aedc7ff0a8449b0ad50179ac3190bd5",
      "value": "config_sentence_transformers.json: 100%"
     }
    },
    "09d2a345958942879a944a5ec466a2fb": {
     "model_module": "@jupyter-widgets/base",
     "model_module_version": "1.2.0",
     "model_name": "LayoutModel",
     "state": {
      "_model_module": "@jupyter-widgets/base",
      "_model_module_version": "1.2.0",
      "_model_name": "LayoutModel",
      "_view_count": null,
      "_view_module": "@jupyter-widgets/base",
      "_view_module_version": "1.2.0",
      "_view_name": "LayoutView",
      "align_content": null,
      "align_items": null,
      "align_self": null,
      "border": null,
      "bottom": null,
      "display": null,
      "flex": null,
      "flex_flow": null,
      "grid_area": null,
      "grid_auto_columns": null,
      "grid_auto_flow": null,
      "grid_auto_rows": null,
      "grid_column": null,
      "grid_gap": null,
      "grid_row": null,
      "grid_template_areas": null,
      "grid_template_columns": null,
      "grid_template_rows": null,
      "height": null,
      "justify_content": null,
      "justify_items": null,
      "left": null,
      "margin": null,
      "max_height": null,
      "max_width": null,
      "min_height": null,
      "min_width": null,
      "object_fit": null,
      "object_position": null,
      "order": null,
      "overflow": null,
      "overflow_x": null,
      "overflow_y": null,
      "padding": null,
      "right": null,
      "top": null,
      "visibility": null,
      "width": null
     }
    },
    "0aedc7ff0a8449b0ad50179ac3190bd5": {
     "model_module": "@jupyter-widgets/controls",
     "model_module_version": "1.5.0",
     "model_name": "DescriptionStyleModel",
     "state": {
      "_model_module": "@jupyter-widgets/controls",
      "_model_module_version": "1.5.0",
      "_model_name": "DescriptionStyleModel",
      "_view_count": null,
      "_view_module": "@jupyter-widgets/base",
      "_view_module_version": "1.2.0",
      "_view_name": "StyleView",
      "description_width": ""
     }
    },
    "0cd3c237f24d4f47b71d2fc8186dbf06": {
     "model_module": "@jupyter-widgets/controls",
     "model_module_version": "1.5.0",
     "model_name": "DescriptionStyleModel",
     "state": {
      "_model_module": "@jupyter-widgets/controls",
      "_model_module_version": "1.5.0",
      "_model_name": "DescriptionStyleModel",
      "_view_count": null,
      "_view_module": "@jupyter-widgets/base",
      "_view_module_version": "1.2.0",
      "_view_name": "StyleView",
      "description_width": ""
     }
    },
    "13866ea2c81a4809bb87e6bab951a52e": {
     "model_module": "@jupyter-widgets/controls",
     "model_module_version": "1.5.0",
     "model_name": "ProgressStyleModel",
     "state": {
      "_model_module": "@jupyter-widgets/controls",
      "_model_module_version": "1.5.0",
      "_model_name": "ProgressStyleModel",
      "_view_count": null,
      "_view_module": "@jupyter-widgets/base",
      "_view_module_version": "1.2.0",
      "_view_name": "StyleView",
      "bar_color": null,
      "description_width": ""
     }
    },
    "13a880ae045e4b9c9de8e234b6f000c9": {
     "model_module": "@jupyter-widgets/controls",
     "model_module_version": "1.5.0",
     "model_name": "DescriptionStyleModel",
     "state": {
      "_model_module": "@jupyter-widgets/controls",
      "_model_module_version": "1.5.0",
      "_model_name": "DescriptionStyleModel",
      "_view_count": null,
      "_view_module": "@jupyter-widgets/base",
      "_view_module_version": "1.2.0",
      "_view_name": "StyleView",
      "description_width": ""
     }
    },
    "1508a3d86430481cb7adf317fbca1c47": {
     "model_module": "@jupyter-widgets/controls",
     "model_module_version": "1.5.0",
     "model_name": "DescriptionStyleModel",
     "state": {
      "_model_module": "@jupyter-widgets/controls",
      "_model_module_version": "1.5.0",
      "_model_name": "DescriptionStyleModel",
      "_view_count": null,
      "_view_module": "@jupyter-widgets/base",
      "_view_module_version": "1.2.0",
      "_view_name": "StyleView",
      "description_width": ""
     }
    },
    "16bcde71b1f5492581cb0d8f6a39cd19": {
     "model_module": "@jupyter-widgets/base",
     "model_module_version": "1.2.0",
     "model_name": "LayoutModel",
     "state": {
      "_model_module": "@jupyter-widgets/base",
      "_model_module_version": "1.2.0",
      "_model_name": "LayoutModel",
      "_view_count": null,
      "_view_module": "@jupyter-widgets/base",
      "_view_module_version": "1.2.0",
      "_view_name": "LayoutView",
      "align_content": null,
      "align_items": null,
      "align_self": null,
      "border": null,
      "bottom": null,
      "display": null,
      "flex": null,
      "flex_flow": null,
      "grid_area": null,
      "grid_auto_columns": null,
      "grid_auto_flow": null,
      "grid_auto_rows": null,
      "grid_column": null,
      "grid_gap": null,
      "grid_row": null,
      "grid_template_areas": null,
      "grid_template_columns": null,
      "grid_template_rows": null,
      "height": null,
      "justify_content": null,
      "justify_items": null,
      "left": null,
      "margin": null,
      "max_height": null,
      "max_width": null,
      "min_height": null,
      "min_width": null,
      "object_fit": null,
      "object_position": null,
      "order": null,
      "overflow": null,
      "overflow_x": null,
      "overflow_y": null,
      "padding": null,
      "right": null,
      "top": null,
      "visibility": null,
      "width": null
     }
    },
    "190382a44770434d9b07e6c4d6144b8b": {
     "model_module": "@jupyter-widgets/controls",
     "model_module_version": "1.5.0",
     "model_name": "DescriptionStyleModel",
     "state": {
      "_model_module": "@jupyter-widgets/controls",
      "_model_module_version": "1.5.0",
      "_model_name": "DescriptionStyleModel",
      "_view_count": null,
      "_view_module": "@jupyter-widgets/base",
      "_view_module_version": "1.2.0",
      "_view_name": "StyleView",
      "description_width": ""
     }
    },
    "1913aa0c9e1244e4b9bde9c24155976e": {
     "model_module": "@jupyter-widgets/controls",
     "model_module_version": "1.5.0",
     "model_name": "HTMLModel",
     "state": {
      "_dom_classes": [],
      "_model_module": "@jupyter-widgets/controls",
      "_model_module_version": "1.5.0",
      "_model_name": "HTMLModel",
      "_view_count": null,
      "_view_module": "@jupyter-widgets/controls",
      "_view_module_version": "1.5.0",
      "_view_name": "HTMLView",
      "description": "",
      "description_tooltip": null,
      "layout": "IPY_MODEL_c845ce5bfcda4268a6c236c23f626eb8",
      "placeholder": "​",
      "style": "IPY_MODEL_8ee6fefe61584dfcaf77d8edf0d0d537",
      "value": " 296/296 [00:00&lt;00:00, 33.2kB/s]"
     }
    },
    "1c677dc9a9524bd6b21e4c807e1eb0b8": {
     "model_module": "@jupyter-widgets/controls",
     "model_module_version": "1.5.0",
     "model_name": "FloatProgressModel",
     "state": {
      "_dom_classes": [],
      "_model_module": "@jupyter-widgets/controls",
      "_model_module_version": "1.5.0",
      "_model_name": "FloatProgressModel",
      "_view_count": null,
      "_view_module": "@jupyter-widgets/controls",
      "_view_module_version": "1.5.0",
      "_view_name": "ProgressView",
      "bar_style": "success",
      "description": "",
      "description_tooltip": null,
      "layout": "IPY_MODEL_e714642e09fc43418ac818d15eef25e2",
      "max": 596070136,
      "min": 0,
      "orientation": "horizontal",
      "style": "IPY_MODEL_808c86248f3b4f968112445a629bf61b",
      "value": 596070136
     }
    },
    "1ca03ad215b249769f7068ffecca88ed": {
     "model_module": "@jupyter-widgets/base",
     "model_module_version": "1.2.0",
     "model_name": "LayoutModel",
     "state": {
      "_model_module": "@jupyter-widgets/base",
      "_model_module_version": "1.2.0",
      "_model_name": "LayoutModel",
      "_view_count": null,
      "_view_module": "@jupyter-widgets/base",
      "_view_module_version": "1.2.0",
      "_view_name": "LayoutView",
      "align_content": null,
      "align_items": null,
      "align_self": null,
      "border": null,
      "bottom": null,
      "display": null,
      "flex": null,
      "flex_flow": null,
      "grid_area": null,
      "grid_auto_columns": null,
      "grid_auto_flow": null,
      "grid_auto_rows": null,
      "grid_column": null,
      "grid_gap": null,
      "grid_row": null,
      "grid_template_areas": null,
      "grid_template_columns": null,
      "grid_template_rows": null,
      "height": null,
      "justify_content": null,
      "justify_items": null,
      "left": null,
      "margin": null,
      "max_height": null,
      "max_width": null,
      "min_height": null,
      "min_width": null,
      "object_fit": null,
      "object_position": null,
      "order": null,
      "overflow": null,
      "overflow_x": null,
      "overflow_y": null,
      "padding": null,
      "right": null,
      "top": null,
      "visibility": null,
      "width": null
     }
    },
    "1f0d3e491a0645e897a4ff21566efe6c": {
     "model_module": "@jupyter-widgets/controls",
     "model_module_version": "1.5.0",
     "model_name": "HBoxModel",
     "state": {
      "_dom_classes": [],
      "_model_module": "@jupyter-widgets/controls",
      "_model_module_version": "1.5.0",
      "_model_name": "HBoxModel",
      "_view_count": null,
      "_view_module": "@jupyter-widgets/controls",
      "_view_module_version": "1.5.0",
      "_view_name": "HBoxView",
      "box_style": "",
      "children": [
       "IPY_MODEL_01135ee7e2404f469923eeed3be5cf01",
       "IPY_MODEL_6c39b441d07d417ebb516b5e01549784",
       "IPY_MODEL_2bbde910bada4f3bb1149d44ccb47ff1"
      ],
      "layout": "IPY_MODEL_d6394257aed948eb8a2b7b8dc851eb57"
     }
    },
    "1fcd41f438634e6b807615692d68331e": {
     "model_module": "@jupyter-widgets/controls",
     "model_module_version": "1.5.0",
     "model_name": "HTMLModel",
     "state": {
      "_dom_classes": [],
      "_model_module": "@jupyter-widgets/controls",
      "_model_module_version": "1.5.0",
      "_model_name": "HTMLModel",
      "_view_count": null,
      "_view_module": "@jupyter-widgets/controls",
      "_view_module_version": "1.5.0",
      "_view_name": "HTMLView",
      "description": "",
      "description_tooltip": null,
      "layout": "IPY_MODEL_96ed9f3c40ea49a49ad0c36cf350222d",
      "placeholder": "​",
      "style": "IPY_MODEL_cb3ae970f5a44031baa56ee52540d1f0",
      "value": "modules.json: 100%"
     }
    },
    "2bbde910bada4f3bb1149d44ccb47ff1": {
     "model_module": "@jupyter-widgets/controls",
     "model_module_version": "1.5.0",
     "model_name": "HTMLModel",
     "state": {
      "_dom_classes": [],
      "_model_module": "@jupyter-widgets/controls",
      "_model_module_version": "1.5.0",
      "_model_name": "HTMLModel",
      "_view_count": null,
      "_view_module": "@jupyter-widgets/controls",
      "_view_module_version": "1.5.0",
      "_view_name": "HTMLView",
      "description": "",
      "description_tooltip": null,
      "layout": "IPY_MODEL_09d2a345958942879a944a5ec466a2fb",
      "placeholder": "​",
      "style": "IPY_MODEL_190382a44770434d9b07e6c4d6144b8b",
      "value": " 1/1 [00:00&lt;00:00,  7.51example/s]"
     }
    },
    "3474ff2e901d49a49d3297b05098eee9": {
     "model_module": "@jupyter-widgets/base",
     "model_module_version": "1.2.0",
     "model_name": "LayoutModel",
     "state": {
      "_model_module": "@jupyter-widgets/base",
      "_model_module_version": "1.2.0",
      "_model_name": "LayoutModel",
      "_view_count": null,
      "_view_module": "@jupyter-widgets/base",
      "_view_module_version": "1.2.0",
      "_view_name": "LayoutView",
      "align_content": null,
      "align_items": null,
      "align_self": null,
      "border": null,
      "bottom": null,
      "display": null,
      "flex": null,
      "flex_flow": null,
      "grid_area": null,
      "grid_auto_columns": null,
      "grid_auto_flow": null,
      "grid_auto_rows": null,
      "grid_column": null,
      "grid_gap": null,
      "grid_row": null,
      "grid_template_areas": null,
      "grid_template_columns": null,
      "grid_template_rows": null,
      "height": null,
      "justify_content": null,
      "justify_items": null,
      "left": null,
      "margin": null,
      "max_height": null,
      "max_width": null,
      "min_height": null,
      "min_width": null,
      "object_fit": null,
      "object_position": null,
      "order": null,
      "overflow": null,
      "overflow_x": null,
      "overflow_y": null,
      "padding": null,
      "right": null,
      "top": null,
      "visibility": null,
      "width": null
     }
    },
    "34f89ade8b1a4dce8fc8c83281feef24": {
     "model_module": "@jupyter-widgets/controls",
     "model_module_version": "1.5.0",
     "model_name": "FloatProgressModel",
     "state": {
      "_dom_classes": [],
      "_model_module": "@jupyter-widgets/controls",
      "_model_module_version": "1.5.0",
      "_model_name": "FloatProgressModel",
      "_view_count": null,
      "_view_module": "@jupyter-widgets/controls",
      "_view_module_version": "1.5.0",
      "_view_name": "ProgressView",
      "bar_style": "success",
      "description": "",
      "description_tooltip": null,
      "layout": "IPY_MODEL_9da0c5f3b56f45428d9aec96aa4b3c7d",
      "max": 296,
      "min": 0,
      "orientation": "horizontal",
      "style": "IPY_MODEL_43fd5e563e0846ffbc0eca0aa3b34331",
      "value": 296
     }
    },
    "359dd24015b14575ba87ad5a3735d638": {
     "model_module": "@jupyter-widgets/controls",
     "model_module_version": "1.5.0",
     "model_name": "FloatProgressModel",
     "state": {
      "_dom_classes": [],
      "_model_module": "@jupyter-widgets/controls",
      "_model_module_version": "1.5.0",
      "_model_name": "FloatProgressModel",
      "_view_count": null,
      "_view_module": "@jupyter-widgets/controls",
      "_view_module_version": "1.5.0",
      "_view_name": "ProgressView",
      "bar_style": "success",
      "description": "",
      "description_tooltip": null,
      "layout": "IPY_MODEL_94ffaa9e58b34b73910816beb95fee16",
      "max": 210,
      "min": 0,
      "orientation": "horizontal",
      "style": "IPY_MODEL_9dc118758b574151aa2912568a7cf841",
      "value": 210
     }
    },
    "43fd5e563e0846ffbc0eca0aa3b34331": {
     "model_module": "@jupyter-widgets/controls",
     "model_module_version": "1.5.0",
     "model_name": "ProgressStyleModel",
     "state": {
      "_model_module": "@jupyter-widgets/controls",
      "_model_module_version": "1.5.0",
      "_model_name": "ProgressStyleModel",
      "_view_count": null,
      "_view_module": "@jupyter-widgets/base",
      "_view_module_version": "1.2.0",
      "_view_name": "StyleView",
      "bar_color": null,
      "description_width": ""
     }
    },
    "4877569c6ac94a928c249161b71852f0": {
     "model_module": "@jupyter-widgets/base",
     "model_module_version": "1.2.0",
     "model_name": "LayoutModel",
     "state": {
      "_model_module": "@jupyter-widgets/base",
      "_model_module_version": "1.2.0",
      "_model_name": "LayoutModel",
      "_view_count": null,
      "_view_module": "@jupyter-widgets/base",
      "_view_module_version": "1.2.0",
      "_view_name": "LayoutView",
      "align_content": null,
      "align_items": null,
      "align_self": null,
      "border": null,
      "bottom": null,
      "display": null,
      "flex": null,
      "flex_flow": null,
      "grid_area": null,
      "grid_auto_columns": null,
      "grid_auto_flow": null,
      "grid_auto_rows": null,
      "grid_column": null,
      "grid_gap": null,
      "grid_row": null,
      "grid_template_areas": null,
      "grid_template_columns": null,
      "grid_template_rows": null,
      "height": null,
      "justify_content": null,
      "justify_items": null,
      "left": null,
      "margin": null,
      "max_height": null,
      "max_width": null,
      "min_height": null,
      "min_width": null,
      "object_fit": null,
      "object_position": null,
      "order": null,
      "overflow": null,
      "overflow_x": null,
      "overflow_y": null,
      "padding": null,
      "right": null,
      "top": null,
      "visibility": null,
      "width": null
     }
    },
    "4c1eabda44984c308b5b548b76db1d21": {
     "model_module": "@jupyter-widgets/controls",
     "model_module_version": "1.5.0",
     "model_name": "ProgressStyleModel",
     "state": {
      "_model_module": "@jupyter-widgets/controls",
      "_model_module_version": "1.5.0",
      "_model_name": "ProgressStyleModel",
      "_view_count": null,
      "_view_module": "@jupyter-widgets/base",
      "_view_module_version": "1.2.0",
      "_view_name": "StyleView",
      "bar_color": null,
      "description_width": ""
     }
    },
    "4d4a78a51d7844a5a0878999cd0e695f": {
     "model_module": "@jupyter-widgets/controls",
     "model_module_version": "1.5.0",
     "model_name": "DescriptionStyleModel",
     "state": {
      "_model_module": "@jupyter-widgets/controls",
      "_model_module_version": "1.5.0",
      "_model_name": "DescriptionStyleModel",
      "_view_count": null,
      "_view_module": "@jupyter-widgets/base",
      "_view_module_version": "1.2.0",
      "_view_name": "StyleView",
      "description_width": ""
     }
    },
    "520f07a2f185487eae4c04f788bfc35c": {
     "model_module": "@jupyter-widgets/base",
     "model_module_version": "1.2.0",
     "model_name": "LayoutModel",
     "state": {
      "_model_module": "@jupyter-widgets/base",
      "_model_module_version": "1.2.0",
      "_model_name": "LayoutModel",
      "_view_count": null,
      "_view_module": "@jupyter-widgets/base",
      "_view_module_version": "1.2.0",
      "_view_name": "LayoutView",
      "align_content": null,
      "align_items": null,
      "align_self": null,
      "border": null,
      "bottom": null,
      "display": null,
      "flex": null,
      "flex_flow": null,
      "grid_area": null,
      "grid_auto_columns": null,
      "grid_auto_flow": null,
      "grid_auto_rows": null,
      "grid_column": null,
      "grid_gap": null,
      "grid_row": null,
      "grid_template_areas": null,
      "grid_template_columns": null,
      "grid_template_rows": null,
      "height": null,
      "justify_content": null,
      "justify_items": null,
      "left": null,
      "margin": null,
      "max_height": null,
      "max_width": null,
      "min_height": null,
      "min_width": null,
      "object_fit": null,
      "object_position": null,
      "order": null,
      "overflow": null,
      "overflow_x": null,
      "overflow_y": null,
      "padding": null,
      "right": null,
      "top": null,
      "visibility": null,
      "width": null
     }
    },
    "52940d39de1949fca59e822b756beaf7": {
     "model_module": "@jupyter-widgets/base",
     "model_module_version": "1.2.0",
     "model_name": "LayoutModel",
     "state": {
      "_model_module": "@jupyter-widgets/base",
      "_model_module_version": "1.2.0",
      "_model_name": "LayoutModel",
      "_view_count": null,
      "_view_module": "@jupyter-widgets/base",
      "_view_module_version": "1.2.0",
      "_view_name": "LayoutView",
      "align_content": null,
      "align_items": null,
      "align_self": null,
      "border": null,
      "bottom": null,
      "display": null,
      "flex": null,
      "flex_flow": null,
      "grid_area": null,
      "grid_auto_columns": null,
      "grid_auto_flow": null,
      "grid_auto_rows": null,
      "grid_column": null,
      "grid_gap": null,
      "grid_row": null,
      "grid_template_areas": null,
      "grid_template_columns": null,
      "grid_template_rows": null,
      "height": null,
      "justify_content": null,
      "justify_items": null,
      "left": null,
      "margin": null,
      "max_height": null,
      "max_width": null,
      "min_height": null,
      "min_width": null,
      "object_fit": null,
      "object_position": null,
      "order": null,
      "overflow": null,
      "overflow_x": null,
      "overflow_y": null,
      "padding": null,
      "right": null,
      "top": null,
      "visibility": null,
      "width": null
     }
    },
    "579e0387fcb04fef85510c156377e626": {
     "model_module": "@jupyter-widgets/base",
     "model_module_version": "1.2.0",
     "model_name": "LayoutModel",
     "state": {
      "_model_module": "@jupyter-widgets/base",
      "_model_module_version": "1.2.0",
      "_model_name": "LayoutModel",
      "_view_count": null,
      "_view_module": "@jupyter-widgets/base",
      "_view_module_version": "1.2.0",
      "_view_name": "LayoutView",
      "align_content": null,
      "align_items": null,
      "align_self": null,
      "border": null,
      "bottom": null,
      "display": null,
      "flex": null,
      "flex_flow": null,
      "grid_area": null,
      "grid_auto_columns": null,
      "grid_auto_flow": null,
      "grid_auto_rows": null,
      "grid_column": null,
      "grid_gap": null,
      "grid_row": null,
      "grid_template_areas": null,
      "grid_template_columns": null,
      "grid_template_rows": null,
      "height": null,
      "justify_content": null,
      "justify_items": null,
      "left": null,
      "margin": null,
      "max_height": null,
      "max_width": null,
      "min_height": null,
      "min_width": null,
      "object_fit": null,
      "object_position": null,
      "order": null,
      "overflow": null,
      "overflow_x": null,
      "overflow_y": null,
      "padding": null,
      "right": null,
      "top": null,
      "visibility": null,
      "width": null
     }
    },
    "5d4fb74231da442e85e46acb399dd137": {
     "model_module": "@jupyter-widgets/base",
     "model_module_version": "1.2.0",
     "model_name": "LayoutModel",
     "state": {
      "_model_module": "@jupyter-widgets/base",
      "_model_module_version": "1.2.0",
      "_model_name": "LayoutModel",
      "_view_count": null,
      "_view_module": "@jupyter-widgets/base",
      "_view_module_version": "1.2.0",
      "_view_name": "LayoutView",
      "align_content": null,
      "align_items": null,
      "align_self": null,
      "border": null,
      "bottom": null,
      "display": null,
      "flex": null,
      "flex_flow": null,
      "grid_area": null,
      "grid_auto_columns": null,
      "grid_auto_flow": null,
      "grid_auto_rows": null,
      "grid_column": null,
      "grid_gap": null,
      "grid_row": null,
      "grid_template_areas": null,
      "grid_template_columns": null,
      "grid_template_rows": null,
      "height": null,
      "justify_content": null,
      "justify_items": null,
      "left": null,
      "margin": null,
      "max_height": null,
      "max_width": null,
      "min_height": null,
      "min_width": null,
      "object_fit": null,
      "object_position": null,
      "order": null,
      "overflow": null,
      "overflow_x": null,
      "overflow_y": null,
      "padding": null,
      "right": null,
      "top": null,
      "visibility": null,
      "width": null
     }
    },
    "69d5fd567d424729b92511e6efbc8452": {
     "model_module": "@jupyter-widgets/controls",
     "model_module_version": "1.5.0",
     "model_name": "HTMLModel",
     "state": {
      "_dom_classes": [],
      "_model_module": "@jupyter-widgets/controls",
      "_model_module_version": "1.5.0",
      "_model_name": "HTMLModel",
      "_view_count": null,
      "_view_module": "@jupyter-widgets/controls",
      "_view_module_version": "1.5.0",
      "_view_name": "HTMLView",
      "description": "",
      "description_tooltip": null,
      "layout": "IPY_MODEL_16bcde71b1f5492581cb0d8f6a39cd19",
      "placeholder": "​",
      "style": "IPY_MODEL_0cd3c237f24d4f47b71d2fc8186dbf06",
      "value": " 596M/596M [00:36&lt;00:00, 35.4MB/s]"
     }
    },
    "6c39b441d07d417ebb516b5e01549784": {
     "model_module": "@jupyter-widgets/controls",
     "model_module_version": "1.5.0",
     "model_name": "FloatProgressModel",
     "state": {
      "_dom_classes": [],
      "_model_module": "@jupyter-widgets/controls",
      "_model_module_version": "1.5.0",
      "_model_name": "FloatProgressModel",
      "_view_count": null,
      "_view_module": "@jupyter-widgets/controls",
      "_view_module_version": "1.5.0",
      "_view_name": "ProgressView",
      "bar_style": "",
      "description": "",
      "description_tooltip": null,
      "layout": "IPY_MODEL_fef7b0ae50644c52a0a0b5e162e23da9",
      "max": 1,
      "min": 0,
      "orientation": "horizontal",
      "style": "IPY_MODEL_4c1eabda44984c308b5b548b76db1d21",
      "value": 1
     }
    },
    "72f436f5ad0b4127a2f024e36d1af49a": {
     "model_module": "@jupyter-widgets/controls",
     "model_module_version": "1.5.0",
     "model_name": "DescriptionStyleModel",
     "state": {
      "_model_module": "@jupyter-widgets/controls",
      "_model_module_version": "1.5.0",
      "_model_name": "DescriptionStyleModel",
      "_view_count": null,
      "_view_module": "@jupyter-widgets/base",
      "_view_module_version": "1.2.0",
      "_view_name": "StyleView",
      "description_width": ""
     }
    },
    "74e71c96aa2540cd816b57c957acfc06": {
     "model_module": "@jupyter-widgets/controls",
     "model_module_version": "1.5.0",
     "model_name": "FloatProgressModel",
     "state": {
      "_dom_classes": [],
      "_model_module": "@jupyter-widgets/controls",
      "_model_module_version": "1.5.0",
      "_model_name": "FloatProgressModel",
      "_view_count": null,
      "_view_module": "@jupyter-widgets/controls",
      "_view_module_version": "1.5.0",
      "_view_name": "ProgressView",
      "bar_style": "success",
      "description": "",
      "description_tooltip": null,
      "layout": "IPY_MODEL_4877569c6ac94a928c249161b71852f0",
      "max": 54,
      "min": 0,
      "orientation": "horizontal",
      "style": "IPY_MODEL_f99aefdb18494e08a085079aace9ad4e",
      "value": 54
     }
    },
    "75b9a60ab27b4bad998975b51b4dc38e": {
     "model_module": "@jupyter-widgets/controls",
     "model_module_version": "1.5.0",
     "model_name": "HTMLModel",
     "state": {
      "_dom_classes": [],
      "_model_module": "@jupyter-widgets/controls",
      "_model_module_version": "1.5.0",
      "_model_name": "HTMLModel",
      "_view_count": null,
      "_view_module": "@jupyter-widgets/controls",
      "_view_module_version": "1.5.0",
      "_view_name": "HTMLView",
      "description": "",
      "description_tooltip": null,
      "layout": "IPY_MODEL_3474ff2e901d49a49d3297b05098eee9",
      "placeholder": "​",
      "style": "IPY_MODEL_4d4a78a51d7844a5a0878999cd0e695f",
      "value": "config.json: 100%"
     }
    },
    "7a6e3d7aeab84e4f9e9387b2eea38015": {
     "model_module": "@jupyter-widgets/controls",
     "model_module_version": "1.5.0",
     "model_name": "HBoxModel",
     "state": {
      "_dom_classes": [],
      "_model_module": "@jupyter-widgets/controls",
      "_model_module_version": "1.5.0",
      "_model_name": "HBoxModel",
      "_view_count": null,
      "_view_module": "@jupyter-widgets/controls",
      "_view_module_version": "1.5.0",
      "_view_name": "HBoxView",
      "box_style": "",
      "children": [
       "IPY_MODEL_80ab4277f00142668611c67b660ed4f5",
       "IPY_MODEL_74e71c96aa2540cd816b57c957acfc06",
       "IPY_MODEL_8a9989adca964b119ad3f2914d5a3116"
      ],
      "layout": "IPY_MODEL_520f07a2f185487eae4c04f788bfc35c"
     }
    },
    "7c7d9f78ebd04c3a881e27e287c776c9": {
     "model_module": "@jupyter-widgets/controls",
     "model_module_version": "1.5.0",
     "model_name": "HBoxModel",
     "state": {
      "_dom_classes": [],
      "_model_module": "@jupyter-widgets/controls",
      "_model_module_version": "1.5.0",
      "_model_name": "HBoxModel",
      "_view_count": null,
      "_view_module": "@jupyter-widgets/controls",
      "_view_module_version": "1.5.0",
      "_view_name": "HBoxView",
      "box_style": "",
      "children": [
       "IPY_MODEL_ba5eb57b8df54cecb5a1cab497cf0a16",
       "IPY_MODEL_1c677dc9a9524bd6b21e4c807e1eb0b8",
       "IPY_MODEL_69d5fd567d424729b92511e6efbc8452"
      ],
      "layout": "IPY_MODEL_7d0d74b7124f4f3297e73bca7fc10419"
     }
    },
    "7d0d74b7124f4f3297e73bca7fc10419": {
     "model_module": "@jupyter-widgets/base",
     "model_module_version": "1.2.0",
     "model_name": "LayoutModel",
     "state": {
      "_model_module": "@jupyter-widgets/base",
      "_model_module_version": "1.2.0",
      "_model_name": "LayoutModel",
      "_view_count": null,
      "_view_module": "@jupyter-widgets/base",
      "_view_module_version": "1.2.0",
      "_view_name": "LayoutView",
      "align_content": null,
      "align_items": null,
      "align_self": null,
      "border": null,
      "bottom": null,
      "display": null,
      "flex": null,
      "flex_flow": null,
      "grid_area": null,
      "grid_auto_columns": null,
      "grid_auto_flow": null,
      "grid_auto_rows": null,
      "grid_column": null,
      "grid_gap": null,
      "grid_row": null,
      "grid_template_areas": null,
      "grid_template_columns": null,
      "grid_template_rows": null,
      "height": null,
      "justify_content": null,
      "justify_items": null,
      "left": null,
      "margin": null,
      "max_height": null,
      "max_width": null,
      "min_height": null,
      "min_width": null,
      "object_fit": null,
      "object_position": null,
      "order": null,
      "overflow": null,
      "overflow_x": null,
      "overflow_y": null,
      "padding": null,
      "right": null,
      "top": null,
      "visibility": null,
      "width": null
     }
    },
    "808c86248f3b4f968112445a629bf61b": {
     "model_module": "@jupyter-widgets/controls",
     "model_module_version": "1.5.0",
     "model_name": "ProgressStyleModel",
     "state": {
      "_model_module": "@jupyter-widgets/controls",
      "_model_module_version": "1.5.0",
      "_model_name": "ProgressStyleModel",
      "_view_count": null,
      "_view_module": "@jupyter-widgets/base",
      "_view_module_version": "1.2.0",
      "_view_name": "StyleView",
      "bar_color": null,
      "description_width": ""
     }
    },
    "80ab4277f00142668611c67b660ed4f5": {
     "model_module": "@jupyter-widgets/controls",
     "model_module_version": "1.5.0",
     "model_name": "HTMLModel",
     "state": {
      "_dom_classes": [],
      "_model_module": "@jupyter-widgets/controls",
      "_model_module_version": "1.5.0",
      "_model_name": "HTMLModel",
      "_view_count": null,
      "_view_module": "@jupyter-widgets/controls",
      "_view_module_version": "1.5.0",
      "_view_name": "HTMLView",
      "description": "",
      "description_tooltip": null,
      "layout": "IPY_MODEL_89b76c540a36438ba3e26dee2df66b7e",
      "placeholder": "​",
      "style": "IPY_MODEL_a18b3a622dc048bfbb606e7882bea5c5",
      "value": "sentence_bert_config.json: 100%"
     }
    },
    "8361f32a47934a18857b2663834cc825": {
     "model_module": "@jupyter-widgets/controls",
     "model_module_version": "1.5.0",
     "model_name": "HTMLModel",
     "state": {
      "_dom_classes": [],
      "_model_module": "@jupyter-widgets/controls",
      "_model_module_version": "1.5.0",
      "_model_name": "HTMLModel",
      "_view_count": null,
      "_view_module": "@jupyter-widgets/controls",
      "_view_module_version": "1.5.0",
      "_view_name": "HTMLView",
      "description": "",
      "description_tooltip": null,
      "layout": "IPY_MODEL_5d4fb74231da442e85e46acb399dd137",
      "placeholder": "​",
      "style": "IPY_MODEL_f526fd4f01c545b39bc88b6269909928",
      "value": " 445k/445k [00:00&lt;00:00, 2.05MB/s]"
     }
    },
    "84ce10ccf7094a238cfc251879691066": {
     "model_module": "@jupyter-widgets/controls",
     "model_module_version": "1.5.0",
     "model_name": "DescriptionStyleModel",
     "state": {
      "_model_module": "@jupyter-widgets/controls",
      "_model_module_version": "1.5.0",
      "_model_name": "DescriptionStyleModel",
      "_view_count": null,
      "_view_module": "@jupyter-widgets/base",
      "_view_module_version": "1.2.0",
      "_view_name": "StyleView",
      "description_width": ""
     }
    },
    "85a4792c9f7b4ea692ed836ed4770008": {
     "model_module": "@jupyter-widgets/base",
     "model_module_version": "1.2.0",
     "model_name": "LayoutModel",
     "state": {
      "_model_module": "@jupyter-widgets/base",
      "_model_module_version": "1.2.0",
      "_model_name": "LayoutModel",
      "_view_count": null,
      "_view_module": "@jupyter-widgets/base",
      "_view_module_version": "1.2.0",
      "_view_name": "LayoutView",
      "align_content": null,
      "align_items": null,
      "align_self": null,
      "border": null,
      "bottom": null,
      "display": null,
      "flex": null,
      "flex_flow": null,
      "grid_area": null,
      "grid_auto_columns": null,
      "grid_auto_flow": null,
      "grid_auto_rows": null,
      "grid_column": null,
      "grid_gap": null,
      "grid_row": null,
      "grid_template_areas": null,
      "grid_template_columns": null,
      "grid_template_rows": null,
      "height": null,
      "justify_content": null,
      "justify_items": null,
      "left": null,
      "margin": null,
      "max_height": null,
      "max_width": null,
      "min_height": null,
      "min_width": null,
      "object_fit": null,
      "object_position": null,
      "order": null,
      "overflow": null,
      "overflow_x": null,
      "overflow_y": null,
      "padding": null,
      "right": null,
      "top": null,
      "visibility": null,
      "width": null
     }
    },
    "86d581f5f27f44b98a0db517c82eadfb": {
     "model_module": "@jupyter-widgets/controls",
     "model_module_version": "1.5.0",
     "model_name": "HTMLModel",
     "state": {
      "_dom_classes": [],
      "_model_module": "@jupyter-widgets/controls",
      "_model_module_version": "1.5.0",
      "_model_name": "HTMLModel",
      "_view_count": null,
      "_view_module": "@jupyter-widgets/controls",
      "_view_module_version": "1.5.0",
      "_view_name": "HTMLView",
      "description": "",
      "description_tooltip": null,
      "layout": "IPY_MODEL_be182660dea540c194d95aaded12722b",
      "placeholder": "​",
      "style": "IPY_MODEL_84ce10ccf7094a238cfc251879691066",
      "value": "README.md: 100%"
     }
    },
    "89b76c540a36438ba3e26dee2df66b7e": {
     "model_module": "@jupyter-widgets/base",
     "model_module_version": "1.2.0",
     "model_name": "LayoutModel",
     "state": {
      "_model_module": "@jupyter-widgets/base",
      "_model_module_version": "1.2.0",
      "_model_name": "LayoutModel",
      "_view_count": null,
      "_view_module": "@jupyter-widgets/base",
      "_view_module_version": "1.2.0",
      "_view_name": "LayoutView",
      "align_content": null,
      "align_items": null,
      "align_self": null,
      "border": null,
      "bottom": null,
      "display": null,
      "flex": null,
      "flex_flow": null,
      "grid_area": null,
      "grid_auto_columns": null,
      "grid_auto_flow": null,
      "grid_auto_rows": null,
      "grid_column": null,
      "grid_gap": null,
      "grid_row": null,
      "grid_template_areas": null,
      "grid_template_columns": null,
      "grid_template_rows": null,
      "height": null,
      "justify_content": null,
      "justify_items": null,
      "left": null,
      "margin": null,
      "max_height": null,
      "max_width": null,
      "min_height": null,
      "min_width": null,
      "object_fit": null,
      "object_position": null,
      "order": null,
      "overflow": null,
      "overflow_x": null,
      "overflow_y": null,
      "padding": null,
      "right": null,
      "top": null,
      "visibility": null,
      "width": null
     }
    },
    "8a9989adca964b119ad3f2914d5a3116": {
     "model_module": "@jupyter-widgets/controls",
     "model_module_version": "1.5.0",
     "model_name": "HTMLModel",
     "state": {
      "_dom_classes": [],
      "_model_module": "@jupyter-widgets/controls",
      "_model_module_version": "1.5.0",
      "_model_name": "HTMLModel",
      "_view_count": null,
      "_view_module": "@jupyter-widgets/controls",
      "_view_module_version": "1.5.0",
      "_view_name": "HTMLView",
      "description": "",
      "description_tooltip": null,
      "layout": "IPY_MODEL_579e0387fcb04fef85510c156377e626",
      "placeholder": "​",
      "style": "IPY_MODEL_1508a3d86430481cb7adf317fbca1c47",
      "value": " 54.0/54.0 [00:00&lt;00:00, 7.14kB/s]"
     }
    },
    "8ee6fefe61584dfcaf77d8edf0d0d537": {
     "model_module": "@jupyter-widgets/controls",
     "model_module_version": "1.5.0",
     "model_name": "DescriptionStyleModel",
     "state": {
      "_model_module": "@jupyter-widgets/controls",
      "_model_module_version": "1.5.0",
      "_model_name": "DescriptionStyleModel",
      "_view_count": null,
      "_view_module": "@jupyter-widgets/base",
      "_view_module_version": "1.2.0",
      "_view_name": "StyleView",
      "description_width": ""
     }
    },
    "9160f140772d456c96cd9b13e461216c": {
     "model_module": "@jupyter-widgets/base",
     "model_module_version": "1.2.0",
     "model_name": "LayoutModel",
     "state": {
      "_model_module": "@jupyter-widgets/base",
      "_model_module_version": "1.2.0",
      "_model_name": "LayoutModel",
      "_view_count": null,
      "_view_module": "@jupyter-widgets/base",
      "_view_module_version": "1.2.0",
      "_view_name": "LayoutView",
      "align_content": null,
      "align_items": null,
      "align_self": null,
      "border": null,
      "bottom": null,
      "display": null,
      "flex": null,
      "flex_flow": null,
      "grid_area": null,
      "grid_auto_columns": null,
      "grid_auto_flow": null,
      "grid_auto_rows": null,
      "grid_column": null,
      "grid_gap": null,
      "grid_row": null,
      "grid_template_areas": null,
      "grid_template_columns": null,
      "grid_template_rows": null,
      "height": null,
      "justify_content": null,
      "justify_items": null,
      "left": null,
      "margin": null,
      "max_height": null,
      "max_width": null,
      "min_height": null,
      "min_width": null,
      "object_fit": null,
      "object_position": null,
      "order": null,
      "overflow": null,
      "overflow_x": null,
      "overflow_y": null,
      "padding": null,
      "right": null,
      "top": null,
      "visibility": null,
      "width": null
     }
    },
    "93044099ec5d4c2583ae86b9f824b560": {
     "model_module": "@jupyter-widgets/controls",
     "model_module_version": "1.5.0",
     "model_name": "HTMLModel",
     "state": {
      "_dom_classes": [],
      "_model_module": "@jupyter-widgets/controls",
      "_model_module_version": "1.5.0",
      "_model_name": "HTMLModel",
      "_view_count": null,
      "_view_module": "@jupyter-widgets/controls",
      "_view_module_version": "1.5.0",
      "_view_name": "HTMLView",
      "description": "",
      "description_tooltip": null,
      "layout": "IPY_MODEL_021bcdf3d5254fd8bc7cded2f5cc156c",
      "placeholder": "​",
      "style": "IPY_MODEL_a14b99174ed342f39244d2b55cadc1be",
      "value": " 349/349 [00:00&lt;00:00, 43.4kB/s]"
     }
    },
    "94ffaa9e58b34b73910816beb95fee16": {
     "model_module": "@jupyter-widgets/base",
     "model_module_version": "1.2.0",
     "model_name": "LayoutModel",
     "state": {
      "_model_module": "@jupyter-widgets/base",
      "_model_module_version": "1.2.0",
      "_model_name": "LayoutModel",
      "_view_count": null,
      "_view_module": "@jupyter-widgets/base",
      "_view_module_version": "1.2.0",
      "_view_name": "LayoutView",
      "align_content": null,
      "align_items": null,
      "align_self": null,
      "border": null,
      "bottom": null,
      "display": null,
      "flex": null,
      "flex_flow": null,
      "grid_area": null,
      "grid_auto_columns": null,
      "grid_auto_flow": null,
      "grid_auto_rows": null,
      "grid_column": null,
      "grid_gap": null,
      "grid_row": null,
      "grid_template_areas": null,
      "grid_template_columns": null,
      "grid_template_rows": null,
      "height": null,
      "justify_content": null,
      "justify_items": null,
      "left": null,
      "margin": null,
      "max_height": null,
      "max_width": null,
      "min_height": null,
      "min_width": null,
      "object_fit": null,
      "object_position": null,
      "order": null,
      "overflow": null,
      "overflow_x": null,
      "overflow_y": null,
      "padding": null,
      "right": null,
      "top": null,
      "visibility": null,
      "width": null
     }
    },
    "95c9aabd4b1b4482af4092b611db380b": {
     "model_module": "@jupyter-widgets/base",
     "model_module_version": "1.2.0",
     "model_name": "LayoutModel",
     "state": {
      "_model_module": "@jupyter-widgets/base",
      "_model_module_version": "1.2.0",
      "_model_name": "LayoutModel",
      "_view_count": null,
      "_view_module": "@jupyter-widgets/base",
      "_view_module_version": "1.2.0",
      "_view_name": "LayoutView",
      "align_content": null,
      "align_items": null,
      "align_self": null,
      "border": null,
      "bottom": null,
      "display": null,
      "flex": null,
      "flex_flow": null,
      "grid_area": null,
      "grid_auto_columns": null,
      "grid_auto_flow": null,
      "grid_auto_rows": null,
      "grid_column": null,
      "grid_gap": null,
      "grid_row": null,
      "grid_template_areas": null,
      "grid_template_columns": null,
      "grid_template_rows": null,
      "height": null,
      "justify_content": null,
      "justify_items": null,
      "left": null,
      "margin": null,
      "max_height": null,
      "max_width": null,
      "min_height": null,
      "min_width": null,
      "object_fit": null,
      "object_position": null,
      "order": null,
      "overflow": null,
      "overflow_x": null,
      "overflow_y": null,
      "padding": null,
      "right": null,
      "top": null,
      "visibility": null,
      "width": null
     }
    },
    "96ed9f3c40ea49a49ad0c36cf350222d": {
     "model_module": "@jupyter-widgets/base",
     "model_module_version": "1.2.0",
     "model_name": "LayoutModel",
     "state": {
      "_model_module": "@jupyter-widgets/base",
      "_model_module_version": "1.2.0",
      "_model_name": "LayoutModel",
      "_view_count": null,
      "_view_module": "@jupyter-widgets/base",
      "_view_module_version": "1.2.0",
      "_view_name": "LayoutView",
      "align_content": null,
      "align_items": null,
      "align_self": null,
      "border": null,
      "bottom": null,
      "display": null,
      "flex": null,
      "flex_flow": null,
      "grid_area": null,
      "grid_auto_columns": null,
      "grid_auto_flow": null,
      "grid_auto_rows": null,
      "grid_column": null,
      "grid_gap": null,
      "grid_row": null,
      "grid_template_areas": null,
      "grid_template_columns": null,
      "grid_template_rows": null,
      "height": null,
      "justify_content": null,
      "justify_items": null,
      "left": null,
      "margin": null,
      "max_height": null,
      "max_width": null,
      "min_height": null,
      "min_width": null,
      "object_fit": null,
      "object_position": null,
      "order": null,
      "overflow": null,
      "overflow_x": null,
      "overflow_y": null,
      "padding": null,
      "right": null,
      "top": null,
      "visibility": null,
      "width": null
     }
    },
    "9da0c5f3b56f45428d9aec96aa4b3c7d": {
     "model_module": "@jupyter-widgets/base",
     "model_module_version": "1.2.0",
     "model_name": "LayoutModel",
     "state": {
      "_model_module": "@jupyter-widgets/base",
      "_model_module_version": "1.2.0",
      "_model_name": "LayoutModel",
      "_view_count": null,
      "_view_module": "@jupyter-widgets/base",
      "_view_module_version": "1.2.0",
      "_view_name": "LayoutView",
      "align_content": null,
      "align_items": null,
      "align_self": null,
      "border": null,
      "bottom": null,
      "display": null,
      "flex": null,
      "flex_flow": null,
      "grid_area": null,
      "grid_auto_columns": null,
      "grid_auto_flow": null,
      "grid_auto_rows": null,
      "grid_column": null,
      "grid_gap": null,
      "grid_row": null,
      "grid_template_areas": null,
      "grid_template_columns": null,
      "grid_template_rows": null,
      "height": null,
      "justify_content": null,
      "justify_items": null,
      "left": null,
      "margin": null,
      "max_height": null,
      "max_width": null,
      "min_height": null,
      "min_width": null,
      "object_fit": null,
      "object_position": null,
      "order": null,
      "overflow": null,
      "overflow_x": null,
      "overflow_y": null,
      "padding": null,
      "right": null,
      "top": null,
      "visibility": null,
      "width": null
     }
    },
    "9dc118758b574151aa2912568a7cf841": {
     "model_module": "@jupyter-widgets/controls",
     "model_module_version": "1.5.0",
     "model_name": "ProgressStyleModel",
     "state": {
      "_model_module": "@jupyter-widgets/controls",
      "_model_module_version": "1.5.0",
      "_model_name": "ProgressStyleModel",
      "_view_count": null,
      "_view_module": "@jupyter-widgets/base",
      "_view_module_version": "1.2.0",
      "_view_name": "StyleView",
      "bar_color": null,
      "description_width": ""
     }
    },
    "a14b99174ed342f39244d2b55cadc1be": {
     "model_module": "@jupyter-widgets/controls",
     "model_module_version": "1.5.0",
     "model_name": "DescriptionStyleModel",
     "state": {
      "_model_module": "@jupyter-widgets/controls",
      "_model_module_version": "1.5.0",
      "_model_name": "DescriptionStyleModel",
      "_view_count": null,
      "_view_module": "@jupyter-widgets/base",
      "_view_module_version": "1.2.0",
      "_view_name": "StyleView",
      "description_width": ""
     }
    },
    "a18b3a622dc048bfbb606e7882bea5c5": {
     "model_module": "@jupyter-widgets/controls",
     "model_module_version": "1.5.0",
     "model_name": "DescriptionStyleModel",
     "state": {
      "_model_module": "@jupyter-widgets/controls",
      "_model_module_version": "1.5.0",
      "_model_name": "DescriptionStyleModel",
      "_view_count": null,
      "_view_module": "@jupyter-widgets/base",
      "_view_module_version": "1.2.0",
      "_view_name": "StyleView",
      "description_width": ""
     }
    },
    "a49ef61cf08c4c149ee4f50fc7e6ad41": {
     "model_module": "@jupyter-widgets/base",
     "model_module_version": "1.2.0",
     "model_name": "LayoutModel",
     "state": {
      "_model_module": "@jupyter-widgets/base",
      "_model_module_version": "1.2.0",
      "_model_name": "LayoutModel",
      "_view_count": null,
      "_view_module": "@jupyter-widgets/base",
      "_view_module_version": "1.2.0",
      "_view_name": "LayoutView",
      "align_content": null,
      "align_items": null,
      "align_self": null,
      "border": null,
      "bottom": null,
      "display": null,
      "flex": null,
      "flex_flow": null,
      "grid_area": null,
      "grid_auto_columns": null,
      "grid_auto_flow": null,
      "grid_auto_rows": null,
      "grid_column": null,
      "grid_gap": null,
      "grid_row": null,
      "grid_template_areas": null,
      "grid_template_columns": null,
      "grid_template_rows": null,
      "height": null,
      "justify_content": null,
      "justify_items": null,
      "left": null,
      "margin": null,
      "max_height": null,
      "max_width": null,
      "min_height": null,
      "min_width": null,
      "object_fit": null,
      "object_position": null,
      "order": null,
      "overflow": null,
      "overflow_x": null,
      "overflow_y": null,
      "padding": null,
      "right": null,
      "top": null,
      "visibility": null,
      "width": null
     }
    },
    "a68db996f5f24c7facc55b23ddf247d7": {
     "model_module": "@jupyter-widgets/controls",
     "model_module_version": "1.5.0",
     "model_name": "HBoxModel",
     "state": {
      "_dom_classes": [],
      "_model_module": "@jupyter-widgets/controls",
      "_model_module_version": "1.5.0",
      "_model_name": "HBoxModel",
      "_view_count": null,
      "_view_module": "@jupyter-widgets/controls",
      "_view_module_version": "1.5.0",
      "_view_name": "HBoxView",
      "box_style": "",
      "children": [
       "IPY_MODEL_86d581f5f27f44b98a0db517c82eadfb",
       "IPY_MODEL_b614aea01d594f1692dd3208bcf72ee1",
       "IPY_MODEL_8361f32a47934a18857b2663834cc825"
      ],
      "layout": "IPY_MODEL_c7b2e1767c634aa3854636a7bd11b05d"
     }
    },
    "b40c9d8c8a1f45b38e672414326d9c67": {
     "model_module": "@jupyter-widgets/controls",
     "model_module_version": "1.5.0",
     "model_name": "FloatProgressModel",
     "state": {
      "_dom_classes": [],
      "_model_module": "@jupyter-widgets/controls",
      "_model_module_version": "1.5.0",
      "_model_name": "FloatProgressModel",
      "_view_count": null,
      "_view_module": "@jupyter-widgets/controls",
      "_view_module_version": "1.5.0",
      "_view_name": "ProgressView",
      "bar_style": "success",
      "description": "",
      "description_tooltip": null,
      "layout": "IPY_MODEL_bcc043928ecc4b4ba9ce3074793328ce",
      "max": 349,
      "min": 0,
      "orientation": "horizontal",
      "style": "IPY_MODEL_13866ea2c81a4809bb87e6bab951a52e",
      "value": 349
     }
    },
    "b614aea01d594f1692dd3208bcf72ee1": {
     "model_module": "@jupyter-widgets/controls",
     "model_module_version": "1.5.0",
     "model_name": "FloatProgressModel",
     "state": {
      "_dom_classes": [],
      "_model_module": "@jupyter-widgets/controls",
      "_model_module_version": "1.5.0",
      "_model_name": "FloatProgressModel",
      "_view_count": null,
      "_view_module": "@jupyter-widgets/controls",
      "_view_module_version": "1.5.0",
      "_view_name": "ProgressView",
      "bar_style": "success",
      "description": "",
      "description_tooltip": null,
      "layout": "IPY_MODEL_a49ef61cf08c4c149ee4f50fc7e6ad41",
      "max": 444593,
      "min": 0,
      "orientation": "horizontal",
      "style": "IPY_MODEL_bd0db1c8de4440e28ea06e187d8f4d4e",
      "value": 444593
     }
    },
    "ba5eb57b8df54cecb5a1cab497cf0a16": {
     "model_module": "@jupyter-widgets/controls",
     "model_module_version": "1.5.0",
     "model_name": "HTMLModel",
     "state": {
      "_dom_classes": [],
      "_model_module": "@jupyter-widgets/controls",
      "_model_module_version": "1.5.0",
      "_model_name": "HTMLModel",
      "_view_count": null,
      "_view_module": "@jupyter-widgets/controls",
      "_view_module_version": "1.5.0",
      "_view_name": "HTMLView",
      "description": "",
      "description_tooltip": null,
      "layout": "IPY_MODEL_95c9aabd4b1b4482af4092b611db380b",
      "placeholder": "​",
      "style": "IPY_MODEL_bf5f45667b18475abb44a4f4c126da5c",
      "value": "model.safetensors: 100%"
     }
    },
    "bcc043928ecc4b4ba9ce3074793328ce": {
     "model_module": "@jupyter-widgets/base",
     "model_module_version": "1.2.0",
     "model_name": "LayoutModel",
     "state": {
      "_model_module": "@jupyter-widgets/base",
      "_model_module_version": "1.2.0",
      "_model_name": "LayoutModel",
      "_view_count": null,
      "_view_module": "@jupyter-widgets/base",
      "_view_module_version": "1.2.0",
      "_view_name": "LayoutView",
      "align_content": null,
      "align_items": null,
      "align_self": null,
      "border": null,
      "bottom": null,
      "display": null,
      "flex": null,
      "flex_flow": null,
      "grid_area": null,
      "grid_auto_columns": null,
      "grid_auto_flow": null,
      "grid_auto_rows": null,
      "grid_column": null,
      "grid_gap": null,
      "grid_row": null,
      "grid_template_areas": null,
      "grid_template_columns": null,
      "grid_template_rows": null,
      "height": null,
      "justify_content": null,
      "justify_items": null,
      "left": null,
      "margin": null,
      "max_height": null,
      "max_width": null,
      "min_height": null,
      "min_width": null,
      "object_fit": null,
      "object_position": null,
      "order": null,
      "overflow": null,
      "overflow_x": null,
      "overflow_y": null,
      "padding": null,
      "right": null,
      "top": null,
      "visibility": null,
      "width": null
     }
    },
    "bd0db1c8de4440e28ea06e187d8f4d4e": {
     "model_module": "@jupyter-widgets/controls",
     "model_module_version": "1.5.0",
     "model_name": "ProgressStyleModel",
     "state": {
      "_model_module": "@jupyter-widgets/controls",
      "_model_module_version": "1.5.0",
      "_model_name": "ProgressStyleModel",
      "_view_count": null,
      "_view_module": "@jupyter-widgets/base",
      "_view_module_version": "1.2.0",
      "_view_name": "StyleView",
      "bar_color": null,
      "description_width": ""
     }
    },
    "be182660dea540c194d95aaded12722b": {
     "model_module": "@jupyter-widgets/base",
     "model_module_version": "1.2.0",
     "model_name": "LayoutModel",
     "state": {
      "_model_module": "@jupyter-widgets/base",
      "_model_module_version": "1.2.0",
      "_model_name": "LayoutModel",
      "_view_count": null,
      "_view_module": "@jupyter-widgets/base",
      "_view_module_version": "1.2.0",
      "_view_name": "LayoutView",
      "align_content": null,
      "align_items": null,
      "align_self": null,
      "border": null,
      "bottom": null,
      "display": null,
      "flex": null,
      "flex_flow": null,
      "grid_area": null,
      "grid_auto_columns": null,
      "grid_auto_flow": null,
      "grid_auto_rows": null,
      "grid_column": null,
      "grid_gap": null,
      "grid_row": null,
      "grid_template_areas": null,
      "grid_template_columns": null,
      "grid_template_rows": null,
      "height": null,
      "justify_content": null,
      "justify_items": null,
      "left": null,
      "margin": null,
      "max_height": null,
      "max_width": null,
      "min_height": null,
      "min_width": null,
      "object_fit": null,
      "object_position": null,
      "order": null,
      "overflow": null,
      "overflow_x": null,
      "overflow_y": null,
      "padding": null,
      "right": null,
      "top": null,
      "visibility": null,
      "width": null
     }
    },
    "bf586e29cf9d4709b931f237ab4dc537": {
     "model_module": "@jupyter-widgets/controls",
     "model_module_version": "1.5.0",
     "model_name": "HBoxModel",
     "state": {
      "_dom_classes": [],
      "_model_module": "@jupyter-widgets/controls",
      "_model_module_version": "1.5.0",
      "_model_name": "HBoxModel",
      "_view_count": null,
      "_view_module": "@jupyter-widgets/controls",
      "_view_module_version": "1.5.0",
      "_view_name": "HBoxView",
      "box_style": "",
      "children": [
       "IPY_MODEL_0793e223a2f941c38d12abfaa48ef8dc",
       "IPY_MODEL_359dd24015b14575ba87ad5a3735d638",
       "IPY_MODEL_f5fe4a518a294ef8ac1a92763166f72c"
      ],
      "layout": "IPY_MODEL_9160f140772d456c96cd9b13e461216c"
     }
    },
    "bf5f45667b18475abb44a4f4c126da5c": {
     "model_module": "@jupyter-widgets/controls",
     "model_module_version": "1.5.0",
     "model_name": "DescriptionStyleModel",
     "state": {
      "_model_module": "@jupyter-widgets/controls",
      "_model_module_version": "1.5.0",
      "_model_name": "DescriptionStyleModel",
      "_view_count": null,
      "_view_module": "@jupyter-widgets/base",
      "_view_module_version": "1.2.0",
      "_view_name": "StyleView",
      "description_width": ""
     }
    },
    "c7b2e1767c634aa3854636a7bd11b05d": {
     "model_module": "@jupyter-widgets/base",
     "model_module_version": "1.2.0",
     "model_name": "LayoutModel",
     "state": {
      "_model_module": "@jupyter-widgets/base",
      "_model_module_version": "1.2.0",
      "_model_name": "LayoutModel",
      "_view_count": null,
      "_view_module": "@jupyter-widgets/base",
      "_view_module_version": "1.2.0",
      "_view_name": "LayoutView",
      "align_content": null,
      "align_items": null,
      "align_self": null,
      "border": null,
      "bottom": null,
      "display": null,
      "flex": null,
      "flex_flow": null,
      "grid_area": null,
      "grid_auto_columns": null,
      "grid_auto_flow": null,
      "grid_auto_rows": null,
      "grid_column": null,
      "grid_gap": null,
      "grid_row": null,
      "grid_template_areas": null,
      "grid_template_columns": null,
      "grid_template_rows": null,
      "height": null,
      "justify_content": null,
      "justify_items": null,
      "left": null,
      "margin": null,
      "max_height": null,
      "max_width": null,
      "min_height": null,
      "min_width": null,
      "object_fit": null,
      "object_position": null,
      "order": null,
      "overflow": null,
      "overflow_x": null,
      "overflow_y": null,
      "padding": null,
      "right": null,
      "top": null,
      "visibility": null,
      "width": null
     }
    },
    "c845ce5bfcda4268a6c236c23f626eb8": {
     "model_module": "@jupyter-widgets/base",
     "model_module_version": "1.2.0",
     "model_name": "LayoutModel",
     "state": {
      "_model_module": "@jupyter-widgets/base",
      "_model_module_version": "1.2.0",
      "_model_name": "LayoutModel",
      "_view_count": null,
      "_view_module": "@jupyter-widgets/base",
      "_view_module_version": "1.2.0",
      "_view_name": "LayoutView",
      "align_content": null,
      "align_items": null,
      "align_self": null,
      "border": null,
      "bottom": null,
      "display": null,
      "flex": null,
      "flex_flow": null,
      "grid_area": null,
      "grid_auto_columns": null,
      "grid_auto_flow": null,
      "grid_auto_rows": null,
      "grid_column": null,
      "grid_gap": null,
      "grid_row": null,
      "grid_template_areas": null,
      "grid_template_columns": null,
      "grid_template_rows": null,
      "height": null,
      "justify_content": null,
      "justify_items": null,
      "left": null,
      "margin": null,
      "max_height": null,
      "max_width": null,
      "min_height": null,
      "min_width": null,
      "object_fit": null,
      "object_position": null,
      "order": null,
      "overflow": null,
      "overflow_x": null,
      "overflow_y": null,
      "padding": null,
      "right": null,
      "top": null,
      "visibility": null,
      "width": null
     }
    },
    "cb3ae970f5a44031baa56ee52540d1f0": {
     "model_module": "@jupyter-widgets/controls",
     "model_module_version": "1.5.0",
     "model_name": "DescriptionStyleModel",
     "state": {
      "_model_module": "@jupyter-widgets/controls",
      "_model_module_version": "1.5.0",
      "_model_name": "DescriptionStyleModel",
      "_view_count": null,
      "_view_module": "@jupyter-widgets/base",
      "_view_module_version": "1.2.0",
      "_view_name": "StyleView",
      "description_width": ""
     }
    },
    "d32c0fbcf43a43758bb75e73c28a440e": {
     "model_module": "@jupyter-widgets/base",
     "model_module_version": "1.2.0",
     "model_name": "LayoutModel",
     "state": {
      "_model_module": "@jupyter-widgets/base",
      "_model_module_version": "1.2.0",
      "_model_name": "LayoutModel",
      "_view_count": null,
      "_view_module": "@jupyter-widgets/base",
      "_view_module_version": "1.2.0",
      "_view_name": "LayoutView",
      "align_content": null,
      "align_items": null,
      "align_self": null,
      "border": null,
      "bottom": null,
      "display": null,
      "flex": null,
      "flex_flow": null,
      "grid_area": null,
      "grid_auto_columns": null,
      "grid_auto_flow": null,
      "grid_auto_rows": null,
      "grid_column": null,
      "grid_gap": null,
      "grid_row": null,
      "grid_template_areas": null,
      "grid_template_columns": null,
      "grid_template_rows": null,
      "height": null,
      "justify_content": null,
      "justify_items": null,
      "left": null,
      "margin": null,
      "max_height": null,
      "max_width": null,
      "min_height": null,
      "min_width": null,
      "object_fit": null,
      "object_position": null,
      "order": null,
      "overflow": null,
      "overflow_x": null,
      "overflow_y": null,
      "padding": null,
      "right": null,
      "top": null,
      "visibility": null,
      "width": null
     }
    },
    "d6394257aed948eb8a2b7b8dc851eb57": {
     "model_module": "@jupyter-widgets/base",
     "model_module_version": "1.2.0",
     "model_name": "LayoutModel",
     "state": {
      "_model_module": "@jupyter-widgets/base",
      "_model_module_version": "1.2.0",
      "_model_name": "LayoutModel",
      "_view_count": null,
      "_view_module": "@jupyter-widgets/base",
      "_view_module_version": "1.2.0",
      "_view_name": "LayoutView",
      "align_content": null,
      "align_items": null,
      "align_self": null,
      "border": null,
      "bottom": null,
      "display": null,
      "flex": null,
      "flex_flow": null,
      "grid_area": null,
      "grid_auto_columns": null,
      "grid_auto_flow": null,
      "grid_auto_rows": null,
      "grid_column": null,
      "grid_gap": null,
      "grid_row": null,
      "grid_template_areas": null,
      "grid_template_columns": null,
      "grid_template_rows": null,
      "height": null,
      "justify_content": null,
      "justify_items": null,
      "left": null,
      "margin": null,
      "max_height": null,
      "max_width": null,
      "min_height": null,
      "min_width": null,
      "object_fit": null,
      "object_position": null,
      "order": null,
      "overflow": null,
      "overflow_x": null,
      "overflow_y": null,
      "padding": null,
      "right": null,
      "top": null,
      "visibility": "hidden",
      "width": null
     }
    },
    "e714642e09fc43418ac818d15eef25e2": {
     "model_module": "@jupyter-widgets/base",
     "model_module_version": "1.2.0",
     "model_name": "LayoutModel",
     "state": {
      "_model_module": "@jupyter-widgets/base",
      "_model_module_version": "1.2.0",
      "_model_name": "LayoutModel",
      "_view_count": null,
      "_view_module": "@jupyter-widgets/base",
      "_view_module_version": "1.2.0",
      "_view_name": "LayoutView",
      "align_content": null,
      "align_items": null,
      "align_self": null,
      "border": null,
      "bottom": null,
      "display": null,
      "flex": null,
      "flex_flow": null,
      "grid_area": null,
      "grid_auto_columns": null,
      "grid_auto_flow": null,
      "grid_auto_rows": null,
      "grid_column": null,
      "grid_gap": null,
      "grid_row": null,
      "grid_template_areas": null,
      "grid_template_columns": null,
      "grid_template_rows": null,
      "height": null,
      "justify_content": null,
      "justify_items": null,
      "left": null,
      "margin": null,
      "max_height": null,
      "max_width": null,
      "min_height": null,
      "min_width": null,
      "object_fit": null,
      "object_position": null,
      "order": null,
      "overflow": null,
      "overflow_x": null,
      "overflow_y": null,
      "padding": null,
      "right": null,
      "top": null,
      "visibility": null,
      "width": null
     }
    },
    "efa515d19fda4b11bd4685ad0cf1aaf0": {
     "model_module": "@jupyter-widgets/base",
     "model_module_version": "1.2.0",
     "model_name": "LayoutModel",
     "state": {
      "_model_module": "@jupyter-widgets/base",
      "_model_module_version": "1.2.0",
      "_model_name": "LayoutModel",
      "_view_count": null,
      "_view_module": "@jupyter-widgets/base",
      "_view_module_version": "1.2.0",
      "_view_name": "LayoutView",
      "align_content": null,
      "align_items": null,
      "align_self": null,
      "border": null,
      "bottom": null,
      "display": null,
      "flex": null,
      "flex_flow": null,
      "grid_area": null,
      "grid_auto_columns": null,
      "grid_auto_flow": null,
      "grid_auto_rows": null,
      "grid_column": null,
      "grid_gap": null,
      "grid_row": null,
      "grid_template_areas": null,
      "grid_template_columns": null,
      "grid_template_rows": null,
      "height": null,
      "justify_content": null,
      "justify_items": null,
      "left": null,
      "margin": null,
      "max_height": null,
      "max_width": null,
      "min_height": null,
      "min_width": null,
      "object_fit": null,
      "object_position": null,
      "order": null,
      "overflow": null,
      "overflow_x": null,
      "overflow_y": null,
      "padding": null,
      "right": null,
      "top": null,
      "visibility": null,
      "width": null
     }
    },
    "f295aecb51a242b5adeb19614b7f39c1": {
     "model_module": "@jupyter-widgets/controls",
     "model_module_version": "1.5.0",
     "model_name": "HBoxModel",
     "state": {
      "_dom_classes": [],
      "_model_module": "@jupyter-widgets/controls",
      "_model_module_version": "1.5.0",
      "_model_name": "HBoxModel",
      "_view_count": null,
      "_view_module": "@jupyter-widgets/controls",
      "_view_module_version": "1.5.0",
      "_view_name": "HBoxView",
      "box_style": "",
      "children": [
       "IPY_MODEL_1fcd41f438634e6b807615692d68331e",
       "IPY_MODEL_b40c9d8c8a1f45b38e672414326d9c67",
       "IPY_MODEL_93044099ec5d4c2583ae86b9f824b560"
      ],
      "layout": "IPY_MODEL_85a4792c9f7b4ea692ed836ed4770008"
     }
    },
    "f526fd4f01c545b39bc88b6269909928": {
     "model_module": "@jupyter-widgets/controls",
     "model_module_version": "1.5.0",
     "model_name": "DescriptionStyleModel",
     "state": {
      "_model_module": "@jupyter-widgets/controls",
      "_model_module_version": "1.5.0",
      "_model_name": "DescriptionStyleModel",
      "_view_count": null,
      "_view_module": "@jupyter-widgets/base",
      "_view_module_version": "1.2.0",
      "_view_name": "StyleView",
      "description_width": ""
     }
    },
    "f5fe4a518a294ef8ac1a92763166f72c": {
     "model_module": "@jupyter-widgets/controls",
     "model_module_version": "1.5.0",
     "model_name": "HTMLModel",
     "state": {
      "_dom_classes": [],
      "_model_module": "@jupyter-widgets/controls",
      "_model_module_version": "1.5.0",
      "_model_name": "HTMLModel",
      "_view_count": null,
      "_view_module": "@jupyter-widgets/controls",
      "_view_module_version": "1.5.0",
      "_view_name": "HTMLView",
      "description": "",
      "description_tooltip": null,
      "layout": "IPY_MODEL_1ca03ad215b249769f7068ffecca88ed",
      "placeholder": "​",
      "style": "IPY_MODEL_13a880ae045e4b9c9de8e234b6f000c9",
      "value": " 210/210 [00:00&lt;00:00, 27.5kB/s]"
     }
    },
    "f99aefdb18494e08a085079aace9ad4e": {
     "model_module": "@jupyter-widgets/controls",
     "model_module_version": "1.5.0",
     "model_name": "ProgressStyleModel",
     "state": {
      "_model_module": "@jupyter-widgets/controls",
      "_model_module_version": "1.5.0",
      "_model_name": "ProgressStyleModel",
      "_view_count": null,
      "_view_module": "@jupyter-widgets/base",
      "_view_module_version": "1.2.0",
      "_view_name": "StyleView",
      "bar_color": null,
      "description_width": ""
     }
    },
    "fadb7e714b244c5abbe2043477be1e78": {
     "model_module": "@jupyter-widgets/controls",
     "model_module_version": "1.5.0",
     "model_name": "HBoxModel",
     "state": {
      "_dom_classes": [],
      "_model_module": "@jupyter-widgets/controls",
      "_model_module_version": "1.5.0",
      "_model_name": "HBoxModel",
      "_view_count": null,
      "_view_module": "@jupyter-widgets/controls",
      "_view_module_version": "1.5.0",
      "_view_name": "HBoxView",
      "box_style": "",
      "children": [
       "IPY_MODEL_75b9a60ab27b4bad998975b51b4dc38e",
       "IPY_MODEL_34f89ade8b1a4dce8fc8c83281feef24",
       "IPY_MODEL_1913aa0c9e1244e4b9bde9c24155976e"
      ],
      "layout": "IPY_MODEL_efa515d19fda4b11bd4685ad0cf1aaf0"
     }
    },
    "fef7b0ae50644c52a0a0b5e162e23da9": {
     "model_module": "@jupyter-widgets/base",
     "model_module_version": "1.2.0",
     "model_name": "LayoutModel",
     "state": {
      "_model_module": "@jupyter-widgets/base",
      "_model_module_version": "1.2.0",
      "_model_name": "LayoutModel",
      "_view_count": null,
      "_view_module": "@jupyter-widgets/base",
      "_view_module_version": "1.2.0",
      "_view_name": "LayoutView",
      "align_content": null,
      "align_items": null,
      "align_self": null,
      "border": null,
      "bottom": null,
      "display": null,
      "flex": null,
      "flex_flow": null,
      "grid_area": null,
      "grid_auto_columns": null,
      "grid_auto_flow": null,
      "grid_auto_rows": null,
      "grid_column": null,
      "grid_gap": null,
      "grid_row": null,
      "grid_template_areas": null,
      "grid_template_columns": null,
      "grid_template_rows": null,
      "height": null,
      "justify_content": null,
      "justify_items": null,
      "left": null,
      "margin": null,
      "max_height": null,
      "max_width": null,
      "min_height": null,
      "min_width": null,
      "object_fit": null,
      "object_position": null,
      "order": null,
      "overflow": null,
      "overflow_x": null,
      "overflow_y": null,
      "padding": null,
      "right": null,
      "top": null,
      "visibility": null,
      "width": null
     }
    }
   }
  }
 },
 "nbformat": 4,
 "nbformat_minor": 0
}
