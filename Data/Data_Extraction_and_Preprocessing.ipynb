{
 "cells": [
  {
   "cell_type": "markdown",
   "metadata": {
    "id": "fn6__3np1qOb"
   },
   "source": [
    "***Installations***"
   ]
  },
  {
   "cell_type": "code",
   "execution_count": 1,
   "metadata": {
    "colab": {
     "base_uri": "https://localhost:8080/"
    },
    "executionInfo": {
     "elapsed": 13572,
     "status": "ok",
     "timestamp": 1747568679631,
     "user": {
      "displayName": "Natalia Lavrova",
      "userId": "06691402705171570003"
     },
     "user_tz": -180
    },
    "id": "9INBJGpUswSY",
    "outputId": "bb10459f-5784-4918-81a8-323eacb9241d"
   },
   "outputs": [
    {
     "name": "stdout",
     "output_type": "stream",
     "text": [
      "Requirement already satisfied: safetensors in /usr/local/lib/python3.11/dist-packages (0.5.3)\n"
     ]
    }
   ],
   "source": [
    "!pip install safetensors"
   ]
  },
  {
   "cell_type": "code",
   "execution_count": 2,
   "metadata": {
    "colab": {
     "base_uri": "https://localhost:8080/"
    },
    "executionInfo": {
     "elapsed": 130338,
     "status": "ok",
     "timestamp": 1747568809972,
     "user": {
      "displayName": "Natalia Lavrova",
      "userId": "06691402705171570003"
     },
     "user_tz": -180
    },
    "id": "OqmI04UDX7Ca",
    "outputId": "7a3777dd-9cd9-4c25-b069-39a8994398ef"
   },
   "outputs": [
    {
     "name": "stdout",
     "output_type": "stream",
     "text": [
      "Collecting bitsandbytes\n",
      "  Downloading bitsandbytes-0.45.5-py3-none-manylinux_2_24_x86_64.whl.metadata (5.0 kB)\n",
      "Requirement already satisfied: torch<3,>=2.0 in /usr/local/lib/python3.11/dist-packages (from bitsandbytes) (2.6.0+cu124)\n",
      "Requirement already satisfied: numpy>=1.17 in /usr/local/lib/python3.11/dist-packages (from bitsandbytes) (2.0.2)\n",
      "Requirement already satisfied: filelock in /usr/local/lib/python3.11/dist-packages (from torch<3,>=2.0->bitsandbytes) (3.18.0)\n",
      "Requirement already satisfied: typing-extensions>=4.10.0 in /usr/local/lib/python3.11/dist-packages (from torch<3,>=2.0->bitsandbytes) (4.13.2)\n",
      "Requirement already satisfied: networkx in /usr/local/lib/python3.11/dist-packages (from torch<3,>=2.0->bitsandbytes) (3.4.2)\n",
      "Requirement already satisfied: jinja2 in /usr/local/lib/python3.11/dist-packages (from torch<3,>=2.0->bitsandbytes) (3.1.6)\n",
      "Requirement already satisfied: fsspec in /usr/local/lib/python3.11/dist-packages (from torch<3,>=2.0->bitsandbytes) (2025.3.2)\n",
      "Collecting nvidia-cuda-nvrtc-cu12==12.4.127 (from torch<3,>=2.0->bitsandbytes)\n",
      "  Downloading nvidia_cuda_nvrtc_cu12-12.4.127-py3-none-manylinux2014_x86_64.whl.metadata (1.5 kB)\n",
      "Collecting nvidia-cuda-runtime-cu12==12.4.127 (from torch<3,>=2.0->bitsandbytes)\n",
      "  Downloading nvidia_cuda_runtime_cu12-12.4.127-py3-none-manylinux2014_x86_64.whl.metadata (1.5 kB)\n",
      "Collecting nvidia-cuda-cupti-cu12==12.4.127 (from torch<3,>=2.0->bitsandbytes)\n",
      "  Downloading nvidia_cuda_cupti_cu12-12.4.127-py3-none-manylinux2014_x86_64.whl.metadata (1.6 kB)\n",
      "Collecting nvidia-cudnn-cu12==9.1.0.70 (from torch<3,>=2.0->bitsandbytes)\n",
      "  Downloading nvidia_cudnn_cu12-9.1.0.70-py3-none-manylinux2014_x86_64.whl.metadata (1.6 kB)\n",
      "Collecting nvidia-cublas-cu12==12.4.5.8 (from torch<3,>=2.0->bitsandbytes)\n",
      "  Downloading nvidia_cublas_cu12-12.4.5.8-py3-none-manylinux2014_x86_64.whl.metadata (1.5 kB)\n",
      "Collecting nvidia-cufft-cu12==11.2.1.3 (from torch<3,>=2.0->bitsandbytes)\n",
      "  Downloading nvidia_cufft_cu12-11.2.1.3-py3-none-manylinux2014_x86_64.whl.metadata (1.5 kB)\n",
      "Collecting nvidia-curand-cu12==10.3.5.147 (from torch<3,>=2.0->bitsandbytes)\n",
      "  Downloading nvidia_curand_cu12-10.3.5.147-py3-none-manylinux2014_x86_64.whl.metadata (1.5 kB)\n",
      "Collecting nvidia-cusolver-cu12==11.6.1.9 (from torch<3,>=2.0->bitsandbytes)\n",
      "  Downloading nvidia_cusolver_cu12-11.6.1.9-py3-none-manylinux2014_x86_64.whl.metadata (1.6 kB)\n",
      "Collecting nvidia-cusparse-cu12==12.3.1.170 (from torch<3,>=2.0->bitsandbytes)\n",
      "  Downloading nvidia_cusparse_cu12-12.3.1.170-py3-none-manylinux2014_x86_64.whl.metadata (1.6 kB)\n",
      "Requirement already satisfied: nvidia-cusparselt-cu12==0.6.2 in /usr/local/lib/python3.11/dist-packages (from torch<3,>=2.0->bitsandbytes) (0.6.2)\n",
      "Requirement already satisfied: nvidia-nccl-cu12==2.21.5 in /usr/local/lib/python3.11/dist-packages (from torch<3,>=2.0->bitsandbytes) (2.21.5)\n",
      "Requirement already satisfied: nvidia-nvtx-cu12==12.4.127 in /usr/local/lib/python3.11/dist-packages (from torch<3,>=2.0->bitsandbytes) (12.4.127)\n",
      "Collecting nvidia-nvjitlink-cu12==12.4.127 (from torch<3,>=2.0->bitsandbytes)\n",
      "  Downloading nvidia_nvjitlink_cu12-12.4.127-py3-none-manylinux2014_x86_64.whl.metadata (1.5 kB)\n",
      "Requirement already satisfied: triton==3.2.0 in /usr/local/lib/python3.11/dist-packages (from torch<3,>=2.0->bitsandbytes) (3.2.0)\n",
      "Requirement already satisfied: sympy==1.13.1 in /usr/local/lib/python3.11/dist-packages (from torch<3,>=2.0->bitsandbytes) (1.13.1)\n",
      "Requirement already satisfied: mpmath<1.4,>=1.1.0 in /usr/local/lib/python3.11/dist-packages (from sympy==1.13.1->torch<3,>=2.0->bitsandbytes) (1.3.0)\n",
      "Requirement already satisfied: MarkupSafe>=2.0 in /usr/local/lib/python3.11/dist-packages (from jinja2->torch<3,>=2.0->bitsandbytes) (3.0.2)\n",
      "Downloading bitsandbytes-0.45.5-py3-none-manylinux_2_24_x86_64.whl (76.1 MB)\n",
      "\u001b[2K   \u001b[90m━━━━━━━━━━━━━━━━━━━━━━━━━━━━━━━━━━━━━━━━\u001b[0m \u001b[32m76.1/76.1 MB\u001b[0m \u001b[31m8.4 MB/s\u001b[0m eta \u001b[36m0:00:00\u001b[0m\n",
      "\u001b[?25hDownloading nvidia_cublas_cu12-12.4.5.8-py3-none-manylinux2014_x86_64.whl (363.4 MB)\n",
      "\u001b[2K   \u001b[90m━━━━━━━━━━━━━━━━━━━━━━━━━━━━━━━━━━━━━━━━\u001b[0m \u001b[32m363.4/363.4 MB\u001b[0m \u001b[31m4.1 MB/s\u001b[0m eta \u001b[36m0:00:00\u001b[0m\n",
      "\u001b[?25hDownloading nvidia_cuda_cupti_cu12-12.4.127-py3-none-manylinux2014_x86_64.whl (13.8 MB)\n",
      "\u001b[2K   \u001b[90m━━━━━━━━━━━━━━━━━━━━━━━━━━━━━━━━━━━━━━━━\u001b[0m \u001b[32m13.8/13.8 MB\u001b[0m \u001b[31m58.5 MB/s\u001b[0m eta \u001b[36m0:00:00\u001b[0m\n",
      "\u001b[?25hDownloading nvidia_cuda_nvrtc_cu12-12.4.127-py3-none-manylinux2014_x86_64.whl (24.6 MB)\n",
      "\u001b[2K   \u001b[90m━━━━━━━━━━━━━━━━━━━━━━━━━━━━━━━━━━━━━━━━\u001b[0m \u001b[32m24.6/24.6 MB\u001b[0m \u001b[31m56.9 MB/s\u001b[0m eta \u001b[36m0:00:00\u001b[0m\n",
      "\u001b[?25hDownloading nvidia_cuda_runtime_cu12-12.4.127-py3-none-manylinux2014_x86_64.whl (883 kB)\n",
      "\u001b[2K   \u001b[90m━━━━━━━━━━━━━━━━━━━━━━━━━━━━━━━━━━━━━━━━\u001b[0m \u001b[32m883.7/883.7 kB\u001b[0m \u001b[31m31.1 MB/s\u001b[0m eta \u001b[36m0:00:00\u001b[0m\n",
      "\u001b[?25hDownloading nvidia_cudnn_cu12-9.1.0.70-py3-none-manylinux2014_x86_64.whl (664.8 MB)\n",
      "\u001b[2K   \u001b[90m━━━━━━━━━━━━━━━━━━━━━━━━━━━━━━━━━━━━━━━━\u001b[0m \u001b[32m664.8/664.8 MB\u001b[0m \u001b[31m2.8 MB/s\u001b[0m eta \u001b[36m0:00:00\u001b[0m\n",
      "\u001b[?25hDownloading nvidia_cufft_cu12-11.2.1.3-py3-none-manylinux2014_x86_64.whl (211.5 MB)\n",
      "\u001b[2K   \u001b[90m━━━━━━━━━━━━━━━━━━━━━━━━━━━━━━━━━━━━━━━━\u001b[0m \u001b[32m211.5/211.5 MB\u001b[0m \u001b[31m3.8 MB/s\u001b[0m eta \u001b[36m0:00:00\u001b[0m\n",
      "\u001b[?25hDownloading nvidia_curand_cu12-10.3.5.147-py3-none-manylinux2014_x86_64.whl (56.3 MB)\n",
      "\u001b[2K   \u001b[90m━━━━━━━━━━━━━━━━━━━━━━━━━━━━━━━━━━━━━━━━\u001b[0m \u001b[32m56.3/56.3 MB\u001b[0m \u001b[31m10.2 MB/s\u001b[0m eta \u001b[36m0:00:00\u001b[0m\n",
      "\u001b[?25hDownloading nvidia_cusolver_cu12-11.6.1.9-py3-none-manylinux2014_x86_64.whl (127.9 MB)\n",
      "\u001b[2K   \u001b[90m━━━━━━━━━━━━━━━━━━━━━━━━━━━━━━━━━━━━━━━━\u001b[0m \u001b[32m127.9/127.9 MB\u001b[0m \u001b[31m8.2 MB/s\u001b[0m eta \u001b[36m0:00:00\u001b[0m\n",
      "\u001b[?25hDownloading nvidia_cusparse_cu12-12.3.1.170-py3-none-manylinux2014_x86_64.whl (207.5 MB)\n",
      "\u001b[2K   \u001b[90m━━━━━━━━━━━━━━━━━━━━━━━━━━━━━━━━━━━━━━━━\u001b[0m \u001b[32m207.5/207.5 MB\u001b[0m \u001b[31m5.5 MB/s\u001b[0m eta \u001b[36m0:00:00\u001b[0m\n",
      "\u001b[?25hDownloading nvidia_nvjitlink_cu12-12.4.127-py3-none-manylinux2014_x86_64.whl (21.1 MB)\n",
      "\u001b[2K   \u001b[90m━━━━━━━━━━━━━━━━━━━━━━━━━━━━━━━━━━━━━━━━\u001b[0m \u001b[32m21.1/21.1 MB\u001b[0m \u001b[31m64.3 MB/s\u001b[0m eta \u001b[36m0:00:00\u001b[0m\n",
      "\u001b[?25hInstalling collected packages: nvidia-nvjitlink-cu12, nvidia-curand-cu12, nvidia-cufft-cu12, nvidia-cuda-runtime-cu12, nvidia-cuda-nvrtc-cu12, nvidia-cuda-cupti-cu12, nvidia-cublas-cu12, nvidia-cusparse-cu12, nvidia-cudnn-cu12, nvidia-cusolver-cu12, bitsandbytes\n",
      "  Attempting uninstall: nvidia-nvjitlink-cu12\n",
      "    Found existing installation: nvidia-nvjitlink-cu12 12.5.82\n",
      "    Uninstalling nvidia-nvjitlink-cu12-12.5.82:\n",
      "      Successfully uninstalled nvidia-nvjitlink-cu12-12.5.82\n",
      "  Attempting uninstall: nvidia-curand-cu12\n",
      "    Found existing installation: nvidia-curand-cu12 10.3.6.82\n",
      "    Uninstalling nvidia-curand-cu12-10.3.6.82:\n",
      "      Successfully uninstalled nvidia-curand-cu12-10.3.6.82\n",
      "  Attempting uninstall: nvidia-cufft-cu12\n",
      "    Found existing installation: nvidia-cufft-cu12 11.2.3.61\n",
      "    Uninstalling nvidia-cufft-cu12-11.2.3.61:\n",
      "      Successfully uninstalled nvidia-cufft-cu12-11.2.3.61\n",
      "  Attempting uninstall: nvidia-cuda-runtime-cu12\n",
      "    Found existing installation: nvidia-cuda-runtime-cu12 12.5.82\n",
      "    Uninstalling nvidia-cuda-runtime-cu12-12.5.82:\n",
      "      Successfully uninstalled nvidia-cuda-runtime-cu12-12.5.82\n",
      "  Attempting uninstall: nvidia-cuda-nvrtc-cu12\n",
      "    Found existing installation: nvidia-cuda-nvrtc-cu12 12.5.82\n",
      "    Uninstalling nvidia-cuda-nvrtc-cu12-12.5.82:\n",
      "      Successfully uninstalled nvidia-cuda-nvrtc-cu12-12.5.82\n",
      "  Attempting uninstall: nvidia-cuda-cupti-cu12\n",
      "    Found existing installation: nvidia-cuda-cupti-cu12 12.5.82\n",
      "    Uninstalling nvidia-cuda-cupti-cu12-12.5.82:\n",
      "      Successfully uninstalled nvidia-cuda-cupti-cu12-12.5.82\n",
      "  Attempting uninstall: nvidia-cublas-cu12\n",
      "    Found existing installation: nvidia-cublas-cu12 12.5.3.2\n",
      "    Uninstalling nvidia-cublas-cu12-12.5.3.2:\n",
      "      Successfully uninstalled nvidia-cublas-cu12-12.5.3.2\n",
      "  Attempting uninstall: nvidia-cusparse-cu12\n",
      "    Found existing installation: nvidia-cusparse-cu12 12.5.1.3\n",
      "    Uninstalling nvidia-cusparse-cu12-12.5.1.3:\n",
      "      Successfully uninstalled nvidia-cusparse-cu12-12.5.1.3\n",
      "  Attempting uninstall: nvidia-cudnn-cu12\n",
      "    Found existing installation: nvidia-cudnn-cu12 9.3.0.75\n",
      "    Uninstalling nvidia-cudnn-cu12-9.3.0.75:\n",
      "      Successfully uninstalled nvidia-cudnn-cu12-9.3.0.75\n",
      "  Attempting uninstall: nvidia-cusolver-cu12\n",
      "    Found existing installation: nvidia-cusolver-cu12 11.6.3.83\n",
      "    Uninstalling nvidia-cusolver-cu12-11.6.3.83:\n",
      "      Successfully uninstalled nvidia-cusolver-cu12-11.6.3.83\n",
      "Successfully installed bitsandbytes-0.45.5 nvidia-cublas-cu12-12.4.5.8 nvidia-cuda-cupti-cu12-12.4.127 nvidia-cuda-nvrtc-cu12-12.4.127 nvidia-cuda-runtime-cu12-12.4.127 nvidia-cudnn-cu12-9.1.0.70 nvidia-cufft-cu12-11.2.1.3 nvidia-curand-cu12-10.3.5.147 nvidia-cusolver-cu12-11.6.1.9 nvidia-cusparse-cu12-12.3.1.170 nvidia-nvjitlink-cu12-12.4.127\n",
      "Requirement already satisfied: accelerate in /usr/local/lib/python3.11/dist-packages (1.6.0)\n",
      "Collecting accelerate\n",
      "  Downloading accelerate-1.7.0-py3-none-any.whl.metadata (19 kB)\n",
      "Requirement already satisfied: transformers in /usr/local/lib/python3.11/dist-packages (4.51.3)\n",
      "Requirement already satisfied: peft in /usr/local/lib/python3.11/dist-packages (0.15.2)\n",
      "Requirement already satisfied: datasets in /usr/local/lib/python3.11/dist-packages (2.14.4)\n",
      "Collecting datasets\n",
      "  Downloading datasets-3.6.0-py3-none-any.whl.metadata (19 kB)\n",
      "Requirement already satisfied: numpy<3.0.0,>=1.17 in /usr/local/lib/python3.11/dist-packages (from accelerate) (2.0.2)\n",
      "Requirement already satisfied: packaging>=20.0 in /usr/local/lib/python3.11/dist-packages (from accelerate) (24.2)\n",
      "Requirement already satisfied: psutil in /usr/local/lib/python3.11/dist-packages (from accelerate) (5.9.5)\n",
      "Requirement already satisfied: pyyaml in /usr/local/lib/python3.11/dist-packages (from accelerate) (6.0.2)\n",
      "Requirement already satisfied: torch>=2.0.0 in /usr/local/lib/python3.11/dist-packages (from accelerate) (2.6.0+cu124)\n",
      "Requirement already satisfied: huggingface-hub>=0.21.0 in /usr/local/lib/python3.11/dist-packages (from accelerate) (0.31.2)\n",
      "Requirement already satisfied: safetensors>=0.4.3 in /usr/local/lib/python3.11/dist-packages (from accelerate) (0.5.3)\n",
      "Requirement already satisfied: filelock in /usr/local/lib/python3.11/dist-packages (from transformers) (3.18.0)\n",
      "Requirement already satisfied: regex!=2019.12.17 in /usr/local/lib/python3.11/dist-packages (from transformers) (2024.11.6)\n",
      "Requirement already satisfied: requests in /usr/local/lib/python3.11/dist-packages (from transformers) (2.32.3)\n",
      "Requirement already satisfied: tokenizers<0.22,>=0.21 in /usr/local/lib/python3.11/dist-packages (from transformers) (0.21.1)\n",
      "Requirement already satisfied: tqdm>=4.27 in /usr/local/lib/python3.11/dist-packages (from transformers) (4.67.1)\n",
      "Requirement already satisfied: pyarrow>=15.0.0 in /usr/local/lib/python3.11/dist-packages (from datasets) (18.1.0)\n",
      "Requirement already satisfied: dill<0.3.9,>=0.3.0 in /usr/local/lib/python3.11/dist-packages (from datasets) (0.3.7)\n",
      "Requirement already satisfied: pandas in /usr/local/lib/python3.11/dist-packages (from datasets) (2.2.2)\n",
      "Requirement already satisfied: xxhash in /usr/local/lib/python3.11/dist-packages (from datasets) (3.5.0)\n",
      "Requirement already satisfied: multiprocess<0.70.17 in /usr/local/lib/python3.11/dist-packages (from datasets) (0.70.15)\n",
      "Collecting fsspec<=2025.3.0,>=2023.1.0 (from fsspec[http]<=2025.3.0,>=2023.1.0->datasets)\n",
      "  Downloading fsspec-2025.3.0-py3-none-any.whl.metadata (11 kB)\n",
      "Requirement already satisfied: aiohttp!=4.0.0a0,!=4.0.0a1 in /usr/local/lib/python3.11/dist-packages (from fsspec[http]<=2025.3.0,>=2023.1.0->datasets) (3.11.15)\n",
      "Requirement already satisfied: typing-extensions>=3.7.4.3 in /usr/local/lib/python3.11/dist-packages (from huggingface-hub>=0.21.0->accelerate) (4.13.2)\n",
      "Requirement already satisfied: charset-normalizer<4,>=2 in /usr/local/lib/python3.11/dist-packages (from requests->transformers) (3.4.2)\n",
      "Requirement already satisfied: idna<4,>=2.5 in /usr/local/lib/python3.11/dist-packages (from requests->transformers) (3.10)\n",
      "Requirement already satisfied: urllib3<3,>=1.21.1 in /usr/local/lib/python3.11/dist-packages (from requests->transformers) (2.4.0)\n",
      "Requirement already satisfied: certifi>=2017.4.17 in /usr/local/lib/python3.11/dist-packages (from requests->transformers) (2025.4.26)\n",
      "Requirement already satisfied: networkx in /usr/local/lib/python3.11/dist-packages (from torch>=2.0.0->accelerate) (3.4.2)\n",
      "Requirement already satisfied: jinja2 in /usr/local/lib/python3.11/dist-packages (from torch>=2.0.0->accelerate) (3.1.6)\n",
      "Requirement already satisfied: nvidia-cuda-nvrtc-cu12==12.4.127 in /usr/local/lib/python3.11/dist-packages (from torch>=2.0.0->accelerate) (12.4.127)\n",
      "Requirement already satisfied: nvidia-cuda-runtime-cu12==12.4.127 in /usr/local/lib/python3.11/dist-packages (from torch>=2.0.0->accelerate) (12.4.127)\n",
      "Requirement already satisfied: nvidia-cuda-cupti-cu12==12.4.127 in /usr/local/lib/python3.11/dist-packages (from torch>=2.0.0->accelerate) (12.4.127)\n",
      "Requirement already satisfied: nvidia-cudnn-cu12==9.1.0.70 in /usr/local/lib/python3.11/dist-packages (from torch>=2.0.0->accelerate) (9.1.0.70)\n",
      "Requirement already satisfied: nvidia-cublas-cu12==12.4.5.8 in /usr/local/lib/python3.11/dist-packages (from torch>=2.0.0->accelerate) (12.4.5.8)\n",
      "Requirement already satisfied: nvidia-cufft-cu12==11.2.1.3 in /usr/local/lib/python3.11/dist-packages (from torch>=2.0.0->accelerate) (11.2.1.3)\n",
      "Requirement already satisfied: nvidia-curand-cu12==10.3.5.147 in /usr/local/lib/python3.11/dist-packages (from torch>=2.0.0->accelerate) (10.3.5.147)\n",
      "Requirement already satisfied: nvidia-cusolver-cu12==11.6.1.9 in /usr/local/lib/python3.11/dist-packages (from torch>=2.0.0->accelerate) (11.6.1.9)\n",
      "Requirement already satisfied: nvidia-cusparse-cu12==12.3.1.170 in /usr/local/lib/python3.11/dist-packages (from torch>=2.0.0->accelerate) (12.3.1.170)\n",
      "Requirement already satisfied: nvidia-cusparselt-cu12==0.6.2 in /usr/local/lib/python3.11/dist-packages (from torch>=2.0.0->accelerate) (0.6.2)\n",
      "Requirement already satisfied: nvidia-nccl-cu12==2.21.5 in /usr/local/lib/python3.11/dist-packages (from torch>=2.0.0->accelerate) (2.21.5)\n",
      "Requirement already satisfied: nvidia-nvtx-cu12==12.4.127 in /usr/local/lib/python3.11/dist-packages (from torch>=2.0.0->accelerate) (12.4.127)\n",
      "Requirement already satisfied: nvidia-nvjitlink-cu12==12.4.127 in /usr/local/lib/python3.11/dist-packages (from torch>=2.0.0->accelerate) (12.4.127)\n",
      "Requirement already satisfied: triton==3.2.0 in /usr/local/lib/python3.11/dist-packages (from torch>=2.0.0->accelerate) (3.2.0)\n",
      "Requirement already satisfied: sympy==1.13.1 in /usr/local/lib/python3.11/dist-packages (from torch>=2.0.0->accelerate) (1.13.1)\n",
      "Requirement already satisfied: mpmath<1.4,>=1.1.0 in /usr/local/lib/python3.11/dist-packages (from sympy==1.13.1->torch>=2.0.0->accelerate) (1.3.0)\n",
      "Requirement already satisfied: python-dateutil>=2.8.2 in /usr/local/lib/python3.11/dist-packages (from pandas->datasets) (2.9.0.post0)\n",
      "Requirement already satisfied: pytz>=2020.1 in /usr/local/lib/python3.11/dist-packages (from pandas->datasets) (2025.2)\n",
      "Requirement already satisfied: tzdata>=2022.7 in /usr/local/lib/python3.11/dist-packages (from pandas->datasets) (2025.2)\n",
      "Requirement already satisfied: aiohappyeyeballs>=2.3.0 in /usr/local/lib/python3.11/dist-packages (from aiohttp!=4.0.0a0,!=4.0.0a1->fsspec[http]<=2025.3.0,>=2023.1.0->datasets) (2.6.1)\n",
      "Requirement already satisfied: aiosignal>=1.1.2 in /usr/local/lib/python3.11/dist-packages (from aiohttp!=4.0.0a0,!=4.0.0a1->fsspec[http]<=2025.3.0,>=2023.1.0->datasets) (1.3.2)\n",
      "Requirement already satisfied: attrs>=17.3.0 in /usr/local/lib/python3.11/dist-packages (from aiohttp!=4.0.0a0,!=4.0.0a1->fsspec[http]<=2025.3.0,>=2023.1.0->datasets) (25.3.0)\n",
      "Requirement already satisfied: frozenlist>=1.1.1 in /usr/local/lib/python3.11/dist-packages (from aiohttp!=4.0.0a0,!=4.0.0a1->fsspec[http]<=2025.3.0,>=2023.1.0->datasets) (1.6.0)\n",
      "Requirement already satisfied: multidict<7.0,>=4.5 in /usr/local/lib/python3.11/dist-packages (from aiohttp!=4.0.0a0,!=4.0.0a1->fsspec[http]<=2025.3.0,>=2023.1.0->datasets) (6.4.3)\n",
      "Requirement already satisfied: propcache>=0.2.0 in /usr/local/lib/python3.11/dist-packages (from aiohttp!=4.0.0a0,!=4.0.0a1->fsspec[http]<=2025.3.0,>=2023.1.0->datasets) (0.3.1)\n",
      "Requirement already satisfied: yarl<2.0,>=1.17.0 in /usr/local/lib/python3.11/dist-packages (from aiohttp!=4.0.0a0,!=4.0.0a1->fsspec[http]<=2025.3.0,>=2023.1.0->datasets) (1.20.0)\n",
      "Requirement already satisfied: six>=1.5 in /usr/local/lib/python3.11/dist-packages (from python-dateutil>=2.8.2->pandas->datasets) (1.17.0)\n",
      "Requirement already satisfied: MarkupSafe>=2.0 in /usr/local/lib/python3.11/dist-packages (from jinja2->torch>=2.0.0->accelerate) (3.0.2)\n",
      "Downloading accelerate-1.7.0-py3-none-any.whl (362 kB)\n",
      "\u001b[2K   \u001b[90m━━━━━━━━━━━━━━━━━━━━━━━━━━━━━━━━━━━━━━━━\u001b[0m \u001b[32m362.1/362.1 kB\u001b[0m \u001b[31m12.8 MB/s\u001b[0m eta \u001b[36m0:00:00\u001b[0m\n",
      "\u001b[?25hDownloading datasets-3.6.0-py3-none-any.whl (491 kB)\n",
      "\u001b[2K   \u001b[90m━━━━━━━━━━━━━━━━━━━━━━━━━━━━━━━━━━━━━━━━\u001b[0m \u001b[32m491.5/491.5 kB\u001b[0m \u001b[31m24.2 MB/s\u001b[0m eta \u001b[36m0:00:00\u001b[0m\n",
      "\u001b[?25hDownloading fsspec-2025.3.0-py3-none-any.whl (193 kB)\n",
      "\u001b[2K   \u001b[90m━━━━━━━━━━━━━━━━━━━━━━━━━━━━━━━━━━━━━━━━\u001b[0m \u001b[32m193.6/193.6 kB\u001b[0m \u001b[31m14.9 MB/s\u001b[0m eta \u001b[36m0:00:00\u001b[0m\n",
      "\u001b[?25hInstalling collected packages: fsspec, datasets, accelerate\n",
      "  Attempting uninstall: fsspec\n",
      "    Found existing installation: fsspec 2025.3.2\n",
      "    Uninstalling fsspec-2025.3.2:\n",
      "      Successfully uninstalled fsspec-2025.3.2\n",
      "  Attempting uninstall: datasets\n",
      "    Found existing installation: datasets 2.14.4\n",
      "    Uninstalling datasets-2.14.4:\n",
      "      Successfully uninstalled datasets-2.14.4\n",
      "  Attempting uninstall: accelerate\n",
      "    Found existing installation: accelerate 1.6.0\n",
      "    Uninstalling accelerate-1.6.0:\n",
      "      Successfully uninstalled accelerate-1.6.0\n",
      "\u001b[31mERROR: pip's dependency resolver does not currently take into account all the packages that are installed. This behaviour is the source of the following dependency conflicts.\n",
      "gcsfs 2025.3.2 requires fsspec==2025.3.2, but you have fsspec 2025.3.0 which is incompatible.\u001b[0m\u001b[31m\n",
      "\u001b[0mSuccessfully installed accelerate-1.7.0 datasets-3.6.0 fsspec-2025.3.0\n"
     ]
    }
   ],
   "source": [
    "!pip install -U bitsandbytes\n",
    "!pip install -U accelerate transformers peft datasets"
   ]
  },
  {
   "cell_type": "code",
   "execution_count": null,
   "metadata": {
    "colab": {
     "background_save": true,
     "base_uri": "https://localhost:8080/"
    },
    "id": "X2KOX3CaTWuf"
   },
   "outputs": [
    {
     "name": "stdout",
     "output_type": "stream",
     "text": [
      "rm: cannot remove '/content/drive/Shareddrives/Master_Thesis': Operation not supported\n",
      "rm: cannot remove '/content/drive/.file-revisions-by-id': Operation canceled\n",
      "rm: cannot remove '/content/drive/MyDrive': Operation canceled\n",
      "rm: cannot remove '/content/drive/.shortcut-targets-by-id': Operation canceled\n",
      "rm: cannot remove '/content/drive/.Trash-0': Directory not empty\n"
     ]
    }
   ],
   "source": [
    "!rm -rf /content/drive"
   ]
  },
  {
   "cell_type": "code",
   "execution_count": null,
   "metadata": {
    "colab": {
     "background_save": true
    },
    "id": "O5Ynra0B1kGa"
   },
   "outputs": [
    {
     "name": "stdout",
     "output_type": "stream",
     "text": [
      "Collecting en-core-web-sm==3.8.0\n",
      "  Downloading https://github.com/explosion/spacy-models/releases/download/en_core_web_sm-3.8.0/en_core_web_sm-3.8.0-py3-none-any.whl (12.8 MB)\n",
      "\u001b[2K     \u001b[90m━━━━━━━━━━━━━━━━━━━━━━━━━━━━━━━━━━━━━━━━\u001b[0m \u001b[32m12.8/12.8 MB\u001b[0m \u001b[31m31.9 MB/s\u001b[0m eta \u001b[36m0:00:00\u001b[0m\n",
      "\u001b[?25h\u001b[38;5;2m✔ Download and installation successful\u001b[0m\n",
      "You can now load the package via spacy.load('en_core_web_sm')\n",
      "\u001b[38;5;3m⚠ Restart to reload dependencies\u001b[0m\n",
      "If you are in a Jupyter or Colab notebook, you may need to restart Python in\n",
      "order to load all the package's dependencies. You can do this by selecting the\n",
      "'Restart kernel' or 'Restart runtime' option.\n"
     ]
    }
   ],
   "source": [
    "!pip install -q pylatexenc tqdm spacy\n",
    "!python -m spacy download en_core_web_sm"
   ]
  },
  {
   "cell_type": "markdown",
   "metadata": {
    "id": "PMtD9Wbe1wPf"
   },
   "source": [
    "***Libraries***"
   ]
  },
  {
   "cell_type": "code",
   "execution_count": 5,
   "metadata": {
    "executionInfo": {
     "elapsed": 15820,
     "status": "ok",
     "timestamp": 1747568860358,
     "user": {
      "displayName": "Natalia Lavrova",
      "userId": "06691402705171570003"
     },
     "user_tz": -180
    },
    "id": "OoceSEs_1zV0"
   },
   "outputs": [],
   "source": [
    "import os, tarfile, gzip, re, json, glob, pathlib, warnings\n",
    "from tqdm import tqdm\n",
    "from pylatexenc.latex2text import LatexNodes2Text\n",
    "import spacy\n",
    "import matplotlib.pyplot as plt\n",
    "from sklearn.cluster import KMeans\n",
    "from sklearn.decomposition import PCA\n",
    "from spacy.language import Language\n",
    "import pandas as pd, json, pathlib\n",
    "import numpy as np\n",
    "from datasets import Dataset\n",
    "from sklearn.metrics import silhouette_score, normalized_mutual_info_score, adjusted_rand_score"
   ]
  },
  {
   "cell_type": "code",
   "execution_count": 6,
   "metadata": {
    "executionInfo": {
     "elapsed": 37769,
     "status": "ok",
     "timestamp": 1747568898340,
     "user": {
      "displayName": "Natalia Lavrova",
      "userId": "06691402705171570003"
     },
     "user_tz": -180
    },
    "id": "NvoDwyt0Zzwl"
   },
   "outputs": [],
   "source": [
    "from transformers import AutoModel, AutoTokenizer, BitsAndBytesConfig\n",
    "from torch.utils.data import DataLoader\n",
    "import torch.nn.functional as F\n",
    "import torch\n",
    "from peft import LoraConfig, get_peft_model\n",
    "from transformers import AutoModel, BitsAndBytesConfig, TrainingArguments, Trainer"
   ]
  },
  {
   "cell_type": "code",
   "execution_count": 7,
   "metadata": {
    "executionInfo": {
     "elapsed": 3,
     "status": "ok",
     "timestamp": 1747568898358,
     "user": {
      "displayName": "Natalia Lavrova",
      "userId": "06691402705171570003"
     },
     "user_tz": -180
    },
    "id": "NLnrlrHHHscu"
   },
   "outputs": [],
   "source": [
    "from huggingface_hub import login"
   ]
  },
  {
   "cell_type": "markdown",
   "metadata": {
    "id": "cTbkkwev13ET"
   },
   "source": [
    "***Folders' connections***"
   ]
  },
  {
   "cell_type": "code",
   "execution_count": 8,
   "metadata": {
    "colab": {
     "base_uri": "https://localhost:8080/"
    },
    "executionInfo": {
     "elapsed": 22193,
     "status": "ok",
     "timestamp": 1747568932600,
     "user": {
      "displayName": "Natalia Lavrova",
      "userId": "06691402705171570003"
     },
     "user_tz": -180
    },
    "id": "eHrPWTGvSrMr",
    "outputId": "06f39d32-e69e-49e6-c3d9-c86f9de0f7d4"
   },
   "outputs": [
    {
     "name": "stdout",
     "output_type": "stream",
     "text": [
      "Mounted at /content/drive\n"
     ]
    }
   ],
   "source": [
    "from google.colab import drive\n",
    "drive.mount('/content/drive')"
   ]
  },
  {
   "cell_type": "code",
   "execution_count": 9,
   "metadata": {
    "executionInfo": {
     "elapsed": 42,
     "status": "ok",
     "timestamp": 1747568937732,
     "user": {
      "displayName": "Natalia Lavrova",
      "userId": "06691402705171570003"
     },
     "user_tz": -180
    },
    "id": "5K_6YrbUTqNk"
   },
   "outputs": [],
   "source": [
    "SRC_DIR = \"/content/drive/MyDrive/MSThesis/arxiv_papers/02\""
   ]
  },
  {
   "cell_type": "code",
   "execution_count": 10,
   "metadata": {
    "executionInfo": {
     "elapsed": 704,
     "status": "ok",
     "timestamp": 1747568941264,
     "user": {
      "displayName": "Natalia Lavrova",
      "userId": "06691402705171570003"
     },
     "user_tz": -180
    },
    "id": "VwPUwDeu18Io"
   },
   "outputs": [],
   "source": [
    "OUT_DIR = \"/content/drive/MyDrive/MSThesis/Output\"\n",
    "os.makedirs(OUT_DIR, exist_ok=True)\n",
    "OUT_FILE = os.path.join(OUT_DIR, \"extracted_math.jsonl\")\n",
    "warnings.filterwarnings(\"ignore\", module=\"spacy\")"
   ]
  },
  {
   "cell_type": "markdown",
   "metadata": {
    "id": "Vzm467fY2ALY"
   },
   "source": [
    "***Upload model with tokenization***"
   ]
  },
  {
   "cell_type": "code",
   "execution_count": 11,
   "metadata": {
    "colab": {
     "base_uri": "https://localhost:8080/"
    },
    "executionInfo": {
     "elapsed": 993,
     "status": "ok",
     "timestamp": 1747568946370,
     "user": {
      "displayName": "Natalia Lavrova",
      "userId": "06691402705171570003"
     },
     "user_tz": -180
    },
    "id": "BgGydMNf2Feb",
    "outputId": "19ae2f89-56bc-4168-9745-3200bab1458f"
   },
   "outputs": [
    {
     "data": {
      "text/plain": [
       "<spacy.pipeline.sentencizer.Sentencizer at 0x7e560ace9510>"
      ]
     },
     "execution_count": 11,
     "metadata": {},
     "output_type": "execute_result"
    }
   ],
   "source": [
    "# ── загружаем модель ТОЛЬКО с токенизатором\n",
    "nlp = spacy.load(\"en_core_web_sm\",\n",
    "                 disable=[\"parser\",\"tagger\",\"morphologizer\",\n",
    "                          \"lemmatizer\",\"attribute_ruler\",\"ner\"])\n",
    "nlp.add_pipe(\"sentencizer\")"
   ]
  },
  {
   "cell_type": "markdown",
   "metadata": {
    "id": "paPTE-t82J1X"
   },
   "source": [
    "***Detextor***"
   ]
  },
  {
   "cell_type": "code",
   "execution_count": 12,
   "metadata": {
    "colab": {
     "base_uri": "https://localhost:8080/",
     "height": 103
    },
    "executionInfo": {
     "elapsed": 21,
     "status": "ok",
     "timestamp": 1747568950016,
     "user": {
      "displayName": "Natalia Lavrova",
      "userId": "06691402705171570003"
     },
     "user_tz": -180
    },
    "id": "3OK92RWI2MYv",
    "outputId": "a5973852-1157-46cd-bd1e-61f8a851c4a6"
   },
   "outputs": [
    {
     "data": {
      "text/html": [
       "<div style=\"max-width:800px; border: 1px solid var(--colab-border-color);\"><style>\n",
       "      pre.function-repr-contents {\n",
       "        overflow-x: auto;\n",
       "        padding: 8px 12px;\n",
       "        max-height: 500px;\n",
       "      }\n",
       "\n",
       "      pre.function-repr-contents.function-repr-contents-collapsed {\n",
       "        cursor: pointer;\n",
       "        max-height: 100px;\n",
       "      }\n",
       "    </style>\n",
       "    <pre style=\"white-space: initial; background:\n",
       "         var(--colab-secondary-surface-color); padding: 8px 12px;\n",
       "         border-bottom: 1px solid var(--colab-border-color);\"><b>detextor</b><br/>def detextor(doc)</pre><pre class=\"function-repr-contents function-repr-contents-collapsed\" style=\"\"><a class=\"filepath\" style=\"display:none\" href=\"#\">/content/&lt;ipython-input-12-8674267590f4&gt;</a>&lt;no docstring&gt;</pre></div>"
      ],
      "text/plain": [
       "<function __main__.detextor(doc)>"
      ]
     },
     "execution_count": 12,
     "metadata": {},
     "output_type": "execute_result"
    }
   ],
   "source": [
    "@Language.component(\"detextor\")\n",
    "def detextor(doc):\n",
    "    inside = False\n",
    "    for tok in doc:\n",
    "        if tok.text == \"$\":\n",
    "            inside = not inside\n",
    "            tok.is_sent_start = False\n",
    "        elif inside:\n",
    "            tok.is_sent_start = False\n",
    "    return doc\n",
    "\n",
    "nlp.add_pipe(\"detextor\", last=True)"
   ]
  },
  {
   "cell_type": "markdown",
   "metadata": {
    "id": "i42_WVsT2TkL"
   },
   "source": [
    "***REGEX***"
   ]
  },
  {
   "cell_type": "code",
   "execution_count": 13,
   "metadata": {
    "executionInfo": {
     "elapsed": 3,
     "status": "ok",
     "timestamp": 1747568953035,
     "user": {
      "displayName": "Natalia Lavrova",
      "userId": "06691402705171570003"
     },
     "user_tz": -180
    },
    "id": "aCVQpzvz2XtY"
   },
   "outputs": [],
   "source": [
    "HREF_RE        = re.compile(r'\\\\href\\{[^}]*\\}(?:\\{[^}]*\\})?')\n",
    "LATEX_FMT_CMDS = re.compile(\n",
    "    r'\\\\(?:textbf|textit|emph|bfseries|itshape|rmfamily|ttfamily|section\\*?|'\n",
    "    r'subsection\\*?|chapter\\*?|paragraph\\*?)\\s*\\{[^}]*\\}')\n",
    "MATH_ENVS      = (    'equation','equation*','align','align*','gather','gather*',\n",
    "    'multline','multline*','eqnarray','eqnarray*',\n",
    "    'lemma','theorem','proof',\n",
    "    'proposition','proposition*','definition','definition*',  # ← NEW\n",
    ")\n",
    "ENV_RE = re.compile(\n",
    "    r'\\\\begin\\{(' + '|'.join(MATH_ENVS) + r')\\}(.+?)\\\\end\\{\\1\\}',\n",
    "    re.S\n",
    ")\n",
    "INLINE_MATH_RE = re.compile(r'(?<!\\$)\\$(.+?)(?<!\\$)\\$', re.S)\n",
    "AUTHOR_RE      = re.compile(r'\\\\author\\{(.+?)\\}', re.S)\n",
    "LINK_RE        = re.compile(r'\\[\\[([^]|]+)(?:\\|([^]]+))?]]')"
   ]
  },
  {
   "cell_type": "markdown",
   "metadata": {
    "id": "a4VF1sVP2fpl"
   },
   "source": [
    "***Functions for cleaning***"
   ]
  },
  {
   "cell_type": "code",
   "execution_count": 15,
   "metadata": {
    "executionInfo": {
     "elapsed": 9,
     "status": "ok",
     "timestamp": 1747569045061,
     "user": {
      "displayName": "Natalia Lavrova",
      "userId": "06691402705171570003"
     },
     "user_tz": -180
    },
    "id": "_VB7NDWe2jr0"
   },
   "outputs": [],
   "source": [
    "def _fix_href(m):                       # \\href{url}{text} → text | ''\n",
    "    parts = m.group(0).split('}', 2)\n",
    "    return parts[-1] if len(parts) == 3 else ''\n",
    "\n",
    "def canonical_math(t):                  # $$, \\[, \\(  →  $\n",
    "    return (t.replace('$$','$')\n",
    "              .replace(r'\\[','$').replace(r'\\]','$')\n",
    "              .replace(r'\\(','$').replace(r'\\)','$'))\n",
    "\n",
    "def clean_latex(raw):\n",
    "    raw = re.sub(r'%.*', '', raw)\n",
    "    raw = canonical_math(raw)\n",
    "    raw = re.sub(r'\\$([^\\$]+?)\\$(?=[,.;:?!])', r'$\\1$ ', raw)\n",
    "    raw = raw.replace('!', 'clik')\n",
    "    raw = re.sub(r'(?<=\\w)-(?=\\w)', ' - ', raw)\n",
    "    raw = LINK_RE.sub(lambda m: m.group(2) or m.group(1), raw)\n",
    "    raw = LATEX_FMT_CMDS.sub('', raw)\n",
    "    return re.sub(r'\\s+', ' ', raw).strip()"
   ]
  },
  {
   "cell_type": "markdown",
   "metadata": {
    "id": "pM4Sq1GG2nm3"
   },
   "source": [
    "***Function for text parsing***"
   ]
  },
  {
   "cell_type": "code",
   "execution_count": 16,
   "metadata": {
    "executionInfo": {
     "elapsed": 6,
     "status": "ok",
     "timestamp": 1747569046528,
     "user": {
      "displayName": "Natalia Lavrova",
      "userId": "06691402705171570003"
     },
     "user_tz": -180
    },
    "id": "mKhwwWJt2t3V"
   },
   "outputs": [],
   "source": [
    "import re\n",
    "from pylatexenc.latex2text import LatexNodes2Text\n",
    "\n",
    "# Regular expressions\n",
    "HREF_RE = re.compile(r'\\\\href\\{[^}]*\\}(?:\\{[^}]*\\})?')\n",
    "LATEX_FMT_CMDS = re.compile(\n",
    "    r'\\\\(?:textbf|textit|emph|bfseries|itshape|rmfamily|ttfamily|section\\*?|'\n",
    "    r'subsection\\*?|chapter\\*?|paragraph\\*?)\\s*\\{[^}]*\\}'\n",
    ")\n",
    "INLINE_MATH_RE = re.compile(r'(?<!\\$)\\$(.+?)(?<!\\$)\\$', re.S)\n",
    "AUTHOR_RE = re.compile(r'\\\\author\\{(.+?)\\}', re.S)\n",
    "LINK_RE = re.compile(r'\\[\\[([^]|]+)(?:\\|([^]]+))?]]')\n",
    "\n",
    "# Environment variants\n",
    "ENV_VARIANTS = {\n",
    "    'theorems':     ['theorem', 'thm', 'Thm', 'Theorem'],\n",
    "    'lemmas':       ['lemma', 'lem', 'Lemma'],\n",
    "    'corollaries':  ['corollary', 'cor', 'Cor', 'Corollary'],\n",
    "    'definitions':  ['definition', 'def', 'Def', 'defn', 'Defn', 'Definition'],\n",
    "    'proofs':       ['proof', 'Proof', 'pf', 'Pf'],\n",
    "}\n",
    "\n",
    "# Build regex for environment blocks\n",
    "all_envs = [env for variants in ENV_VARIANTS.values() for env in variants]\n",
    "all_envs += ['equation', 'equation*', 'align', 'align*', 'gather', 'gather*',\n",
    "             'multline', 'multline*', 'eqnarray', 'eqnarray*']  # math envs\n",
    "\n",
    "ENV_RE = re.compile(\n",
    "    r'\\\\begin\\{(' + '|'.join(map(re.escape, all_envs)) + r')\\}(.+?)\\\\end\\{\\1\\}',\n",
    "    re.S\n",
    ")"
   ]
  },
  {
   "cell_type": "code",
   "execution_count": 17,
   "metadata": {
    "executionInfo": {
     "elapsed": 19,
     "status": "ok",
     "timestamp": 1747569047549,
     "user": {
      "displayName": "Natalia Lavrova",
      "userId": "06691402705171570003"
     },
     "user_tz": -180
    },
    "id": "5MRxLb5ymrV-"
   },
   "outputs": [],
   "source": [
    "# Href fix\n",
    "def _fix_href(m):\n",
    "    parts = m.group(0).split('}', 2)\n",
    "    return parts[-1] if len(parts) == 3 else ''\n",
    "\n",
    "# Latex cleaner\n",
    "def canonical_math(t):\n",
    "    return (t.replace('$$', '$')\n",
    "              .replace(r'\\[', '$').replace(r'\\]', '$')\n",
    "              .replace(r'\\(', '$').replace(r'\\)', '$'))\n",
    "\n",
    "def clean_latex(raw):\n",
    "    raw = re.sub(r'%.*', '', raw)\n",
    "    raw = canonical_math(raw)\n",
    "    raw = re.sub(r'\\$([^\\$]+?)\\$(?=[,.;:?!])', r'$\\1$ ', raw)\n",
    "    raw = raw.replace('!', 'clik')\n",
    "    raw = re.sub(r'(?<=\\w)-(?=\\w)', ' - ', raw)\n",
    "    raw = LINK_RE.sub(lambda m: m.group(2) or m.group(1), raw)\n",
    "    raw = LATEX_FMT_CMDS.sub('', raw)\n",
    "    return re.sub(r'\\s+', ' ', raw).strip()"
   ]
  },
  {
   "cell_type": "markdown",
   "metadata": {
    "id": "VqaH2gKG2yZ0"
   },
   "source": [
    "***Arxive reading***"
   ]
  },
  {
   "cell_type": "code",
   "execution_count": 18,
   "metadata": {
    "executionInfo": {
     "elapsed": 4,
     "status": "ok",
     "timestamp": 1747569049444,
     "user": {
      "displayName": "Natalia Lavrova",
      "userId": "06691402705171570003"
     },
     "user_tz": -180
    },
    "id": "9GDR0ofViFEz"
   },
   "outputs": [],
   "source": [
    "def parse_tex(tex: str) -> dict:\n",
    "    \"\"\"Return a dict with authors, sentences, and every math environment.\"\"\"\n",
    "    tex = HREF_RE.sub(_fix_href, tex)\n",
    "\n",
    "    # ── authors ───────────────────────────────────────────────────────────\n",
    "    m      = AUTHOR_RE.search(tex)\n",
    "    authors = (\n",
    "        LatexNodes2Text().latex_to_text(m.group(1)).strip()\n",
    "        if m else \"N/A\"\n",
    "    )\n",
    "\n",
    "    # ── containers ────────────────────────────────────────────────────────\n",
    "    out = {k: [] for k in ENV_VARIANTS}\n",
    "    out['equations']  = []          # display & inline\n",
    "    out['sentences']  = []          # NLP sentences\n",
    "    out['authors']    = authors\n",
    "\n",
    "    # ── block environments ────────────────────────────────────────────────\n",
    "    for m in ENV_RE.finditer(tex):\n",
    "        name, body = m.group(1), m.group(2).strip()\n",
    "        placed = False\n",
    "        for kind, variants in ENV_VARIANTS.items():\n",
    "            if name in variants:\n",
    "                out[kind].append(body)\n",
    "                placed = True\n",
    "                break\n",
    "        if not placed:\n",
    "            out['equations'].append(body)\n",
    "\n",
    "    # ── inline math ───────────────────────────────────────────────────────\n",
    "    out['equations'].extend(m.group(0) for m in INLINE_MATH_RE.finditer(tex))\n",
    "\n",
    "    # ── sentences (after LaTeX clean-up) ──────────────────────────────────\n",
    "    cleaned = clean_latex(tex)\n",
    "    out['sentences'] = [s.text.strip() for s in nlp(cleaned).sents]\n",
    "\n",
    "    return out\n"
   ]
  },
  {
   "cell_type": "code",
   "execution_count": 19,
   "metadata": {
    "executionInfo": {
     "elapsed": 2,
     "status": "ok",
     "timestamp": 1747569050460,
     "user": {
      "displayName": "Natalia Lavrova",
      "userId": "06691402705171570003"
     },
     "user_tz": -180
    },
    "id": "HL0TmA8I67yy"
   },
   "outputs": [],
   "source": [
    "import os, tarfile, gzip, pathlib, logging, codecs\n",
    "\n",
    "logging.basicConfig(level=logging.INFO,\n",
    "                    format='[%(levelname)s] %(message)s')\n",
    "\n",
    "TEX_EXTS = ('.tex', '.ltx', '.texx')           # recognise more names\n",
    "\n",
    "\n",
    "def _decode(binary: bytes, name: str) -> str | None:\n",
    "    \"\"\"Try UTF-8 first, fall back to latin-1.  Return None if both fail.\"\"\"\n",
    "    for enc in ('utf-8', 'latin-1'):\n",
    "        try:\n",
    "            return binary.decode(enc)\n",
    "        except UnicodeDecodeError:\n",
    "            continue\n",
    "    logging.warning(\"    ✘ cannot decode %s with utf-8 or latin-1\", name)\n",
    "    return None\n",
    "\n",
    "\n",
    "def _pick_root_tex(members, tar):\n",
    "    \"\"\"Return (source_str, member_name) or (None, None).\"\"\"\n",
    "    for m in members:                                              # 1️⃣ plain .tex\n",
    "        if not m.isfile():\n",
    "            continue\n",
    "        if m.name.lower().endswith(TEX_EXTS):\n",
    "            src = _decode(tar.extractfile(m).read(), m.name)\n",
    "            if src and '\\\\documentclass' in src[:6000]:\n",
    "                return src, m.name\n",
    "\n",
    "    # 2️⃣  look for   something.tex.gz   inside the tar\n",
    "    for m in members:\n",
    "        if m.isfile() and m.name.lower().endswith('.tex.gz'):\n",
    "            try:\n",
    "                inner = gzip.decompress(tar.extractfile(m).read())\n",
    "                src   = _decode(inner, m.name)\n",
    "                if src:\n",
    "                    return src, m.name\n",
    "            except Exception:\n",
    "                pass\n",
    "\n",
    "    # 3️⃣  first decodable text file with tex-like ext\n",
    "    for m in sorted(members, key=lambda x: x.name):\n",
    "        if m.isfile() and any(m.name.lower().endswith(ext) for ext in TEX_EXTS):\n",
    "            src = _decode(tar.extractfile(m).read(), m.name)\n",
    "            if src:\n",
    "                return src, m.name\n",
    "    return None, None"
   ]
  },
  {
   "cell_type": "code",
   "execution_count": 20,
   "metadata": {
    "executionInfo": {
     "elapsed": 16,
     "status": "ok",
     "timestamp": 1747569051762,
     "user": {
      "displayName": "Natalia Lavrova",
      "userId": "06691402705171570003"
     },
     "user_tz": -180
    },
    "id": "3RJ0Fv8GiPoT"
   },
   "outputs": [],
   "source": [
    "def extract_from_gz(path: str) -> list[dict]:\n",
    "    paper_id = pathlib.Path(path).name\n",
    "    result   = {         # initialise\n",
    "        \"filename\": paper_id, \"tex_file\": None, \"status\": \"ok\",\n",
    "        \"authors\": \"N/A\", \"propositions\": [], \"definitions\": [],\n",
    "        \"lemmas\": [], \"theorems\": [], \"proofs\": [], \"equations\": [],\n",
    "        \"sentences\": [], \"num_propositions\": 0, \"num_definitions\": 0,\n",
    "        \"num_lemmas\": 0, \"num_theorems\": 0,\n",
    "    }\n",
    "\n",
    "    try:\n",
    "        # ── read archive or single gzip ──────────────────────────────────\n",
    "        if tarfile.is_tarfile(path):\n",
    "            with tarfile.open(path, \"r:*\") as tar:                 # auto-detect\n",
    "                tex_members = [m for m in tar.getmembers() if m.isfile()]\n",
    "                source, root_name = _pick_root_tex(tex_members, tar)\n",
    "        else:                                                      # *.gz only\n",
    "            with gzip.open(path, \"rb\") as g:\n",
    "                source = _decode(g.read(), paper_id)\n",
    "            root_name = pathlib.Path(path).stem + \".tex\"\n",
    "\n",
    "        if source is None:\n",
    "            raise ValueError(\"no decodable LaTeX source\")\n",
    "\n",
    "        # ── parse and fill ───────────────────────────────────────────────\n",
    "        parsed = parse_tex(source)\n",
    "        result.update({\n",
    "            \"tex_file\"        : root_name,\n",
    "            \"authors\"         : parsed[\"authors\"],\n",
    "            \"lemmas\"          : parsed[\"lemmas\"],\n",
    "            \"theorems\"        : parsed[\"theorems\"],\n",
    "            \"proofs\"          : parsed[\"proofs\"],\n",
    "            \"propositions\"    : parsed[\"propositions\"],\n",
    "            \"definitions\"     : parsed[\"definitions\"],\n",
    "            \"equations\"       : parsed[\"equations\"],\n",
    "            \"sentences\"       : parsed[\"sentences\"],\n",
    "            \"num_lemmas\"      : len(parsed[\"lemmas\"]),\n",
    "            \"num_theorems\"    : len(parsed[\"theorems\"]),\n",
    "            \"num_propositions\": len(parsed[\"propositions\"]),\n",
    "            \"num_definitions\" : len(parsed[\"definitions\"]),\n",
    "        })\n",
    "\n",
    "    except Exception as exc:\n",
    "        logging.info(\"⚠️  %s — %s\", paper_id, exc)\n",
    "        result[\"status\"] = f\"error: {exc}\"\n",
    "\n",
    "    return [result]                    # always exactly one record"
   ]
  },
  {
   "cell_type": "code",
   "execution_count": 21,
   "metadata": {
    "colab": {
     "base_uri": "https://localhost:8080/"
    },
    "executionInfo": {
     "elapsed": 568322,
     "status": "ok",
     "timestamp": 1747569654245,
     "user": {
      "displayName": "Natalia Lavrova",
      "userId": "06691402705171570003"
     },
     "user_tz": -180
    },
    "id": "G4YEXu2I669P",
    "outputId": "6f5102ce-52c4-4143-972a-96a93f2b5454"
   },
   "outputs": [
    {
     "name": "stdout",
     "output_type": "stream",
     "text": [
      "Found 100 archives — extracting …\n"
     ]
    },
    {
     "name": "stderr",
     "output_type": "stream",
     "text": [
      "100%|██████████| 100/100 [08:55<00:00,  5.35s/it]\n"
     ]
    },
    {
     "name": "stdout",
     "output_type": "stream",
     "text": [
      "✓ Saved 100 records → /content/drive/MyDrive/MSThesis/Output/extracted_math.jsonl\n"
     ]
    }
   ],
   "source": [
    "SRC_DIR  = \"/content/drive/MyDrive/MSThesis/arxiv_papers/02\"\n",
    "OUT_FILE = \"/content/drive/MyDrive/MSThesis/Output/extracted_math.jsonl\"\n",
    "\n",
    "# ── 1) match only files that live *directly* in SRC_DIR and\n",
    "#       whose names follow the arXiv pattern ####.#####.gz\n",
    "pattern   = os.path.join(SRC_DIR, \"[0-9][0-9][0-9][0-9].[0-9][0-9][0-9][0-9][0-9].gz\")\n",
    "gz_files  = sorted(glob.glob(pattern))[:100]       # first 100 only\n",
    "print(\"Found\", len(gz_files), \"archives — extracting …\")\n",
    "\n",
    "records = []\n",
    "for f in tqdm(gz_files):\n",
    "    records.extend(extract_from_gz(f))\n",
    "\n",
    "with open(OUT_FILE, \"w\", encoding=\"utf-8\") as out:\n",
    "    for r in records:\n",
    "        out.write(json.dumps(r, ensure_ascii=False) + \"\\n\")\n",
    "\n",
    "print(f\"✓ Saved {len(records)} records → {OUT_FILE}\")"
   ]
  },
  {
   "cell_type": "code",
   "execution_count": 22,
   "metadata": {
    "colab": {
     "base_uri": "https://localhost:8080/"
    },
    "executionInfo": {
     "elapsed": 52,
     "status": "ok",
     "timestamp": 1747569691400,
     "user": {
      "displayName": "Natalia Lavrova",
      "userId": "06691402705171570003"
     },
     "user_tz": -180
    },
    "id": "1XBye1mtfzlJ",
    "outputId": "3f625431-b1dd-4d5b-84a6-30158a5c0715"
   },
   "outputs": [
    {
     "name": "stdout",
     "output_type": "stream",
     "text": [
      "Pattern used: /content/drive/MyDrive/MSThesis/arxiv_papers/02/[0-9][0-9][0-9][0-9].[0-9][0-9][0-9][0-9][0-9].gz\n",
      "Files found: 100\n",
      "Sample files: ['/content/drive/MyDrive/MSThesis/arxiv_papers/02/2501.00724.gz', '/content/drive/MyDrive/MSThesis/arxiv_papers/02/2501.00726.gz', '/content/drive/MyDrive/MSThesis/arxiv_papers/02/2501.00728.gz']\n"
     ]
    }
   ],
   "source": [
    "print(\"Pattern used:\", pattern)\n",
    "print(\"Files found:\", len(gz_files))\n",
    "print(\"Sample files:\", gz_files[:3])"
   ]
  },
  {
   "cell_type": "code",
   "execution_count": 23,
   "metadata": {
    "executionInfo": {
     "elapsed": 6,
     "status": "ok",
     "timestamp": 1747569694648,
     "user": {
      "displayName": "Natalia Lavrova",
      "userId": "06691402705171570003"
     },
     "user_tz": -180
    },
    "id": "BCYQIDmE9e7T"
   },
   "outputs": [],
   "source": [
    "assert len(gz_files) == 100, f\"Expected 170 archives, got {len(gz_files)}\"\n",
    "assert len(records)  == 100, \"Extractor should yield one row per archive\""
   ]
  },
  {
   "cell_type": "markdown",
   "metadata": {
    "id": "iij0_H5U2-m5"
   },
   "source": [
    "***Going through all articles and combining in JSONL***"
   ]
  },
  {
   "cell_type": "code",
   "execution_count": 24,
   "metadata": {
    "colab": {
     "base_uri": "https://localhost:8080/"
    },
    "collapsed": true,
    "executionInfo": {
     "elapsed": 7,
     "status": "ok",
     "timestamp": 1747569696686,
     "user": {
      "displayName": "Natalia Lavrova",
      "userId": "06691402705171570003"
     },
     "user_tz": -180
    },
    "id": "WyZBnQt21V0m",
    "outputId": "5b6a946d-a19e-44fb-c0f4-78ffd8cde1bd"
   },
   "outputs": [
    {
     "name": "stdout",
     "output_type": "stream",
     "text": [
      "{\"filename\": \"2501.00724.gz\", \"tex_file\": null, \"status\": \"error: no decodable LaTeX source\", \"authors\": \"N/A\", \"propositions\": [], \"definitions\": [], \"lemmas\": [], \"theorems\": [], \"proofs\": [], \"equations\": [], \"sentences\": [], \"num_propositions\": 0, \"num_definitions\": 0, \"num_lemmas\": 0, \"num_theorems\": 0}\n",
      "{\"filename\": \"2501.00726.gz\", \"tex_file\": null, \"status\": \"error: 'propositions'\", \"authors\": \"N/A\", \"propositions\": [], \"definitions\": [], \"lemmas\": [], \"theorems\": [], \"proofs\": [], \"equations\": [], \"sentences\": [], \"num_propositions\": 0, \"num_definitions\": 0, \"num_lemmas\": 0, \"num_theorems\": 0}\n",
      "{\"filename\": \"2501.00728.gz\", \"tex_file\": null, \"status\": \"error: 'propositions'\", \"authors\": \"N/A\", \"propositions\": [], \"definitions\": [], \"lemmas\": [], \"theorems\": [], \"proofs\": [], \"equations\": [], \"sentences\": [], \"num_propositions\": 0, \"num_definitions\": 0, \"num_lemmas\": 0, \"num_theorems\": 0}\n"
     ]
    }
   ],
   "source": [
    "with open(OUT_FILE, \"r\", encoding=\"utf-8\") as f:\n",
    "    for _ in range(3):\n",
    "        print(f.readline().strip())"
   ]
  },
  {
   "cell_type": "code",
   "execution_count": 25,
   "metadata": {
    "colab": {
     "base_uri": "https://localhost:8080/",
     "height": 250
    },
    "executionInfo": {
     "elapsed": 160,
     "status": "ok",
     "timestamp": 1747569699123,
     "user": {
      "displayName": "Natalia Lavrova",
      "userId": "06691402705171570003"
     },
     "user_tz": -180
    },
    "id": "vRTTYsHf1ZmR",
    "outputId": "6e54d640-70f1-45ba-a8dd-c2ce0141b71a"
   },
   "outputs": [
    {
     "data": {
      "application/vnd.google.colaboratory.intrinsic+json": {
       "repr_error": "Out of range float values are not JSON compliant: nan",
       "type": "dataframe",
       "variable_name": "df"
      },
      "text/html": [
       "\n",
       "  <div id=\"df-bcb878ae-c194-42fc-b44b-66bd610a9e0d\" class=\"colab-df-container\">\n",
       "    <div>\n",
       "<style scoped>\n",
       "    .dataframe tbody tr th:only-of-type {\n",
       "        vertical-align: middle;\n",
       "    }\n",
       "\n",
       "    .dataframe tbody tr th {\n",
       "        vertical-align: top;\n",
       "    }\n",
       "\n",
       "    .dataframe thead th {\n",
       "        text-align: right;\n",
       "    }\n",
       "</style>\n",
       "<table border=\"1\" class=\"dataframe\">\n",
       "  <thead>\n",
       "    <tr style=\"text-align: right;\">\n",
       "      <th></th>\n",
       "      <th>filename</th>\n",
       "      <th>tex_file</th>\n",
       "      <th>status</th>\n",
       "      <th>authors</th>\n",
       "      <th>propositions</th>\n",
       "      <th>definitions</th>\n",
       "      <th>lemmas</th>\n",
       "      <th>theorems</th>\n",
       "      <th>proofs</th>\n",
       "      <th>equations</th>\n",
       "      <th>sentences</th>\n",
       "      <th>num_propositions</th>\n",
       "      <th>num_definitions</th>\n",
       "      <th>num_lemmas</th>\n",
       "      <th>num_theorems</th>\n",
       "    </tr>\n",
       "  </thead>\n",
       "  <tbody>\n",
       "    <tr>\n",
       "      <th>0</th>\n",
       "      <td>2501.00724.gz</td>\n",
       "      <td>None</td>\n",
       "      <td>error: no decodable LaTeX source</td>\n",
       "      <td>N/A</td>\n",
       "      <td>[]</td>\n",
       "      <td>[]</td>\n",
       "      <td>[]</td>\n",
       "      <td>[]</td>\n",
       "      <td>[]</td>\n",
       "      <td>[]</td>\n",
       "      <td>[]</td>\n",
       "      <td>0</td>\n",
       "      <td>0</td>\n",
       "      <td>0</td>\n",
       "      <td>0</td>\n",
       "    </tr>\n",
       "    <tr>\n",
       "      <th>1</th>\n",
       "      <td>2501.00726.gz</td>\n",
       "      <td>None</td>\n",
       "      <td>error: 'propositions'</td>\n",
       "      <td>N/A</td>\n",
       "      <td>[]</td>\n",
       "      <td>[]</td>\n",
       "      <td>[]</td>\n",
       "      <td>[]</td>\n",
       "      <td>[]</td>\n",
       "      <td>[]</td>\n",
       "      <td>[]</td>\n",
       "      <td>0</td>\n",
       "      <td>0</td>\n",
       "      <td>0</td>\n",
       "      <td>0</td>\n",
       "    </tr>\n",
       "    <tr>\n",
       "      <th>2</th>\n",
       "      <td>2501.00728.gz</td>\n",
       "      <td>None</td>\n",
       "      <td>error: 'propositions'</td>\n",
       "      <td>N/A</td>\n",
       "      <td>[]</td>\n",
       "      <td>[]</td>\n",
       "      <td>[]</td>\n",
       "      <td>[]</td>\n",
       "      <td>[]</td>\n",
       "      <td>[]</td>\n",
       "      <td>[]</td>\n",
       "      <td>0</td>\n",
       "      <td>0</td>\n",
       "      <td>0</td>\n",
       "      <td>0</td>\n",
       "    </tr>\n",
       "  </tbody>\n",
       "</table>\n",
       "</div>\n",
       "    <div class=\"colab-df-buttons\">\n",
       "\n",
       "  <div class=\"colab-df-container\">\n",
       "    <button class=\"colab-df-convert\" onclick=\"convertToInteractive('df-bcb878ae-c194-42fc-b44b-66bd610a9e0d')\"\n",
       "            title=\"Convert this dataframe to an interactive table.\"\n",
       "            style=\"display:none;\">\n",
       "\n",
       "  <svg xmlns=\"http://www.w3.org/2000/svg\" height=\"24px\" viewBox=\"0 -960 960 960\">\n",
       "    <path d=\"M120-120v-720h720v720H120Zm60-500h600v-160H180v160Zm220 220h160v-160H400v160Zm0 220h160v-160H400v160ZM180-400h160v-160H180v160Zm440 0h160v-160H620v160ZM180-180h160v-160H180v160Zm440 0h160v-160H620v160Z\"/>\n",
       "  </svg>\n",
       "    </button>\n",
       "\n",
       "  <style>\n",
       "    .colab-df-container {\n",
       "      display:flex;\n",
       "      gap: 12px;\n",
       "    }\n",
       "\n",
       "    .colab-df-convert {\n",
       "      background-color: #E8F0FE;\n",
       "      border: none;\n",
       "      border-radius: 50%;\n",
       "      cursor: pointer;\n",
       "      display: none;\n",
       "      fill: #1967D2;\n",
       "      height: 32px;\n",
       "      padding: 0 0 0 0;\n",
       "      width: 32px;\n",
       "    }\n",
       "\n",
       "    .colab-df-convert:hover {\n",
       "      background-color: #E2EBFA;\n",
       "      box-shadow: 0px 1px 2px rgba(60, 64, 67, 0.3), 0px 1px 3px 1px rgba(60, 64, 67, 0.15);\n",
       "      fill: #174EA6;\n",
       "    }\n",
       "\n",
       "    .colab-df-buttons div {\n",
       "      margin-bottom: 4px;\n",
       "    }\n",
       "\n",
       "    [theme=dark] .colab-df-convert {\n",
       "      background-color: #3B4455;\n",
       "      fill: #D2E3FC;\n",
       "    }\n",
       "\n",
       "    [theme=dark] .colab-df-convert:hover {\n",
       "      background-color: #434B5C;\n",
       "      box-shadow: 0px 1px 3px 1px rgba(0, 0, 0, 0.15);\n",
       "      filter: drop-shadow(0px 1px 2px rgba(0, 0, 0, 0.3));\n",
       "      fill: #FFFFFF;\n",
       "    }\n",
       "  </style>\n",
       "\n",
       "    <script>\n",
       "      const buttonEl =\n",
       "        document.querySelector('#df-bcb878ae-c194-42fc-b44b-66bd610a9e0d button.colab-df-convert');\n",
       "      buttonEl.style.display =\n",
       "        google.colab.kernel.accessAllowed ? 'block' : 'none';\n",
       "\n",
       "      async function convertToInteractive(key) {\n",
       "        const element = document.querySelector('#df-bcb878ae-c194-42fc-b44b-66bd610a9e0d');\n",
       "        const dataTable =\n",
       "          await google.colab.kernel.invokeFunction('convertToInteractive',\n",
       "                                                    [key], {});\n",
       "        if (!dataTable) return;\n",
       "\n",
       "        const docLinkHtml = 'Like what you see? Visit the ' +\n",
       "          '<a target=\"_blank\" href=https://colab.research.google.com/notebooks/data_table.ipynb>data table notebook</a>'\n",
       "          + ' to learn more about interactive tables.';\n",
       "        element.innerHTML = '';\n",
       "        dataTable['output_type'] = 'display_data';\n",
       "        await google.colab.output.renderOutput(dataTable, element);\n",
       "        const docLink = document.createElement('div');\n",
       "        docLink.innerHTML = docLinkHtml;\n",
       "        element.appendChild(docLink);\n",
       "      }\n",
       "    </script>\n",
       "  </div>\n",
       "\n",
       "\n",
       "    <div id=\"df-a7e7dfc6-740b-4ce8-9128-d35c1de20009\">\n",
       "      <button class=\"colab-df-quickchart\" onclick=\"quickchart('df-a7e7dfc6-740b-4ce8-9128-d35c1de20009')\"\n",
       "                title=\"Suggest charts\"\n",
       "                style=\"display:none;\">\n",
       "\n",
       "<svg xmlns=\"http://www.w3.org/2000/svg\" height=\"24px\"viewBox=\"0 0 24 24\"\n",
       "     width=\"24px\">\n",
       "    <g>\n",
       "        <path d=\"M19 3H5c-1.1 0-2 .9-2 2v14c0 1.1.9 2 2 2h14c1.1 0 2-.9 2-2V5c0-1.1-.9-2-2-2zM9 17H7v-7h2v7zm4 0h-2V7h2v10zm4 0h-2v-4h2v4z\"/>\n",
       "    </g>\n",
       "</svg>\n",
       "      </button>\n",
       "\n",
       "<style>\n",
       "  .colab-df-quickchart {\n",
       "      --bg-color: #E8F0FE;\n",
       "      --fill-color: #1967D2;\n",
       "      --hover-bg-color: #E2EBFA;\n",
       "      --hover-fill-color: #174EA6;\n",
       "      --disabled-fill-color: #AAA;\n",
       "      --disabled-bg-color: #DDD;\n",
       "  }\n",
       "\n",
       "  [theme=dark] .colab-df-quickchart {\n",
       "      --bg-color: #3B4455;\n",
       "      --fill-color: #D2E3FC;\n",
       "      --hover-bg-color: #434B5C;\n",
       "      --hover-fill-color: #FFFFFF;\n",
       "      --disabled-bg-color: #3B4455;\n",
       "      --disabled-fill-color: #666;\n",
       "  }\n",
       "\n",
       "  .colab-df-quickchart {\n",
       "    background-color: var(--bg-color);\n",
       "    border: none;\n",
       "    border-radius: 50%;\n",
       "    cursor: pointer;\n",
       "    display: none;\n",
       "    fill: var(--fill-color);\n",
       "    height: 32px;\n",
       "    padding: 0;\n",
       "    width: 32px;\n",
       "  }\n",
       "\n",
       "  .colab-df-quickchart:hover {\n",
       "    background-color: var(--hover-bg-color);\n",
       "    box-shadow: 0 1px 2px rgba(60, 64, 67, 0.3), 0 1px 3px 1px rgba(60, 64, 67, 0.15);\n",
       "    fill: var(--button-hover-fill-color);\n",
       "  }\n",
       "\n",
       "  .colab-df-quickchart-complete:disabled,\n",
       "  .colab-df-quickchart-complete:disabled:hover {\n",
       "    background-color: var(--disabled-bg-color);\n",
       "    fill: var(--disabled-fill-color);\n",
       "    box-shadow: none;\n",
       "  }\n",
       "\n",
       "  .colab-df-spinner {\n",
       "    border: 2px solid var(--fill-color);\n",
       "    border-color: transparent;\n",
       "    border-bottom-color: var(--fill-color);\n",
       "    animation:\n",
       "      spin 1s steps(1) infinite;\n",
       "  }\n",
       "\n",
       "  @keyframes spin {\n",
       "    0% {\n",
       "      border-color: transparent;\n",
       "      border-bottom-color: var(--fill-color);\n",
       "      border-left-color: var(--fill-color);\n",
       "    }\n",
       "    20% {\n",
       "      border-color: transparent;\n",
       "      border-left-color: var(--fill-color);\n",
       "      border-top-color: var(--fill-color);\n",
       "    }\n",
       "    30% {\n",
       "      border-color: transparent;\n",
       "      border-left-color: var(--fill-color);\n",
       "      border-top-color: var(--fill-color);\n",
       "      border-right-color: var(--fill-color);\n",
       "    }\n",
       "    40% {\n",
       "      border-color: transparent;\n",
       "      border-right-color: var(--fill-color);\n",
       "      border-top-color: var(--fill-color);\n",
       "    }\n",
       "    60% {\n",
       "      border-color: transparent;\n",
       "      border-right-color: var(--fill-color);\n",
       "    }\n",
       "    80% {\n",
       "      border-color: transparent;\n",
       "      border-right-color: var(--fill-color);\n",
       "      border-bottom-color: var(--fill-color);\n",
       "    }\n",
       "    90% {\n",
       "      border-color: transparent;\n",
       "      border-bottom-color: var(--fill-color);\n",
       "    }\n",
       "  }\n",
       "</style>\n",
       "\n",
       "      <script>\n",
       "        async function quickchart(key) {\n",
       "          const quickchartButtonEl =\n",
       "            document.querySelector('#' + key + ' button');\n",
       "          quickchartButtonEl.disabled = true;  // To prevent multiple clicks.\n",
       "          quickchartButtonEl.classList.add('colab-df-spinner');\n",
       "          try {\n",
       "            const charts = await google.colab.kernel.invokeFunction(\n",
       "                'suggestCharts', [key], {});\n",
       "          } catch (error) {\n",
       "            console.error('Error during call to suggestCharts:', error);\n",
       "          }\n",
       "          quickchartButtonEl.classList.remove('colab-df-spinner');\n",
       "          quickchartButtonEl.classList.add('colab-df-quickchart-complete');\n",
       "        }\n",
       "        (() => {\n",
       "          let quickchartButtonEl =\n",
       "            document.querySelector('#df-a7e7dfc6-740b-4ce8-9128-d35c1de20009 button');\n",
       "          quickchartButtonEl.style.display =\n",
       "            google.colab.kernel.accessAllowed ? 'block' : 'none';\n",
       "        })();\n",
       "      </script>\n",
       "    </div>\n",
       "\n",
       "    </div>\n",
       "  </div>\n"
      ],
      "text/plain": [
       "        filename tex_file                            status authors  \\\n",
       "0  2501.00724.gz     None  error: no decodable LaTeX source     N/A   \n",
       "1  2501.00726.gz     None             error: 'propositions'     N/A   \n",
       "2  2501.00728.gz     None             error: 'propositions'     N/A   \n",
       "\n",
       "  propositions definitions lemmas theorems proofs equations sentences  \\\n",
       "0           []          []     []       []     []        []        []   \n",
       "1           []          []     []       []     []        []        []   \n",
       "2           []          []     []       []     []        []        []   \n",
       "\n",
       "   num_propositions  num_definitions  num_lemmas  num_theorems  \n",
       "0                 0                0           0             0  \n",
       "1                 0                0           0             0  \n",
       "2                 0                0           0             0  "
      ]
     },
     "execution_count": 25,
     "metadata": {},
     "output_type": "execute_result"
    }
   ],
   "source": [
    "fp = pathlib.Path(\"/content/drive/MyDrive/MSThesis/Output/extracted_math.jsonl\")\n",
    "\n",
    "# каждый объект на новой строке → читаем list[dict]\n",
    "records = [json.loads(line) for line in fp.open(encoding=\"utf-8\")]\n",
    "df = pd.DataFrame(records)\n",
    "\n",
    "df.head(3)\n"
   ]
  },
  {
   "cell_type": "code",
   "execution_count": null,
   "metadata": {
    "id": "Tk-ywN-EnxVe"
   },
   "outputs": [],
   "source": [
    "# Clean the 'filename' column to strip '.gz'\n",
    "df['id_clean'] = df['filename'].str.replace('.gz', '', regex=False)"
   ]
  },
  {
   "cell_type": "code",
   "execution_count": null,
   "metadata": {
    "colab": {
     "base_uri": "https://localhost:8080/",
     "height": 153
    },
    "executionInfo": {
     "elapsed": 56,
     "status": "ok",
     "timestamp": 1747497188516,
     "user": {
      "displayName": "Natalia Lavrova",
      "userId": "06691402705171570003"
     },
     "user_tz": -120
    },
    "id": "1u_-SbKcnzk-",
    "outputId": "48bda989-c3d0-488c-daea-462d172a3afa"
   },
   "outputs": [
    {
     "data": {
      "application/vnd.google.colaboratory.intrinsic+json": {
       "repr_error": "Out of range float values are not JSON compliant: nan",
       "type": "dataframe",
       "variable_name": "df"
      },
      "text/html": [
       "\n",
       "  <div id=\"df-11fbcceb-047e-46b3-be34-0f46664b769d\" class=\"colab-df-container\">\n",
       "    <div>\n",
       "<style scoped>\n",
       "    .dataframe tbody tr th:only-of-type {\n",
       "        vertical-align: middle;\n",
       "    }\n",
       "\n",
       "    .dataframe tbody tr th {\n",
       "        vertical-align: top;\n",
       "    }\n",
       "\n",
       "    .dataframe thead th {\n",
       "        text-align: right;\n",
       "    }\n",
       "</style>\n",
       "<table border=\"1\" class=\"dataframe\">\n",
       "  <thead>\n",
       "    <tr style=\"text-align: right;\">\n",
       "      <th></th>\n",
       "      <th>filename</th>\n",
       "      <th>tex_file</th>\n",
       "      <th>authors</th>\n",
       "      <th>propositions</th>\n",
       "      <th>definitions</th>\n",
       "      <th>lemmas</th>\n",
       "      <th>theorems</th>\n",
       "      <th>proofs</th>\n",
       "      <th>equations</th>\n",
       "      <th>sentences</th>\n",
       "      <th>num_propositions</th>\n",
       "      <th>num_definitions</th>\n",
       "      <th>num_lemmas</th>\n",
       "      <th>num_theorems</th>\n",
       "      <th>status</th>\n",
       "      <th>id_clean</th>\n",
       "    </tr>\n",
       "  </thead>\n",
       "  <tbody>\n",
       "    <tr>\n",
       "      <th>0</th>\n",
       "      <td>2502.17338.gz</td>\n",
       "      <td>None</td>\n",
       "      <td>N/A</td>\n",
       "      <td>[]</td>\n",
       "      <td>[]</td>\n",
       "      <td>[]</td>\n",
       "      <td>[]</td>\n",
       "      <td>[]</td>\n",
       "      <td>[]</td>\n",
       "      <td>[]</td>\n",
       "      <td>0</td>\n",
       "      <td>0</td>\n",
       "      <td>0</td>\n",
       "      <td>0</td>\n",
       "      <td>error: no .tex files in archive</td>\n",
       "      <td>2502.17338</td>\n",
       "    </tr>\n",
       "  </tbody>\n",
       "</table>\n",
       "</div>\n",
       "    <div class=\"colab-df-buttons\">\n",
       "\n",
       "  <div class=\"colab-df-container\">\n",
       "    <button class=\"colab-df-convert\" onclick=\"convertToInteractive('df-11fbcceb-047e-46b3-be34-0f46664b769d')\"\n",
       "            title=\"Convert this dataframe to an interactive table.\"\n",
       "            style=\"display:none;\">\n",
       "\n",
       "  <svg xmlns=\"http://www.w3.org/2000/svg\" height=\"24px\" viewBox=\"0 -960 960 960\">\n",
       "    <path d=\"M120-120v-720h720v720H120Zm60-500h600v-160H180v160Zm220 220h160v-160H400v160Zm0 220h160v-160H400v160ZM180-400h160v-160H180v160Zm440 0h160v-160H620v160ZM180-180h160v-160H180v160Zm440 0h160v-160H620v160Z\"/>\n",
       "  </svg>\n",
       "    </button>\n",
       "\n",
       "  <style>\n",
       "    .colab-df-container {\n",
       "      display:flex;\n",
       "      gap: 12px;\n",
       "    }\n",
       "\n",
       "    .colab-df-convert {\n",
       "      background-color: #E8F0FE;\n",
       "      border: none;\n",
       "      border-radius: 50%;\n",
       "      cursor: pointer;\n",
       "      display: none;\n",
       "      fill: #1967D2;\n",
       "      height: 32px;\n",
       "      padding: 0 0 0 0;\n",
       "      width: 32px;\n",
       "    }\n",
       "\n",
       "    .colab-df-convert:hover {\n",
       "      background-color: #E2EBFA;\n",
       "      box-shadow: 0px 1px 2px rgba(60, 64, 67, 0.3), 0px 1px 3px 1px rgba(60, 64, 67, 0.15);\n",
       "      fill: #174EA6;\n",
       "    }\n",
       "\n",
       "    .colab-df-buttons div {\n",
       "      margin-bottom: 4px;\n",
       "    }\n",
       "\n",
       "    [theme=dark] .colab-df-convert {\n",
       "      background-color: #3B4455;\n",
       "      fill: #D2E3FC;\n",
       "    }\n",
       "\n",
       "    [theme=dark] .colab-df-convert:hover {\n",
       "      background-color: #434B5C;\n",
       "      box-shadow: 0px 1px 3px 1px rgba(0, 0, 0, 0.15);\n",
       "      filter: drop-shadow(0px 1px 2px rgba(0, 0, 0, 0.3));\n",
       "      fill: #FFFFFF;\n",
       "    }\n",
       "  </style>\n",
       "\n",
       "    <script>\n",
       "      const buttonEl =\n",
       "        document.querySelector('#df-11fbcceb-047e-46b3-be34-0f46664b769d button.colab-df-convert');\n",
       "      buttonEl.style.display =\n",
       "        google.colab.kernel.accessAllowed ? 'block' : 'none';\n",
       "\n",
       "      async function convertToInteractive(key) {\n",
       "        const element = document.querySelector('#df-11fbcceb-047e-46b3-be34-0f46664b769d');\n",
       "        const dataTable =\n",
       "          await google.colab.kernel.invokeFunction('convertToInteractive',\n",
       "                                                    [key], {});\n",
       "        if (!dataTable) return;\n",
       "\n",
       "        const docLinkHtml = 'Like what you see? Visit the ' +\n",
       "          '<a target=\"_blank\" href=https://colab.research.google.com/notebooks/data_table.ipynb>data table notebook</a>'\n",
       "          + ' to learn more about interactive tables.';\n",
       "        element.innerHTML = '';\n",
       "        dataTable['output_type'] = 'display_data';\n",
       "        await google.colab.output.renderOutput(dataTable, element);\n",
       "        const docLink = document.createElement('div');\n",
       "        docLink.innerHTML = docLinkHtml;\n",
       "        element.appendChild(docLink);\n",
       "      }\n",
       "    </script>\n",
       "  </div>\n",
       "\n",
       "\n",
       "    </div>\n",
       "  </div>\n"
      ],
      "text/plain": [
       "        filename tex_file authors propositions definitions lemmas theorems  \\\n",
       "0  2502.17338.gz     None     N/A           []          []     []       []   \n",
       "\n",
       "  proofs equations sentences  num_propositions  num_definitions  num_lemmas  \\\n",
       "0     []        []        []                 0                0           0   \n",
       "\n",
       "   num_theorems                           status    id_clean  \n",
       "0             0  error: no .tex files in archive  2502.17338  "
      ]
     },
     "execution_count": 23,
     "metadata": {},
     "output_type": "execute_result"
    }
   ],
   "source": [
    "df.head(1)"
   ]
  },
  {
   "cell_type": "code",
   "execution_count": null,
   "metadata": {
    "colab": {
     "base_uri": "https://localhost:8080/"
    },
    "executionInfo": {
     "elapsed": 14,
     "status": "ok",
     "timestamp": 1747404976440,
     "user": {
      "displayName": "Natalia Lavrova",
      "userId": "06691402705171570003"
     },
     "user_tz": -120
    },
    "id": "OlpYM2fKoUz6",
    "outputId": "96add670-0779-468a-be63-c7cf6afef151"
   },
   "outputs": [
    {
     "data": {
      "text/plain": [
       "170"
      ]
     },
     "execution_count": 28,
     "metadata": {},
     "output_type": "execute_result"
    }
   ],
   "source": [
    "len(df)"
   ]
  },
  {
   "cell_type": "code",
   "execution_count": null,
   "metadata": {
    "colab": {
     "base_uri": "https://localhost:8080/",
     "height": 1000
    },
    "executionInfo": {
     "elapsed": 705,
     "status": "ok",
     "timestamp": 1747404977726,
     "user": {
      "displayName": "Natalia Lavrova",
      "userId": "06691402705171570003"
     },
     "user_tz": -120
    },
    "id": "WOnnaVtMn6YT",
    "outputId": "e28601d0-2685-4a21-9450-ac8124932e74"
   },
   "outputs": [
    {
     "data": {
      "application/vnd.google.colaboratory.intrinsic+json": {
       "type": "dataframe",
       "variable_name": "meta"
      },
      "text/html": [
       "\n",
       "  <div id=\"df-e24d4870-d88f-415e-84ae-af5f3f1b6193\" class=\"colab-df-container\">\n",
       "    <div>\n",
       "<style scoped>\n",
       "    .dataframe tbody tr th:only-of-type {\n",
       "        vertical-align: middle;\n",
       "    }\n",
       "\n",
       "    .dataframe tbody tr th {\n",
       "        vertical-align: top;\n",
       "    }\n",
       "\n",
       "    .dataframe thead th {\n",
       "        text-align: right;\n",
       "    }\n",
       "</style>\n",
       "<table border=\"1\" class=\"dataframe\">\n",
       "  <thead>\n",
       "    <tr style=\"text-align: right;\">\n",
       "      <th></th>\n",
       "      <th>title</th>\n",
       "      <th>id</th>\n",
       "      <th>abstract</th>\n",
       "      <th>categories</th>\n",
       "      <th>doi</th>\n",
       "      <th>created</th>\n",
       "      <th>updated</th>\n",
       "      <th>authors</th>\n",
       "      <th>affiliation</th>\n",
       "      <th>url</th>\n",
       "      <th>...</th>\n",
       "      <th>definition_49</th>\n",
       "      <th>definition_50</th>\n",
       "      <th>definition_51</th>\n",
       "      <th>definition_52</th>\n",
       "      <th>definition_53</th>\n",
       "      <th>definition_54</th>\n",
       "      <th>definition_55</th>\n",
       "      <th>definition_56</th>\n",
       "      <th>definition_57</th>\n",
       "      <th>definition_58</th>\n",
       "    </tr>\n",
       "  </thead>\n",
       "  <tbody>\n",
       "    <tr>\n",
       "      <th>0</th>\n",
       "      <td>direct inversion scheme of time-domain fluores...</td>\n",
       "      <td>2502.01037</td>\n",
       "      <td>this paper proposes a direct inversion scheme ...</td>\n",
       "      <td>math.ap math-ph math.mp</td>\n",
       "      <td>NaN</td>\n",
       "      <td>2025-02-02</td>\n",
       "      <td>NaN</td>\n",
       "      <td>['shuli chen', 'junyong eom', 'gen nakamura', ...</td>\n",
       "      <td>[]</td>\n",
       "      <td>https://arxiv.org/abs/2502.01037</td>\n",
       "      <td>...</td>\n",
       "      <td>NaN</td>\n",
       "      <td>NaN</td>\n",
       "      <td>NaN</td>\n",
       "      <td>NaN</td>\n",
       "      <td>NaN</td>\n",
       "      <td>NaN</td>\n",
       "      <td>NaN</td>\n",
       "      <td>NaN</td>\n",
       "      <td>NaN</td>\n",
       "      <td>NaN</td>\n",
       "    </tr>\n",
       "    <tr>\n",
       "      <th>1</th>\n",
       "      <td>existence of unconditional frames formed by sy...</td>\n",
       "      <td>2502.01047</td>\n",
       "      <td>let $1\\leq p\\leq 2$ and let $\\lambda = \\{\\lamb...</td>\n",
       "      <td>math.fa</td>\n",
       "      <td>NaN</td>\n",
       "      <td>2025-02-02</td>\n",
       "      <td>2025-02-12</td>\n",
       "      <td>['pu-ting yu']</td>\n",
       "      <td>[]</td>\n",
       "      <td>https://arxiv.org/abs/2502.01047</td>\n",
       "      <td>...</td>\n",
       "      <td>NaN</td>\n",
       "      <td>NaN</td>\n",
       "      <td>NaN</td>\n",
       "      <td>NaN</td>\n",
       "      <td>NaN</td>\n",
       "      <td>NaN</td>\n",
       "      <td>NaN</td>\n",
       "      <td>NaN</td>\n",
       "      <td>NaN</td>\n",
       "      <td>NaN</td>\n",
       "    </tr>\n",
       "    <tr>\n",
       "      <th>2</th>\n",
       "      <td>on the surprising robustness of sequential con...</td>\n",
       "      <td>2502.01055</td>\n",
       "      <td>contact-implicit motion planning-embedding con...</td>\n",
       "      <td>math.oc cs.ro</td>\n",
       "      <td>NaN</td>\n",
       "      <td>2025-02-03</td>\n",
       "      <td>2025-03-01</td>\n",
       "      <td>['yulin li', 'haoyu han', 'shucheng kang', 'ju...</td>\n",
       "      <td>[]</td>\n",
       "      <td>https://arxiv.org/abs/2502.01055</td>\n",
       "      <td>...</td>\n",
       "      <td>NaN</td>\n",
       "      <td>NaN</td>\n",
       "      <td>NaN</td>\n",
       "      <td>NaN</td>\n",
       "      <td>NaN</td>\n",
       "      <td>NaN</td>\n",
       "      <td>NaN</td>\n",
       "      <td>NaN</td>\n",
       "      <td>NaN</td>\n",
       "      <td>NaN</td>\n",
       "    </tr>\n",
       "    <tr>\n",
       "      <th>3</th>\n",
       "      <td>time-asymptotic stability of composite wave fo...</td>\n",
       "      <td>2502.01063</td>\n",
       "      <td>we study the asymptotic stability of a composi...</td>\n",
       "      <td>math.ap</td>\n",
       "      <td>NaN</td>\n",
       "      <td>2025-02-03</td>\n",
       "      <td>NaN</td>\n",
       "      <td>['sungho han', 'jeongho kim']</td>\n",
       "      <td>[]</td>\n",
       "      <td>https://arxiv.org/abs/2502.01063</td>\n",
       "      <td>...</td>\n",
       "      <td>NaN</td>\n",
       "      <td>NaN</td>\n",
       "      <td>NaN</td>\n",
       "      <td>NaN</td>\n",
       "      <td>NaN</td>\n",
       "      <td>NaN</td>\n",
       "      <td>NaN</td>\n",
       "      <td>NaN</td>\n",
       "      <td>NaN</td>\n",
       "      <td>NaN</td>\n",
       "    </tr>\n",
       "    <tr>\n",
       "      <th>4</th>\n",
       "      <td>acf-monotonicity formula on rcd(0,n) metric me...</td>\n",
       "      <td>2502.01064</td>\n",
       "      <td>the acf-monotonicity formula is a powerful too...</td>\n",
       "      <td>math.ap math.mg</td>\n",
       "      <td>NaN</td>\n",
       "      <td>2025-02-03</td>\n",
       "      <td>NaN</td>\n",
       "      <td>['lin sitan']</td>\n",
       "      <td>[]</td>\n",
       "      <td>https://arxiv.org/abs/2502.01064</td>\n",
       "      <td>...</td>\n",
       "      <td>NaN</td>\n",
       "      <td>NaN</td>\n",
       "      <td>NaN</td>\n",
       "      <td>NaN</td>\n",
       "      <td>NaN</td>\n",
       "      <td>NaN</td>\n",
       "      <td>NaN</td>\n",
       "      <td>NaN</td>\n",
       "      <td>NaN</td>\n",
       "      <td>NaN</td>\n",
       "    </tr>\n",
       "    <tr>\n",
       "      <th>...</th>\n",
       "      <td>...</td>\n",
       "      <td>...</td>\n",
       "      <td>...</td>\n",
       "      <td>...</td>\n",
       "      <td>...</td>\n",
       "      <td>...</td>\n",
       "      <td>...</td>\n",
       "      <td>...</td>\n",
       "      <td>...</td>\n",
       "      <td>...</td>\n",
       "      <td>...</td>\n",
       "      <td>...</td>\n",
       "      <td>...</td>\n",
       "      <td>...</td>\n",
       "      <td>...</td>\n",
       "      <td>...</td>\n",
       "      <td>...</td>\n",
       "      <td>...</td>\n",
       "      <td>...</td>\n",
       "      <td>...</td>\n",
       "      <td>...</td>\n",
       "    </tr>\n",
       "    <tr>\n",
       "      <th>165</th>\n",
       "      <td>pseudo-cartan inclusions</td>\n",
       "      <td>2502.01975</td>\n",
       "      <td>we define a new class of regular inclusions, t...</td>\n",
       "      <td>math.oa</td>\n",
       "      <td>NaN</td>\n",
       "      <td>2025-02-03</td>\n",
       "      <td>NaN</td>\n",
       "      <td>['david r. pitts']</td>\n",
       "      <td>[]</td>\n",
       "      <td>https://arxiv.org/abs/2502.01975</td>\n",
       "      <td>...</td>\n",
       "      <td>NaN</td>\n",
       "      <td>NaN</td>\n",
       "      <td>NaN</td>\n",
       "      <td>NaN</td>\n",
       "      <td>NaN</td>\n",
       "      <td>NaN</td>\n",
       "      <td>NaN</td>\n",
       "      <td>NaN</td>\n",
       "      <td>NaN</td>\n",
       "      <td>NaN</td>\n",
       "    </tr>\n",
       "    <tr>\n",
       "      <th>166</th>\n",
       "      <td>diagrammatics of information</td>\n",
       "      <td>2502.01983</td>\n",
       "      <td>we introduce a diagrammatic perspective for sh...</td>\n",
       "      <td>math-ph cs.it math.it math.mp</td>\n",
       "      <td>NaN</td>\n",
       "      <td>2025-02-03</td>\n",
       "      <td>NaN</td>\n",
       "      <td>['mee seong im', 'clement kam', 'caden pici']</td>\n",
       "      <td>[]</td>\n",
       "      <td>https://arxiv.org/abs/2502.01983</td>\n",
       "      <td>...</td>\n",
       "      <td>NaN</td>\n",
       "      <td>NaN</td>\n",
       "      <td>NaN</td>\n",
       "      <td>NaN</td>\n",
       "      <td>NaN</td>\n",
       "      <td>NaN</td>\n",
       "      <td>NaN</td>\n",
       "      <td>NaN</td>\n",
       "      <td>NaN</td>\n",
       "      <td>NaN</td>\n",
       "    </tr>\n",
       "    <tr>\n",
       "      <th>167</th>\n",
       "      <td>efficient covering using reed--solomon codes</td>\n",
       "      <td>2502.01984</td>\n",
       "      <td>we propose an efficient algorithm to find a re...</td>\n",
       "      <td>cs.it eess.sp math.it</td>\n",
       "      <td>NaN</td>\n",
       "      <td>2025-02-03</td>\n",
       "      <td>NaN</td>\n",
       "      <td>['samin riasat', 'hessam mahdavifar']</td>\n",
       "      <td>[]</td>\n",
       "      <td>https://arxiv.org/abs/2502.01984</td>\n",
       "      <td>...</td>\n",
       "      <td>NaN</td>\n",
       "      <td>NaN</td>\n",
       "      <td>NaN</td>\n",
       "      <td>NaN</td>\n",
       "      <td>NaN</td>\n",
       "      <td>NaN</td>\n",
       "      <td>NaN</td>\n",
       "      <td>NaN</td>\n",
       "      <td>NaN</td>\n",
       "      <td>NaN</td>\n",
       "    </tr>\n",
       "    <tr>\n",
       "      <th>168</th>\n",
       "      <td>billiard trajectories inside cones</td>\n",
       "      <td>2502.01997</td>\n",
       "      <td>recently it was proved that every billiard tra...</td>\n",
       "      <td>math.ds math.dg</td>\n",
       "      <td>NaN</td>\n",
       "      <td>2025-02-03</td>\n",
       "      <td>NaN</td>\n",
       "      <td>['andrey e. mironov', 'siyao yin']</td>\n",
       "      <td>[]</td>\n",
       "      <td>https://arxiv.org/abs/2502.01997</td>\n",
       "      <td>...</td>\n",
       "      <td>NaN</td>\n",
       "      <td>NaN</td>\n",
       "      <td>NaN</td>\n",
       "      <td>NaN</td>\n",
       "      <td>NaN</td>\n",
       "      <td>NaN</td>\n",
       "      <td>NaN</td>\n",
       "      <td>NaN</td>\n",
       "      <td>NaN</td>\n",
       "      <td>NaN</td>\n",
       "    </tr>\n",
       "    <tr>\n",
       "      <th>169</th>\n",
       "      <td>hadamard multipliers of the agler class</td>\n",
       "      <td>2502.01999</td>\n",
       "      <td>we prove several results about functions which...</td>\n",
       "      <td>math.fa math.cv</td>\n",
       "      <td>NaN</td>\n",
       "      <td>2025-02-03</td>\n",
       "      <td>NaN</td>\n",
       "      <td>['greg knese']</td>\n",
       "      <td>[]</td>\n",
       "      <td>https://arxiv.org/abs/2502.01999</td>\n",
       "      <td>...</td>\n",
       "      <td>NaN</td>\n",
       "      <td>NaN</td>\n",
       "      <td>NaN</td>\n",
       "      <td>NaN</td>\n",
       "      <td>NaN</td>\n",
       "      <td>NaN</td>\n",
       "      <td>NaN</td>\n",
       "      <td>NaN</td>\n",
       "      <td>NaN</td>\n",
       "      <td>NaN</td>\n",
       "    </tr>\n",
       "  </tbody>\n",
       "</table>\n",
       "<p>170 rows × 94 columns</p>\n",
       "</div>\n",
       "    <div class=\"colab-df-buttons\">\n",
       "\n",
       "  <div class=\"colab-df-container\">\n",
       "    <button class=\"colab-df-convert\" onclick=\"convertToInteractive('df-e24d4870-d88f-415e-84ae-af5f3f1b6193')\"\n",
       "            title=\"Convert this dataframe to an interactive table.\"\n",
       "            style=\"display:none;\">\n",
       "\n",
       "  <svg xmlns=\"http://www.w3.org/2000/svg\" height=\"24px\" viewBox=\"0 -960 960 960\">\n",
       "    <path d=\"M120-120v-720h720v720H120Zm60-500h600v-160H180v160Zm220 220h160v-160H400v160Zm0 220h160v-160H400v160ZM180-400h160v-160H180v160Zm440 0h160v-160H620v160ZM180-180h160v-160H180v160Zm440 0h160v-160H620v160Z\"/>\n",
       "  </svg>\n",
       "    </button>\n",
       "\n",
       "  <style>\n",
       "    .colab-df-container {\n",
       "      display:flex;\n",
       "      gap: 12px;\n",
       "    }\n",
       "\n",
       "    .colab-df-convert {\n",
       "      background-color: #E8F0FE;\n",
       "      border: none;\n",
       "      border-radius: 50%;\n",
       "      cursor: pointer;\n",
       "      display: none;\n",
       "      fill: #1967D2;\n",
       "      height: 32px;\n",
       "      padding: 0 0 0 0;\n",
       "      width: 32px;\n",
       "    }\n",
       "\n",
       "    .colab-df-convert:hover {\n",
       "      background-color: #E2EBFA;\n",
       "      box-shadow: 0px 1px 2px rgba(60, 64, 67, 0.3), 0px 1px 3px 1px rgba(60, 64, 67, 0.15);\n",
       "      fill: #174EA6;\n",
       "    }\n",
       "\n",
       "    .colab-df-buttons div {\n",
       "      margin-bottom: 4px;\n",
       "    }\n",
       "\n",
       "    [theme=dark] .colab-df-convert {\n",
       "      background-color: #3B4455;\n",
       "      fill: #D2E3FC;\n",
       "    }\n",
       "\n",
       "    [theme=dark] .colab-df-convert:hover {\n",
       "      background-color: #434B5C;\n",
       "      box-shadow: 0px 1px 3px 1px rgba(0, 0, 0, 0.15);\n",
       "      filter: drop-shadow(0px 1px 2px rgba(0, 0, 0, 0.3));\n",
       "      fill: #FFFFFF;\n",
       "    }\n",
       "  </style>\n",
       "\n",
       "    <script>\n",
       "      const buttonEl =\n",
       "        document.querySelector('#df-e24d4870-d88f-415e-84ae-af5f3f1b6193 button.colab-df-convert');\n",
       "      buttonEl.style.display =\n",
       "        google.colab.kernel.accessAllowed ? 'block' : 'none';\n",
       "\n",
       "      async function convertToInteractive(key) {\n",
       "        const element = document.querySelector('#df-e24d4870-d88f-415e-84ae-af5f3f1b6193');\n",
       "        const dataTable =\n",
       "          await google.colab.kernel.invokeFunction('convertToInteractive',\n",
       "                                                    [key], {});\n",
       "        if (!dataTable) return;\n",
       "\n",
       "        const docLinkHtml = 'Like what you see? Visit the ' +\n",
       "          '<a target=\"_blank\" href=https://colab.research.google.com/notebooks/data_table.ipynb>data table notebook</a>'\n",
       "          + ' to learn more about interactive tables.';\n",
       "        element.innerHTML = '';\n",
       "        dataTable['output_type'] = 'display_data';\n",
       "        await google.colab.output.renderOutput(dataTable, element);\n",
       "        const docLink = document.createElement('div');\n",
       "        docLink.innerHTML = docLinkHtml;\n",
       "        element.appendChild(docLink);\n",
       "      }\n",
       "    </script>\n",
       "  </div>\n",
       "\n",
       "\n",
       "    <div id=\"df-e7e1fdee-3d89-4f1d-b002-8c69bb644e5f\">\n",
       "      <button class=\"colab-df-quickchart\" onclick=\"quickchart('df-e7e1fdee-3d89-4f1d-b002-8c69bb644e5f')\"\n",
       "                title=\"Suggest charts\"\n",
       "                style=\"display:none;\">\n",
       "\n",
       "<svg xmlns=\"http://www.w3.org/2000/svg\" height=\"24px\"viewBox=\"0 0 24 24\"\n",
       "     width=\"24px\">\n",
       "    <g>\n",
       "        <path d=\"M19 3H5c-1.1 0-2 .9-2 2v14c0 1.1.9 2 2 2h14c1.1 0 2-.9 2-2V5c0-1.1-.9-2-2-2zM9 17H7v-7h2v7zm4 0h-2V7h2v10zm4 0h-2v-4h2v4z\"/>\n",
       "    </g>\n",
       "</svg>\n",
       "      </button>\n",
       "\n",
       "<style>\n",
       "  .colab-df-quickchart {\n",
       "      --bg-color: #E8F0FE;\n",
       "      --fill-color: #1967D2;\n",
       "      --hover-bg-color: #E2EBFA;\n",
       "      --hover-fill-color: #174EA6;\n",
       "      --disabled-fill-color: #AAA;\n",
       "      --disabled-bg-color: #DDD;\n",
       "  }\n",
       "\n",
       "  [theme=dark] .colab-df-quickchart {\n",
       "      --bg-color: #3B4455;\n",
       "      --fill-color: #D2E3FC;\n",
       "      --hover-bg-color: #434B5C;\n",
       "      --hover-fill-color: #FFFFFF;\n",
       "      --disabled-bg-color: #3B4455;\n",
       "      --disabled-fill-color: #666;\n",
       "  }\n",
       "\n",
       "  .colab-df-quickchart {\n",
       "    background-color: var(--bg-color);\n",
       "    border: none;\n",
       "    border-radius: 50%;\n",
       "    cursor: pointer;\n",
       "    display: none;\n",
       "    fill: var(--fill-color);\n",
       "    height: 32px;\n",
       "    padding: 0;\n",
       "    width: 32px;\n",
       "  }\n",
       "\n",
       "  .colab-df-quickchart:hover {\n",
       "    background-color: var(--hover-bg-color);\n",
       "    box-shadow: 0 1px 2px rgba(60, 64, 67, 0.3), 0 1px 3px 1px rgba(60, 64, 67, 0.15);\n",
       "    fill: var(--button-hover-fill-color);\n",
       "  }\n",
       "\n",
       "  .colab-df-quickchart-complete:disabled,\n",
       "  .colab-df-quickchart-complete:disabled:hover {\n",
       "    background-color: var(--disabled-bg-color);\n",
       "    fill: var(--disabled-fill-color);\n",
       "    box-shadow: none;\n",
       "  }\n",
       "\n",
       "  .colab-df-spinner {\n",
       "    border: 2px solid var(--fill-color);\n",
       "    border-color: transparent;\n",
       "    border-bottom-color: var(--fill-color);\n",
       "    animation:\n",
       "      spin 1s steps(1) infinite;\n",
       "  }\n",
       "\n",
       "  @keyframes spin {\n",
       "    0% {\n",
       "      border-color: transparent;\n",
       "      border-bottom-color: var(--fill-color);\n",
       "      border-left-color: var(--fill-color);\n",
       "    }\n",
       "    20% {\n",
       "      border-color: transparent;\n",
       "      border-left-color: var(--fill-color);\n",
       "      border-top-color: var(--fill-color);\n",
       "    }\n",
       "    30% {\n",
       "      border-color: transparent;\n",
       "      border-left-color: var(--fill-color);\n",
       "      border-top-color: var(--fill-color);\n",
       "      border-right-color: var(--fill-color);\n",
       "    }\n",
       "    40% {\n",
       "      border-color: transparent;\n",
       "      border-right-color: var(--fill-color);\n",
       "      border-top-color: var(--fill-color);\n",
       "    }\n",
       "    60% {\n",
       "      border-color: transparent;\n",
       "      border-right-color: var(--fill-color);\n",
       "    }\n",
       "    80% {\n",
       "      border-color: transparent;\n",
       "      border-right-color: var(--fill-color);\n",
       "      border-bottom-color: var(--fill-color);\n",
       "    }\n",
       "    90% {\n",
       "      border-color: transparent;\n",
       "      border-bottom-color: var(--fill-color);\n",
       "    }\n",
       "  }\n",
       "</style>\n",
       "\n",
       "      <script>\n",
       "        async function quickchart(key) {\n",
       "          const quickchartButtonEl =\n",
       "            document.querySelector('#' + key + ' button');\n",
       "          quickchartButtonEl.disabled = true;  // To prevent multiple clicks.\n",
       "          quickchartButtonEl.classList.add('colab-df-spinner');\n",
       "          try {\n",
       "            const charts = await google.colab.kernel.invokeFunction(\n",
       "                'suggestCharts', [key], {});\n",
       "          } catch (error) {\n",
       "            console.error('Error during call to suggestCharts:', error);\n",
       "          }\n",
       "          quickchartButtonEl.classList.remove('colab-df-spinner');\n",
       "          quickchartButtonEl.classList.add('colab-df-quickchart-complete');\n",
       "        }\n",
       "        (() => {\n",
       "          let quickchartButtonEl =\n",
       "            document.querySelector('#df-e7e1fdee-3d89-4f1d-b002-8c69bb644e5f button');\n",
       "          quickchartButtonEl.style.display =\n",
       "            google.colab.kernel.accessAllowed ? 'block' : 'none';\n",
       "        })();\n",
       "      </script>\n",
       "    </div>\n",
       "\n",
       "  <div id=\"id_7727421b-1df2-4370-88b0-2dfee15cf4d0\">\n",
       "    <style>\n",
       "      .colab-df-generate {\n",
       "        background-color: #E8F0FE;\n",
       "        border: none;\n",
       "        border-radius: 50%;\n",
       "        cursor: pointer;\n",
       "        display: none;\n",
       "        fill: #1967D2;\n",
       "        height: 32px;\n",
       "        padding: 0 0 0 0;\n",
       "        width: 32px;\n",
       "      }\n",
       "\n",
       "      .colab-df-generate:hover {\n",
       "        background-color: #E2EBFA;\n",
       "        box-shadow: 0px 1px 2px rgba(60, 64, 67, 0.3), 0px 1px 3px 1px rgba(60, 64, 67, 0.15);\n",
       "        fill: #174EA6;\n",
       "      }\n",
       "\n",
       "      [theme=dark] .colab-df-generate {\n",
       "        background-color: #3B4455;\n",
       "        fill: #D2E3FC;\n",
       "      }\n",
       "\n",
       "      [theme=dark] .colab-df-generate:hover {\n",
       "        background-color: #434B5C;\n",
       "        box-shadow: 0px 1px 3px 1px rgba(0, 0, 0, 0.15);\n",
       "        filter: drop-shadow(0px 1px 2px rgba(0, 0, 0, 0.3));\n",
       "        fill: #FFFFFF;\n",
       "      }\n",
       "    </style>\n",
       "    <button class=\"colab-df-generate\" onclick=\"generateWithVariable('meta')\"\n",
       "            title=\"Generate code using this dataframe.\"\n",
       "            style=\"display:none;\">\n",
       "\n",
       "  <svg xmlns=\"http://www.w3.org/2000/svg\" height=\"24px\"viewBox=\"0 0 24 24\"\n",
       "       width=\"24px\">\n",
       "    <path d=\"M7,19H8.4L18.45,9,17,7.55,7,17.6ZM5,21V16.75L18.45,3.32a2,2,0,0,1,2.83,0l1.4,1.43a1.91,1.91,0,0,1,.58,1.4,1.91,1.91,0,0,1-.58,1.4L9.25,21ZM18.45,9,17,7.55Zm-12,3A5.31,5.31,0,0,0,4.9,8.1,5.31,5.31,0,0,0,1,6.5,5.31,5.31,0,0,0,4.9,4.9,5.31,5.31,0,0,0,6.5,1,5.31,5.31,0,0,0,8.1,4.9,5.31,5.31,0,0,0,12,6.5,5.46,5.46,0,0,0,6.5,12Z\"/>\n",
       "  </svg>\n",
       "    </button>\n",
       "    <script>\n",
       "      (() => {\n",
       "      const buttonEl =\n",
       "        document.querySelector('#id_7727421b-1df2-4370-88b0-2dfee15cf4d0 button.colab-df-generate');\n",
       "      buttonEl.style.display =\n",
       "        google.colab.kernel.accessAllowed ? 'block' : 'none';\n",
       "\n",
       "      buttonEl.onclick = () => {\n",
       "        google.colab.notebook.generateWithVariable('meta');\n",
       "      }\n",
       "      })();\n",
       "    </script>\n",
       "  </div>\n",
       "\n",
       "    </div>\n",
       "  </div>\n"
      ],
      "text/plain": [
       "                                                 title          id  \\\n",
       "0    direct inversion scheme of time-domain fluores...  2502.01037   \n",
       "1    existence of unconditional frames formed by sy...  2502.01047   \n",
       "2    on the surprising robustness of sequential con...  2502.01055   \n",
       "3    time-asymptotic stability of composite wave fo...  2502.01063   \n",
       "4    acf-monotonicity formula on rcd(0,n) metric me...  2502.01064   \n",
       "..                                                 ...         ...   \n",
       "165                           pseudo-cartan inclusions  2502.01975   \n",
       "166                       diagrammatics of information  2502.01983   \n",
       "167       efficient covering using reed--solomon codes  2502.01984   \n",
       "168                 billiard trajectories inside cones  2502.01997   \n",
       "169            hadamard multipliers of the agler class  2502.01999   \n",
       "\n",
       "                                              abstract  \\\n",
       "0    this paper proposes a direct inversion scheme ...   \n",
       "1    let $1\\leq p\\leq 2$ and let $\\lambda = \\{\\lamb...   \n",
       "2    contact-implicit motion planning-embedding con...   \n",
       "3    we study the asymptotic stability of a composi...   \n",
       "4    the acf-monotonicity formula is a powerful too...   \n",
       "..                                                 ...   \n",
       "165  we define a new class of regular inclusions, t...   \n",
       "166  we introduce a diagrammatic perspective for sh...   \n",
       "167  we propose an efficient algorithm to find a re...   \n",
       "168  recently it was proved that every billiard tra...   \n",
       "169  we prove several results about functions which...   \n",
       "\n",
       "                        categories  doi     created     updated  \\\n",
       "0          math.ap math-ph math.mp  NaN  2025-02-02         NaN   \n",
       "1                          math.fa  NaN  2025-02-02  2025-02-12   \n",
       "2                    math.oc cs.ro  NaN  2025-02-03  2025-03-01   \n",
       "3                          math.ap  NaN  2025-02-03         NaN   \n",
       "4                  math.ap math.mg  NaN  2025-02-03         NaN   \n",
       "..                             ...  ...         ...         ...   \n",
       "165                        math.oa  NaN  2025-02-03         NaN   \n",
       "166  math-ph cs.it math.it math.mp  NaN  2025-02-03         NaN   \n",
       "167          cs.it eess.sp math.it  NaN  2025-02-03         NaN   \n",
       "168                math.ds math.dg  NaN  2025-02-03         NaN   \n",
       "169                math.fa math.cv  NaN  2025-02-03         NaN   \n",
       "\n",
       "                                               authors affiliation  \\\n",
       "0    ['shuli chen', 'junyong eom', 'gen nakamura', ...          []   \n",
       "1                                       ['pu-ting yu']          []   \n",
       "2    ['yulin li', 'haoyu han', 'shucheng kang', 'ju...          []   \n",
       "3                        ['sungho han', 'jeongho kim']          []   \n",
       "4                                        ['lin sitan']          []   \n",
       "..                                                 ...         ...   \n",
       "165                                 ['david r. pitts']          []   \n",
       "166      ['mee seong im', 'clement kam', 'caden pici']          []   \n",
       "167              ['samin riasat', 'hessam mahdavifar']          []   \n",
       "168                 ['andrey e. mironov', 'siyao yin']          []   \n",
       "169                                     ['greg knese']          []   \n",
       "\n",
       "                                  url  ...  definition_49  definition_50  \\\n",
       "0    https://arxiv.org/abs/2502.01037  ...            NaN            NaN   \n",
       "1    https://arxiv.org/abs/2502.01047  ...            NaN            NaN   \n",
       "2    https://arxiv.org/abs/2502.01055  ...            NaN            NaN   \n",
       "3    https://arxiv.org/abs/2502.01063  ...            NaN            NaN   \n",
       "4    https://arxiv.org/abs/2502.01064  ...            NaN            NaN   \n",
       "..                                ...  ...            ...            ...   \n",
       "165  https://arxiv.org/abs/2502.01975  ...            NaN            NaN   \n",
       "166  https://arxiv.org/abs/2502.01983  ...            NaN            NaN   \n",
       "167  https://arxiv.org/abs/2502.01984  ...            NaN            NaN   \n",
       "168  https://arxiv.org/abs/2502.01997  ...            NaN            NaN   \n",
       "169  https://arxiv.org/abs/2502.01999  ...            NaN            NaN   \n",
       "\n",
       "     definition_51  definition_52 definition_53 definition_54 definition_55  \\\n",
       "0              NaN            NaN           NaN           NaN           NaN   \n",
       "1              NaN            NaN           NaN           NaN           NaN   \n",
       "2              NaN            NaN           NaN           NaN           NaN   \n",
       "3              NaN            NaN           NaN           NaN           NaN   \n",
       "4              NaN            NaN           NaN           NaN           NaN   \n",
       "..             ...            ...           ...           ...           ...   \n",
       "165            NaN            NaN           NaN           NaN           NaN   \n",
       "166            NaN            NaN           NaN           NaN           NaN   \n",
       "167            NaN            NaN           NaN           NaN           NaN   \n",
       "168            NaN            NaN           NaN           NaN           NaN   \n",
       "169            NaN            NaN           NaN           NaN           NaN   \n",
       "\n",
       "    definition_56 definition_57 definition_58  \n",
       "0             NaN           NaN           NaN  \n",
       "1             NaN           NaN           NaN  \n",
       "2             NaN           NaN           NaN  \n",
       "3             NaN           NaN           NaN  \n",
       "4             NaN           NaN           NaN  \n",
       "..            ...           ...           ...  \n",
       "165           NaN           NaN           NaN  \n",
       "166           NaN           NaN           NaN  \n",
       "167           NaN           NaN           NaN  \n",
       "168           NaN           NaN           NaN  \n",
       "169           NaN           NaN           NaN  \n",
       "\n",
       "[170 rows x 94 columns]"
      ]
     },
     "execution_count": 29,
     "metadata": {},
     "output_type": "execute_result"
    }
   ],
   "source": [
    "# Load the CSV file\n",
    "meta = pd.read_csv('/content/drive/MyDrive/MSThesis/PREPROCESSING/extract_theo_Def.csv')\n",
    "meta"
   ]
  },
  {
   "cell_type": "code",
   "execution_count": null,
   "metadata": {
    "id": "8xA3434d90q2"
   },
   "outputs": [],
   "source": []
  },
  {
   "cell_type": "code",
   "execution_count": null,
   "metadata": {
    "id": "ghbCThcQAjfk"
   },
   "outputs": [],
   "source": [
    "cols_to_drop = ['num_theorems', 'num_definitions', 'authors'] + \\\n",
    "               [c for c in meta.columns\n",
    "                if c.startswith('theorem_') or c.startswith('definition_')]\n",
    "\n",
    "meta = meta.drop(columns=cols_to_drop)          # or meta.drop(cols_to_drop, axis=1, inplace=True)"
   ]
  },
  {
   "cell_type": "code",
   "execution_count": null,
   "metadata": {
    "colab": {
     "base_uri": "https://localhost:8080/"
    },
    "executionInfo": {
     "elapsed": 5,
     "status": "ok",
     "timestamp": 1747404980558,
     "user": {
      "displayName": "Natalia Lavrova",
      "userId": "06691402705171570003"
     },
     "user_tz": -120
    },
    "id": "vf6JRhF2AYTN",
    "outputId": "006fb86d-a931-4539-f355-74b3029b99cf"
   },
   "outputs": [
    {
     "data": {
      "text/plain": [
       "Index(['title', 'id', 'abstract', 'categories', 'doi', 'created', 'updated',\n",
       "       'affiliation', 'url', 'total_tex_files', 'total_lines'],\n",
       "      dtype='object')"
      ]
     },
     "execution_count": 31,
     "metadata": {},
     "output_type": "execute_result"
    }
   ],
   "source": [
    "meta.columns"
   ]
  },
  {
   "cell_type": "code",
   "execution_count": null,
   "metadata": {
    "id": "1UY3fKqZn9zg"
   },
   "outputs": [],
   "source": [
    "# Ensure 'id' is a string for comparison\n",
    "meta['id'] = meta['id'].astype(str)"
   ]
  },
  {
   "cell_type": "code",
   "execution_count": null,
   "metadata": {
    "id": "quOwW149nnMz"
   },
   "outputs": [],
   "source": [
    "# Merge on the cleaned 'id'\n",
    "merged_df = pd.merge(df, meta, left_on='id_clean', right_on='id', how='inner')\n",
    "\n",
    "# Display or save the merged result\n",
    "merged_df.to_csv('/content/drive/MyDrive/MSThesis/Output/merged_df.csv', index=False)\n"
   ]
  },
  {
   "cell_type": "code",
   "execution_count": null,
   "metadata": {
    "colab": {
     "base_uri": "https://localhost:8080/",
     "height": 269
    },
    "executionInfo": {
     "elapsed": 8,
     "status": "ok",
     "timestamp": 1747406437791,
     "user": {
      "displayName": "Natalia Lavrova",
      "userId": "06691402705171570003"
     },
     "user_tz": -120
    },
    "id": "a5PCwsnWoG_q",
    "outputId": "222a6c49-164b-4dc3-e3be-f04eec5f4c23"
   },
   "outputs": [
    {
     "data": {
      "application/vnd.google.colaboratory.intrinsic+json": {
       "type": "dataframe",
       "variable_name": "merged_df"
      },
      "text/html": [
       "\n",
       "  <div id=\"df-0d38f89c-0bba-40d5-94d3-fdce73e4669d\" class=\"colab-df-container\">\n",
       "    <div>\n",
       "<style scoped>\n",
       "    .dataframe tbody tr th:only-of-type {\n",
       "        vertical-align: middle;\n",
       "    }\n",
       "\n",
       "    .dataframe tbody tr th {\n",
       "        vertical-align: top;\n",
       "    }\n",
       "\n",
       "    .dataframe thead th {\n",
       "        text-align: right;\n",
       "    }\n",
       "</style>\n",
       "<table border=\"1\" class=\"dataframe\">\n",
       "  <thead>\n",
       "    <tr style=\"text-align: right;\">\n",
       "      <th></th>\n",
       "      <th>filename</th>\n",
       "      <th>tex_file</th>\n",
       "      <th>authors</th>\n",
       "      <th>propositions</th>\n",
       "      <th>definitions</th>\n",
       "      <th>lemmas</th>\n",
       "      <th>theorems</th>\n",
       "      <th>proofs</th>\n",
       "      <th>equations</th>\n",
       "      <th>sentences</th>\n",
       "      <th>...</th>\n",
       "      <th>id</th>\n",
       "      <th>abstract_y</th>\n",
       "      <th>categories_y</th>\n",
       "      <th>doi_y</th>\n",
       "      <th>created_y</th>\n",
       "      <th>updated_y</th>\n",
       "      <th>affiliation_y</th>\n",
       "      <th>url_y</th>\n",
       "      <th>total_tex_files_y</th>\n",
       "      <th>total_lines_y</th>\n",
       "    </tr>\n",
       "  </thead>\n",
       "  <tbody>\n",
       "    <tr>\n",
       "      <th>0</th>\n",
       "      <td>2502.01343.gz</td>\n",
       "      <td>Hofer.tex</td>\n",
       "      <td>Roswitha HoferInstitute of Financial Mathemati...</td>\n",
       "      <td>[%Let $n\\in\\NN$. We have $H_1^{(n,0)}=(U^{(n,0...</td>\n",
       "      <td>[]</td>\n",
       "      <td>[\\label{cor:1}\\nWe have $M_1^T\\diag\\big(((-1)^...</td>\n",
       "      <td>[\\label{thm:1}\\n\\tWe have $M_1(a)M_1(b)=M_1(a+...</td>\n",
       "      <td>[We may assume that both $a$ and $b$ are nonze...</td>\n",
       "      <td>[$\\hfill\\Box$, $\\ZZ$, $2$, $2$, $2$, $0$, $1$,...</td>\n",
       "      <td>[\\documentclass{article} \\usepackage{amssymb,a...</td>\n",
       "      <td>...</td>\n",
       "      <td>2502.01343</td>\n",
       "      <td>the pascal matrix, which is related to pascal'...</td>\n",
       "      <td>math.nt</td>\n",
       "      <td>NaN</td>\n",
       "      <td>2025-02-03</td>\n",
       "      <td>NaN</td>\n",
       "      <td>[]</td>\n",
       "      <td>https://arxiv.org/abs/2502.01343</td>\n",
       "      <td>1</td>\n",
       "      <td>387</td>\n",
       "    </tr>\n",
       "  </tbody>\n",
       "</table>\n",
       "<p>1 rows × 37 columns</p>\n",
       "</div>\n",
       "    <div class=\"colab-df-buttons\">\n",
       "\n",
       "  <div class=\"colab-df-container\">\n",
       "    <button class=\"colab-df-convert\" onclick=\"convertToInteractive('df-0d38f89c-0bba-40d5-94d3-fdce73e4669d')\"\n",
       "            title=\"Convert this dataframe to an interactive table.\"\n",
       "            style=\"display:none;\">\n",
       "\n",
       "  <svg xmlns=\"http://www.w3.org/2000/svg\" height=\"24px\" viewBox=\"0 -960 960 960\">\n",
       "    <path d=\"M120-120v-720h720v720H120Zm60-500h600v-160H180v160Zm220 220h160v-160H400v160Zm0 220h160v-160H400v160ZM180-400h160v-160H180v160Zm440 0h160v-160H620v160ZM180-180h160v-160H180v160Zm440 0h160v-160H620v160Z\"/>\n",
       "  </svg>\n",
       "    </button>\n",
       "\n",
       "  <style>\n",
       "    .colab-df-container {\n",
       "      display:flex;\n",
       "      gap: 12px;\n",
       "    }\n",
       "\n",
       "    .colab-df-convert {\n",
       "      background-color: #E8F0FE;\n",
       "      border: none;\n",
       "      border-radius: 50%;\n",
       "      cursor: pointer;\n",
       "      display: none;\n",
       "      fill: #1967D2;\n",
       "      height: 32px;\n",
       "      padding: 0 0 0 0;\n",
       "      width: 32px;\n",
       "    }\n",
       "\n",
       "    .colab-df-convert:hover {\n",
       "      background-color: #E2EBFA;\n",
       "      box-shadow: 0px 1px 2px rgba(60, 64, 67, 0.3), 0px 1px 3px 1px rgba(60, 64, 67, 0.15);\n",
       "      fill: #174EA6;\n",
       "    }\n",
       "\n",
       "    .colab-df-buttons div {\n",
       "      margin-bottom: 4px;\n",
       "    }\n",
       "\n",
       "    [theme=dark] .colab-df-convert {\n",
       "      background-color: #3B4455;\n",
       "      fill: #D2E3FC;\n",
       "    }\n",
       "\n",
       "    [theme=dark] .colab-df-convert:hover {\n",
       "      background-color: #434B5C;\n",
       "      box-shadow: 0px 1px 3px 1px rgba(0, 0, 0, 0.15);\n",
       "      filter: drop-shadow(0px 1px 2px rgba(0, 0, 0, 0.3));\n",
       "      fill: #FFFFFF;\n",
       "    }\n",
       "  </style>\n",
       "\n",
       "    <script>\n",
       "      const buttonEl =\n",
       "        document.querySelector('#df-0d38f89c-0bba-40d5-94d3-fdce73e4669d button.colab-df-convert');\n",
       "      buttonEl.style.display =\n",
       "        google.colab.kernel.accessAllowed ? 'block' : 'none';\n",
       "\n",
       "      async function convertToInteractive(key) {\n",
       "        const element = document.querySelector('#df-0d38f89c-0bba-40d5-94d3-fdce73e4669d');\n",
       "        const dataTable =\n",
       "          await google.colab.kernel.invokeFunction('convertToInteractive',\n",
       "                                                    [key], {});\n",
       "        if (!dataTable) return;\n",
       "\n",
       "        const docLinkHtml = 'Like what you see? Visit the ' +\n",
       "          '<a target=\"_blank\" href=https://colab.research.google.com/notebooks/data_table.ipynb>data table notebook</a>'\n",
       "          + ' to learn more about interactive tables.';\n",
       "        element.innerHTML = '';\n",
       "        dataTable['output_type'] = 'display_data';\n",
       "        await google.colab.output.renderOutput(dataTable, element);\n",
       "        const docLink = document.createElement('div');\n",
       "        docLink.innerHTML = docLinkHtml;\n",
       "        element.appendChild(docLink);\n",
       "      }\n",
       "    </script>\n",
       "  </div>\n",
       "\n",
       "\n",
       "    </div>\n",
       "  </div>\n"
      ],
      "text/plain": [
       "        filename   tex_file  \\\n",
       "0  2502.01343.gz  Hofer.tex   \n",
       "\n",
       "                                             authors  \\\n",
       "0  Roswitha HoferInstitute of Financial Mathemati...   \n",
       "\n",
       "                                        propositions definitions  \\\n",
       "0  [%Let $n\\in\\NN$. We have $H_1^{(n,0)}=(U^{(n,0...          []   \n",
       "\n",
       "                                              lemmas  \\\n",
       "0  [\\label{cor:1}\\nWe have $M_1^T\\diag\\big(((-1)^...   \n",
       "\n",
       "                                            theorems  \\\n",
       "0  [\\label{thm:1}\\n\\tWe have $M_1(a)M_1(b)=M_1(a+...   \n",
       "\n",
       "                                              proofs  \\\n",
       "0  [We may assume that both $a$ and $b$ are nonze...   \n",
       "\n",
       "                                           equations  \\\n",
       "0  [$\\hfill\\Box$, $\\ZZ$, $2$, $2$, $2$, $0$, $1$,...   \n",
       "\n",
       "                                           sentences  ...          id  \\\n",
       "0  [\\documentclass{article} \\usepackage{amssymb,a...  ...  2502.01343   \n",
       "\n",
       "                                          abstract_y  categories_y  doi_y  \\\n",
       "0  the pascal matrix, which is related to pascal'...       math.nt    NaN   \n",
       "\n",
       "    created_y updated_y affiliation_y                             url_y  \\\n",
       "0  2025-02-03       NaN            []  https://arxiv.org/abs/2502.01343   \n",
       "\n",
       "  total_tex_files_y total_lines_y  \n",
       "0                 1           387  \n",
       "\n",
       "[1 rows x 37 columns]"
      ]
     },
     "execution_count": 48,
     "metadata": {},
     "output_type": "execute_result"
    }
   ],
   "source": [
    "merged_df.head(1)"
   ]
  },
  {
   "cell_type": "code",
   "execution_count": null,
   "metadata": {
    "colab": {
     "base_uri": "https://localhost:8080/"
    },
    "executionInfo": {
     "elapsed": 6,
     "status": "ok",
     "timestamp": 1747404985704,
     "user": {
      "displayName": "Natalia Lavrova",
      "userId": "06691402705171570003"
     },
     "user_tz": -120
    },
    "id": "j4PcF9hQClN-",
    "outputId": "b7b190a2-bf25-47ce-8ba4-45cb4f7c2d7f"
   },
   "outputs": [
    {
     "data": {
      "text/plain": [
       "Index(['filename', 'tex_file', 'authors', 'propositions', 'definitions',\n",
       "       'lemmas', 'theorems', 'proofs', 'equations', 'sentences',\n",
       "       'num_propositions', 'num_definitions', 'num_lemmas', 'num_theorems',\n",
       "       'status', 'id_clean', 'title', 'abstract', 'categories', 'doi',\n",
       "       'created', 'updated', 'affiliation', 'url', 'total_tex_files',\n",
       "       'total_lines'],\n",
       "      dtype='object')"
      ]
     },
     "execution_count": 35,
     "metadata": {},
     "output_type": "execute_result"
    }
   ],
   "source": [
    "merged_df = merged_df.drop(columns=['id'])\n",
    "merged_df.columns"
   ]
  },
  {
   "cell_type": "code",
   "execution_count": null,
   "metadata": {
    "id": "Og1YXugi34nu"
   },
   "outputs": [],
   "source": [
    "df = merged_df"
   ]
  },
  {
   "cell_type": "code",
   "execution_count": null,
   "metadata": {
    "colab": {
     "base_uri": "https://localhost:8080/"
    },
    "executionInfo": {
     "elapsed": 4,
     "status": "ok",
     "timestamp": 1747404988097,
     "user": {
      "displayName": "Natalia Lavrova",
      "userId": "06691402705171570003"
     },
     "user_tz": -120
    },
    "id": "uRwufuRtd7xC",
    "outputId": "4427236b-f15d-4c15-c105-bbe6b7cc17f4"
   },
   "outputs": [
    {
     "name": "stdout",
     "output_type": "stream",
     "text": [
      "['\\\\label{thm:1}\\n\\tWe have $M_1(a)M_1(b)=M_1(a+b)$ for all $a,b\\\\in\\\\ZZ$.', '\\\\label{thm:PM_Hankel}\\nWe have $\\\\det(H_1^{(n)})=\\\\pm 1$ as well as $\\\\det(H_2^{(n)})=\\\\pm 1$ for all $n\\\\in\\\\NN$.']\n"
     ]
    }
   ],
   "source": [
    "print(df.iloc[0]['theorems'])"
   ]
  },
  {
   "cell_type": "code",
   "execution_count": null,
   "metadata": {
    "colab": {
     "base_uri": "https://localhost:8080/",
     "height": 370
    },
    "executionInfo": {
     "elapsed": 28,
     "status": "ok",
     "timestamp": 1747404989484,
     "user": {
      "displayName": "Natalia Lavrova",
      "userId": "06691402705171570003"
     },
     "user_tz": -120
    },
    "id": "y8mp68B34fXS",
    "outputId": "18f7a31a-63a2-4ec9-ada8-5111485b7845"
   },
   "outputs": [
    {
     "data": {
      "application/vnd.google.colaboratory.intrinsic+json": {
       "type": "dataframe",
       "variable_name": "df"
      },
      "text/html": [
       "\n",
       "  <div id=\"df-a3092b1f-0411-4ac5-8480-88577750ad03\" class=\"colab-df-container\">\n",
       "    <div>\n",
       "<style scoped>\n",
       "    .dataframe tbody tr th:only-of-type {\n",
       "        vertical-align: middle;\n",
       "    }\n",
       "\n",
       "    .dataframe tbody tr th {\n",
       "        vertical-align: top;\n",
       "    }\n",
       "\n",
       "    .dataframe thead th {\n",
       "        text-align: right;\n",
       "    }\n",
       "</style>\n",
       "<table border=\"1\" class=\"dataframe\">\n",
       "  <thead>\n",
       "    <tr style=\"text-align: right;\">\n",
       "      <th></th>\n",
       "      <th>filename</th>\n",
       "      <th>tex_file</th>\n",
       "      <th>authors</th>\n",
       "      <th>propositions</th>\n",
       "      <th>definitions</th>\n",
       "      <th>lemmas</th>\n",
       "      <th>theorems</th>\n",
       "      <th>proofs</th>\n",
       "      <th>equations</th>\n",
       "      <th>sentences</th>\n",
       "      <th>...</th>\n",
       "      <th>title</th>\n",
       "      <th>abstract</th>\n",
       "      <th>categories</th>\n",
       "      <th>doi</th>\n",
       "      <th>created</th>\n",
       "      <th>updated</th>\n",
       "      <th>affiliation</th>\n",
       "      <th>url</th>\n",
       "      <th>total_tex_files</th>\n",
       "      <th>total_lines</th>\n",
       "    </tr>\n",
       "  </thead>\n",
       "  <tbody>\n",
       "    <tr>\n",
       "      <th>0</th>\n",
       "      <td>2502.01343.gz</td>\n",
       "      <td>Hofer.tex</td>\n",
       "      <td>Roswitha HoferInstitute of Financial Mathemati...</td>\n",
       "      <td>[%Let $n\\in\\NN$. We have $H_1^{(n,0)}=(U^{(n,0...</td>\n",
       "      <td>[]</td>\n",
       "      <td>[\\label{cor:1}\\nWe have $M_1^T\\diag\\big(((-1)^...</td>\n",
       "      <td>[\\label{thm:1}\\n\\tWe have $M_1(a)M_1(b)=M_1(a+...</td>\n",
       "      <td>[We may assume that both $a$ and $b$ are nonze...</td>\n",
       "      <td>[$\\hfill\\Box$, $\\ZZ$, $2$, $2$, $2$, $0$, $1$,...</td>\n",
       "      <td>[\\documentclass{article} \\usepackage{amssymb,a...</td>\n",
       "      <td>...</td>\n",
       "      <td>a note on matrices over $\\mathbb{z}$ with entr...</td>\n",
       "      <td>the pascal matrix, which is related to pascal'...</td>\n",
       "      <td>math.nt</td>\n",
       "      <td>NaN</td>\n",
       "      <td>2025-02-03</td>\n",
       "      <td>NaN</td>\n",
       "      <td>[]</td>\n",
       "      <td>https://arxiv.org/abs/2502.01343</td>\n",
       "      <td>1</td>\n",
       "      <td>387</td>\n",
       "    </tr>\n",
       "    <tr>\n",
       "      <th>1</th>\n",
       "      <td>2502.01124.gz</td>\n",
       "      <td>Assoc_Flex_arXiv_v2.tex</td>\n",
       "      <td>Georg Nawratil</td>\n",
       "      <td>[]</td>\n",
       "      <td>[\\label{def1}\\nA framework realization has a $...</td>\n",
       "      <td>[]</td>\n",
       "      <td>[]</td>\n",
       "      <td>[]</td>\n",
       "      <td>[\\label{eq:flexk}\\n\\Vkt x_i':=\\Vkt x_i+ \\Vkt x...</td>\n",
       "      <td>[\\documentclass{svproc} \\usepackage{url} \\def\\...</td>\n",
       "      <td>...</td>\n",
       "      <td>on flexes associated with higher-order flexibl...</td>\n",
       "      <td>the famous example of the double-watt mechanis...</td>\n",
       "      <td>math.ag</td>\n",
       "      <td>NaN</td>\n",
       "      <td>2025-02-03</td>\n",
       "      <td>2025-02-10</td>\n",
       "      <td>[]</td>\n",
       "      <td>https://arxiv.org/abs/2502.01124</td>\n",
       "      <td>1</td>\n",
       "      <td>947</td>\n",
       "    </tr>\n",
       "  </tbody>\n",
       "</table>\n",
       "<p>2 rows × 26 columns</p>\n",
       "</div>\n",
       "    <div class=\"colab-df-buttons\">\n",
       "\n",
       "  <div class=\"colab-df-container\">\n",
       "    <button class=\"colab-df-convert\" onclick=\"convertToInteractive('df-a3092b1f-0411-4ac5-8480-88577750ad03')\"\n",
       "            title=\"Convert this dataframe to an interactive table.\"\n",
       "            style=\"display:none;\">\n",
       "\n",
       "  <svg xmlns=\"http://www.w3.org/2000/svg\" height=\"24px\" viewBox=\"0 -960 960 960\">\n",
       "    <path d=\"M120-120v-720h720v720H120Zm60-500h600v-160H180v160Zm220 220h160v-160H400v160Zm0 220h160v-160H400v160ZM180-400h160v-160H180v160Zm440 0h160v-160H620v160ZM180-180h160v-160H180v160Zm440 0h160v-160H620v160Z\"/>\n",
       "  </svg>\n",
       "    </button>\n",
       "\n",
       "  <style>\n",
       "    .colab-df-container {\n",
       "      display:flex;\n",
       "      gap: 12px;\n",
       "    }\n",
       "\n",
       "    .colab-df-convert {\n",
       "      background-color: #E8F0FE;\n",
       "      border: none;\n",
       "      border-radius: 50%;\n",
       "      cursor: pointer;\n",
       "      display: none;\n",
       "      fill: #1967D2;\n",
       "      height: 32px;\n",
       "      padding: 0 0 0 0;\n",
       "      width: 32px;\n",
       "    }\n",
       "\n",
       "    .colab-df-convert:hover {\n",
       "      background-color: #E2EBFA;\n",
       "      box-shadow: 0px 1px 2px rgba(60, 64, 67, 0.3), 0px 1px 3px 1px rgba(60, 64, 67, 0.15);\n",
       "      fill: #174EA6;\n",
       "    }\n",
       "\n",
       "    .colab-df-buttons div {\n",
       "      margin-bottom: 4px;\n",
       "    }\n",
       "\n",
       "    [theme=dark] .colab-df-convert {\n",
       "      background-color: #3B4455;\n",
       "      fill: #D2E3FC;\n",
       "    }\n",
       "\n",
       "    [theme=dark] .colab-df-convert:hover {\n",
       "      background-color: #434B5C;\n",
       "      box-shadow: 0px 1px 3px 1px rgba(0, 0, 0, 0.15);\n",
       "      filter: drop-shadow(0px 1px 2px rgba(0, 0, 0, 0.3));\n",
       "      fill: #FFFFFF;\n",
       "    }\n",
       "  </style>\n",
       "\n",
       "    <script>\n",
       "      const buttonEl =\n",
       "        document.querySelector('#df-a3092b1f-0411-4ac5-8480-88577750ad03 button.colab-df-convert');\n",
       "      buttonEl.style.display =\n",
       "        google.colab.kernel.accessAllowed ? 'block' : 'none';\n",
       "\n",
       "      async function convertToInteractive(key) {\n",
       "        const element = document.querySelector('#df-a3092b1f-0411-4ac5-8480-88577750ad03');\n",
       "        const dataTable =\n",
       "          await google.colab.kernel.invokeFunction('convertToInteractive',\n",
       "                                                    [key], {});\n",
       "        if (!dataTable) return;\n",
       "\n",
       "        const docLinkHtml = 'Like what you see? Visit the ' +\n",
       "          '<a target=\"_blank\" href=https://colab.research.google.com/notebooks/data_table.ipynb>data table notebook</a>'\n",
       "          + ' to learn more about interactive tables.';\n",
       "        element.innerHTML = '';\n",
       "        dataTable['output_type'] = 'display_data';\n",
       "        await google.colab.output.renderOutput(dataTable, element);\n",
       "        const docLink = document.createElement('div');\n",
       "        docLink.innerHTML = docLinkHtml;\n",
       "        element.appendChild(docLink);\n",
       "      }\n",
       "    </script>\n",
       "  </div>\n",
       "\n",
       "\n",
       "    <div id=\"df-1ae4a6c9-1d1b-46e5-8e4f-481413f6a1b9\">\n",
       "      <button class=\"colab-df-quickchart\" onclick=\"quickchart('df-1ae4a6c9-1d1b-46e5-8e4f-481413f6a1b9')\"\n",
       "                title=\"Suggest charts\"\n",
       "                style=\"display:none;\">\n",
       "\n",
       "<svg xmlns=\"http://www.w3.org/2000/svg\" height=\"24px\"viewBox=\"0 0 24 24\"\n",
       "     width=\"24px\">\n",
       "    <g>\n",
       "        <path d=\"M19 3H5c-1.1 0-2 .9-2 2v14c0 1.1.9 2 2 2h14c1.1 0 2-.9 2-2V5c0-1.1-.9-2-2-2zM9 17H7v-7h2v7zm4 0h-2V7h2v10zm4 0h-2v-4h2v4z\"/>\n",
       "    </g>\n",
       "</svg>\n",
       "      </button>\n",
       "\n",
       "<style>\n",
       "  .colab-df-quickchart {\n",
       "      --bg-color: #E8F0FE;\n",
       "      --fill-color: #1967D2;\n",
       "      --hover-bg-color: #E2EBFA;\n",
       "      --hover-fill-color: #174EA6;\n",
       "      --disabled-fill-color: #AAA;\n",
       "      --disabled-bg-color: #DDD;\n",
       "  }\n",
       "\n",
       "  [theme=dark] .colab-df-quickchart {\n",
       "      --bg-color: #3B4455;\n",
       "      --fill-color: #D2E3FC;\n",
       "      --hover-bg-color: #434B5C;\n",
       "      --hover-fill-color: #FFFFFF;\n",
       "      --disabled-bg-color: #3B4455;\n",
       "      --disabled-fill-color: #666;\n",
       "  }\n",
       "\n",
       "  .colab-df-quickchart {\n",
       "    background-color: var(--bg-color);\n",
       "    border: none;\n",
       "    border-radius: 50%;\n",
       "    cursor: pointer;\n",
       "    display: none;\n",
       "    fill: var(--fill-color);\n",
       "    height: 32px;\n",
       "    padding: 0;\n",
       "    width: 32px;\n",
       "  }\n",
       "\n",
       "  .colab-df-quickchart:hover {\n",
       "    background-color: var(--hover-bg-color);\n",
       "    box-shadow: 0 1px 2px rgba(60, 64, 67, 0.3), 0 1px 3px 1px rgba(60, 64, 67, 0.15);\n",
       "    fill: var(--button-hover-fill-color);\n",
       "  }\n",
       "\n",
       "  .colab-df-quickchart-complete:disabled,\n",
       "  .colab-df-quickchart-complete:disabled:hover {\n",
       "    background-color: var(--disabled-bg-color);\n",
       "    fill: var(--disabled-fill-color);\n",
       "    box-shadow: none;\n",
       "  }\n",
       "\n",
       "  .colab-df-spinner {\n",
       "    border: 2px solid var(--fill-color);\n",
       "    border-color: transparent;\n",
       "    border-bottom-color: var(--fill-color);\n",
       "    animation:\n",
       "      spin 1s steps(1) infinite;\n",
       "  }\n",
       "\n",
       "  @keyframes spin {\n",
       "    0% {\n",
       "      border-color: transparent;\n",
       "      border-bottom-color: var(--fill-color);\n",
       "      border-left-color: var(--fill-color);\n",
       "    }\n",
       "    20% {\n",
       "      border-color: transparent;\n",
       "      border-left-color: var(--fill-color);\n",
       "      border-top-color: var(--fill-color);\n",
       "    }\n",
       "    30% {\n",
       "      border-color: transparent;\n",
       "      border-left-color: var(--fill-color);\n",
       "      border-top-color: var(--fill-color);\n",
       "      border-right-color: var(--fill-color);\n",
       "    }\n",
       "    40% {\n",
       "      border-color: transparent;\n",
       "      border-right-color: var(--fill-color);\n",
       "      border-top-color: var(--fill-color);\n",
       "    }\n",
       "    60% {\n",
       "      border-color: transparent;\n",
       "      border-right-color: var(--fill-color);\n",
       "    }\n",
       "    80% {\n",
       "      border-color: transparent;\n",
       "      border-right-color: var(--fill-color);\n",
       "      border-bottom-color: var(--fill-color);\n",
       "    }\n",
       "    90% {\n",
       "      border-color: transparent;\n",
       "      border-bottom-color: var(--fill-color);\n",
       "    }\n",
       "  }\n",
       "</style>\n",
       "\n",
       "      <script>\n",
       "        async function quickchart(key) {\n",
       "          const quickchartButtonEl =\n",
       "            document.querySelector('#' + key + ' button');\n",
       "          quickchartButtonEl.disabled = true;  // To prevent multiple clicks.\n",
       "          quickchartButtonEl.classList.add('colab-df-spinner');\n",
       "          try {\n",
       "            const charts = await google.colab.kernel.invokeFunction(\n",
       "                'suggestCharts', [key], {});\n",
       "          } catch (error) {\n",
       "            console.error('Error during call to suggestCharts:', error);\n",
       "          }\n",
       "          quickchartButtonEl.classList.remove('colab-df-spinner');\n",
       "          quickchartButtonEl.classList.add('colab-df-quickchart-complete');\n",
       "        }\n",
       "        (() => {\n",
       "          let quickchartButtonEl =\n",
       "            document.querySelector('#df-1ae4a6c9-1d1b-46e5-8e4f-481413f6a1b9 button');\n",
       "          quickchartButtonEl.style.display =\n",
       "            google.colab.kernel.accessAllowed ? 'block' : 'none';\n",
       "        })();\n",
       "      </script>\n",
       "    </div>\n",
       "\n",
       "    </div>\n",
       "  </div>\n"
      ],
      "text/plain": [
       "        filename                 tex_file  \\\n",
       "0  2502.01343.gz                Hofer.tex   \n",
       "1  2502.01124.gz  Assoc_Flex_arXiv_v2.tex   \n",
       "\n",
       "                                             authors  \\\n",
       "0  Roswitha HoferInstitute of Financial Mathemati...   \n",
       "1                                     Georg Nawratil   \n",
       "\n",
       "                                        propositions  \\\n",
       "0  [%Let $n\\in\\NN$. We have $H_1^{(n,0)}=(U^{(n,0...   \n",
       "1                                                 []   \n",
       "\n",
       "                                         definitions  \\\n",
       "0                                                 []   \n",
       "1  [\\label{def1}\\nA framework realization has a $...   \n",
       "\n",
       "                                              lemmas  \\\n",
       "0  [\\label{cor:1}\\nWe have $M_1^T\\diag\\big(((-1)^...   \n",
       "1                                                 []   \n",
       "\n",
       "                                            theorems  \\\n",
       "0  [\\label{thm:1}\\n\\tWe have $M_1(a)M_1(b)=M_1(a+...   \n",
       "1                                                 []   \n",
       "\n",
       "                                              proofs  \\\n",
       "0  [We may assume that both $a$ and $b$ are nonze...   \n",
       "1                                                 []   \n",
       "\n",
       "                                           equations  \\\n",
       "0  [$\\hfill\\Box$, $\\ZZ$, $2$, $2$, $2$, $0$, $1$,...   \n",
       "1  [\\label{eq:flexk}\\n\\Vkt x_i':=\\Vkt x_i+ \\Vkt x...   \n",
       "\n",
       "                                           sentences  ...  \\\n",
       "0  [\\documentclass{article} \\usepackage{amssymb,a...  ...   \n",
       "1  [\\documentclass{svproc} \\usepackage{url} \\def\\...  ...   \n",
       "\n",
       "                                               title  \\\n",
       "0  a note on matrices over $\\mathbb{z}$ with entr...   \n",
       "1  on flexes associated with higher-order flexibl...   \n",
       "\n",
       "                                            abstract  categories  doi  \\\n",
       "0  the pascal matrix, which is related to pascal'...     math.nt  NaN   \n",
       "1  the famous example of the double-watt mechanis...     math.ag  NaN   \n",
       "\n",
       "      created     updated affiliation                               url  \\\n",
       "0  2025-02-03         NaN          []  https://arxiv.org/abs/2502.01343   \n",
       "1  2025-02-03  2025-02-10          []  https://arxiv.org/abs/2502.01124   \n",
       "\n",
       "  total_tex_files total_lines  \n",
       "0               1         387  \n",
       "1               1         947  \n",
       "\n",
       "[2 rows x 26 columns]"
      ]
     },
     "execution_count": 38,
     "metadata": {},
     "output_type": "execute_result"
    }
   ],
   "source": [
    "df.head(2)"
   ]
  },
  {
   "cell_type": "markdown",
   "metadata": {
    "id": "4OZ3jPENhVHI"
   },
   "source": [
    "# ***Data rearranging***"
   ]
  },
  {
   "cell_type": "code",
   "execution_count": null,
   "metadata": {
    "colab": {
     "base_uri": "https://localhost:8080/",
     "height": 573
    },
    "executionInfo": {
     "elapsed": 458,
     "status": "ok",
     "timestamp": 1747406547014,
     "user": {
      "displayName": "Natalia Lavrova",
      "userId": "06691402705171570003"
     },
     "user_tz": -120
    },
    "id": "Il5iuVUrhZRH",
    "outputId": "d91a9d59-2667-4d02-c68a-6193f29ff529"
   },
   "outputs": [
    {
     "data": {
      "application/vnd.google.colaboratory.intrinsic+json": {
       "summary": "{\n  \"name\": \"exploded_df\",\n  \"rows\": 78724,\n  \"fields\": [\n    {\n      \"column\": \"title\",\n      \"properties\": {\n        \"dtype\": \"category\",\n        \"num_unique_values\": 104,\n        \"samples\": [\n          \"tree properties at successors of singulars of many cofinalities\",\n          \"direct inversion scheme of time-domain fluorescence diffuse optical   tomography by asymptotic analysis of peak time\",\n          \"sparsity-driven aggregation of mixed integer programs\"\n        ],\n        \"semantic_type\": \"\",\n        \"description\": \"\"\n      }\n    },\n    {\n      \"column\": \"categories\",\n      \"properties\": {\n        \"dtype\": \"category\",\n        \"num_unique_values\": 67,\n        \"samples\": [\n          \"math.co math.oc\",\n          \"math.oc cs.sy eess.sy\",\n          \"math.co\"\n        ],\n        \"semantic_type\": \"\",\n        \"description\": \"\"\n      }\n    },\n    {\n      \"column\": \"id_clean\",\n      \"properties\": {\n        \"dtype\": \"category\",\n        \"num_unique_values\": 104,\n        \"samples\": [\n          \"2502.01762\",\n          \"2502.01037\",\n          \"2502.01192\"\n        ],\n        \"semantic_type\": \"\",\n        \"description\": \"\"\n      }\n    },\n    {\n      \"column\": \"tex_file\",\n      \"properties\": {\n        \"dtype\": \"category\",\n        \"num_unique_values\": 60,\n        \"samples\": [\n          \"Hofer.tex\",\n          \"expcube.tex\",\n          \"SampTA_PtyGenography.tex\"\n        ],\n        \"semantic_type\": \"\",\n        \"description\": \"\"\n      }\n    },\n    {\n      \"column\": \"authors\",\n      \"properties\": {\n        \"dtype\": \"category\",\n        \"num_unique_values\": 67,\n        \"samples\": [\n          \"Lin Sitan\\n\\t[1]\",\n          \"Filip Kova\\u010d\",\n          \"Kevin Hendrey[2] \\n        David R. Wood[2]\"\n        ],\n        \"semantic_type\": \"\",\n        \"description\": \"\"\n      }\n    },\n    {\n      \"column\": \"url\",\n      \"properties\": {\n        \"dtype\": \"category\",\n        \"num_unique_values\": 104,\n        \"samples\": [\n          \"https://arxiv.org/abs/2502.01762\",\n          \"https://arxiv.org/abs/2502.01037\",\n          \"https://arxiv.org/abs/2502.01192\"\n        ],\n        \"semantic_type\": \"\",\n        \"description\": \"\"\n      }\n    },\n    {\n      \"column\": \"filename\",\n      \"properties\": {\n        \"dtype\": \"category\",\n        \"num_unique_values\": 104,\n        \"samples\": [\n          \"2502.01762.gz\",\n          \"2502.01037.gz\",\n          \"2502.01192.gz\"\n        ],\n        \"semantic_type\": \"\",\n        \"description\": \"\"\n      }\n    },\n    {\n      \"column\": \"created\",\n      \"properties\": {\n        \"dtype\": \"object\",\n        \"num_unique_values\": 3,\n        \"samples\": [\n          \"2025-02-03\",\n          \"2025-02-02\",\n          \"2025-02-01\"\n        ],\n        \"semantic_type\": \"\",\n        \"description\": \"\"\n      }\n    },\n    {\n      \"column\": \"updated\",\n      \"properties\": {\n        \"dtype\": \"date\",\n        \"min\": \"2025-02-04 00:00:00\",\n        \"max\": \"2025-03-28 00:00:00\",\n        \"num_unique_values\": 8,\n        \"samples\": [\n          \"2025-02-12\",\n          \"2025-03-01\",\n          \"2025-02-10\"\n        ],\n        \"semantic_type\": \"\",\n        \"description\": \"\"\n      }\n    },\n    {\n      \"column\": \"type\",\n      \"properties\": {\n        \"dtype\": \"category\",\n        \"num_unique_values\": 6,\n        \"samples\": [\n          \"theorems\",\n          \"lemmas\",\n          \"definitions\"\n        ],\n        \"semantic_type\": \"\",\n        \"description\": \"\"\n      }\n    },\n    {\n      \"column\": \"content\",\n      \"properties\": {\n        \"dtype\": \"string\",\n        \"num_unique_values\": 39791,\n        \"samples\": [\n          \"$\\\\nu \\\\in \\\\sigma_q (H^D)$\",\n          \"$\\\\ell = 100 \\\\; {\\\\rm ps}$\",\n          \"$T_{\\\\bda} > T_{\\\\bdb}$\"\n        ],\n        \"semantic_type\": \"\",\n        \"description\": \"\"\n      }\n    }\n  ]\n}",
       "type": "dataframe",
       "variable_name": "exploded_df"
      },
      "text/html": [
       "\n",
       "  <div id=\"df-66f9e5c3-0e88-4065-b1bb-114724b41aac\" class=\"colab-df-container\">\n",
       "    <div>\n",
       "<style scoped>\n",
       "    .dataframe tbody tr th:only-of-type {\n",
       "        vertical-align: middle;\n",
       "    }\n",
       "\n",
       "    .dataframe tbody tr th {\n",
       "        vertical-align: top;\n",
       "    }\n",
       "\n",
       "    .dataframe thead th {\n",
       "        text-align: right;\n",
       "    }\n",
       "</style>\n",
       "<table border=\"1\" class=\"dataframe\">\n",
       "  <thead>\n",
       "    <tr style=\"text-align: right;\">\n",
       "      <th></th>\n",
       "      <th>title</th>\n",
       "      <th>categories</th>\n",
       "      <th>id_clean</th>\n",
       "      <th>tex_file</th>\n",
       "      <th>authors</th>\n",
       "      <th>url</th>\n",
       "      <th>filename</th>\n",
       "      <th>created</th>\n",
       "      <th>updated</th>\n",
       "      <th>type</th>\n",
       "      <th>content</th>\n",
       "    </tr>\n",
       "  </thead>\n",
       "  <tbody>\n",
       "    <tr>\n",
       "      <th>0</th>\n",
       "      <td>a note on matrices over $\\mathbb{z}$ with entr...</td>\n",
       "      <td>math.nt</td>\n",
       "      <td>2502.01343</td>\n",
       "      <td>Hofer.tex</td>\n",
       "      <td>Roswitha HoferInstitute of Financial Mathemati...</td>\n",
       "      <td>https://arxiv.org/abs/2502.01343</td>\n",
       "      <td>2502.01343.gz</td>\n",
       "      <td>2025-02-03</td>\n",
       "      <td>NaN</td>\n",
       "      <td>theorems</td>\n",
       "      <td>\\label{thm:1}\\n\\tWe have $M_1(a)M_1(b)=M_1(a+b...</td>\n",
       "    </tr>\n",
       "    <tr>\n",
       "      <th>1</th>\n",
       "      <td>a note on matrices over $\\mathbb{z}$ with entr...</td>\n",
       "      <td>math.nt</td>\n",
       "      <td>2502.01343</td>\n",
       "      <td>Hofer.tex</td>\n",
       "      <td>Roswitha HoferInstitute of Financial Mathemati...</td>\n",
       "      <td>https://arxiv.org/abs/2502.01343</td>\n",
       "      <td>2502.01343.gz</td>\n",
       "      <td>2025-02-03</td>\n",
       "      <td>NaN</td>\n",
       "      <td>theorems</td>\n",
       "      <td>\\label{thm:PM_Hankel}\\nWe have $\\det(H_1^{(n)}...</td>\n",
       "    </tr>\n",
       "    <tr>\n",
       "      <th>2</th>\n",
       "      <td>a note on matrices over $\\mathbb{z}$ with entr...</td>\n",
       "      <td>math.nt</td>\n",
       "      <td>2502.01343</td>\n",
       "      <td>Hofer.tex</td>\n",
       "      <td>Roswitha HoferInstitute of Financial Mathemati...</td>\n",
       "      <td>https://arxiv.org/abs/2502.01343</td>\n",
       "      <td>2502.01343.gz</td>\n",
       "      <td>2025-02-03</td>\n",
       "      <td>NaN</td>\n",
       "      <td>lemmas</td>\n",
       "      <td>\\label{cor:1}\\nWe have $M_1^T\\diag\\big(((-1)^{...</td>\n",
       "    </tr>\n",
       "    <tr>\n",
       "      <th>3</th>\n",
       "      <td>a note on matrices over $\\mathbb{z}$ with entr...</td>\n",
       "      <td>math.nt</td>\n",
       "      <td>2502.01343</td>\n",
       "      <td>Hofer.tex</td>\n",
       "      <td>Roswitha HoferInstitute of Financial Mathemati...</td>\n",
       "      <td>https://arxiv.org/abs/2502.01343</td>\n",
       "      <td>2502.01343.gz</td>\n",
       "      <td>2025-02-03</td>\n",
       "      <td>NaN</td>\n",
       "      <td>propositions</td>\n",
       "      <td>%Let $n\\in\\NN$. We have $H_1^{(n,0)}=(U^{(n,0)...</td>\n",
       "    </tr>\n",
       "    <tr>\n",
       "      <th>4</th>\n",
       "      <td>a note on matrices over $\\mathbb{z}$ with entr...</td>\n",
       "      <td>math.nt</td>\n",
       "      <td>2502.01343</td>\n",
       "      <td>Hofer.tex</td>\n",
       "      <td>Roswitha HoferInstitute of Financial Mathemati...</td>\n",
       "      <td>https://arxiv.org/abs/2502.01343</td>\n",
       "      <td>2502.01343.gz</td>\n",
       "      <td>2025-02-03</td>\n",
       "      <td>NaN</td>\n",
       "      <td>propositions</td>\n",
       "      <td>Let $\\mathcal{L}_1=\\sum_{k\\geq 0}c_kX^{-k-1}$ ...</td>\n",
       "    </tr>\n",
       "  </tbody>\n",
       "</table>\n",
       "</div>\n",
       "    <div class=\"colab-df-buttons\">\n",
       "\n",
       "  <div class=\"colab-df-container\">\n",
       "    <button class=\"colab-df-convert\" onclick=\"convertToInteractive('df-66f9e5c3-0e88-4065-b1bb-114724b41aac')\"\n",
       "            title=\"Convert this dataframe to an interactive table.\"\n",
       "            style=\"display:none;\">\n",
       "\n",
       "  <svg xmlns=\"http://www.w3.org/2000/svg\" height=\"24px\" viewBox=\"0 -960 960 960\">\n",
       "    <path d=\"M120-120v-720h720v720H120Zm60-500h600v-160H180v160Zm220 220h160v-160H400v160Zm0 220h160v-160H400v160ZM180-400h160v-160H180v160Zm440 0h160v-160H620v160ZM180-180h160v-160H180v160Zm440 0h160v-160H620v160Z\"/>\n",
       "  </svg>\n",
       "    </button>\n",
       "\n",
       "  <style>\n",
       "    .colab-df-container {\n",
       "      display:flex;\n",
       "      gap: 12px;\n",
       "    }\n",
       "\n",
       "    .colab-df-convert {\n",
       "      background-color: #E8F0FE;\n",
       "      border: none;\n",
       "      border-radius: 50%;\n",
       "      cursor: pointer;\n",
       "      display: none;\n",
       "      fill: #1967D2;\n",
       "      height: 32px;\n",
       "      padding: 0 0 0 0;\n",
       "      width: 32px;\n",
       "    }\n",
       "\n",
       "    .colab-df-convert:hover {\n",
       "      background-color: #E2EBFA;\n",
       "      box-shadow: 0px 1px 2px rgba(60, 64, 67, 0.3), 0px 1px 3px 1px rgba(60, 64, 67, 0.15);\n",
       "      fill: #174EA6;\n",
       "    }\n",
       "\n",
       "    .colab-df-buttons div {\n",
       "      margin-bottom: 4px;\n",
       "    }\n",
       "\n",
       "    [theme=dark] .colab-df-convert {\n",
       "      background-color: #3B4455;\n",
       "      fill: #D2E3FC;\n",
       "    }\n",
       "\n",
       "    [theme=dark] .colab-df-convert:hover {\n",
       "      background-color: #434B5C;\n",
       "      box-shadow: 0px 1px 3px 1px rgba(0, 0, 0, 0.15);\n",
       "      filter: drop-shadow(0px 1px 2px rgba(0, 0, 0, 0.3));\n",
       "      fill: #FFFFFF;\n",
       "    }\n",
       "  </style>\n",
       "\n",
       "    <script>\n",
       "      const buttonEl =\n",
       "        document.querySelector('#df-66f9e5c3-0e88-4065-b1bb-114724b41aac button.colab-df-convert');\n",
       "      buttonEl.style.display =\n",
       "        google.colab.kernel.accessAllowed ? 'block' : 'none';\n",
       "\n",
       "      async function convertToInteractive(key) {\n",
       "        const element = document.querySelector('#df-66f9e5c3-0e88-4065-b1bb-114724b41aac');\n",
       "        const dataTable =\n",
       "          await google.colab.kernel.invokeFunction('convertToInteractive',\n",
       "                                                    [key], {});\n",
       "        if (!dataTable) return;\n",
       "\n",
       "        const docLinkHtml = 'Like what you see? Visit the ' +\n",
       "          '<a target=\"_blank\" href=https://colab.research.google.com/notebooks/data_table.ipynb>data table notebook</a>'\n",
       "          + ' to learn more about interactive tables.';\n",
       "        element.innerHTML = '';\n",
       "        dataTable['output_type'] = 'display_data';\n",
       "        await google.colab.output.renderOutput(dataTable, element);\n",
       "        const docLink = document.createElement('div');\n",
       "        docLink.innerHTML = docLinkHtml;\n",
       "        element.appendChild(docLink);\n",
       "      }\n",
       "    </script>\n",
       "  </div>\n",
       "\n",
       "\n",
       "    <div id=\"df-1cd837d3-196a-4f07-b9c2-08dff691d133\">\n",
       "      <button class=\"colab-df-quickchart\" onclick=\"quickchart('df-1cd837d3-196a-4f07-b9c2-08dff691d133')\"\n",
       "                title=\"Suggest charts\"\n",
       "                style=\"display:none;\">\n",
       "\n",
       "<svg xmlns=\"http://www.w3.org/2000/svg\" height=\"24px\"viewBox=\"0 0 24 24\"\n",
       "     width=\"24px\">\n",
       "    <g>\n",
       "        <path d=\"M19 3H5c-1.1 0-2 .9-2 2v14c0 1.1.9 2 2 2h14c1.1 0 2-.9 2-2V5c0-1.1-.9-2-2-2zM9 17H7v-7h2v7zm4 0h-2V7h2v10zm4 0h-2v-4h2v4z\"/>\n",
       "    </g>\n",
       "</svg>\n",
       "      </button>\n",
       "\n",
       "<style>\n",
       "  .colab-df-quickchart {\n",
       "      --bg-color: #E8F0FE;\n",
       "      --fill-color: #1967D2;\n",
       "      --hover-bg-color: #E2EBFA;\n",
       "      --hover-fill-color: #174EA6;\n",
       "      --disabled-fill-color: #AAA;\n",
       "      --disabled-bg-color: #DDD;\n",
       "  }\n",
       "\n",
       "  [theme=dark] .colab-df-quickchart {\n",
       "      --bg-color: #3B4455;\n",
       "      --fill-color: #D2E3FC;\n",
       "      --hover-bg-color: #434B5C;\n",
       "      --hover-fill-color: #FFFFFF;\n",
       "      --disabled-bg-color: #3B4455;\n",
       "      --disabled-fill-color: #666;\n",
       "  }\n",
       "\n",
       "  .colab-df-quickchart {\n",
       "    background-color: var(--bg-color);\n",
       "    border: none;\n",
       "    border-radius: 50%;\n",
       "    cursor: pointer;\n",
       "    display: none;\n",
       "    fill: var(--fill-color);\n",
       "    height: 32px;\n",
       "    padding: 0;\n",
       "    width: 32px;\n",
       "  }\n",
       "\n",
       "  .colab-df-quickchart:hover {\n",
       "    background-color: var(--hover-bg-color);\n",
       "    box-shadow: 0 1px 2px rgba(60, 64, 67, 0.3), 0 1px 3px 1px rgba(60, 64, 67, 0.15);\n",
       "    fill: var(--button-hover-fill-color);\n",
       "  }\n",
       "\n",
       "  .colab-df-quickchart-complete:disabled,\n",
       "  .colab-df-quickchart-complete:disabled:hover {\n",
       "    background-color: var(--disabled-bg-color);\n",
       "    fill: var(--disabled-fill-color);\n",
       "    box-shadow: none;\n",
       "  }\n",
       "\n",
       "  .colab-df-spinner {\n",
       "    border: 2px solid var(--fill-color);\n",
       "    border-color: transparent;\n",
       "    border-bottom-color: var(--fill-color);\n",
       "    animation:\n",
       "      spin 1s steps(1) infinite;\n",
       "  }\n",
       "\n",
       "  @keyframes spin {\n",
       "    0% {\n",
       "      border-color: transparent;\n",
       "      border-bottom-color: var(--fill-color);\n",
       "      border-left-color: var(--fill-color);\n",
       "    }\n",
       "    20% {\n",
       "      border-color: transparent;\n",
       "      border-left-color: var(--fill-color);\n",
       "      border-top-color: var(--fill-color);\n",
       "    }\n",
       "    30% {\n",
       "      border-color: transparent;\n",
       "      border-left-color: var(--fill-color);\n",
       "      border-top-color: var(--fill-color);\n",
       "      border-right-color: var(--fill-color);\n",
       "    }\n",
       "    40% {\n",
       "      border-color: transparent;\n",
       "      border-right-color: var(--fill-color);\n",
       "      border-top-color: var(--fill-color);\n",
       "    }\n",
       "    60% {\n",
       "      border-color: transparent;\n",
       "      border-right-color: var(--fill-color);\n",
       "    }\n",
       "    80% {\n",
       "      border-color: transparent;\n",
       "      border-right-color: var(--fill-color);\n",
       "      border-bottom-color: var(--fill-color);\n",
       "    }\n",
       "    90% {\n",
       "      border-color: transparent;\n",
       "      border-bottom-color: var(--fill-color);\n",
       "    }\n",
       "  }\n",
       "</style>\n",
       "\n",
       "      <script>\n",
       "        async function quickchart(key) {\n",
       "          const quickchartButtonEl =\n",
       "            document.querySelector('#' + key + ' button');\n",
       "          quickchartButtonEl.disabled = true;  // To prevent multiple clicks.\n",
       "          quickchartButtonEl.classList.add('colab-df-spinner');\n",
       "          try {\n",
       "            const charts = await google.colab.kernel.invokeFunction(\n",
       "                'suggestCharts', [key], {});\n",
       "          } catch (error) {\n",
       "            console.error('Error during call to suggestCharts:', error);\n",
       "          }\n",
       "          quickchartButtonEl.classList.remove('colab-df-spinner');\n",
       "          quickchartButtonEl.classList.add('colab-df-quickchart-complete');\n",
       "        }\n",
       "        (() => {\n",
       "          let quickchartButtonEl =\n",
       "            document.querySelector('#df-1cd837d3-196a-4f07-b9c2-08dff691d133 button');\n",
       "          quickchartButtonEl.style.display =\n",
       "            google.colab.kernel.accessAllowed ? 'block' : 'none';\n",
       "        })();\n",
       "      </script>\n",
       "    </div>\n",
       "\n",
       "    </div>\n",
       "  </div>\n"
      ],
      "text/plain": [
       "                                               title categories    id_clean  \\\n",
       "0  a note on matrices over $\\mathbb{z}$ with entr...    math.nt  2502.01343   \n",
       "1  a note on matrices over $\\mathbb{z}$ with entr...    math.nt  2502.01343   \n",
       "2  a note on matrices over $\\mathbb{z}$ with entr...    math.nt  2502.01343   \n",
       "3  a note on matrices over $\\mathbb{z}$ with entr...    math.nt  2502.01343   \n",
       "4  a note on matrices over $\\mathbb{z}$ with entr...    math.nt  2502.01343   \n",
       "\n",
       "    tex_file                                            authors  \\\n",
       "0  Hofer.tex  Roswitha HoferInstitute of Financial Mathemati...   \n",
       "1  Hofer.tex  Roswitha HoferInstitute of Financial Mathemati...   \n",
       "2  Hofer.tex  Roswitha HoferInstitute of Financial Mathemati...   \n",
       "3  Hofer.tex  Roswitha HoferInstitute of Financial Mathemati...   \n",
       "4  Hofer.tex  Roswitha HoferInstitute of Financial Mathemati...   \n",
       "\n",
       "                                url       filename     created updated  \\\n",
       "0  https://arxiv.org/abs/2502.01343  2502.01343.gz  2025-02-03     NaN   \n",
       "1  https://arxiv.org/abs/2502.01343  2502.01343.gz  2025-02-03     NaN   \n",
       "2  https://arxiv.org/abs/2502.01343  2502.01343.gz  2025-02-03     NaN   \n",
       "3  https://arxiv.org/abs/2502.01343  2502.01343.gz  2025-02-03     NaN   \n",
       "4  https://arxiv.org/abs/2502.01343  2502.01343.gz  2025-02-03     NaN   \n",
       "\n",
       "           type                                            content  \n",
       "0      theorems  \\label{thm:1}\\n\\tWe have $M_1(a)M_1(b)=M_1(a+b...  \n",
       "1      theorems  \\label{thm:PM_Hankel}\\nWe have $\\det(H_1^{(n)}...  \n",
       "2        lemmas  \\label{cor:1}\\nWe have $M_1^T\\diag\\big(((-1)^{...  \n",
       "3  propositions  %Let $n\\in\\NN$. We have $H_1^{(n,0)}=(U^{(n,0)...  \n",
       "4  propositions  Let $\\mathcal{L}_1=\\sum_{k\\geq 0}c_kX^{-k-1}$ ...  "
      ]
     },
     "execution_count": 50,
     "metadata": {},
     "output_type": "execute_result"
    }
   ],
   "source": [
    "fields_to_explode = ['theorems', 'lemmas', 'definitions', 'propositions', 'proofs', 'equations']\n",
    "\n",
    "# Prepare list to collect rows\n",
    "rows = []\n",
    "\n",
    "# Loop over each article (row)\n",
    "for _, row in df.iterrows():\n",
    "    article_info = {\n",
    "        'title': row['title'],\n",
    "        'categories': row['categories'],\n",
    "        'id_clean': row['id_clean'],\n",
    "        'tex_file': row['tex_file'],\n",
    "        'authors': row['authors'],\n",
    "        'url': row['url'],\n",
    "        'filename': row['filename'],\n",
    "        'created': row['created'],\n",
    "        'updated': row['updated']\n",
    "    }\n",
    "\n",
    "    for field in fields_to_explode:\n",
    "        items = row.get(field, [])\n",
    "        if not isinstance(items, list):\n",
    "            continue\n",
    "        for content in items:\n",
    "            new_row = article_info.copy()\n",
    "            new_row['type'] = field\n",
    "            new_row['content'] = content\n",
    "            rows.append(new_row)\n",
    "\n",
    "# Create new DataFrame\n",
    "exploded_df = pd.DataFrame(rows)\n",
    "exploded_df.head()\n"
   ]
  },
  {
   "cell_type": "markdown",
   "metadata": {
    "id": "3b2XhFmqjDjh"
   },
   "source": [
    "# ***Check number of categories for classification***"
   ]
  },
  {
   "cell_type": "markdown",
   "metadata": {
    "id": "hqEI485BjMAB"
   },
   "source": [
    "Don´t use extended file!!!!!!!!!"
   ]
  },
  {
   "cell_type": "code",
   "execution_count": null,
   "metadata": {
    "colab": {
     "base_uri": "https://localhost:8080/"
    },
    "executionInfo": {
     "elapsed": 34,
     "status": "ok",
     "timestamp": 1747405003483,
     "user": {
      "displayName": "Natalia Lavrova",
      "userId": "06691402705171570003"
     },
     "user_tz": -120
    },
    "id": "Vm2HEoue-Qxi",
    "outputId": "cca10f77-d339-421f-c023-3585f5300eda"
   },
   "outputs": [
    {
     "name": "stdout",
     "output_type": "stream",
     "text": [
      "Total unique subject tags: 55\n",
      "\n",
      "categories\n",
      "math.oc            23\n",
      "math.co            17\n",
      "cs.lg              15\n",
      "math.mp            14\n",
      "math-ph            14\n",
      "math.ap            14\n",
      "math.nt            13\n",
      "math.na            13\n",
      "math.pr            13\n",
      "cs.na              13\n",
      "math.fa            12\n",
      "math.ag            12\n",
      "math.dg            11\n",
      "stat.th            11\n",
      "math.st            11\n",
      "math.it            10\n",
      "cs.it              10\n",
      "stat.ml             9\n",
      "math.ds             7\n",
      "math.gr             6\n",
      "math.ra             5\n",
      "hep-th              5\n",
      "quant-ph            5\n",
      "math.rt             4\n",
      "math.ac             4\n",
      "gr-qc               4\n",
      "eess.sy             4\n",
      "cs.ai               4\n",
      "cs.cv               4\n",
      "math.oa             4\n",
      "cs.sy               4\n",
      "math.sp             4\n",
      "math.gt             4\n",
      "math.qa             3\n",
      "math.cv             3\n",
      "math.mg             3\n",
      "math.ca             2\n",
      "stat.me             2\n",
      "eess.sp             2\n",
      "math.ct             2\n",
      "eess.iv             2\n",
      "math.lo             2\n",
      "q-bio.pe            2\n",
      "cs.ma               1\n",
      "cs.cl               1\n",
      "cs.ds               1\n",
      "cs.dc               1\n",
      "cs.dm               1\n",
      "physics.flu-dyn     1\n",
      "physics.geo-ph      1\n",
      "math.gn             1\n",
      "cs.ro               1\n",
      "cs.cr               1\n",
      "math.kt             1\n",
      "hep-ph              1\n",
      "Name: count, dtype: int64\n",
      "\n",
      "\n",
      " |    | subject tag     |   paper count |\n",
      "|----|-----------------|---------------|\n",
      "|  0 | math.oc         |            23 |\n",
      "|  1 | math.co         |            17 |\n",
      "|  2 | cs.lg           |            15 |\n",
      "|  3 | math.mp         |            14 |\n",
      "|  4 | math-ph         |            14 |\n",
      "|  5 | math.ap         |            14 |\n",
      "|  6 | math.nt         |            13 |\n",
      "|  7 | math.na         |            13 |\n",
      "|  8 | math.pr         |            13 |\n",
      "|  9 | cs.na           |            13 |\n",
      "| 10 | math.fa         |            12 |\n",
      "| 11 | math.ag         |            12 |\n",
      "| 12 | math.dg         |            11 |\n",
      "| 13 | stat.th         |            11 |\n",
      "| 14 | math.st         |            11 |\n",
      "| 15 | math.it         |            10 |\n",
      "| 16 | cs.it           |            10 |\n",
      "| 17 | stat.ml         |             9 |\n",
      "| 18 | math.ds         |             7 |\n",
      "| 19 | math.gr         |             6 |\n",
      "| 20 | math.ra         |             5 |\n",
      "| 21 | hep-th          |             5 |\n",
      "| 22 | quant-ph        |             5 |\n",
      "| 23 | math.rt         |             4 |\n",
      "| 24 | math.ac         |             4 |\n",
      "| 25 | gr-qc           |             4 |\n",
      "| 26 | eess.sy         |             4 |\n",
      "| 27 | cs.ai           |             4 |\n",
      "| 28 | cs.cv           |             4 |\n",
      "| 29 | math.oa         |             4 |\n",
      "| 30 | cs.sy           |             4 |\n",
      "| 31 | math.sp         |             4 |\n",
      "| 32 | math.gt         |             4 |\n",
      "| 33 | math.qa         |             3 |\n",
      "| 34 | math.cv         |             3 |\n",
      "| 35 | math.mg         |             3 |\n",
      "| 36 | math.ca         |             2 |\n",
      "| 37 | stat.me         |             2 |\n",
      "| 38 | eess.sp         |             2 |\n",
      "| 39 | math.ct         |             2 |\n",
      "| 40 | eess.iv         |             2 |\n",
      "| 41 | math.lo         |             2 |\n",
      "| 42 | q-bio.pe        |             2 |\n",
      "| 43 | cs.ma           |             1 |\n",
      "| 44 | cs.cl           |             1 |\n",
      "| 45 | cs.ds           |             1 |\n",
      "| 46 | cs.dc           |             1 |\n",
      "| 47 | cs.dm           |             1 |\n",
      "| 48 | physics.flu-dyn |             1 |\n",
      "| 49 | physics.geo-ph  |             1 |\n",
      "| 50 | math.gn         |             1 |\n",
      "| 51 | cs.ro           |             1 |\n",
      "| 52 | cs.cr           |             1 |\n",
      "| 53 | math.kt         |             1 |\n",
      "| 54 | hep-ph          |             1 |\n"
     ]
    }
   ],
   "source": [
    "from collections import Counter\n",
    "\n",
    "# 1)  Split each row on whitespace and flatten into one long list\n",
    "all_tags = (\n",
    "    df[\"categories\"]\n",
    "      .astype(str)             # in case of NaN\n",
    "      .str.split()             # \"math.ap math-ph\" → [\"math.ap\", \"math-ph\"]\n",
    "      .explode()               # stack into one Series\n",
    "      .dropna()                # drop rows that were NaN\n",
    ")\n",
    "\n",
    "# 2)  How many distinct categories?\n",
    "unique_tags = sorted(all_tags.unique())\n",
    "print(f\"Total unique subject tags: {len(unique_tags)}\\n\")\n",
    "\n",
    "# 3)  Frequency of each tag\n",
    "tag_counts = all_tags.value_counts()          # descending order\n",
    "print(tag_counts)\n",
    "\n",
    "# ----------  pretty table (optional) ----------\n",
    "import tabulate\n",
    "print(\"\\n\\n\", tabulate.tabulate(tag_counts.reset_index(),\n",
    "                                headers=[\"subject tag\", \"paper count\"],\n",
    "                                tablefmt=\"github\"))\n"
   ]
  },
  {
   "cell_type": "code",
   "execution_count": null,
   "metadata": {
    "id": "j2hAXzwIlXVx"
   },
   "outputs": [],
   "source": [
    "df[\"num_lemmas\"]    = df[\"lemmas\"].apply(len)\n",
    "df[\"num_theorems\"]  = df[\"theorems\"].apply(len)     # rename if you prefer"
   ]
  },
  {
   "cell_type": "code",
   "execution_count": null,
   "metadata": {
    "colab": {
     "base_uri": "https://localhost:8080/"
    },
    "executionInfo": {
     "elapsed": 6,
     "status": "ok",
     "timestamp": 1747405006604,
     "user": {
      "displayName": "Natalia Lavrova",
      "userId": "06691402705171570003"
     },
     "user_tz": -120
    },
    "id": "qz3qBWJf7xsf",
    "outputId": "b1b14112-2fa3-4028-a22e-4ddeed5037df"
   },
   "outputs": [
    {
     "name": "stdout",
     "output_type": "stream",
     "text": [
      "          filename  num_lemmas  num_theorems  num_propositions  \\\n",
      "0    2502.01343.gz           1             2                 2   \n",
      "1    2502.01124.gz           0             0                 0   \n",
      "2    2502.01701.gz           2             3                 2   \n",
      "3    2502.01482.gz           0             0                 0   \n",
      "4    2502.01345.gz          13             5                 0   \n",
      "..             ...         ...           ...               ...   \n",
      "152  2502.01664.gz           2             9                 4   \n",
      "153  2502.01326.gz           0             0                 0   \n",
      "154  2502.01756.gz           0             0                 0   \n",
      "155  2502.01415.gz           3             2                 2   \n",
      "156  2502.01374.gz           0             0                 0   \n",
      "\n",
      "     num_definitions  \n",
      "0                  0  \n",
      "1                  2  \n",
      "2                  2  \n",
      "3                  0  \n",
      "4                  0  \n",
      "..               ...  \n",
      "152                1  \n",
      "153                0  \n",
      "154                0  \n",
      "155                0  \n",
      "156                0  \n",
      "\n",
      "[157 rows x 5 columns]\n"
     ]
    }
   ],
   "source": [
    "counts = df[[\"filename\", \"num_lemmas\", \"num_theorems\", 'num_propositions', 'num_definitions']]\n",
    "print(counts)"
   ]
  },
  {
   "cell_type": "markdown",
   "metadata": {
    "id": "wrlD7VMM5Rol"
   },
   "source": [
    "# ***LET'S RUN MATH BERT MODEL!!!***"
   ]
  },
  {
   "cell_type": "code",
   "execution_count": null,
   "metadata": {
    "id": "V7DhDZgcGg14"
   },
   "outputs": [],
   "source": [
    "#%history -n"
   ]
  },
  {
   "cell_type": "markdown",
   "metadata": {
    "id": "bxoG2sg58Yue"
   },
   "source": [
    "BERT is a stack of Transformer encoder blocks trained with masked-language modelling (MLM) and next-sentence prediction (NSP). For a sequence\n",
    "𝑥\n",
    "1\n",
    ":\n",
    "𝑇\n",
    "x\n",
    "1:T\n",
    "​\n",
    "  the MLM loss hides ~15 % of tokens and asks the network to reconstruct them, forcing bidirectional contextualisation."
   ]
  },
  {
   "cell_type": "markdown",
   "metadata": {
    "id": "feEdzp5T8mqa"
   },
   "source": [
    "MathBERT takes BERT-base weights and continues pre-training on ~19 GB of arXiv mathematics LaTeX. Because vocabulary and syntax differ from everyday English (symbols, TeX macros, theorem keywords), the representation space captures mathematical semantics much better than vanilla BERT. Empirically this increases retrieval accuracy for definition/lemma/equation queries by 10–30 %."
   ]
  },
  {
   "cell_type": "code",
   "execution_count": null,
   "metadata": {
    "id": "N0YKa9tRr_tb"
   },
   "outputs": [],
   "source": [
    "from transformers import AutoModel, AutoTokenizer"
   ]
  },
  {
   "cell_type": "code",
   "execution_count": null,
   "metadata": {
    "id": "qAHReisy8Wh7"
   },
   "outputs": [],
   "source": [
    "MODEL = \"tbs17/MathBERT\"          # or \"tbs17/MathBERT-custom\"\n",
    "\n",
    "#bnb_cfg = BitsAndBytesConfig(\n",
    "#    load_in_4bit=True,\n",
    "#    bnb_4bit_quant_type=\"nf4\",\n",
    "#    bnb_4bit_use_double_quant=True,\n",
    "#    bnb_4bit_compute_dtype=torch.float16)"
   ]
  },
  {
   "cell_type": "code",
   "execution_count": null,
   "metadata": {
    "id": "hZ7fj0NHHWMs"
   },
   "outputs": [],
   "source": [
    "tokenizer = AutoTokenizer.from_pretrained(MODEL)"
   ]
  },
  {
   "cell_type": "code",
   "execution_count": null,
   "metadata": {
    "id": "9jNOpiBtHaq7"
   },
   "outputs": [],
   "source": [
    "model = AutoModel.from_pretrained(\n",
    "    MODEL,\n",
    "    device_map=None,          # ⇠ keep on CPU\n",
    "    torch_dtype=\"auto\",\n",
    "    low_cpu_mem_usage=True,\n",
    ").eval()\n",
    "\n",
    "#model = AutoModel.from_pretrained(\n",
    "#            model_name,\n",
    "#            device_map=\"auto\",\n",
    "#            quantization_config=bnb_cfg,\n",
    "#            trust_remote_code=True)"
   ]
  },
  {
   "cell_type": "markdown",
   "metadata": {
    "id": "KhVDHRmD9G0z"
   },
   "source": [
    "Loading the model with 4-bit quantisation (BitsAndBytes)"
   ]
  },
  {
   "cell_type": "markdown",
   "metadata": {
    "id": "koMB4_iZFIKA"
   },
   "source": [
    "- Quantisation shrinks each 16-bit weight to an integer stored in 4 bits (two-bit sign, two-bit magnitude in the NF4 scheme). Memory footprint drops 4× and bandwidth consumption falls proportionally, often with <1 % drop in downstream embedding quality.\n",
    "\n",
    "- NF4 (normal-float-4) allocates codewords non-linearly so that the lattice matches the bell-shaped distribution of FP16 weights.\n",
    "\n",
    "- Double-quant first quantises weights to 8-bit, then re-quantises to 4-bit, letting BitsAndBytes share scale factors across groups of weights → better reconstruction error.\n",
    "\n",
    "- Mixed-precision compute keeps matrix multiplications in FP16; the 4-bit integers are de-quantised on-the-fly inside CUDA kernels."
   ]
  },
  {
   "cell_type": "code",
   "execution_count": null,
   "metadata": {
    "colab": {
     "base_uri": "https://localhost:8080/"
    },
    "executionInfo": {
     "elapsed": 5,
     "status": "ok",
     "timestamp": 1747228234412,
     "user": {
      "displayName": "Natalia Lavrova",
      "userId": "06691402705171570003"
     },
     "user_tz": -180
    },
    "id": "GN7IQev2IMfF",
    "outputId": "7108afee-49ce-453d-9c8e-bcd64e9a9531"
   },
   "outputs": [
    {
     "name": "stdout",
     "output_type": "stream",
     "text": [
      "##～\n"
     ]
    }
   ],
   "source": [
    "print(tokenizer.decode(model.config.vocab_size - 1))  # → '[MASK]' for BERT family"
   ]
  },
  {
   "cell_type": "code",
   "execution_count": null,
   "metadata": {
    "colab": {
     "base_uri": "https://localhost:8080/"
    },
    "executionInfo": {
     "elapsed": 4,
     "status": "ok",
     "timestamp": 1747228235045,
     "user": {
      "displayName": "Natalia Lavrova",
      "userId": "06691402705171570003"
     },
     "user_tz": -180
    },
    "id": "8Bw5ivyhIMb_",
    "outputId": "b4ee7764-7606-4899-a5e7-b4abb12a5560"
   },
   "outputs": [
    {
     "name": "stdout",
     "output_type": "stream",
     "text": [
      "[CLS] → 101\n",
      "[SEP] → 102\n",
      "[MASK] → 103\n"
     ]
    }
   ],
   "source": [
    "for tok in [\"[CLS]\", \"[SEP]\", \"[MASK]\"]:\n",
    "    print(tok, \"→\", tokenizer.convert_tokens_to_ids(tok))"
   ]
  },
  {
   "cell_type": "markdown",
   "metadata": {
    "id": "C2X5Y6rs899o"
   },
   "source": [
    "MathBERT is a BERT model that was re-trained on 19 GB of arXiv LaTeX.\n",
    "\n",
    "BERT = a neural network that turns a sentence into a 768-number vector.\n",
    "\n",
    "Because MathBERT read lots of theorems and equations, similar math sentences land at nearby coordinates in that 768-dimensional space.\n",
    "\n",
    "Embedding = that 768-number vector. It is a numeric fingerprint of the text."
   ]
  },
  {
   "cell_type": "code",
   "execution_count": null,
   "metadata": {
    "id": "CipfOdePJ2Q7"
   },
   "outputs": [],
   "source": [
    "# 1. Build a single text blob per paper\n",
    "# ---------------------------------------------------------------\n",
    "def join_math_record(row, max_items=3):\n",
    "    \"\"\"Concatenate title, abstract, and up to `max_items` theorems/lemmas\n",
    "       so the encoder sees both prose and math.\"\"\"\n",
    "    parts = [str(row.get(\"title\", \"\")), str(row.get(\"abstract\", \"\"))]\n",
    "    for col in [\"theorems\", \"lemmas\", \"propositions\", \"definitions\"]:\n",
    "        if isinstance(row.get(col), list) and row[col]:\n",
    "            parts.append(\" \".join(row[col][:max_items]))\n",
    "    return \" \".join(parts)\n",
    "\n",
    "df[\"text_for_embed\"] = df.apply(join_math_record, axis=1)"
   ]
  },
  {
   "cell_type": "code",
   "execution_count": null,
   "metadata": {
    "colab": {
     "base_uri": "https://localhost:8080/",
     "height": 458
    },
    "executionInfo": {
     "elapsed": 15,
     "status": "ok",
     "timestamp": 1747228236680,
     "user": {
      "displayName": "Natalia Lavrova",
      "userId": "06691402705171570003"
     },
     "user_tz": -180
    },
    "id": "s-CEW3w-J6x1",
    "outputId": "d52c40c8-9eb1-4750-e23c-11b6f3a6ba4b"
   },
   "outputs": [
    {
     "data": {
      "text/html": [
       "<div>\n",
       "<style scoped>\n",
       "    .dataframe tbody tr th:only-of-type {\n",
       "        vertical-align: middle;\n",
       "    }\n",
       "\n",
       "    .dataframe tbody tr th {\n",
       "        vertical-align: top;\n",
       "    }\n",
       "\n",
       "    .dataframe thead th {\n",
       "        text-align: right;\n",
       "    }\n",
       "</style>\n",
       "<table border=\"1\" class=\"dataframe\">\n",
       "  <thead>\n",
       "    <tr style=\"text-align: right;\">\n",
       "      <th></th>\n",
       "      <th>text_for_embed</th>\n",
       "    </tr>\n",
       "  </thead>\n",
       "  <tbody>\n",
       "    <tr>\n",
       "      <th>0</th>\n",
       "      <td>a note on matrices over $\\mathbb{z}$ with entr...</td>\n",
       "    </tr>\n",
       "    <tr>\n",
       "      <th>1</th>\n",
       "      <td>on flexes associated with higher-order flexibl...</td>\n",
       "    </tr>\n",
       "    <tr>\n",
       "      <th>2</th>\n",
       "      <td>learning with differentially private (sliced) ...</td>\n",
       "    </tr>\n",
       "    <tr>\n",
       "      <th>3</th>\n",
       "      <td>on the uncertainty of a simple estimator for r...</td>\n",
       "    </tr>\n",
       "    <tr>\n",
       "      <th>4</th>\n",
       "      <td>sums of two units in number fields let $k$ be ...</td>\n",
       "    </tr>\n",
       "    <tr>\n",
       "      <th>...</th>\n",
       "      <td>...</td>\n",
       "    </tr>\n",
       "    <tr>\n",
       "      <th>152</th>\n",
       "      <td>new general fixed-point approach to compute th...</td>\n",
       "    </tr>\n",
       "    <tr>\n",
       "      <th>153</th>\n",
       "      <td>flyby-induced displacement: analytic solution ...</td>\n",
       "    </tr>\n",
       "    <tr>\n",
       "      <th>154</th>\n",
       "      <td>simulations of magnetic monopole collisions in...</td>\n",
       "    </tr>\n",
       "    <tr>\n",
       "      <th>155</th>\n",
       "      <td>the fibonacci zeta function and modular forms ...</td>\n",
       "    </tr>\n",
       "    <tr>\n",
       "      <th>156</th>\n",
       "      <td>towards stable second-kind boundary integral e...</td>\n",
       "    </tr>\n",
       "  </tbody>\n",
       "</table>\n",
       "<p>157 rows × 1 columns</p>\n",
       "</div><br><label><b>dtype:</b> object</label>"
      ],
      "text/plain": [
       "0      a note on matrices over $\\mathbb{z}$ with entr...\n",
       "1      on flexes associated with higher-order flexibl...\n",
       "2      learning with differentially private (sliced) ...\n",
       "3      on the uncertainty of a simple estimator for r...\n",
       "4      sums of two units in number fields let $k$ be ...\n",
       "                             ...                        \n",
       "152    new general fixed-point approach to compute th...\n",
       "153    flyby-induced displacement: analytic solution ...\n",
       "154    simulations of magnetic monopole collisions in...\n",
       "155    the fibonacci zeta function and modular forms ...\n",
       "156    towards stable second-kind boundary integral e...\n",
       "Name: text_for_embed, Length: 157, dtype: object"
      ]
     },
     "execution_count": 182,
     "metadata": {},
     "output_type": "execute_result"
    }
   ],
   "source": [
    "df[\"text_for_embed\"]"
   ]
  },
  {
   "cell_type": "code",
   "execution_count": null,
   "metadata": {
    "colab": {
     "base_uri": "https://localhost:8080/"
    },
    "executionInfo": {
     "elapsed": 127583,
     "status": "ok",
     "timestamp": 1747228365310,
     "user": {
      "displayName": "Natalia Lavrova",
      "userId": "06691402705171570003"
     },
     "user_tz": -180
    },
    "id": "9A4KtgsbKY5U",
    "outputId": "640f57f7-d158-481e-8655-a2723c57e959"
   },
   "outputs": [
    {
     "name": "stderr",
     "output_type": "stream",
     "text": [
      "100%|██████████| 10/10 [02:07<00:00, 12.75s/it]\n"
     ]
    }
   ],
   "source": [
    "# Encode with MathBERT  (mean-pool last hidden state)\n",
    "# ---------------------------------------------------------------\n",
    "def embed_texts(texts, batch_size=16, max_len=256, pool=\"mean\"):\n",
    "    \"\"\"Return a 2-D numpy array (n_texts × hidden_size).\"\"\"\n",
    "    reps = []\n",
    "\n",
    "    with torch.inference_mode():\n",
    "        for i in tqdm(range(0, len(texts), batch_size)):\n",
    "            batch = texts[i:i+batch_size]\n",
    "\n",
    "            encoded = tokenizer(\n",
    "                batch,\n",
    "                padding=True,\n",
    "                truncation=True,\n",
    "                max_length=max_len,\n",
    "                return_tensors=\"pt\",\n",
    "            )\n",
    "\n",
    "            out = model(**{k:v.to(model.device) for k,v in encoded.items()})\n",
    "            hidden = out.last_hidden_state        # (B, L, H)\n",
    "\n",
    "            if pool == \"cls\":\n",
    "                reps.append(hidden[:,0])          # [CLS]\n",
    "            else:                                 # simple mean-pool\n",
    "                mask = encoded[\"attention_mask\"].unsqueeze(-1)  # (B,L,1)\n",
    "                reps.append((hidden*mask).sum(1) / mask.sum(1))\n",
    "\n",
    "    return torch.cat(reps).cpu().numpy()\n",
    "\n",
    "# ------- build the matrix once ---------\n",
    "X = embed_texts(df[\"text_for_embed\"].tolist(), max_len=256)    # (n,768)\n"
   ]
  },
  {
   "cell_type": "code",
   "execution_count": null,
   "metadata": {
    "colab": {
     "base_uri": "https://localhost:8080/"
    },
    "executionInfo": {
     "elapsed": 9,
     "status": "ok",
     "timestamp": 1747228720668,
     "user": {
      "displayName": "Natalia Lavrova",
      "userId": "06691402705171570003"
     },
     "user_tz": -180
    },
    "id": "_BKWXvzp8m8x",
    "outputId": "8989124e-ee6c-4909-f539-720a6fed24a0"
   },
   "outputs": [
    {
     "data": {
      "text/plain": [
       "array([[-2.1399418e-02, -1.2645893e-01, -8.5538954e-02, ...,\n",
       "        -1.4870718e-01,  4.2892128e-01,  6.6858530e-04],\n",
       "       [ 1.4769711e-01,  4.3910983e-01, -3.4752503e-02, ...,\n",
       "        -3.0878639e-01, -1.1888708e-01,  7.5957976e-02],\n",
       "       [-4.4876926e-02, -7.0954435e-02, -2.9136596e-02, ...,\n",
       "        -1.3970099e-01,  3.0823943e-01,  6.9888967e-01],\n",
       "       ...,\n",
       "       [ 4.9015430e-01,  9.4319537e-02, -1.0648444e-01, ...,\n",
       "        -8.7657914e-02,  5.6006444e-01,  7.9470772e-01],\n",
       "       [ 7.2659272e-01,  3.5600421e-01, -1.6734786e-02, ...,\n",
       "        -3.4545526e-01,  3.7573302e-01, -4.1093329e-01],\n",
       "       [ 4.6622196e-01,  2.4812974e-01, -3.4112701e-01, ...,\n",
       "        -1.7405602e-01, -1.0567562e-01,  4.7552705e-01]], dtype=float32)"
      ]
     },
     "execution_count": 186,
     "metadata": {},
     "output_type": "execute_result"
    }
   ],
   "source": [
    "X"
   ]
  },
  {
   "cell_type": "code",
   "execution_count": null,
   "metadata": {
    "colab": {
     "base_uri": "https://localhost:8080/"
    },
    "executionInfo": {
     "elapsed": 11,
     "status": "ok",
     "timestamp": 1747228737005,
     "user": {
      "displayName": "Natalia Lavrova",
      "userId": "06691402705171570003"
     },
     "user_tz": -180
    },
    "id": "MD7Vtzow8qw5",
    "outputId": "6cd51769-1ce0-4a54-e818-a6982e9ca7d7"
   },
   "outputs": [
    {
     "data": {
      "text/plain": [
       "(157, 768)"
      ]
     },
     "execution_count": 187,
     "metadata": {},
     "output_type": "execute_result"
    }
   ],
   "source": [
    "X.shape"
   ]
  },
  {
   "cell_type": "markdown",
   "metadata": {
    "id": "7dEdA7LD8xIe"
   },
   "source": [
    "text_for_embed = title + abstract + first 3 theorems / lemmas / …\n",
    "–> gives MathBERT a short but representative view of each paper.\n",
    "\n",
    "The function\n",
    "\n",
    "tokenises the text (tokenizer)\n",
    "\n",
    "feeds it through MathBERT (model)\n",
    "\n",
    "mean-pools the output tokens → one 768-d vector per paper.\n",
    "\n",
    "Result X is a matrix: (number_of_papers, 768)."
   ]
  },
  {
   "cell_type": "markdown",
   "metadata": {
    "id": "UmOsVui_vmIS"
   },
   "source": [
    "# ***Unsupervised clustering***"
   ]
  },
  {
   "cell_type": "code",
   "execution_count": null,
   "metadata": {
    "colab": {
     "base_uri": "https://localhost:8080/"
    },
    "executionInfo": {
     "elapsed": 659,
     "status": "ok",
     "timestamp": 1747226139645,
     "user": {
      "displayName": "Natalia Lavrova",
      "userId": "06691402705171570003"
     },
     "user_tz": -180
    },
    "id": "pT9UAFMOk8W_",
    "outputId": "7854b265-a1dd-4712-df13-7aeac9412965"
   },
   "outputs": [
    {
     "name": "stdout",
     "output_type": "stream",
     "text": [
      "silhouette : 0.0042087897\n",
      "NMI         : 0.8125746021576635\n",
      "ARI         : 0.03447819111479349\n"
     ]
    }
   ],
   "source": [
    "from sklearn.cluster import KMeans\n",
    "from sklearn.metrics import silhouette_score, normalized_mutual_info_score, adjusted_rand_score\n",
    "\n",
    "true_labels = df[\"categories\"].factorize()[0]         # 0 … C-1\n",
    "n_clusters  = len(np.unique(true_labels))              # ≈ 20 for math.*\n",
    "\n",
    "kmeans  = KMeans(n_clusters=n_clusters, n_init=\"auto\", random_state=42)\n",
    "pred    = kmeans.fit_predict(X)\n",
    "\n",
    "print(\"silhouette :\", silhouette_score(X, pred))\n",
    "print(\"NMI         :\", normalized_mutual_info_score(true_labels, pred))\n",
    "print(\"ARI         :\", adjusted_rand_score(true_labels, pred))"
   ]
  },
  {
   "cell_type": "markdown",
   "metadata": {
    "id": "JrDrFf9OyoPv"
   },
   "source": [
    "# ***Clustering with PCA - better***"
   ]
  },
  {
   "cell_type": "code",
   "execution_count": null,
   "metadata": {
    "colab": {
     "base_uri": "https://localhost:8080/"
    },
    "executionInfo": {
     "elapsed": 293,
     "status": "ok",
     "timestamp": 1747226143318,
     "user": {
      "displayName": "Natalia Lavrova",
      "userId": "06691402705171570003"
     },
     "user_tz": -180
    },
    "id": "gXyDy-YQytEW",
    "outputId": "08fabce0-9123-456a-e31b-8de7517b2222"
   },
   "outputs": [
    {
     "name": "stdout",
     "output_type": "stream",
     "text": [
      "NMI after PCA-50 : 0.8130359049790181\n"
     ]
    }
   ],
   "source": [
    "from sklearn.decomposition import PCA\n",
    "from sklearn.cluster import KMeans\n",
    "\n",
    "pca   = PCA(n_components=50, random_state=0).fit_transform(X)   # (n,50)\n",
    "k2    = KMeans(n_clusters=n_clusters, random_state=0).fit_predict(pca)\n",
    "\n",
    "print(\"NMI after PCA-50 :\", normalized_mutual_info_score(true_labels, k2))"
   ]
  },
  {
   "cell_type": "code",
   "execution_count": null,
   "metadata": {
    "colab": {
     "base_uri": "https://localhost:8080/",
     "height": 507
    },
    "executionInfo": {
     "elapsed": 287,
     "status": "ok",
     "timestamp": 1747230510558,
     "user": {
      "displayName": "Natalia Lavrova",
      "userId": "06691402705171570003"
     },
     "user_tz": -180
    },
    "id": "MqIH8puPCuJN",
    "outputId": "d26e61ed-6b25-4e58-d06f-eeb03d81c01c"
   },
   "outputs": [
    {
     "data": {
      "image/png": "[encoded data removed]",
      "text/plain": [
       "<Figure size 600x500 with 1 Axes>"
      ]
     },
     "metadata": {},
     "output_type": "display_data"
    }
   ],
   "source": [
    "pca2 = PCA(n_components=2, random_state=0).fit_transform(X)\n",
    "plt.figure(figsize=(6, 5))\n",
    "plt.scatter(pca2[:, 0], pca2[:, 1], c=true_labels, s=10)\n",
    "plt.xlabel(\"PC 1\"); plt.ylabel(\"PC 2\")\n",
    "plt.title(\"MathBERT embeddings – first two PCA components\")\n",
    "plt.tight_layout(); plt.show()"
   ]
  },
  {
   "cell_type": "markdown",
   "metadata": {
    "id": "2bxrsC2_D4jl"
   },
   "source": [
    "Each dot = one paper’s 768-dimensional MathBERT embedding\n",
    "compressed down to 2 principal-components (PC 1, PC 2).\n",
    "\n",
    "Colour = the paper’s subject label (because we passed c=true_labels).\n",
    "With many labels the default colour-map re-uses hues, so the colour itself\n",
    "isn’t precise—think “same colour ⇒ same label”, not “green ⇒ math.CO”.\n",
    "\n",
    "Principal-component analysis (PCA) finds the two directions that capture the\n",
    "largest share of variance in the whole cloud. It’s a linear snapshot of a\n",
    "very tangled 768-D space."
   ]
  },
  {
   "cell_type": "markdown",
   "metadata": {
    "id": "2OioslbNvzQM"
   },
   "source": [
    "# ***Supervised baseline ***"
   ]
  },
  {
   "cell_type": "code",
   "execution_count": null,
   "metadata": {
    "colab": {
     "base_uri": "https://localhost:8080/",
     "height": 1000
    },
    "executionInfo": {
     "elapsed": 1593,
     "status": "ok",
     "timestamp": 1747230373770,
     "user": {
      "displayName": "Natalia Lavrova",
      "userId": "06691402705171570003"
     },
     "user_tz": -180
    },
    "id": "joULwyvoxZJo",
    "outputId": "41ac6547-34e2-438b-e53d-42f7d872a17f"
   },
   "outputs": [
    {
     "name": "stdout",
     "output_type": "stream",
     "text": [
      "overall accuracy        : 0.32142857142857145\n",
      "balanced accuracy (macro) 0.2\n",
      "macro-averaged F1       : 0.14750000000000002\n",
      "\n",
      "classification report\n",
      "\n",
      "                               precision    recall  f1-score   support\n",
      "\n",
      "                      math.nt      0.429     1.000     0.600         3\n",
      "                      math.ag      0.000     0.000     0.000         2\n",
      "                cs.it math.it      0.000     0.000     0.000         1\n",
      "                      math.co      0.429     1.000     0.600         3\n",
      "                      math.gr      0.000     0.000     0.000         1\n",
      "                      math.dg      1.000     1.000     1.000         1\n",
      "              math-ph math.mp      0.000     0.000     0.000         1\n",
      "                math.na cs.na      0.167     0.500     0.250         2\n",
      "                      math.ac      0.000     0.000     0.000         1\n",
      "                      math.ap      0.500     0.500     0.500         2\n",
      "        math.oc cs.sy eess.sy      0.000     0.000     0.000         1\n",
      "                      math.fa      0.000     0.000     0.000         1\n",
      "                      math.ra      0.000     0.000     0.000         1\n",
      "                cs.lg math.oc      0.000     0.000     0.000         1\n",
      "                      math.lo      0.000     0.000     0.000         0\n",
      "                      math.gt      0.000     0.000     0.000         0\n",
      "stat.ml cs.lg math.st stat.th      0.000     0.000     0.000         0\n",
      "                      math.pr      0.000     0.000     0.000         1\n",
      "                      math.oc      0.000     0.000     0.000         2\n",
      "              math.st stat.th      0.000     0.000     0.000         1\n",
      "                      math.sp      0.000     0.000     0.000         1\n",
      "                      math.oa      0.000     0.000     0.000         1\n",
      " gr-qc hep-th math-ph math.mp      0.000     0.000     0.000         1\n",
      "\n",
      "                     accuracy                          0.321        28\n",
      "                    macro avg      0.110     0.174     0.128        28\n",
      "                 weighted avg      0.175     0.321     0.218        28\n",
      "\n"
     ]
    },
    {
     "data": {
      "image/png": "[encoded data removed]",
      "text/plain": [
       "<Figure size 900x700 with 2 Axes>"
      ]
     },
     "metadata": {},
     "output_type": "display_data"
    }
   ],
   "source": [
    "import numpy as np\n",
    "import seaborn as sns, matplotlib.pyplot as plt\n",
    "from sklearn.metrics import (\n",
    "    accuracy_score, balanced_accuracy_score, f1_score,\n",
    "    classification_report, confusion_matrix,\n",
    ")\n",
    "\n",
    "# ------------------------------------------------------------------\n",
    "# 1.  Re-derive the category names *in the same order* as the labels\n",
    "# ------------------------------------------------------------------\n",
    "cat_codes, cat_names = pd.factorize(df_big[\"categories\"])   # cat_names is an Index\n",
    "label_names = np.asarray(cat_names)                         # shape (23,)\n",
    "labels      = np.arange(len(label_names))                   # 0 … 22\n",
    "\n",
    "# (y_train, y_val) were built from `cat_codes`, so they already align with `labels`\n",
    "\n",
    "# ------------------------------------------------------------------\n",
    "# 2.  Print metrics\n",
    "# ------------------------------------------------------------------\n",
    "print(\"overall accuracy        :\", accuracy_score(y_val, y_pred))\n",
    "print(\"balanced accuracy (macro)\", balanced_accuracy_score(y_val, y_pred))\n",
    "print(\"macro-averaged F1       :\", f1_score(y_val, y_pred, average=\"macro\"))\n",
    "\n",
    "print(\"\\nclassification report\\n\")\n",
    "print(classification_report(\n",
    "        y_val, y_pred,\n",
    "        labels=labels,                  # explicit order\n",
    "        target_names=label_names,\n",
    "        digits=3,\n",
    "        zero_division=0,                # avoids /0 warnings for missing classes\n",
    "))\n",
    "\n",
    "# ------------------------------------------------------------------\n",
    "# 3.  Confusion matrix (includes empty rows/cols for missing classes)\n",
    "# ------------------------------------------------------------------\n",
    "cm = confusion_matrix(y_val, y_pred, labels=labels)\n",
    "\n",
    "plt.figure(figsize=(9, 7))\n",
    "sns.heatmap(\n",
    "    cm, annot=True, fmt=\"d\", cmap=\"Blues\",\n",
    "    xticklabels=label_names, yticklabels=label_names,\n",
    ")\n",
    "plt.xlabel(\"predicted\"); plt.ylabel(\"true label\")\n",
    "plt.title(\"Validation confusion matrix – logistic regression\")\n",
    "plt.tight_layout()\n",
    "plt.show()\n"
   ]
  },
  {
   "cell_type": "code",
   "execution_count": null,
   "metadata": {
    "colab": {
     "base_uri": "https://localhost:8080/",
     "height": 575
    },
    "executionInfo": {
     "elapsed": 964,
     "status": "ok",
     "timestamp": 1747230385510,
     "user": {
      "displayName": "Natalia Lavrova",
      "userId": "06691402705171570003"
     },
     "user_tz": -180
    },
    "id": "AEMA0YC9C89q",
    "outputId": "4ddbf7f1-c390-4e8e-be67-389872d6105e"
   },
   "outputs": [
    {
     "data": {
      "image/png": "[encoded data removed]",
      "text/plain": [
       "<Figure size 800x600 with 2 Axes>"
      ]
     },
     "metadata": {},
     "output_type": "display_data"
    }
   ],
   "source": [
    "cm = confusion_matrix(y_val, y_pred, labels=np.arange(len(label_names)))\n",
    "\n",
    "plt.figure(figsize=(8, 6))\n",
    "plt.imshow(cm, interpolation=\"nearest\")\n",
    "plt.title(\"Validation confusion matrix – logistic regression baseline\")\n",
    "plt.xlabel(\"predicted label id\")\n",
    "plt.ylabel(\"true label id\")\n",
    "plt.colorbar()\n",
    "for i in range(cm.shape[0]):\n",
    "    for j in range(cm.shape[1]):\n",
    "        plt.text(j, i, cm[i, j], ha=\"center\", va=\"center\")\n",
    "plt.tight_layout()\n",
    "plt.show()"
   ]
  },
  {
   "cell_type": "code",
   "execution_count": null,
   "metadata": {
    "colab": {
     "base_uri": "https://localhost:8080/",
     "height": 1000
    },
    "executionInfo": {
     "elapsed": 5846,
     "status": "ok",
     "timestamp": 1747231702043,
     "user": {
      "displayName": "Natalia Lavrova",
      "userId": "06691402705171570003"
     },
     "user_tz": -180
    },
    "id": "IoldvKmWG1FY",
    "outputId": "1082e3a2-1a1c-4141-efb2-cc2a25f79922"
   },
   "outputs": [
    {
     "data": {
      "image/png": "[encoded data removed]",
      "text/plain": [
       "<Figure size 600x500 with 1 Axes>"
      ]
     },
     "metadata": {},
     "output_type": "display_data"
    },
    {
     "data": {
      "image/png": "[encoded data removed]",
      "text/plain": [
       "<Figure size 600x500 with 1 Axes>"
      ]
     },
     "metadata": {},
     "output_type": "display_data"
    },
    {
     "data": {
      "image/png": "[encoded data removed]",
      "text/plain": [
       "<Figure size 800x600 with 2 Axes>"
      ]
     },
     "metadata": {},
     "output_type": "display_data"
    },
    {
     "name": "stdout",
     "output_type": "stream",
     "text": [
      "macro-F1 : 0.14750000000000002\n"
     ]
    }
   ],
   "source": [
    "# ---------- 1. PCA-2 coloured by real subject ----------\n",
    "pca2 = PCA(n_components=2, random_state=0).fit_transform(X)\n",
    "plt.figure(figsize=(6, 5))\n",
    "plt.scatter(pca2[:, 0], pca2[:, 1], c=true_labels, s=14, alpha=0.8)\n",
    "plt.xlabel(\"PC 1\"); plt.ylabel(\"PC 2\")\n",
    "plt.title(\"MathBERT embeddings – coloured by subject tag\")\n",
    "plt.tight_layout(); plt.show()\n",
    "\n",
    "# ---------- 2. PCA-2 coloured by k-means cluster ----------\n",
    "plt.figure(figsize=(6, 5))\n",
    "plt.scatter(pca2[:, 0], pca2[:, 1], c=pred, s=14, alpha=0.8, cmap='tab20')\n",
    "plt.xlabel(\"PC 1\"); plt.ylabel(\"PC 2\")\n",
    "plt.title(\"Same space – coloured by k-means cluster\")\n",
    "plt.tight_layout(); plt.show()\n",
    "\n",
    "# ---------- 3. Supervised diagnostics (run only if y_val & y_pred exist) ----------\n",
    "if \"y_val\" in globals() and \"y_pred\" in globals():\n",
    "    _, label_names = pd.factorize(df[\"categories_y\"].astype(str).str.split().str[0])\n",
    "    label_names = np.asarray(label_names)\n",
    "    labels      = np.arange(len(label_names))\n",
    "\n",
    "    # 3-A  confusion matrix\n",
    "    cm = confusion_matrix(y_val, y_pred, labels=labels)\n",
    "    plt.figure(figsize=(8, 6))\n",
    "    sns.heatmap(cm, annot=True, fmt='d', cmap='Blues',\n",
    "                xticklabels=label_names, yticklabels=label_names)\n",
    "    plt.xlabel(\"predicted\"); plt.ylabel(\"true label\")\n",
    "    plt.title(\"Validation confusion matrix – logistic regression baseline\")\n",
    "    plt.tight_layout(); plt.show()\n",
    "\n",
    "    # 3-B  per-class F1\n",
    "    support = np.bincount(y_val, minlength=len(labels))\n",
    "    f1_cls  = f1_score(y_val, y_pred, average=None, zero_division=0)\n",
    "    present = support > 0\n",
    "\n",
    "\n",
    "    print(\"macro-F1 :\", f1_score(y_val, y_pred, average='macro', zero_division=0))\n"
   ]
  },
  {
   "cell_type": "code",
   "execution_count": null,
   "metadata": {
    "id": "DIYWFw7ik8Jx"
   },
   "outputs": [],
   "source": []
  },
  {
   "cell_type": "markdown",
   "metadata": {
    "id": "CiLIywtIXf4I"
   },
   "source": [
    "FINE-tune the Embedding Model (LoRA)"
   ]
  },
  {
   "cell_type": "code",
   "execution_count": null,
   "metadata": {
    "colab": {
     "base_uri": "https://localhost:8080/"
    },
    "executionInfo": {
     "elapsed": 616,
     "status": "ok",
     "timestamp": 1746755982696,
     "user": {
      "displayName": "Natalia Lavrova",
      "userId": "06691402705171570003"
     },
     "user_tz": -180
    },
    "id": "9S0TL9_7Z3mJ",
    "outputId": "3db160e4-ad07-4ca8-d426-7d9c239bfacf"
   },
   "outputs": [
    {
     "name": "stderr",
     "output_type": "stream",
     "text": [
      "/usr/local/lib/python3.11/dist-packages/huggingface_hub/utils/_auth.py:94: UserWarning: \n",
      "The secret `HF_TOKEN` does not exist in your Colab secrets.\n",
      "To authenticate with the Hugging Face Hub, create a token in your settings tab (https://huggingface.co/settings/tokens), set it as secret in your Google Colab and restart your session.\n",
      "You will be able to reuse this secret in all of your notebooks.\n",
      "Please note that authentication is recommended but still optional to access public models or datasets.\n",
      "  warnings.warn(\n"
     ]
    }
   ],
   "source": [
    "model_id = \"tbs17/MathBERT\"\n",
    "tokenizer = AutoTokenizer.from_pretrained(model_id)\n",
    "\n",
    "quantization_config = BitsAndBytesConfig(\n",
    "    load_in_8bit=True,\n",
    "    llm_int8_enable_fp32_cpu_offload=True\n",
    ")"
   ]
  },
  {
   "cell_type": "code",
   "execution_count": null,
   "metadata": {
    "id": "-8GPnhN5Z6Mr"
   },
   "outputs": [],
   "source": [
    "model = AutoModel.from_pretrained(\n",
    "    model_id,\n",
    "    quantization_config=quantization_config,\n",
    "    device_map=\"auto\"\n",
    ")"
   ]
  },
  {
   "cell_type": "code",
   "execution_count": null,
   "metadata": {
    "id": "TM4Kzd2FYEC2"
   },
   "outputs": [],
   "source": [
    "lora_config = LoraConfig(\n",
    "    r=8,\n",
    "    lora_alpha=16,\n",
    "    target_modules=[\"query\", \"key\", \"value\"],\n",
    "    lora_dropout=0.05,\n",
    "    bias=\"none\",\n",
    "    task_type=\"FEATURE_EXTRACTION\"\n",
    ")"
   ]
  },
  {
   "cell_type": "code",
   "execution_count": null,
   "metadata": {
    "id": "-5Fl0wBCZEVe"
   },
   "outputs": [],
   "source": [
    "model = get_peft_model(model, lora_config)"
   ]
  },
  {
   "cell_type": "code",
   "execution_count": null,
   "metadata": {
    "colab": {
     "base_uri": "https://localhost:8080/"
    },
    "executionInfo": {
     "elapsed": 7,
     "status": "ok",
     "timestamp": 1746755264301,
     "user": {
      "displayName": "Natalia Lavrova",
      "userId": "06691402705171570003"
     },
     "user_tz": -180
    },
    "id": "QQTbDJwMatUC",
    "outputId": "1ca7f136-806e-4770-f6d5-5f5a9aa25b69"
   },
   "outputs": [
    {
     "name": "stdout",
     "output_type": "stream",
     "text": [
      "trainable params: 442,368 || all params: 109,924,608 || trainable%: 0.4024\n",
      "None\n"
     ]
    }
   ],
   "source": [
    "print(model.print_trainable_parameters())"
   ]
  },
  {
   "cell_type": "code",
   "execution_count": null,
   "metadata": {
    "id": "WnMM9WcJcAxL"
   },
   "outputs": [],
   "source": [
    "# Combine all lists (lemmas, theorems, etc.) into one text column\n",
    "def merge_text_fields(row):\n",
    "    fields = ['lemmas', 'theorems', 'proofs', 'equations', 'sentences']\n",
    "    merged = []\n",
    "    for field in fields:\n",
    "        items = row[field]\n",
    "        if isinstance(items, list):\n",
    "            merged.extend(items)\n",
    "    return merged\n",
    "\n",
    "df['merged_text'] = df.apply(merge_text_fields, axis=1)\n",
    "\n",
    "# Flatten the merged lists into one big list of training texts\n",
    "training_texts = [text for sublist in df['merged_text'] for text in sublist if isinstance(text, str)]\n"
   ]
  },
  {
   "cell_type": "markdown",
   "metadata": {
    "id": "0I_1rfSojvwo"
   },
   "source": [
    "# ***MATHBert***"
   ]
  },
  {
   "cell_type": "markdown",
   "metadata": {
    "id": "4bHPSRctjits"
   },
   "source": [
    "- Loads the tokenizer from MathBERT.\n",
    "\n",
    "- Creates a Hugging Face Dataset from training_texts (likely from your df['sentences'], df['theorems'], or combined).\n",
    "\n",
    "- Tokenizes each text with padding/truncation to 128 tokens -onverts raw text into input_ids and attention_mask required by transformer models."
   ]
  },
  {
   "cell_type": "code",
   "execution_count": null,
   "metadata": {
    "id": "EkK2glN8cHt4"
   },
   "outputs": [],
   "source": [
    "model_id = \"tbs17/MathBERT\"\n",
    "tokenizer = AutoTokenizer.from_pretrained(model_id)\n",
    "\n",
    "# Create Hugging Face Dataset\n",
    "dataset = Dataset.from_dict({\"text\": training_texts})"
   ]
  },
  {
   "cell_type": "markdown",
   "metadata": {
    "id": "cVe__fFckNxU"
   },
   "source": [
    "Configurations"
   ]
  },
  {
   "cell_type": "markdown",
   "metadata": {
    "id": "qIyy3KIhkCBT"
   },
   "source": [
    "- Configures 8-bit model loading to reduce memory usage.\n",
    "\n",
    "- Does not offload to CPU (keeps computation on GPU if available)"
   ]
  },
  {
   "cell_type": "code",
   "execution_count": null,
   "metadata": {
    "id": "DFiCmHficgui"
   },
   "outputs": [],
   "source": [
    "quant_config = BitsAndBytesConfig(\n",
    "    load_in_8bit=True,\n",
    "    llm_int8_enable_fp32_cpu_offload=False\n",
    ")"
   ]
  },
  {
   "cell_type": "markdown",
   "metadata": {
    "id": "bBj44lTmkQoj"
   },
   "source": [
    "Load pretrained model"
   ]
  },
  {
   "cell_type": "markdown",
   "metadata": {
    "id": "P-QG2eCtkght"
   },
   "source": [
    "A feature extractor model (no classifier head). We'll use it to get embeddings from text"
   ]
  },
  {
   "cell_type": "code",
   "execution_count": null,
   "metadata": {
    "id": "YOuTBaqqciui"
   },
   "outputs": [],
   "source": [
    "model = AutoModel.from_pretrained(\n",
    "    model_id,\n",
    "    quantization_config=quant_config,\n",
    "    device_map=\"auto\"\n",
    ")"
   ]
  },
  {
   "cell_type": "markdown",
   "metadata": {
    "id": "0xewplo4ko6L"
   },
   "source": [
    "Apply LoRa adapter - parameter-efficient fine-tuning (PEFT): LoRA adds trainable low-rank matrices into frozen model layers"
   ]
  },
  {
   "cell_type": "markdown",
   "metadata": {
    "id": "Xnj7-fl7ktl-"
   },
   "source": [
    "- Defines LoRA parameters and injects adapters into attention layers (query/key/value).\n",
    "\n",
    "- LoRA enables training only small adapter matrices instead of full model weights"
   ]
  },
  {
   "cell_type": "code",
   "execution_count": null,
   "metadata": {
    "id": "tLv2nNrbcl08"
   },
   "outputs": [],
   "source": [
    "lora_config = LoraConfig(\n",
    "    r=8,\n",
    "    lora_alpha=16,\n",
    "    target_modules=[\"query\", \"key\", \"value\"],\n",
    "    lora_dropout=0.05,\n",
    "    bias=\"none\",\n",
    "    task_type=\"FEATURE_EXTRACTION\"\n",
    ")"
   ]
  },
  {
   "cell_type": "code",
   "execution_count": null,
   "metadata": {
    "id": "-gqHljJLcoFK"
   },
   "outputs": [],
   "source": [
    "model = get_peft_model(model, lora_config)"
   ]
  },
  {
   "cell_type": "code",
   "execution_count": null,
   "metadata": {
    "colab": {
     "base_uri": "https://localhost:8080/",
     "height": 49
    },
    "executionInfo": {
     "elapsed": 31918,
     "status": "ok",
     "timestamp": 1746750832569,
     "user": {
      "displayName": "Natalia Lavrova",
      "userId": "06691402705171570003"
     },
     "user_tz": -180
    },
    "id": "XvF-WlzpdfbR",
    "outputId": "b554d077-e11d-4ff6-c699-1bcdde4ad2b0"
   },
   "outputs": [
    {
     "data": {
      "application/vnd.jupyter.widget-view+json": {
       "model_id": "499f5ae999dc44d386265d1baf5bab04",
       "version_major": 2,
       "version_minor": 0
      },
      "text/plain": [
       "Map:   0%|          | 0/122885 [00:00<?, ? examples/s]"
      ]
     },
     "metadata": {},
     "output_type": "display_data"
    }
   ],
   "source": [
    "tokenizer = AutoTokenizer.from_pretrained(\"tbs17/MathBERT\")\n",
    "\n",
    "def tokenize(batch):\n",
    "    return tokenizer(batch[\"text\"], padding=\"max_length\", truncation=True, max_length=128)\n",
    "\n",
    "tokenized_dataset = dataset.map(tokenize, batched=True)\n"
   ]
  },
  {
   "cell_type": "code",
   "execution_count": null,
   "metadata": {
    "id": "XeQCxH9SdgHc"
   },
   "outputs": [],
   "source": [
    "dataloader = DataLoader(tokenized_dataset, batch_size=8, shuffle=True)"
   ]
  },
  {
   "cell_type": "code",
   "execution_count": null,
   "metadata": {
    "id": "RRff2Jv3do9I"
   },
   "outputs": [],
   "source": [
    "tokenized_dataset.set_format(type=\"torch\", columns=[\"input_ids\", \"attention_mask\"])"
   ]
  },
  {
   "cell_type": "code",
   "execution_count": null,
   "metadata": {
    "colab": {
     "base_uri": "https://localhost:8080/",
     "height": 423
    },
    "executionInfo": {
     "elapsed": 128959,
     "status": "error",
     "timestamp": 1746753985935,
     "user": {
      "displayName": "Natalia Lavrova",
      "userId": "06691402705171570003"
     },
     "user_tz": -180
    },
    "id": "foRDSYX-dqtk",
    "outputId": "5f64cf99-8776-4c00-8f42-7cd0135752fc"
   },
   "outputs": [
    {
     "name": "stdout",
     "output_type": "stream",
     "text": [
      "✅ Epoch 1 completed — Loss: 2.2972\n"
     ]
    },
    {
     "ename": "KeyboardInterrupt",
     "evalue": "",
     "output_type": "error",
     "traceback": [
      "\u001b[0;31m---------------------------------------------------------------------------\u001b[0m",
      "\u001b[0;31mKeyboardInterrupt\u001b[0m                         Traceback (most recent call last)",
      "\u001b[0;32m<ipython-input-67-6b31f3132327>\u001b[0m in \u001b[0;36m<cell line: 0>\u001b[0;34m()\u001b[0m\n\u001b[1;32m     11\u001b[0m     \u001b[0;32mfor\u001b[0m \u001b[0mbatch\u001b[0m \u001b[0;32min\u001b[0m \u001b[0mdataloader\u001b[0m\u001b[0;34m:\u001b[0m\u001b[0;34m\u001b[0m\u001b[0;34m\u001b[0m\u001b[0m\n\u001b[1;32m     12\u001b[0m         \u001b[0mbatch\u001b[0m \u001b[0;34m=\u001b[0m \u001b[0;34m{\u001b[0m\u001b[0mk\u001b[0m\u001b[0;34m:\u001b[0m \u001b[0mv\u001b[0m\u001b[0;34m.\u001b[0m\u001b[0mto\u001b[0m\u001b[0;34m(\u001b[0m\u001b[0mmodel\u001b[0m\u001b[0;34m.\u001b[0m\u001b[0mdevice\u001b[0m\u001b[0;34m)\u001b[0m \u001b[0;32mfor\u001b[0m \u001b[0mk\u001b[0m\u001b[0;34m,\u001b[0m \u001b[0mv\u001b[0m \u001b[0;32min\u001b[0m \u001b[0mbatch\u001b[0m\u001b[0;34m.\u001b[0m\u001b[0mitems\u001b[0m\u001b[0;34m(\u001b[0m\u001b[0;34m)\u001b[0m\u001b[0;34m}\u001b[0m\u001b[0;34m\u001b[0m\u001b[0;34m\u001b[0m\u001b[0m\n\u001b[0;32m---> 13\u001b[0;31m         \u001b[0moutputs\u001b[0m \u001b[0;34m=\u001b[0m \u001b[0mmodel\u001b[0m\u001b[0;34m(\u001b[0m\u001b[0;34m**\u001b[0m\u001b[0mbatch\u001b[0m\u001b[0;34m)\u001b[0m\u001b[0;34m\u001b[0m\u001b[0;34m\u001b[0m\u001b[0m\n\u001b[0m\u001b[1;32m     14\u001b[0m         \u001b[0membeddings\u001b[0m \u001b[0;34m=\u001b[0m \u001b[0moutputs\u001b[0m\u001b[0;34m.\u001b[0m\u001b[0mlast_hidden_state\u001b[0m\u001b[0;34m[\u001b[0m\u001b[0;34m:\u001b[0m\u001b[0;34m,\u001b[0m \u001b[0;36m0\u001b[0m\u001b[0;34m,\u001b[0m \u001b[0;34m:\u001b[0m\u001b[0;34m]\u001b[0m  \u001b[0;31m# [CLS] token\u001b[0m\u001b[0;34m\u001b[0m\u001b[0;34m\u001b[0m\u001b[0m\n\u001b[1;32m     15\u001b[0m \u001b[0;34m\u001b[0m\u001b[0m\n",
      "\u001b[0;32m/usr/local/lib/python3.11/dist-packages/torch/nn/modules/module.py\u001b[0m in \u001b[0;36m_wrapped_call_impl\u001b[0;34m(self, *args, **kwargs)\u001b[0m\n\u001b[1;32m   1737\u001b[0m             \u001b[0;32mreturn\u001b[0m \u001b[0mself\u001b[0m\u001b[0;34m.\u001b[0m\u001b[0m_compiled_call_impl\u001b[0m\u001b[0;34m(\u001b[0m\u001b[0;34m*\u001b[0m\u001b[0margs\u001b[0m\u001b[0;34m,\u001b[0m \u001b[0;34m**\u001b[0m\u001b[0mkwargs\u001b[0m\u001b[0;34m)\u001b[0m  \u001b[0;31m# type: ignore[misc]\u001b[0m\u001b[0;34m\u001b[0m\u001b[0;34m\u001b[0m\u001b[0m\n\u001b[1;32m   1738\u001b[0m         \u001b[0;32melse\u001b[0m\u001b[0;34m:\u001b[0m\u001b[0;34m\u001b[0m\u001b[0;34m\u001b[0m\u001b[0m\n\u001b[0;32m-> 1739\u001b[0;31m             \u001b[0;32mreturn\u001b[0m \u001b[0mself\u001b[0m\u001b[0;34m.\u001b[0m\u001b[0m_call_impl\u001b[0m\u001b[0;34m(\u001b[0m\u001b[0;34m*\u001b[0m\u001b[0margs\u001b[0m\u001b[0;34m,\u001b[0m \u001b[0;34m**\u001b[0m\u001b[0mkwargs\u001b[0m\u001b[0;34m)\u001b[0m\u001b[0;34m\u001b[0m\u001b[0;34m\u001b[0m\u001b[0m\n\u001b[0m\u001b[1;32m   1740\u001b[0m \u001b[0;34m\u001b[0m\u001b[0m\n\u001b[1;32m   1741\u001b[0m     \u001b[0;31m# torchrec tests the code consistency with the following code\u001b[0m\u001b[0;34m\u001b[0m\u001b[0;34m\u001b[0m\u001b[0m\n",
      "\u001b[0;32m/usr/local/lib/python3.11/dist-packages/torch/nn/modules/module.py\u001b[0m in \u001b[0;36m_call_impl\u001b[0;34m(self, *args, **kwargs)\u001b[0m\n\u001b[1;32m   1748\u001b[0m                 \u001b[0;32mor\u001b[0m \u001b[0m_global_backward_pre_hooks\u001b[0m \u001b[0;32mor\u001b[0m \u001b[0m_global_backward_hooks\u001b[0m\u001b[0;34m\u001b[0m\u001b[0;34m\u001b[0m\u001b[0m\n\u001b[1;32m   1749\u001b[0m                 or _global_forward_hooks or _global_forward_pre_hooks):\n\u001b[0;32m-> 1750\u001b[0;31m             \u001b[0;32mreturn\u001b[0m \u001b[0mforward_call\u001b[0m\u001b[0;34m(\u001b[0m\u001b[0;34m*\u001b[0m\u001b[0margs\u001b[0m\u001b[0;34m,\u001b[0m \u001b[0;34m**\u001b[0m\u001b[0mkwargs\u001b[0m\u001b[0;34m)\u001b[0m\u001b[0;34m\u001b[0m\u001b[0;34m\u001b[0m\u001b[0m\n\u001b[0m\u001b[1;32m   1751\u001b[0m \u001b[0;34m\u001b[0m\u001b[0m\n\u001b[1;32m   1752\u001b[0m         \u001b[0mresult\u001b[0m \u001b[0;34m=\u001b[0m \u001b[0;32mNone\u001b[0m\u001b[0;34m\u001b[0m\u001b[0;34m\u001b[0m\u001b[0m\n",
      "\u001b[0;32m/usr/local/lib/python3.11/dist-packages/accelerate/utils/operations.py\u001b[0m in \u001b[0;36mforward\u001b[0;34m(*args, **kwargs)\u001b[0m\n\u001b[1;32m    812\u001b[0m \u001b[0;34m\u001b[0m\u001b[0m\n\u001b[1;32m    813\u001b[0m     \u001b[0;32mdef\u001b[0m \u001b[0mforward\u001b[0m\u001b[0;34m(\u001b[0m\u001b[0;34m*\u001b[0m\u001b[0margs\u001b[0m\u001b[0;34m,\u001b[0m \u001b[0;34m**\u001b[0m\u001b[0mkwargs\u001b[0m\u001b[0;34m)\u001b[0m\u001b[0;34m:\u001b[0m\u001b[0;34m\u001b[0m\u001b[0;34m\u001b[0m\u001b[0m\n\u001b[0;32m--> 814\u001b[0;31m         \u001b[0;32mreturn\u001b[0m \u001b[0mmodel_forward\u001b[0m\u001b[0;34m(\u001b[0m\u001b[0;34m*\u001b[0m\u001b[0margs\u001b[0m\u001b[0;34m,\u001b[0m \u001b[0;34m**\u001b[0m\u001b[0mkwargs\u001b[0m\u001b[0;34m)\u001b[0m\u001b[0;34m\u001b[0m\u001b[0;34m\u001b[0m\u001b[0m\n\u001b[0m\u001b[1;32m    815\u001b[0m \u001b[0;34m\u001b[0m\u001b[0m\n\u001b[1;32m    816\u001b[0m     \u001b[0;31m# To act like a decorator so that it can be popped when doing `extract_model_from_parallel`\u001b[0m\u001b[0;34m\u001b[0m\u001b[0;34m\u001b[0m\u001b[0m\n",
      "\u001b[0;32m/usr/local/lib/python3.11/dist-packages/accelerate/utils/operations.py\u001b[0m in \u001b[0;36m__call__\u001b[0;34m(self, *args, **kwargs)\u001b[0m\n\u001b[1;32m    800\u001b[0m \u001b[0;34m\u001b[0m\u001b[0m\n\u001b[1;32m    801\u001b[0m     \u001b[0;32mdef\u001b[0m \u001b[0m__call__\u001b[0m\u001b[0;34m(\u001b[0m\u001b[0mself\u001b[0m\u001b[0;34m,\u001b[0m \u001b[0;34m*\u001b[0m\u001b[0margs\u001b[0m\u001b[0;34m,\u001b[0m \u001b[0;34m**\u001b[0m\u001b[0mkwargs\u001b[0m\u001b[0;34m)\u001b[0m\u001b[0;34m:\u001b[0m\u001b[0;34m\u001b[0m\u001b[0;34m\u001b[0m\u001b[0m\n\u001b[0;32m--> 802\u001b[0;31m         \u001b[0;32mreturn\u001b[0m \u001b[0mconvert_to_fp32\u001b[0m\u001b[0;34m(\u001b[0m\u001b[0mself\u001b[0m\u001b[0;34m.\u001b[0m\u001b[0mmodel_forward\u001b[0m\u001b[0;34m(\u001b[0m\u001b[0;34m*\u001b[0m\u001b[0margs\u001b[0m\u001b[0;34m,\u001b[0m \u001b[0;34m**\u001b[0m\u001b[0mkwargs\u001b[0m\u001b[0;34m)\u001b[0m\u001b[0;34m)\u001b[0m\u001b[0;34m\u001b[0m\u001b[0;34m\u001b[0m\u001b[0m\n\u001b[0m\u001b[1;32m    803\u001b[0m \u001b[0;34m\u001b[0m\u001b[0m\n\u001b[1;32m    804\u001b[0m     \u001b[0;32mdef\u001b[0m \u001b[0m__getstate__\u001b[0m\u001b[0;34m(\u001b[0m\u001b[0mself\u001b[0m\u001b[0;34m)\u001b[0m\u001b[0;34m:\u001b[0m\u001b[0;34m\u001b[0m\u001b[0;34m\u001b[0m\u001b[0m\n",
      "\u001b[0;32m/usr/local/lib/python3.11/dist-packages/torch/amp/autocast_mode.py\u001b[0m in \u001b[0;36mdecorate_autocast\u001b[0;34m(*args, **kwargs)\u001b[0m\n\u001b[1;32m     42\u001b[0m     \u001b[0;32mdef\u001b[0m \u001b[0mdecorate_autocast\u001b[0m\u001b[0;34m(\u001b[0m\u001b[0;34m*\u001b[0m\u001b[0margs\u001b[0m\u001b[0;34m,\u001b[0m \u001b[0;34m**\u001b[0m\u001b[0mkwargs\u001b[0m\u001b[0;34m)\u001b[0m\u001b[0;34m:\u001b[0m\u001b[0;34m\u001b[0m\u001b[0;34m\u001b[0m\u001b[0m\n\u001b[1;32m     43\u001b[0m         \u001b[0;32mwith\u001b[0m \u001b[0mautocast_instance\u001b[0m\u001b[0;34m:\u001b[0m\u001b[0;34m\u001b[0m\u001b[0;34m\u001b[0m\u001b[0m\n\u001b[0;32m---> 44\u001b[0;31m             \u001b[0;32mreturn\u001b[0m \u001b[0mfunc\u001b[0m\u001b[0;34m(\u001b[0m\u001b[0;34m*\u001b[0m\u001b[0margs\u001b[0m\u001b[0;34m,\u001b[0m \u001b[0;34m**\u001b[0m\u001b[0mkwargs\u001b[0m\u001b[0;34m)\u001b[0m\u001b[0;34m\u001b[0m\u001b[0;34m\u001b[0m\u001b[0m\n\u001b[0m\u001b[1;32m     45\u001b[0m \u001b[0;34m\u001b[0m\u001b[0m\n\u001b[1;32m     46\u001b[0m     \u001b[0mdecorate_autocast\u001b[0m\u001b[0;34m.\u001b[0m\u001b[0m__script_unsupported\u001b[0m \u001b[0;34m=\u001b[0m \u001b[0;34m\"@autocast() decorator is not supported in script mode\"\u001b[0m  \u001b[0;31m# type: ignore[attr-defined]\u001b[0m\u001b[0;34m\u001b[0m\u001b[0;34m\u001b[0m\u001b[0m\n",
      "\u001b[0;32m/usr/local/lib/python3.11/dist-packages/accelerate/utils/operations.py\u001b[0m in \u001b[0;36mforward\u001b[0;34m(*args, **kwargs)\u001b[0m\n\u001b[1;32m    812\u001b[0m \u001b[0;34m\u001b[0m\u001b[0m\n\u001b[1;32m    813\u001b[0m     \u001b[0;32mdef\u001b[0m \u001b[0mforward\u001b[0m\u001b[0;34m(\u001b[0m\u001b[0;34m*\u001b[0m\u001b[0margs\u001b[0m\u001b[0;34m,\u001b[0m \u001b[0;34m**\u001b[0m\u001b[0mkwargs\u001b[0m\u001b[0;34m)\u001b[0m\u001b[0;34m:\u001b[0m\u001b[0;34m\u001b[0m\u001b[0;34m\u001b[0m\u001b[0m\n\u001b[0;32m--> 814\u001b[0;31m         \u001b[0;32mreturn\u001b[0m \u001b[0mmodel_forward\u001b[0m\u001b[0;34m(\u001b[0m\u001b[0;34m*\u001b[0m\u001b[0margs\u001b[0m\u001b[0;34m,\u001b[0m \u001b[0;34m**\u001b[0m\u001b[0mkwargs\u001b[0m\u001b[0;34m)\u001b[0m\u001b[0;34m\u001b[0m\u001b[0;34m\u001b[0m\u001b[0m\n\u001b[0m\u001b[1;32m    815\u001b[0m \u001b[0;34m\u001b[0m\u001b[0m\n\u001b[1;32m    816\u001b[0m     \u001b[0;31m# To act like a decorator so that it can be popped when doing `extract_model_from_parallel`\u001b[0m\u001b[0;34m\u001b[0m\u001b[0;34m\u001b[0m\u001b[0m\n",
      "\u001b[0;32m/usr/local/lib/python3.11/dist-packages/accelerate/utils/operations.py\u001b[0m in \u001b[0;36m__call__\u001b[0;34m(self, *args, **kwargs)\u001b[0m\n\u001b[1;32m    800\u001b[0m \u001b[0;34m\u001b[0m\u001b[0m\n\u001b[1;32m    801\u001b[0m     \u001b[0;32mdef\u001b[0m \u001b[0m__call__\u001b[0m\u001b[0;34m(\u001b[0m\u001b[0mself\u001b[0m\u001b[0;34m,\u001b[0m \u001b[0;34m*\u001b[0m\u001b[0margs\u001b[0m\u001b[0;34m,\u001b[0m \u001b[0;34m**\u001b[0m\u001b[0mkwargs\u001b[0m\u001b[0;34m)\u001b[0m\u001b[0;34m:\u001b[0m\u001b[0;34m\u001b[0m\u001b[0;34m\u001b[0m\u001b[0m\n\u001b[0;32m--> 802\u001b[0;31m         \u001b[0;32mreturn\u001b[0m \u001b[0mconvert_to_fp32\u001b[0m\u001b[0;34m(\u001b[0m\u001b[0mself\u001b[0m\u001b[0;34m.\u001b[0m\u001b[0mmodel_forward\u001b[0m\u001b[0;34m(\u001b[0m\u001b[0;34m*\u001b[0m\u001b[0margs\u001b[0m\u001b[0;34m,\u001b[0m \u001b[0;34m**\u001b[0m\u001b[0mkwargs\u001b[0m\u001b[0;34m)\u001b[0m\u001b[0;34m)\u001b[0m\u001b[0;34m\u001b[0m\u001b[0;34m\u001b[0m\u001b[0m\n\u001b[0m\u001b[1;32m    803\u001b[0m \u001b[0;34m\u001b[0m\u001b[0m\n\u001b[1;32m    804\u001b[0m     \u001b[0;32mdef\u001b[0m \u001b[0m__getstate__\u001b[0m\u001b[0;34m(\u001b[0m\u001b[0mself\u001b[0m\u001b[0;34m)\u001b[0m\u001b[0;34m:\u001b[0m\u001b[0;34m\u001b[0m\u001b[0;34m\u001b[0m\u001b[0m\n",
      "\u001b[0;32m/usr/local/lib/python3.11/dist-packages/torch/amp/autocast_mode.py\u001b[0m in \u001b[0;36mdecorate_autocast\u001b[0;34m(*args, **kwargs)\u001b[0m\n\u001b[1;32m     42\u001b[0m     \u001b[0;32mdef\u001b[0m \u001b[0mdecorate_autocast\u001b[0m\u001b[0;34m(\u001b[0m\u001b[0;34m*\u001b[0m\u001b[0margs\u001b[0m\u001b[0;34m,\u001b[0m \u001b[0;34m**\u001b[0m\u001b[0mkwargs\u001b[0m\u001b[0;34m)\u001b[0m\u001b[0;34m:\u001b[0m\u001b[0;34m\u001b[0m\u001b[0;34m\u001b[0m\u001b[0m\n\u001b[1;32m     43\u001b[0m         \u001b[0;32mwith\u001b[0m \u001b[0mautocast_instance\u001b[0m\u001b[0;34m:\u001b[0m\u001b[0;34m\u001b[0m\u001b[0;34m\u001b[0m\u001b[0m\n\u001b[0;32m---> 44\u001b[0;31m             \u001b[0;32mreturn\u001b[0m \u001b[0mfunc\u001b[0m\u001b[0;34m(\u001b[0m\u001b[0;34m*\u001b[0m\u001b[0margs\u001b[0m\u001b[0;34m,\u001b[0m \u001b[0;34m**\u001b[0m\u001b[0mkwargs\u001b[0m\u001b[0;34m)\u001b[0m\u001b[0;34m\u001b[0m\u001b[0;34m\u001b[0m\u001b[0m\n\u001b[0m\u001b[1;32m     45\u001b[0m \u001b[0;34m\u001b[0m\u001b[0m\n\u001b[1;32m     46\u001b[0m     \u001b[0mdecorate_autocast\u001b[0m\u001b[0;34m.\u001b[0m\u001b[0m__script_unsupported\u001b[0m \u001b[0;34m=\u001b[0m \u001b[0;34m\"@autocast() decorator is not supported in script mode\"\u001b[0m  \u001b[0;31m# type: ignore[attr-defined]\u001b[0m\u001b[0;34m\u001b[0m\u001b[0;34m\u001b[0m\u001b[0m\n",
      "\u001b[0;32m/usr/local/lib/python3.11/dist-packages/peft/peft_model.py\u001b[0m in \u001b[0;36mforward\u001b[0;34m(self, input_ids, attention_mask, inputs_embeds, output_attentions, output_hidden_states, return_dict, task_ids, **kwargs)\u001b[0m\n\u001b[1;32m   2757\u001b[0m             \u001b[0;32mwith\u001b[0m \u001b[0mself\u001b[0m\u001b[0;34m.\u001b[0m\u001b[0m_enable_peft_forward_hooks\u001b[0m\u001b[0;34m(\u001b[0m\u001b[0;34m**\u001b[0m\u001b[0mkwargs\u001b[0m\u001b[0;34m)\u001b[0m\u001b[0;34m:\u001b[0m\u001b[0;34m\u001b[0m\u001b[0;34m\u001b[0m\u001b[0m\n\u001b[1;32m   2758\u001b[0m                 \u001b[0mkwargs\u001b[0m \u001b[0;34m=\u001b[0m \u001b[0;34m{\u001b[0m\u001b[0mk\u001b[0m\u001b[0;34m:\u001b[0m \u001b[0mv\u001b[0m \u001b[0;32mfor\u001b[0m \u001b[0mk\u001b[0m\u001b[0;34m,\u001b[0m \u001b[0mv\u001b[0m \u001b[0;32min\u001b[0m \u001b[0mkwargs\u001b[0m\u001b[0;34m.\u001b[0m\u001b[0mitems\u001b[0m\u001b[0;34m(\u001b[0m\u001b[0;34m)\u001b[0m \u001b[0;32mif\u001b[0m \u001b[0mk\u001b[0m \u001b[0;32mnot\u001b[0m \u001b[0;32min\u001b[0m \u001b[0mself\u001b[0m\u001b[0;34m.\u001b[0m\u001b[0mspecial_peft_forward_args\u001b[0m\u001b[0;34m}\u001b[0m\u001b[0;34m\u001b[0m\u001b[0;34m\u001b[0m\u001b[0m\n\u001b[0;32m-> 2759\u001b[0;31m                 return self.base_model(\n\u001b[0m\u001b[1;32m   2760\u001b[0m                     \u001b[0minput_ids\u001b[0m\u001b[0;34m=\u001b[0m\u001b[0minput_ids\u001b[0m\u001b[0;34m,\u001b[0m\u001b[0;34m\u001b[0m\u001b[0;34m\u001b[0m\u001b[0m\n\u001b[1;32m   2761\u001b[0m                     \u001b[0mattention_mask\u001b[0m\u001b[0;34m=\u001b[0m\u001b[0mattention_mask\u001b[0m\u001b[0;34m,\u001b[0m\u001b[0;34m\u001b[0m\u001b[0;34m\u001b[0m\u001b[0m\n",
      "\u001b[0;32m/usr/local/lib/python3.11/dist-packages/torch/nn/modules/module.py\u001b[0m in \u001b[0;36m_wrapped_call_impl\u001b[0;34m(self, *args, **kwargs)\u001b[0m\n\u001b[1;32m   1737\u001b[0m             \u001b[0;32mreturn\u001b[0m \u001b[0mself\u001b[0m\u001b[0;34m.\u001b[0m\u001b[0m_compiled_call_impl\u001b[0m\u001b[0;34m(\u001b[0m\u001b[0;34m*\u001b[0m\u001b[0margs\u001b[0m\u001b[0;34m,\u001b[0m \u001b[0;34m**\u001b[0m\u001b[0mkwargs\u001b[0m\u001b[0;34m)\u001b[0m  \u001b[0;31m# type: ignore[misc]\u001b[0m\u001b[0;34m\u001b[0m\u001b[0;34m\u001b[0m\u001b[0m\n\u001b[1;32m   1738\u001b[0m         \u001b[0;32melse\u001b[0m\u001b[0;34m:\u001b[0m\u001b[0;34m\u001b[0m\u001b[0;34m\u001b[0m\u001b[0m\n\u001b[0;32m-> 1739\u001b[0;31m             \u001b[0;32mreturn\u001b[0m \u001b[0mself\u001b[0m\u001b[0;34m.\u001b[0m\u001b[0m_call_impl\u001b[0m\u001b[0;34m(\u001b[0m\u001b[0;34m*\u001b[0m\u001b[0margs\u001b[0m\u001b[0;34m,\u001b[0m \u001b[0;34m**\u001b[0m\u001b[0mkwargs\u001b[0m\u001b[0;34m)\u001b[0m\u001b[0;34m\u001b[0m\u001b[0;34m\u001b[0m\u001b[0m\n\u001b[0m\u001b[1;32m   1740\u001b[0m \u001b[0;34m\u001b[0m\u001b[0m\n\u001b[1;32m   1741\u001b[0m     \u001b[0;31m# torchrec tests the code consistency with the following code\u001b[0m\u001b[0;34m\u001b[0m\u001b[0;34m\u001b[0m\u001b[0m\n",
      "\u001b[0;32m/usr/local/lib/python3.11/dist-packages/torch/nn/modules/module.py\u001b[0m in \u001b[0;36m_call_impl\u001b[0;34m(self, *args, **kwargs)\u001b[0m\n\u001b[1;32m   1748\u001b[0m                 \u001b[0;32mor\u001b[0m \u001b[0m_global_backward_pre_hooks\u001b[0m \u001b[0;32mor\u001b[0m \u001b[0m_global_backward_hooks\u001b[0m\u001b[0;34m\u001b[0m\u001b[0;34m\u001b[0m\u001b[0m\n\u001b[1;32m   1749\u001b[0m                 or _global_forward_hooks or _global_forward_pre_hooks):\n\u001b[0;32m-> 1750\u001b[0;31m             \u001b[0;32mreturn\u001b[0m \u001b[0mforward_call\u001b[0m\u001b[0;34m(\u001b[0m\u001b[0;34m*\u001b[0m\u001b[0margs\u001b[0m\u001b[0;34m,\u001b[0m \u001b[0;34m**\u001b[0m\u001b[0mkwargs\u001b[0m\u001b[0;34m)\u001b[0m\u001b[0;34m\u001b[0m\u001b[0;34m\u001b[0m\u001b[0m\n\u001b[0m\u001b[1;32m   1751\u001b[0m \u001b[0;34m\u001b[0m\u001b[0m\n\u001b[1;32m   1752\u001b[0m         \u001b[0mresult\u001b[0m \u001b[0;34m=\u001b[0m \u001b[0;32mNone\u001b[0m\u001b[0;34m\u001b[0m\u001b[0;34m\u001b[0m\u001b[0m\n",
      "\u001b[0;32m/usr/local/lib/python3.11/dist-packages/peft/tuners/tuners_utils.py\u001b[0m in \u001b[0;36mforward\u001b[0;34m(self, *args, **kwargs)\u001b[0m\n\u001b[1;32m    191\u001b[0m \u001b[0;34m\u001b[0m\u001b[0m\n\u001b[1;32m    192\u001b[0m     \u001b[0;32mdef\u001b[0m \u001b[0mforward\u001b[0m\u001b[0;34m(\u001b[0m\u001b[0mself\u001b[0m\u001b[0;34m,\u001b[0m \u001b[0;34m*\u001b[0m\u001b[0margs\u001b[0m\u001b[0;34m:\u001b[0m \u001b[0mAny\u001b[0m\u001b[0;34m,\u001b[0m \u001b[0;34m**\u001b[0m\u001b[0mkwargs\u001b[0m\u001b[0;34m:\u001b[0m \u001b[0mAny\u001b[0m\u001b[0;34m)\u001b[0m\u001b[0;34m:\u001b[0m\u001b[0;34m\u001b[0m\u001b[0;34m\u001b[0m\u001b[0m\n\u001b[0;32m--> 193\u001b[0;31m         \u001b[0;32mreturn\u001b[0m \u001b[0mself\u001b[0m\u001b[0;34m.\u001b[0m\u001b[0mmodel\u001b[0m\u001b[0;34m.\u001b[0m\u001b[0mforward\u001b[0m\u001b[0;34m(\u001b[0m\u001b[0;34m*\u001b[0m\u001b[0margs\u001b[0m\u001b[0;34m,\u001b[0m \u001b[0;34m**\u001b[0m\u001b[0mkwargs\u001b[0m\u001b[0;34m)\u001b[0m\u001b[0;34m\u001b[0m\u001b[0;34m\u001b[0m\u001b[0m\n\u001b[0m\u001b[1;32m    194\u001b[0m \u001b[0;34m\u001b[0m\u001b[0m\n\u001b[1;32m    195\u001b[0m     \u001b[0;32mdef\u001b[0m \u001b[0m_pre_injection_hook\u001b[0m\u001b[0;34m(\u001b[0m\u001b[0mself\u001b[0m\u001b[0;34m,\u001b[0m \u001b[0mmodel\u001b[0m\u001b[0;34m:\u001b[0m \u001b[0mnn\u001b[0m\u001b[0;34m.\u001b[0m\u001b[0mModule\u001b[0m\u001b[0;34m,\u001b[0m \u001b[0mconfig\u001b[0m\u001b[0;34m:\u001b[0m \u001b[0mPeftConfig\u001b[0m\u001b[0;34m,\u001b[0m \u001b[0madapter_name\u001b[0m\u001b[0;34m:\u001b[0m \u001b[0mstr\u001b[0m\u001b[0;34m)\u001b[0m \u001b[0;34m->\u001b[0m \u001b[0;32mNone\u001b[0m\u001b[0;34m:\u001b[0m\u001b[0;34m\u001b[0m\u001b[0;34m\u001b[0m\u001b[0m\n",
      "\u001b[0;32m/usr/local/lib/python3.11/dist-packages/transformers/models/bert/modeling_bert.py\u001b[0m in \u001b[0;36mforward\u001b[0;34m(self, input_ids, attention_mask, token_type_ids, position_ids, head_mask, inputs_embeds, encoder_hidden_states, encoder_attention_mask, past_key_values, use_cache, output_attentions, output_hidden_states, return_dict)\u001b[0m\n\u001b[1;32m   1142\u001b[0m         \u001b[0mhead_mask\u001b[0m \u001b[0;34m=\u001b[0m \u001b[0mself\u001b[0m\u001b[0;34m.\u001b[0m\u001b[0mget_head_mask\u001b[0m\u001b[0;34m(\u001b[0m\u001b[0mhead_mask\u001b[0m\u001b[0;34m,\u001b[0m \u001b[0mself\u001b[0m\u001b[0;34m.\u001b[0m\u001b[0mconfig\u001b[0m\u001b[0;34m.\u001b[0m\u001b[0mnum_hidden_layers\u001b[0m\u001b[0;34m)\u001b[0m\u001b[0;34m\u001b[0m\u001b[0;34m\u001b[0m\u001b[0m\n\u001b[1;32m   1143\u001b[0m \u001b[0;34m\u001b[0m\u001b[0m\n\u001b[0;32m-> 1144\u001b[0;31m         encoder_outputs = self.encoder(\n\u001b[0m\u001b[1;32m   1145\u001b[0m             \u001b[0membedding_output\u001b[0m\u001b[0;34m,\u001b[0m\u001b[0;34m\u001b[0m\u001b[0;34m\u001b[0m\u001b[0m\n\u001b[1;32m   1146\u001b[0m             \u001b[0mattention_mask\u001b[0m\u001b[0;34m=\u001b[0m\u001b[0mextended_attention_mask\u001b[0m\u001b[0;34m,\u001b[0m\u001b[0;34m\u001b[0m\u001b[0;34m\u001b[0m\u001b[0m\n",
      "\u001b[0;32m/usr/local/lib/python3.11/dist-packages/torch/nn/modules/module.py\u001b[0m in \u001b[0;36m_wrapped_call_impl\u001b[0;34m(self, *args, **kwargs)\u001b[0m\n\u001b[1;32m   1737\u001b[0m             \u001b[0;32mreturn\u001b[0m \u001b[0mself\u001b[0m\u001b[0;34m.\u001b[0m\u001b[0m_compiled_call_impl\u001b[0m\u001b[0;34m(\u001b[0m\u001b[0;34m*\u001b[0m\u001b[0margs\u001b[0m\u001b[0;34m,\u001b[0m \u001b[0;34m**\u001b[0m\u001b[0mkwargs\u001b[0m\u001b[0;34m)\u001b[0m  \u001b[0;31m# type: ignore[misc]\u001b[0m\u001b[0;34m\u001b[0m\u001b[0;34m\u001b[0m\u001b[0m\n\u001b[1;32m   1738\u001b[0m         \u001b[0;32melse\u001b[0m\u001b[0;34m:\u001b[0m\u001b[0;34m\u001b[0m\u001b[0;34m\u001b[0m\u001b[0m\n\u001b[0;32m-> 1739\u001b[0;31m             \u001b[0;32mreturn\u001b[0m \u001b[0mself\u001b[0m\u001b[0;34m.\u001b[0m\u001b[0m_call_impl\u001b[0m\u001b[0;34m(\u001b[0m\u001b[0;34m*\u001b[0m\u001b[0margs\u001b[0m\u001b[0;34m,\u001b[0m \u001b[0;34m**\u001b[0m\u001b[0mkwargs\u001b[0m\u001b[0;34m)\u001b[0m\u001b[0;34m\u001b[0m\u001b[0;34m\u001b[0m\u001b[0m\n\u001b[0m\u001b[1;32m   1740\u001b[0m \u001b[0;34m\u001b[0m\u001b[0m\n\u001b[1;32m   1741\u001b[0m     \u001b[0;31m# torchrec tests the code consistency with the following code\u001b[0m\u001b[0;34m\u001b[0m\u001b[0;34m\u001b[0m\u001b[0m\n",
      "\u001b[0;32m/usr/local/lib/python3.11/dist-packages/torch/nn/modules/module.py\u001b[0m in \u001b[0;36m_call_impl\u001b[0;34m(self, *args, **kwargs)\u001b[0m\n\u001b[1;32m   1748\u001b[0m                 \u001b[0;32mor\u001b[0m \u001b[0m_global_backward_pre_hooks\u001b[0m \u001b[0;32mor\u001b[0m \u001b[0m_global_backward_hooks\u001b[0m\u001b[0;34m\u001b[0m\u001b[0;34m\u001b[0m\u001b[0m\n\u001b[1;32m   1749\u001b[0m                 or _global_forward_hooks or _global_forward_pre_hooks):\n\u001b[0;32m-> 1750\u001b[0;31m             \u001b[0;32mreturn\u001b[0m \u001b[0mforward_call\u001b[0m\u001b[0;34m(\u001b[0m\u001b[0;34m*\u001b[0m\u001b[0margs\u001b[0m\u001b[0;34m,\u001b[0m \u001b[0;34m**\u001b[0m\u001b[0mkwargs\u001b[0m\u001b[0;34m)\u001b[0m\u001b[0;34m\u001b[0m\u001b[0;34m\u001b[0m\u001b[0m\n\u001b[0m\u001b[1;32m   1751\u001b[0m \u001b[0;34m\u001b[0m\u001b[0m\n\u001b[1;32m   1752\u001b[0m         \u001b[0mresult\u001b[0m \u001b[0;34m=\u001b[0m \u001b[0;32mNone\u001b[0m\u001b[0;34m\u001b[0m\u001b[0;34m\u001b[0m\u001b[0m\n",
      "\u001b[0;32m/usr/local/lib/python3.11/dist-packages/transformers/models/bert/modeling_bert.py\u001b[0m in \u001b[0;36mforward\u001b[0;34m(self, hidden_states, attention_mask, head_mask, encoder_hidden_states, encoder_attention_mask, past_key_values, use_cache, output_attentions, output_hidden_states, return_dict)\u001b[0m\n\u001b[1;32m    693\u001b[0m                 )\n\u001b[1;32m    694\u001b[0m             \u001b[0;32melse\u001b[0m\u001b[0;34m:\u001b[0m\u001b[0;34m\u001b[0m\u001b[0;34m\u001b[0m\u001b[0m\n\u001b[0;32m--> 695\u001b[0;31m                 layer_outputs = layer_module(\n\u001b[0m\u001b[1;32m    696\u001b[0m                     \u001b[0mhidden_states\u001b[0m\u001b[0;34m,\u001b[0m\u001b[0;34m\u001b[0m\u001b[0;34m\u001b[0m\u001b[0m\n\u001b[1;32m    697\u001b[0m                     \u001b[0mattention_mask\u001b[0m\u001b[0;34m,\u001b[0m\u001b[0;34m\u001b[0m\u001b[0;34m\u001b[0m\u001b[0m\n",
      "\u001b[0;32m/usr/local/lib/python3.11/dist-packages/torch/nn/modules/module.py\u001b[0m in \u001b[0;36m_wrapped_call_impl\u001b[0;34m(self, *args, **kwargs)\u001b[0m\n\u001b[1;32m   1737\u001b[0m             \u001b[0;32mreturn\u001b[0m \u001b[0mself\u001b[0m\u001b[0;34m.\u001b[0m\u001b[0m_compiled_call_impl\u001b[0m\u001b[0;34m(\u001b[0m\u001b[0;34m*\u001b[0m\u001b[0margs\u001b[0m\u001b[0;34m,\u001b[0m \u001b[0;34m**\u001b[0m\u001b[0mkwargs\u001b[0m\u001b[0;34m)\u001b[0m  \u001b[0;31m# type: ignore[misc]\u001b[0m\u001b[0;34m\u001b[0m\u001b[0;34m\u001b[0m\u001b[0m\n\u001b[1;32m   1738\u001b[0m         \u001b[0;32melse\u001b[0m\u001b[0;34m:\u001b[0m\u001b[0;34m\u001b[0m\u001b[0;34m\u001b[0m\u001b[0m\n\u001b[0;32m-> 1739\u001b[0;31m             \u001b[0;32mreturn\u001b[0m \u001b[0mself\u001b[0m\u001b[0;34m.\u001b[0m\u001b[0m_call_impl\u001b[0m\u001b[0;34m(\u001b[0m\u001b[0;34m*\u001b[0m\u001b[0margs\u001b[0m\u001b[0;34m,\u001b[0m \u001b[0;34m**\u001b[0m\u001b[0mkwargs\u001b[0m\u001b[0;34m)\u001b[0m\u001b[0;34m\u001b[0m\u001b[0;34m\u001b[0m\u001b[0m\n\u001b[0m\u001b[1;32m   1740\u001b[0m \u001b[0;34m\u001b[0m\u001b[0m\n\u001b[1;32m   1741\u001b[0m     \u001b[0;31m# torchrec tests the code consistency with the following code\u001b[0m\u001b[0;34m\u001b[0m\u001b[0;34m\u001b[0m\u001b[0m\n",
      "\u001b[0;32m/usr/local/lib/python3.11/dist-packages/torch/nn/modules/module.py\u001b[0m in \u001b[0;36m_call_impl\u001b[0;34m(self, *args, **kwargs)\u001b[0m\n\u001b[1;32m   1748\u001b[0m                 \u001b[0;32mor\u001b[0m \u001b[0m_global_backward_pre_hooks\u001b[0m \u001b[0;32mor\u001b[0m \u001b[0m_global_backward_hooks\u001b[0m\u001b[0;34m\u001b[0m\u001b[0;34m\u001b[0m\u001b[0m\n\u001b[1;32m   1749\u001b[0m                 or _global_forward_hooks or _global_forward_pre_hooks):\n\u001b[0;32m-> 1750\u001b[0;31m             \u001b[0;32mreturn\u001b[0m \u001b[0mforward_call\u001b[0m\u001b[0;34m(\u001b[0m\u001b[0;34m*\u001b[0m\u001b[0margs\u001b[0m\u001b[0;34m,\u001b[0m \u001b[0;34m**\u001b[0m\u001b[0mkwargs\u001b[0m\u001b[0;34m)\u001b[0m\u001b[0;34m\u001b[0m\u001b[0;34m\u001b[0m\u001b[0m\n\u001b[0m\u001b[1;32m   1751\u001b[0m \u001b[0;34m\u001b[0m\u001b[0m\n\u001b[1;32m   1752\u001b[0m         \u001b[0mresult\u001b[0m \u001b[0;34m=\u001b[0m \u001b[0;32mNone\u001b[0m\u001b[0;34m\u001b[0m\u001b[0;34m\u001b[0m\u001b[0m\n",
      "\u001b[0;32m/usr/local/lib/python3.11/dist-packages/transformers/models/bert/modeling_bert.py\u001b[0m in \u001b[0;36mforward\u001b[0;34m(self, hidden_states, attention_mask, head_mask, encoder_hidden_states, encoder_attention_mask, past_key_value, output_attentions)\u001b[0m\n\u001b[1;32m    583\u001b[0m         \u001b[0;31m# decoder uni-directional self-attention cached key/values tuple is at positions 1,2\u001b[0m\u001b[0;34m\u001b[0m\u001b[0;34m\u001b[0m\u001b[0m\n\u001b[1;32m    584\u001b[0m         \u001b[0mself_attn_past_key_value\u001b[0m \u001b[0;34m=\u001b[0m \u001b[0mpast_key_value\u001b[0m\u001b[0;34m[\u001b[0m\u001b[0;34m:\u001b[0m\u001b[0;36m2\u001b[0m\u001b[0;34m]\u001b[0m \u001b[0;32mif\u001b[0m \u001b[0mpast_key_value\u001b[0m \u001b[0;32mis\u001b[0m \u001b[0;32mnot\u001b[0m \u001b[0;32mNone\u001b[0m \u001b[0;32melse\u001b[0m \u001b[0;32mNone\u001b[0m\u001b[0;34m\u001b[0m\u001b[0;34m\u001b[0m\u001b[0m\n\u001b[0;32m--> 585\u001b[0;31m         self_attention_outputs = self.attention(\n\u001b[0m\u001b[1;32m    586\u001b[0m             \u001b[0mhidden_states\u001b[0m\u001b[0;34m,\u001b[0m\u001b[0;34m\u001b[0m\u001b[0;34m\u001b[0m\u001b[0m\n\u001b[1;32m    587\u001b[0m             \u001b[0mattention_mask\u001b[0m\u001b[0;34m,\u001b[0m\u001b[0;34m\u001b[0m\u001b[0;34m\u001b[0m\u001b[0m\n",
      "\u001b[0;32m/usr/local/lib/python3.11/dist-packages/torch/nn/modules/module.py\u001b[0m in \u001b[0;36m_wrapped_call_impl\u001b[0;34m(self, *args, **kwargs)\u001b[0m\n\u001b[1;32m   1737\u001b[0m             \u001b[0;32mreturn\u001b[0m \u001b[0mself\u001b[0m\u001b[0;34m.\u001b[0m\u001b[0m_compiled_call_impl\u001b[0m\u001b[0;34m(\u001b[0m\u001b[0;34m*\u001b[0m\u001b[0margs\u001b[0m\u001b[0;34m,\u001b[0m \u001b[0;34m**\u001b[0m\u001b[0mkwargs\u001b[0m\u001b[0;34m)\u001b[0m  \u001b[0;31m# type: ignore[misc]\u001b[0m\u001b[0;34m\u001b[0m\u001b[0;34m\u001b[0m\u001b[0m\n\u001b[1;32m   1738\u001b[0m         \u001b[0;32melse\u001b[0m\u001b[0;34m:\u001b[0m\u001b[0;34m\u001b[0m\u001b[0;34m\u001b[0m\u001b[0m\n\u001b[0;32m-> 1739\u001b[0;31m             \u001b[0;32mreturn\u001b[0m \u001b[0mself\u001b[0m\u001b[0;34m.\u001b[0m\u001b[0m_call_impl\u001b[0m\u001b[0;34m(\u001b[0m\u001b[0;34m*\u001b[0m\u001b[0margs\u001b[0m\u001b[0;34m,\u001b[0m \u001b[0;34m**\u001b[0m\u001b[0mkwargs\u001b[0m\u001b[0;34m)\u001b[0m\u001b[0;34m\u001b[0m\u001b[0;34m\u001b[0m\u001b[0m\n\u001b[0m\u001b[1;32m   1740\u001b[0m \u001b[0;34m\u001b[0m\u001b[0m\n\u001b[1;32m   1741\u001b[0m     \u001b[0;31m# torchrec tests the code consistency with the following code\u001b[0m\u001b[0;34m\u001b[0m\u001b[0;34m\u001b[0m\u001b[0m\n",
      "\u001b[0;32m/usr/local/lib/python3.11/dist-packages/torch/nn/modules/module.py\u001b[0m in \u001b[0;36m_call_impl\u001b[0;34m(self, *args, **kwargs)\u001b[0m\n\u001b[1;32m   1748\u001b[0m                 \u001b[0;32mor\u001b[0m \u001b[0m_global_backward_pre_hooks\u001b[0m \u001b[0;32mor\u001b[0m \u001b[0m_global_backward_hooks\u001b[0m\u001b[0;34m\u001b[0m\u001b[0;34m\u001b[0m\u001b[0m\n\u001b[1;32m   1749\u001b[0m                 or _global_forward_hooks or _global_forward_pre_hooks):\n\u001b[0;32m-> 1750\u001b[0;31m             \u001b[0;32mreturn\u001b[0m \u001b[0mforward_call\u001b[0m\u001b[0;34m(\u001b[0m\u001b[0;34m*\u001b[0m\u001b[0margs\u001b[0m\u001b[0;34m,\u001b[0m \u001b[0;34m**\u001b[0m\u001b[0mkwargs\u001b[0m\u001b[0;34m)\u001b[0m\u001b[0;34m\u001b[0m\u001b[0;34m\u001b[0m\u001b[0m\n\u001b[0m\u001b[1;32m   1751\u001b[0m \u001b[0;34m\u001b[0m\u001b[0m\n\u001b[1;32m   1752\u001b[0m         \u001b[0mresult\u001b[0m \u001b[0;34m=\u001b[0m \u001b[0;32mNone\u001b[0m\u001b[0;34m\u001b[0m\u001b[0;34m\u001b[0m\u001b[0m\n",
      "\u001b[0;32m/usr/local/lib/python3.11/dist-packages/transformers/models/bert/modeling_bert.py\u001b[0m in \u001b[0;36mforward\u001b[0;34m(self, hidden_states, attention_mask, head_mask, encoder_hidden_states, encoder_attention_mask, past_key_value, output_attentions)\u001b[0m\n\u001b[1;32m    513\u001b[0m         \u001b[0moutput_attentions\u001b[0m\u001b[0;34m:\u001b[0m \u001b[0mOptional\u001b[0m\u001b[0;34m[\u001b[0m\u001b[0mbool\u001b[0m\u001b[0;34m]\u001b[0m \u001b[0;34m=\u001b[0m \u001b[0;32mFalse\u001b[0m\u001b[0;34m,\u001b[0m\u001b[0;34m\u001b[0m\u001b[0;34m\u001b[0m\u001b[0m\n\u001b[1;32m    514\u001b[0m     ) -> Tuple[torch.Tensor]:\n\u001b[0;32m--> 515\u001b[0;31m         self_outputs = self.self(\n\u001b[0m\u001b[1;32m    516\u001b[0m             \u001b[0mhidden_states\u001b[0m\u001b[0;34m,\u001b[0m\u001b[0;34m\u001b[0m\u001b[0;34m\u001b[0m\u001b[0m\n\u001b[1;32m    517\u001b[0m             \u001b[0mattention_mask\u001b[0m\u001b[0;34m,\u001b[0m\u001b[0;34m\u001b[0m\u001b[0;34m\u001b[0m\u001b[0m\n",
      "\u001b[0;32m/usr/local/lib/python3.11/dist-packages/torch/nn/modules/module.py\u001b[0m in \u001b[0;36m_wrapped_call_impl\u001b[0;34m(self, *args, **kwargs)\u001b[0m\n\u001b[1;32m   1737\u001b[0m             \u001b[0;32mreturn\u001b[0m \u001b[0mself\u001b[0m\u001b[0;34m.\u001b[0m\u001b[0m_compiled_call_impl\u001b[0m\u001b[0;34m(\u001b[0m\u001b[0;34m*\u001b[0m\u001b[0margs\u001b[0m\u001b[0;34m,\u001b[0m \u001b[0;34m**\u001b[0m\u001b[0mkwargs\u001b[0m\u001b[0;34m)\u001b[0m  \u001b[0;31m# type: ignore[misc]\u001b[0m\u001b[0;34m\u001b[0m\u001b[0;34m\u001b[0m\u001b[0m\n\u001b[1;32m   1738\u001b[0m         \u001b[0;32melse\u001b[0m\u001b[0;34m:\u001b[0m\u001b[0;34m\u001b[0m\u001b[0;34m\u001b[0m\u001b[0m\n\u001b[0;32m-> 1739\u001b[0;31m             \u001b[0;32mreturn\u001b[0m \u001b[0mself\u001b[0m\u001b[0;34m.\u001b[0m\u001b[0m_call_impl\u001b[0m\u001b[0;34m(\u001b[0m\u001b[0;34m*\u001b[0m\u001b[0margs\u001b[0m\u001b[0;34m,\u001b[0m \u001b[0;34m**\u001b[0m\u001b[0mkwargs\u001b[0m\u001b[0;34m)\u001b[0m\u001b[0;34m\u001b[0m\u001b[0;34m\u001b[0m\u001b[0m\n\u001b[0m\u001b[1;32m   1740\u001b[0m \u001b[0;34m\u001b[0m\u001b[0m\n\u001b[1;32m   1741\u001b[0m     \u001b[0;31m# torchrec tests the code consistency with the following code\u001b[0m\u001b[0;34m\u001b[0m\u001b[0;34m\u001b[0m\u001b[0m\n",
      "\u001b[0;32m/usr/local/lib/python3.11/dist-packages/torch/nn/modules/module.py\u001b[0m in \u001b[0;36m_call_impl\u001b[0;34m(self, *args, **kwargs)\u001b[0m\n\u001b[1;32m   1748\u001b[0m                 \u001b[0;32mor\u001b[0m \u001b[0m_global_backward_pre_hooks\u001b[0m \u001b[0;32mor\u001b[0m \u001b[0m_global_backward_hooks\u001b[0m\u001b[0;34m\u001b[0m\u001b[0;34m\u001b[0m\u001b[0m\n\u001b[1;32m   1749\u001b[0m                 or _global_forward_hooks or _global_forward_pre_hooks):\n\u001b[0;32m-> 1750\u001b[0;31m             \u001b[0;32mreturn\u001b[0m \u001b[0mforward_call\u001b[0m\u001b[0;34m(\u001b[0m\u001b[0;34m*\u001b[0m\u001b[0margs\u001b[0m\u001b[0;34m,\u001b[0m \u001b[0;34m**\u001b[0m\u001b[0mkwargs\u001b[0m\u001b[0;34m)\u001b[0m\u001b[0;34m\u001b[0m\u001b[0;34m\u001b[0m\u001b[0m\n\u001b[0m\u001b[1;32m   1751\u001b[0m \u001b[0;34m\u001b[0m\u001b[0m\n\u001b[1;32m   1752\u001b[0m         \u001b[0mresult\u001b[0m \u001b[0;34m=\u001b[0m \u001b[0;32mNone\u001b[0m\u001b[0;34m\u001b[0m\u001b[0;34m\u001b[0m\u001b[0m\n",
      "\u001b[0;32m/usr/local/lib/python3.11/dist-packages/transformers/models/bert/modeling_bert.py\u001b[0m in \u001b[0;36mforward\u001b[0;34m(self, hidden_states, attention_mask, head_mask, encoder_hidden_states, encoder_attention_mask, past_key_value, output_attentions)\u001b[0m\n\u001b[1;32m    406\u001b[0m             \u001b[0mkey_layer\u001b[0m\u001b[0;34m,\u001b[0m \u001b[0mvalue_layer\u001b[0m \u001b[0;34m=\u001b[0m \u001b[0mpast_key_value\u001b[0m\u001b[0;34m\u001b[0m\u001b[0;34m\u001b[0m\u001b[0m\n\u001b[1;32m    407\u001b[0m         \u001b[0;32melse\u001b[0m\u001b[0;34m:\u001b[0m\u001b[0;34m\u001b[0m\u001b[0;34m\u001b[0m\u001b[0m\n\u001b[0;32m--> 408\u001b[0;31m             \u001b[0mkey_layer\u001b[0m \u001b[0;34m=\u001b[0m \u001b[0mself\u001b[0m\u001b[0;34m.\u001b[0m\u001b[0mtranspose_for_scores\u001b[0m\u001b[0;34m(\u001b[0m\u001b[0mself\u001b[0m\u001b[0;34m.\u001b[0m\u001b[0mkey\u001b[0m\u001b[0;34m(\u001b[0m\u001b[0mcurrent_states\u001b[0m\u001b[0;34m)\u001b[0m\u001b[0;34m)\u001b[0m\u001b[0;34m\u001b[0m\u001b[0;34m\u001b[0m\u001b[0m\n\u001b[0m\u001b[1;32m    409\u001b[0m             \u001b[0mvalue_layer\u001b[0m \u001b[0;34m=\u001b[0m \u001b[0mself\u001b[0m\u001b[0;34m.\u001b[0m\u001b[0mtranspose_for_scores\u001b[0m\u001b[0;34m(\u001b[0m\u001b[0mself\u001b[0m\u001b[0;34m.\u001b[0m\u001b[0mvalue\u001b[0m\u001b[0;34m(\u001b[0m\u001b[0mcurrent_states\u001b[0m\u001b[0;34m)\u001b[0m\u001b[0;34m)\u001b[0m\u001b[0;34m\u001b[0m\u001b[0;34m\u001b[0m\u001b[0m\n\u001b[1;32m    410\u001b[0m             \u001b[0;32mif\u001b[0m \u001b[0mpast_key_value\u001b[0m \u001b[0;32mis\u001b[0m \u001b[0;32mnot\u001b[0m \u001b[0;32mNone\u001b[0m \u001b[0;32mand\u001b[0m \u001b[0;32mnot\u001b[0m \u001b[0mis_cross_attention\u001b[0m\u001b[0;34m:\u001b[0m\u001b[0;34m\u001b[0m\u001b[0;34m\u001b[0m\u001b[0m\n",
      "\u001b[0;32m/usr/local/lib/python3.11/dist-packages/torch/nn/modules/module.py\u001b[0m in \u001b[0;36m_wrapped_call_impl\u001b[0;34m(self, *args, **kwargs)\u001b[0m\n\u001b[1;32m   1737\u001b[0m             \u001b[0;32mreturn\u001b[0m \u001b[0mself\u001b[0m\u001b[0;34m.\u001b[0m\u001b[0m_compiled_call_impl\u001b[0m\u001b[0;34m(\u001b[0m\u001b[0;34m*\u001b[0m\u001b[0margs\u001b[0m\u001b[0;34m,\u001b[0m \u001b[0;34m**\u001b[0m\u001b[0mkwargs\u001b[0m\u001b[0;34m)\u001b[0m  \u001b[0;31m# type: ignore[misc]\u001b[0m\u001b[0;34m\u001b[0m\u001b[0;34m\u001b[0m\u001b[0m\n\u001b[1;32m   1738\u001b[0m         \u001b[0;32melse\u001b[0m\u001b[0;34m:\u001b[0m\u001b[0;34m\u001b[0m\u001b[0;34m\u001b[0m\u001b[0m\n\u001b[0;32m-> 1739\u001b[0;31m             \u001b[0;32mreturn\u001b[0m \u001b[0mself\u001b[0m\u001b[0;34m.\u001b[0m\u001b[0m_call_impl\u001b[0m\u001b[0;34m(\u001b[0m\u001b[0;34m*\u001b[0m\u001b[0margs\u001b[0m\u001b[0;34m,\u001b[0m \u001b[0;34m**\u001b[0m\u001b[0mkwargs\u001b[0m\u001b[0;34m)\u001b[0m\u001b[0;34m\u001b[0m\u001b[0;34m\u001b[0m\u001b[0m\n\u001b[0m\u001b[1;32m   1740\u001b[0m \u001b[0;34m\u001b[0m\u001b[0m\n\u001b[1;32m   1741\u001b[0m     \u001b[0;31m# torchrec tests the code consistency with the following code\u001b[0m\u001b[0;34m\u001b[0m\u001b[0;34m\u001b[0m\u001b[0m\n",
      "\u001b[0;32m/usr/local/lib/python3.11/dist-packages/torch/nn/modules/module.py\u001b[0m in \u001b[0;36m_call_impl\u001b[0;34m(self, *args, **kwargs)\u001b[0m\n\u001b[1;32m   1748\u001b[0m                 \u001b[0;32mor\u001b[0m \u001b[0m_global_backward_pre_hooks\u001b[0m \u001b[0;32mor\u001b[0m \u001b[0m_global_backward_hooks\u001b[0m\u001b[0;34m\u001b[0m\u001b[0;34m\u001b[0m\u001b[0m\n\u001b[1;32m   1749\u001b[0m                 or _global_forward_hooks or _global_forward_pre_hooks):\n\u001b[0;32m-> 1750\u001b[0;31m             \u001b[0;32mreturn\u001b[0m \u001b[0mforward_call\u001b[0m\u001b[0;34m(\u001b[0m\u001b[0;34m*\u001b[0m\u001b[0margs\u001b[0m\u001b[0;34m,\u001b[0m \u001b[0;34m**\u001b[0m\u001b[0mkwargs\u001b[0m\u001b[0;34m)\u001b[0m\u001b[0;34m\u001b[0m\u001b[0;34m\u001b[0m\u001b[0m\n\u001b[0m\u001b[1;32m   1751\u001b[0m \u001b[0;34m\u001b[0m\u001b[0m\n\u001b[1;32m   1752\u001b[0m         \u001b[0mresult\u001b[0m \u001b[0;34m=\u001b[0m \u001b[0;32mNone\u001b[0m\u001b[0;34m\u001b[0m\u001b[0;34m\u001b[0m\u001b[0m\n",
      "\u001b[0;32m/usr/local/lib/python3.11/dist-packages/peft/tuners/lora/bnb.py\u001b[0m in \u001b[0;36mforward\u001b[0;34m(self, x, *args, **kwargs)\u001b[0m\n\u001b[1;32m    230\u001b[0m                 \u001b[0mresult\u001b[0m \u001b[0;34m=\u001b[0m \u001b[0mself\u001b[0m\u001b[0;34m.\u001b[0m\u001b[0mbase_layer\u001b[0m\u001b[0;34m(\u001b[0m\u001b[0mx\u001b[0m\u001b[0;34m,\u001b[0m \u001b[0;34m*\u001b[0m\u001b[0margs\u001b[0m\u001b[0;34m,\u001b[0m \u001b[0;34m**\u001b[0m\u001b[0mkwargs\u001b[0m\u001b[0;34m)\u001b[0m\u001b[0;34m\u001b[0m\u001b[0;34m\u001b[0m\u001b[0m\n\u001b[1;32m    231\u001b[0m             \u001b[0;32melse\u001b[0m\u001b[0;34m:\u001b[0m\u001b[0;34m\u001b[0m\u001b[0;34m\u001b[0m\u001b[0m\n\u001b[0;32m--> 232\u001b[0;31m                 \u001b[0mresult\u001b[0m \u001b[0;34m=\u001b[0m \u001b[0mself\u001b[0m\u001b[0;34m.\u001b[0m\u001b[0mbase_layer\u001b[0m\u001b[0;34m(\u001b[0m\u001b[0mx\u001b[0m\u001b[0;34m,\u001b[0m \u001b[0;34m*\u001b[0m\u001b[0margs\u001b[0m\u001b[0;34m,\u001b[0m \u001b[0;34m**\u001b[0m\u001b[0mkwargs\u001b[0m\u001b[0;34m)\u001b[0m\u001b[0;34m\u001b[0m\u001b[0;34m\u001b[0m\u001b[0m\n\u001b[0m\u001b[1;32m    233\u001b[0m                 \u001b[0;32mfor\u001b[0m \u001b[0mactive_adapter\u001b[0m \u001b[0;32min\u001b[0m \u001b[0mself\u001b[0m\u001b[0;34m.\u001b[0m\u001b[0mactive_adapters\u001b[0m\u001b[0;34m:\u001b[0m\u001b[0;34m\u001b[0m\u001b[0;34m\u001b[0m\u001b[0m\n\u001b[1;32m    234\u001b[0m                     \u001b[0;32mif\u001b[0m \u001b[0mactive_adapter\u001b[0m \u001b[0;32mnot\u001b[0m \u001b[0;32min\u001b[0m \u001b[0mself\u001b[0m\u001b[0;34m.\u001b[0m\u001b[0mlora_A\u001b[0m\u001b[0;34m.\u001b[0m\u001b[0mkeys\u001b[0m\u001b[0;34m(\u001b[0m\u001b[0;34m)\u001b[0m\u001b[0;34m:\u001b[0m\u001b[0;34m\u001b[0m\u001b[0;34m\u001b[0m\u001b[0m\n",
      "\u001b[0;32m/usr/local/lib/python3.11/dist-packages/torch/nn/modules/module.py\u001b[0m in \u001b[0;36m__getattr__\u001b[0;34m(self, name)\u001b[0m\n\u001b[1;32m   1913\u001b[0m     \u001b[0;31m# on `torch.nn.Module` and all its subclasses is largely disabled as a result. See:\u001b[0m\u001b[0;34m\u001b[0m\u001b[0;34m\u001b[0m\u001b[0m\n\u001b[1;32m   1914\u001b[0m     \u001b[0;31m# https://github.com/pytorch/pytorch/pull/115074\u001b[0m\u001b[0;34m\u001b[0m\u001b[0;34m\u001b[0m\u001b[0m\n\u001b[0;32m-> 1915\u001b[0;31m     \u001b[0;32mdef\u001b[0m \u001b[0m__getattr__\u001b[0m\u001b[0;34m(\u001b[0m\u001b[0mself\u001b[0m\u001b[0;34m,\u001b[0m \u001b[0mname\u001b[0m\u001b[0;34m:\u001b[0m \u001b[0mstr\u001b[0m\u001b[0;34m)\u001b[0m \u001b[0;34m->\u001b[0m \u001b[0mUnion\u001b[0m\u001b[0;34m[\u001b[0m\u001b[0mTensor\u001b[0m\u001b[0;34m,\u001b[0m \u001b[0;34m\"Module\"\u001b[0m\u001b[0;34m]\u001b[0m\u001b[0;34m:\u001b[0m\u001b[0;34m\u001b[0m\u001b[0;34m\u001b[0m\u001b[0m\n\u001b[0m\u001b[1;32m   1916\u001b[0m         \u001b[0;32mif\u001b[0m \u001b[0;34m\"_parameters\"\u001b[0m \u001b[0;32min\u001b[0m \u001b[0mself\u001b[0m\u001b[0;34m.\u001b[0m\u001b[0m__dict__\u001b[0m\u001b[0;34m:\u001b[0m\u001b[0;34m\u001b[0m\u001b[0;34m\u001b[0m\u001b[0m\n\u001b[1;32m   1917\u001b[0m             \u001b[0m_parameters\u001b[0m \u001b[0;34m=\u001b[0m \u001b[0mself\u001b[0m\u001b[0;34m.\u001b[0m\u001b[0m__dict__\u001b[0m\u001b[0;34m[\u001b[0m\u001b[0;34m\"_parameters\"\u001b[0m\u001b[0;34m]\u001b[0m\u001b[0;34m\u001b[0m\u001b[0;34m\u001b[0m\u001b[0m\n",
      "\u001b[0;31mKeyboardInterrupt\u001b[0m: "
     ]
    }
   ],
   "source": [
    "model.train()\n",
    "optimizer = torch.optim.AdamW(model.parameters(), lr=2e-5)\n",
    "\n",
    "for epoch in range(3):\n",
    "    for batch in dataloader:\n",
    "        batch = {k: v.to(model.device) for k, v in batch.items()}\n",
    "        outputs = model(**batch)\n",
    "        embeddings = outputs.last_hidden_state[:, 0, :]  # [CLS] token\n",
    "\n",
    "        # Dummy contrastive loss: encourage diversity\n",
    "        cosine_sim = F.cosine_similarity(embeddings.unsqueeze(1), embeddings.unsqueeze(0), dim=-1)\n",
    "        loss = -torch.mean(torch.log(1 - cosine_sim + 1e-5))\n",
    "\n",
    "        optimizer.zero_grad()\n",
    "        loss.backward()\n",
    "        optimizer.step()\n",
    "\n",
    "    print(f\"✅ Epoch {epoch+1} completed — Loss: {loss.item():.4f}\")\n"
   ]
  },
  {
   "cell_type": "markdown",
   "metadata": {
    "id": "l064Wc9zprB-"
   },
   "source": [
    "# ***QUERIES PART***"
   ]
  },
  {
   "cell_type": "code",
   "execution_count": null,
   "metadata": {
    "id": "W15sLNXkxd34"
   },
   "outputs": [],
   "source": [
    "\n",
    "HF_TOKEN = \"\"\n",
    "API_URL = \"https://api-inference.huggingface.com/v1/chat/completions\"\n",
    "headers = {\"Authorization\": f\"Bearer {HF_TOKEN}\"}\n",
    "os.environ[\"HF_TOKEN\"] = HF_TOKEN\n",
    "sample_texts = training_texts[:10]  # You can increase the size"
   ]
  },
  {
   "cell_type": "code",
   "execution_count": null,
   "metadata": {
    "colab": {
     "base_uri": "https://localhost:8080/"
    },
    "executionInfo": {
     "elapsed": 377,
     "status": "ok",
     "timestamp": 1746757210738,
     "user": {
      "displayName": "Natalia Lavrova",
      "userId": "06691402705171570003"
     },
     "user_tz": -180
    },
    "id": "0o2AEUIV1Puh",
    "outputId": "0982520d-1cb3-443f-8700-228019e9ec9b"
   },
   "outputs": [
    {
     "name": "stdout",
     "output_type": "stream",
     "text": [
      "❌ Error with input: We have $M_1^T\\diag\\big(((-1)^{t_i})_{i\\geq 0}\\big) M_1=M_2$\n",
      "Response: {\"error\":\"Invalid credentials in Authorization header\"}\n",
      "\n",
      "❌ Error with input: We have $M_1(a)M_1(b)=M_1(a+b)$ for all $a,b\\in\\mathbb{Z}$\n",
      "Response: {\"error\":\"Invalid credentials in Authorization header\"}\n",
      "\n",
      "❌ Error with input: We compute by applying Lucas' Theorem modulo $2$\n",
      "Response: {\"error\":\"Invalid credentials in Authorization header\"}\n",
      "\n"
     ]
    }
   ],
   "source": [
    "import requests\n",
    "import os\n",
    "\n",
    "API_URL = \"https://api-inference.huggingface.co/v1/chat/completions\"\n",
    "headers = {\n",
    "    \"Authorization\": f\"Bearer {HF_TOKEN}\",\n",
    "    \"Content-Type\": \"application/json\"\n",
    "}\n",
    "\n",
    "# Sample input from your dataset\n",
    "sample_texts = [\n",
    "    r\"We have $M_1^T\\diag\\big(((-1)^{t_i})_{i\\geq 0}\\big) M_1=M_2$\",\n",
    "    r\"We have $M_1(a)M_1(b)=M_1(a+b)$ for all $a,b\\in\\mathbb{Z}$\",\n",
    "    r\"We compute by applying Lucas' Theorem modulo $2$\"\n",
    "]\n",
    "\n",
    "for math_text in sample_texts:\n",
    "    payload = {\n",
    "        \"model\": \"meta-llama/Meta-Llama-3-8B-Instruct\",\n",
    "        \"messages\": [\n",
    "            {\n",
    "                \"role\": \"user\",\n",
    "                \"content\": f\"Write a natural-language question a student could ask about this math statement:\\n\\n{math_text}\"\n",
    "            }\n",
    "        ]\n",
    "    }\n",
    "\n",
    "    response = requests.post(API_URL, headers=headers, json=payload)\n",
    "\n",
    "    try:\n",
    "        answer = response.json()[\"choices\"][0][\"message\"][\"content\"]\n",
    "        print(f\"✅ Prompt: {math_text}\\n➡️ Query: {answer}\\n\")\n",
    "    except Exception as e:\n",
    "        print(f\"❌ Error with input: {math_text}\\nResponse: {response.text}\\n\")\n"
   ]
  },
  {
   "cell_type": "code",
   "execution_count": null,
   "metadata": {
    "colab": {
     "base_uri": "https://localhost:8080/"
    },
    "executionInfo": {
     "elapsed": 350,
     "status": "ok",
     "timestamp": 1746757979108,
     "user": {
      "displayName": "Natalia Lavrova",
      "userId": "06691402705171570003"
     },
     "user_tz": -180
    },
    "id": "P7BbWKhK19Ao",
    "outputId": "d56ed1bf-588f-4f9d-cb26-28df00ea7d6c"
   },
   "outputs": [
    {
     "name": "stdout",
     "output_type": "stream",
     "text": [
      "❌ Error with input: We have $M_1^T\\diag\\big(((-1)^{t_i})_{i\\geq 0}\\big) M_1=M_2$\n",
      "Response: {\"error\":\"Invalid credentials in Authorization header\"}\n",
      "\n",
      "❌ Error with input: We have $M_1(a)M_1(b)=M_1(a+b)$ for all $a,b\\in\\mathbb{Z}$\n",
      "Response: {\"error\":\"Invalid credentials in Authorization header\"}\n",
      "\n",
      "❌ Error with input: We compute by applying Lucas' Theorem modulo $2$\n",
      "Response: {\"error\":\"Invalid credentials in Authorization header\"}\n",
      "\n"
     ]
    }
   ],
   "source": [
    "API_URL = \"https://api-inference.huggingface.co/v1/chat/completions\"\n",
    "headers = {\n",
    "    \"Authorization\": f\"Bearer {HF_TOKEN}\",\n",
    "    \"Content-Type\": \"application/json\"\n",
    "}\n",
    "\n",
    "# Sample math inputs (LaTeX expressions or plain text)\n",
    "sample_texts = [\n",
    "    r\"We have $M_1^T\\diag\\big(((-1)^{t_i})_{i\\geq 0}\\big) M_1=M_2$\",\n",
    "    r\"We have $M_1(a)M_1(b)=M_1(a+b)$ for all $a,b\\in\\mathbb{Z}$\",\n",
    "    r\"We compute by applying Lucas' Theorem modulo $2$\"\n",
    "]\n",
    "\n",
    "for math_text in sample_texts:\n",
    "    payload = {\n",
    "        \"model\": \"meta-llama/Meta-Llama-3-8B-Instruct\",\n",
    "        \"messages\": [\n",
    "            {\n",
    "                \"role\": \"user\",\n",
    "                \"content\": f\"Write a natural-language question a student could ask about this math statement:\\n\\n{math_text}\"\n",
    "            }\n",
    "        ]\n",
    "    }\n",
    "\n",
    "    response = requests.post(API_URL, headers=headers, json=payload)\n",
    "\n",
    "    try:\n",
    "        answer = response.json()[\"choices\"][0][\"message\"][\"content\"]\n",
    "        print(f\"✅ Prompt: {math_text}\\n➡️ Query: {answer}\\n\")\n",
    "    except Exception as e:\n",
    "        print(f\"❌ Error with input: {math_text}\\nResponse: {response.text}\\n\")\n"
   ]
  },
  {
   "cell_type": "code",
   "execution_count": null,
   "metadata": {
    "id": "TH8htezk44m0"
   },
   "outputs": [],
   "source": []
  }
 ],
 "metadata": {
  "accelerator": "GPU",
  "colab": {
   "gpuType": "T4",
   "name": "",
   "version": ""
  },
  "kernelspec": {
   "display_name": "Python 3",
   "name": "python3"
  },
  "language_info": {
   "name": "python"
  },
  "widgets": {
   "application/vnd.jupyter.widget-state+json": {
    "0bbc6d16fc584058b172a2a424a9679d": {
     "model_module": "@jupyter-widgets/controls",
     "model_module_version": "1.5.0",
     "model_name": "DescriptionStyleModel",
     "state": {
      "_model_module": "@jupyter-widgets/controls",
      "_model_module_version": "1.5.0",
      "_model_name": "DescriptionStyleModel",
      "_view_count": null,
      "_view_module": "@jupyter-widgets/base",
      "_view_module_version": "1.2.0",
      "_view_name": "StyleView",
      "description_width": ""
     }
    },
    "1804934f50be4a828fdd2d680ccaa5ad": {
     "model_module": "@jupyter-widgets/controls",
     "model_module_version": "1.5.0",
     "model_name": "ProgressStyleModel",
     "state": {
      "_model_module": "@jupyter-widgets/controls",
      "_model_module_version": "1.5.0",
      "_model_name": "ProgressStyleModel",
      "_view_count": null,
      "_view_module": "@jupyter-widgets/base",
      "_view_module_version": "1.2.0",
      "_view_name": "StyleView",
      "bar_color": null,
      "description_width": ""
     }
    },
    "426ed18d72444b9e831415310c227dd1": {
     "model_module": "@jupyter-widgets/controls",
     "model_module_version": "1.5.0",
     "model_name": "FloatProgressModel",
     "state": {
      "_dom_classes": [],
      "_model_module": "@jupyter-widgets/controls",
      "_model_module_version": "1.5.0",
      "_model_name": "FloatProgressModel",
      "_view_count": null,
      "_view_module": "@jupyter-widgets/controls",
      "_view_module_version": "1.5.0",
      "_view_name": "ProgressView",
      "bar_style": "success",
      "description": "",
      "description_tooltip": null,
      "layout": "IPY_MODEL_839d43c65cd8477c98286aa1a0371c92",
      "max": 122885,
      "min": 0,
      "orientation": "horizontal",
      "style": "IPY_MODEL_1804934f50be4a828fdd2d680ccaa5ad",
      "value": 122885
     }
    },
    "499f5ae999dc44d386265d1baf5bab04": {
     "model_module": "@jupyter-widgets/controls",
     "model_module_version": "1.5.0",
     "model_name": "HBoxModel",
     "state": {
      "_dom_classes": [],
      "_model_module": "@jupyter-widgets/controls",
      "_model_module_version": "1.5.0",
      "_model_name": "HBoxModel",
      "_view_count": null,
      "_view_module": "@jupyter-widgets/controls",
      "_view_module_version": "1.5.0",
      "_view_name": "HBoxView",
      "box_style": "",
      "children": [
       "IPY_MODEL_b4cff9c89fdc4ea2a8594db14bb15dc0",
       "IPY_MODEL_426ed18d72444b9e831415310c227dd1",
       "IPY_MODEL_c691cf9bc5714157be8e979b55a7b8b8"
      ],
      "layout": "IPY_MODEL_9c4ca1e444734959bdf84a3f026d02a8"
     }
    },
    "5435f12792fb4ae0b3f7e7ceb0096303": {
     "model_module": "@jupyter-widgets/base",
     "model_module_version": "1.2.0",
     "model_name": "LayoutModel",
     "state": {
      "_model_module": "@jupyter-widgets/base",
      "_model_module_version": "1.2.0",
      "_model_name": "LayoutModel",
      "_view_count": null,
      "_view_module": "@jupyter-widgets/base",
      "_view_module_version": "1.2.0",
      "_view_name": "LayoutView",
      "align_content": null,
      "align_items": null,
      "align_self": null,
      "border": null,
      "bottom": null,
      "display": null,
      "flex": null,
      "flex_flow": null,
      "grid_area": null,
      "grid_auto_columns": null,
      "grid_auto_flow": null,
      "grid_auto_rows": null,
      "grid_column": null,
      "grid_gap": null,
      "grid_row": null,
      "grid_template_areas": null,
      "grid_template_columns": null,
      "grid_template_rows": null,
      "height": null,
      "justify_content": null,
      "justify_items": null,
      "left": null,
      "margin": null,
      "max_height": null,
      "max_width": null,
      "min_height": null,
      "min_width": null,
      "object_fit": null,
      "object_position": null,
      "order": null,
      "overflow": null,
      "overflow_x": null,
      "overflow_y": null,
      "padding": null,
      "right": null,
      "top": null,
      "visibility": null,
      "width": null
     }
    },
    "839d43c65cd8477c98286aa1a0371c92": {
     "model_module": "@jupyter-widgets/base",
     "model_module_version": "1.2.0",
     "model_name": "LayoutModel",
     "state": {
      "_model_module": "@jupyter-widgets/base",
      "_model_module_version": "1.2.0",
      "_model_name": "LayoutModel",
      "_view_count": null,
      "_view_module": "@jupyter-widgets/base",
      "_view_module_version": "1.2.0",
      "_view_name": "LayoutView",
      "align_content": null,
      "align_items": null,
      "align_self": null,
      "border": null,
      "bottom": null,
      "display": null,
      "flex": null,
      "flex_flow": null,
      "grid_area": null,
      "grid_auto_columns": null,
      "grid_auto_flow": null,
      "grid_auto_rows": null,
      "grid_column": null,
      "grid_gap": null,
      "grid_row": null,
      "grid_template_areas": null,
      "grid_template_columns": null,
      "grid_template_rows": null,
      "height": null,
      "justify_content": null,
      "justify_items": null,
      "left": null,
      "margin": null,
      "max_height": null,
      "max_width": null,
      "min_height": null,
      "min_width": null,
      "object_fit": null,
      "object_position": null,
      "order": null,
      "overflow": null,
      "overflow_x": null,
      "overflow_y": null,
      "padding": null,
      "right": null,
      "top": null,
      "visibility": null,
      "width": null
     }
    },
    "9c4ca1e444734959bdf84a3f026d02a8": {
     "model_module": "@jupyter-widgets/base",
     "model_module_version": "1.2.0",
     "model_name": "LayoutModel",
     "state": {
      "_model_module": "@jupyter-widgets/base",
      "_model_module_version": "1.2.0",
      "_model_name": "LayoutModel",
      "_view_count": null,
      "_view_module": "@jupyter-widgets/base",
      "_view_module_version": "1.2.0",
      "_view_name": "LayoutView",
      "align_content": null,
      "align_items": null,
      "align_self": null,
      "border": null,
      "bottom": null,
      "display": null,
      "flex": null,
      "flex_flow": null,
      "grid_area": null,
      "grid_auto_columns": null,
      "grid_auto_flow": null,
      "grid_auto_rows": null,
      "grid_column": null,
      "grid_gap": null,
      "grid_row": null,
      "grid_template_areas": null,
      "grid_template_columns": null,
      "grid_template_rows": null,
      "height": null,
      "justify_content": null,
      "justify_items": null,
      "left": null,
      "margin": null,
      "max_height": null,
      "max_width": null,
      "min_height": null,
      "min_width": null,
      "object_fit": null,
      "object_position": null,
      "order": null,
      "overflow": null,
      "overflow_x": null,
      "overflow_y": null,
      "padding": null,
      "right": null,
      "top": null,
      "visibility": null,
      "width": null
     }
    },
    "b4cff9c89fdc4ea2a8594db14bb15dc0": {
     "model_module": "@jupyter-widgets/controls",
     "model_module_version": "1.5.0",
     "model_name": "HTMLModel",
     "state": {
      "_dom_classes": [],
      "_model_module": "@jupyter-widgets/controls",
      "_model_module_version": "1.5.0",
      "_model_name": "HTMLModel",
      "_view_count": null,
      "_view_module": "@jupyter-widgets/controls",
      "_view_module_version": "1.5.0",
      "_view_name": "HTMLView",
      "description": "",
      "description_tooltip": null,
      "layout": "IPY_MODEL_c27e417480f94e18875d004b33dd522a",
      "placeholder": "​",
      "style": "IPY_MODEL_c03c3fb0b9f54346b0af7ad168ce7c71",
      "value": "Map: 100%"
     }
    },
    "c03c3fb0b9f54346b0af7ad168ce7c71": {
     "model_module": "@jupyter-widgets/controls",
     "model_module_version": "1.5.0",
     "model_name": "DescriptionStyleModel",
     "state": {
      "_model_module": "@jupyter-widgets/controls",
      "_model_module_version": "1.5.0",
      "_model_name": "DescriptionStyleModel",
      "_view_count": null,
      "_view_module": "@jupyter-widgets/base",
      "_view_module_version": "1.2.0",
      "_view_name": "StyleView",
      "description_width": ""
     }
    },
    "c27e417480f94e18875d004b33dd522a": {
     "model_module": "@jupyter-widgets/base",
     "model_module_version": "1.2.0",
     "model_name": "LayoutModel",
     "state": {
      "_model_module": "@jupyter-widgets/base",
      "_model_module_version": "1.2.0",
      "_model_name": "LayoutModel",
      "_view_count": null,
      "_view_module": "@jupyter-widgets/base",
      "_view_module_version": "1.2.0",
      "_view_name": "LayoutView",
      "align_content": null,
      "align_items": null,
      "align_self": null,
      "border": null,
      "bottom": null,
      "display": null,
      "flex": null,
      "flex_flow": null,
      "grid_area": null,
      "grid_auto_columns": null,
      "grid_auto_flow": null,
      "grid_auto_rows": null,
      "grid_column": null,
      "grid_gap": null,
      "grid_row": null,
      "grid_template_areas": null,
      "grid_template_columns": null,
      "grid_template_rows": null,
      "height": null,
      "justify_content": null,
      "justify_items": null,
      "left": null,
      "margin": null,
      "max_height": null,
      "max_width": null,
      "min_height": null,
      "min_width": null,
      "object_fit": null,
      "object_position": null,
      "order": null,
      "overflow": null,
      "overflow_x": null,
      "overflow_y": null,
      "padding": null,
      "right": null,
      "top": null,
      "visibility": null,
      "width": null
     }
    },
    "c691cf9bc5714157be8e979b55a7b8b8": {
     "model_module": "@jupyter-widgets/controls",
     "model_module_version": "1.5.0",
     "model_name": "HTMLModel",
     "state": {
      "_dom_classes": [],
      "_model_module": "@jupyter-widgets/controls",
      "_model_module_version": "1.5.0",
      "_model_name": "HTMLModel",
      "_view_count": null,
      "_view_module": "@jupyter-widgets/controls",
      "_view_module_version": "1.5.0",
      "_view_name": "HTMLView",
      "description": "",
      "description_tooltip": null,
      "layout": "IPY_MODEL_5435f12792fb4ae0b3f7e7ceb0096303",
      "placeholder": "​",
      "style": "IPY_MODEL_0bbc6d16fc584058b172a2a424a9679d",
      "value": " 122885/122885 [00:31&lt;00:00, 4851.72 examples/s]"
     }
    }
   }
  }
 },
 "nbformat": 4,
 "nbformat_minor": 0
}
